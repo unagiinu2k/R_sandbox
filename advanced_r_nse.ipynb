{
 "cells": [
  {
   "cell_type": "markdown",
   "metadata": {
    "toc": true
   },
   "source": [
    "<h1>Table of Contents<span class=\"tocSkip\"></span></h1>\n",
    "<div class=\"toc\" style=\"margin-top: 1em;\"><ul class=\"toc-item\"><li><span><a href=\"#Capturing-expressions\" data-toc-modified-id=\"Capturing-expressions-1\"><span class=\"toc-item-num\">1&nbsp;&nbsp;</span>Capturing expressions</a></span></li><li><span><a href=\"#substitute\" data-toc-modified-id=\"substitute-2\"><span class=\"toc-item-num\">2&nbsp;&nbsp;</span>substitute</a></span><ul class=\"toc-item\"><li><ul class=\"toc-item\"><li><span><a href=\"#substitute()-works-because-function-arguments-are-represented-by-a-special-type-of-object-called-a-promise.-A\" data-toc-modified-id=\"substitute()-works-because-function-arguments-are-represented-by-a-special-type-of-object-called-a-promise.-A-2.0.1\"><span class=\"toc-item-num\">2.0.1&nbsp;&nbsp;</span>substitute() works because function arguments are represented by a special type of object called a promise. A</a></span></li><li><span><a href=\"#substituteの返り値は&quot;call&quot;\" data-toc-modified-id=\"substituteの返り値は&quot;call&quot;-2.0.2\"><span class=\"toc-item-num\">2.0.2&nbsp;&nbsp;</span>substituteの返り値は\"call\"</a></span></li><li><span><a href=\"#deparseはcallを食べてcharacter-vectorを返す\" data-toc-modified-id=\"deparseはcallを食べてcharacter-vectorを返す-2.0.3\"><span class=\"toc-item-num\">2.0.3&nbsp;&nbsp;</span>deparseはcallを食べてcharacter vectorを返す</a></span></li></ul></li></ul></li><li><span><a href=\"#NSE-in-subset\" data-toc-modified-id=\"NSE-in-subset-3\"><span class=\"toc-item-num\">3&nbsp;&nbsp;</span>NSE in subset</a></span><ul class=\"toc-item\"><li><ul class=\"toc-item\"><li><span><a href=\"#上記のようにaをグローバルなaとしてではなく、sample_dfのaとして捉えるためにevalが用いられる\" data-toc-modified-id=\"上記のようにaをグローバルなaとしてではなく、sample_dfのaとして捉えるためにevalが用いられる-3.0.1\"><span class=\"toc-item-num\">3.0.1&nbsp;&nbsp;</span>上記のようにaをグローバルなaとしてではなく、sample_dfのaとして捉えるためにevalが用いられる</a></span></li></ul></li><li><span><a href=\"#quote\" data-toc-modified-id=\"quote-3.1\"><span class=\"toc-item-num\">3.1&nbsp;&nbsp;</span>quote</a></span><ul class=\"toc-item\"><li><span><a href=\"#quoteのinverseは「evalで第二引数以降を省略したもの」\" data-toc-modified-id=\"quoteのinverseは「evalで第二引数以降を省略したもの」-3.1.1\"><span class=\"toc-item-num\">3.1.1&nbsp;&nbsp;</span>quoteのinverseは「evalで第二引数以降を省略したもの」</a></span></li><li><span><a href=\"#定義されていないものもquoteできるがevalするとエラーに\" data-toc-modified-id=\"定義されていないものもquoteできるがevalするとエラーに-3.1.2\"><span class=\"toc-item-num\">3.1.2&nbsp;&nbsp;</span>定義されていないものもquoteできるがevalするとエラーに</a></span></li><li><span><a href=\"#quoteしていないものをevalしようとするとエラーに\" data-toc-modified-id=\"quoteしていないものをevalしようとするとエラーに-3.1.3\"><span class=\"toc-item-num\">3.1.3&nbsp;&nbsp;</span>quoteしていないものをevalしようとするとエラーに</a></span></li><li><span><a href=\"#evalの第二引数は環境だがlistでも可\" data-toc-modified-id=\"evalの第二引数は環境だがlistでも可-3.1.4\"><span class=\"toc-item-num\">3.1.4&nbsp;&nbsp;</span>evalの第二引数は環境だがlistでも可</a></span></li><li><span><a href=\"#その特性はsubset()の実装に使える\" data-toc-modified-id=\"その特性はsubset()の実装に使える-3.1.5\"><span class=\"toc-item-num\">3.1.5&nbsp;&nbsp;</span>その特性はsubset()の実装に使える</a></span></li></ul></li><li><span><a href=\"#subset2\" data-toc-modified-id=\"subset2-3.2\"><span class=\"toc-item-num\">3.2&nbsp;&nbsp;</span>subset2</a></span></li><li><span><a href=\"#exercise\" data-toc-modified-id=\"exercise-3.3\"><span class=\"toc-item-num\">3.3&nbsp;&nbsp;</span>exercise</a></span></li></ul></li><li><span><a href=\"#Scoping-issues\" data-toc-modified-id=\"Scoping-issues-4\"><span class=\"toc-item-num\">4&nbsp;&nbsp;</span>Scoping issues</a></span></li></ul></div>"
   ]
  },
  {
   "cell_type": "markdown",
   "metadata": {},
   "source": [
    "# Capturing expressions"
   ]
  },
  {
   "cell_type": "markdown",
   "metadata": {},
   "source": [
    "## substitute"
   ]
  },
  {
   "cell_type": "code",
   "execution_count": 1,
   "metadata": {},
   "outputs": [
    {
     "data": {
      "text/plain": [
       "1:10"
      ]
     },
     "metadata": {},
     "output_type": "display_data"
    }
   ],
   "source": [
    "f <- function(x) {\n",
    "  substitute(x)\n",
    "}\n",
    "f(1:10)"
   ]
  },
  {
   "cell_type": "markdown",
   "metadata": {},
   "source": [
    "### substitute() works because function arguments are represented by a special type of object called a promise. A "
   ]
  },
  {
   "cell_type": "markdown",
   "metadata": {},
   "source": [
    "### substituteの返り値は\"call\""
   ]
  },
  {
   "cell_type": "code",
   "execution_count": 2,
   "metadata": {},
   "outputs": [
    {
     "data": {
      "text/html": [
       "'call'"
      ],
      "text/latex": [
       "'call'"
      ],
      "text/markdown": [
       "'call'"
      ],
      "text/plain": [
       "[1] \"call\""
      ]
     },
     "metadata": {},
     "output_type": "display_data"
    }
   ],
   "source": [
    "f2 <- function(x) {\n",
    "  class(substitute(x))\n",
    "}\n",
    "f2(1:10)"
   ]
  },
  {
   "cell_type": "markdown",
   "metadata": {},
   "source": [
    "### deparseはcallを食べてcharacter vectorを返す"
   ]
  },
  {
   "cell_type": "code",
   "execution_count": 8,
   "metadata": {},
   "outputs": [
    {
     "data": {
      "text/html": [
       "'1:10'"
      ],
      "text/latex": [
       "'1:10'"
      ],
      "text/markdown": [
       "'1:10'"
      ],
      "text/plain": [
       "[1] \"1:10\""
      ]
     },
     "metadata": {},
     "output_type": "display_data"
    }
   ],
   "source": [
    "f3 <- function(x) {\n",
    "  deparse(substitute(x))\n",
    "}\n",
    "\n",
    "f3(1:10)"
   ]
  },
  {
   "cell_type": "code",
   "execution_count": 9,
   "metadata": {
    "collapsed": true
   },
   "outputs": [],
   "source": [
    "g <- function(x) deparse(substitute(x))"
   ]
  },
  {
   "cell_type": "code",
   "execution_count": 10,
   "metadata": {},
   "outputs": [
    {
     "data": {
      "text/html": [
       "<ol class=list-inline>\n",
       "\t<li>'a + b + c + d + e + f + g + h + i + j + k + l + m + n + o + p + '</li>\n",
       "\t<li><span style=white-space:pre-wrap>'    q + r + s + t + u + v + w + x + y + z'</span></li>\n",
       "</ol>\n"
      ],
      "text/latex": [
       "\\begin{enumerate*}\n",
       "\\item 'a + b + c + d + e + f + g + h + i + j + k + l + m + n + o + p + '\n",
       "\\item '    q + r + s + t + u + v + w + x + y + z'\n",
       "\\end{enumerate*}\n"
      ],
      "text/markdown": [
       "1. 'a + b + c + d + e + f + g + h + i + j + k + l + m + n + o + p + '\n",
       "2. <span style=white-space:pre-wrap>'    q + r + s + t + u + v + w + x + y + z'</span>\n",
       "\n",
       "\n"
      ],
      "text/plain": [
       "[1] \"a + b + c + d + e + f + g + h + i + j + k + l + m + n + o + p + \"\n",
       "[2] \"    q + r + s + t + u + v + w + x + y + z\"                       "
      ]
     },
     "metadata": {},
     "output_type": "display_data"
    }
   ],
   "source": [
    "g(a + b + c + d + e + f + g + h + i + j + k + l + m +\n",
    "  n + o + p + q + r + s + t + u + v + w + x + y + z)"
   ]
  },
  {
   "cell_type": "code",
   "execution_count": 11,
   "metadata": {
    "collapsed": true
   },
   "outputs": [],
   "source": [
    "?deparse"
   ]
  },
  {
   "cell_type": "code",
   "execution_count": 12,
   "metadata": {},
   "outputs": [
    {
     "data": {
      "text/html": [
       "<pre class=language-r><code>function (x, ...) \n",
       "{\n",
       "<span style=white-space:pre-wrap>    if (inherits(x, \"Date\")) </span>\n",
       "<span style=white-space:pre-wrap>        return(x)</span>\n",
       "<span style=white-space:pre-wrap>    if (is.logical(x) &amp;&amp; all(is.na(x))) </span>\n",
       "<span style=white-space:pre-wrap>        return(structure(as.numeric(x), class = \"Date\"))</span>\n",
       "<span style=white-space:pre-wrap>    stop(gettextf(\"do not know how to convert '%s' to class %s\", </span>\n",
       "<span style=white-space:pre-wrap>        deparse(substitute(x)), dQuote(\"Date\")), domain = NA)</span>\n",
       "}</code></pre>"
      ],
      "text/latex": [
       "\\begin{minted}{r}\n",
       "function (x, ...) \n",
       "\\{\n",
       "    if (inherits(x, \"Date\")) \n",
       "        return(x)\n",
       "    if (is.logical(x) \\&\\& all(is.na(x))) \n",
       "        return(structure(as.numeric(x), class = \"Date\"))\n",
       "    stop(gettextf(\"do not know how to convert '\\%s' to class \\%s\", \n",
       "        deparse(substitute(x)), dQuote(\"Date\")), domain = NA)\n",
       "\\}\n",
       "\\end{minted}"
      ],
      "text/markdown": [
       "```r\n",
       "function (x, ...) \n",
       "{\n",
       "    if (inherits(x, \"Date\")) \n",
       "        return(x)\n",
       "    if (is.logical(x) && all(is.na(x))) \n",
       "        return(structure(as.numeric(x), class = \"Date\"))\n",
       "    stop(gettextf(\"do not know how to convert '%s' to class %s\", \n",
       "        deparse(substitute(x)), dQuote(\"Date\")), domain = NA)\n",
       "}\n",
       "```"
      ],
      "text/plain": [
       "function (x, ...) \n",
       "{\n",
       "    if (inherits(x, \"Date\")) \n",
       "        return(x)\n",
       "    if (is.logical(x) && all(is.na(x))) \n",
       "        return(structure(as.numeric(x), class = \"Date\"))\n",
       "    stop(gettextf(\"do not know how to convert '%s' to class %s\", \n",
       "        deparse(substitute(x)), dQuote(\"Date\")), domain = NA)\n",
       "}\n",
       "<bytecode: 0x000000001903b6a0>\n",
       "<environment: namespace:base>"
      ]
     },
     "metadata": {},
     "output_type": "display_data"
    }
   ],
   "source": [
    " as.Date.default"
   ]
  },
  {
   "cell_type": "code",
   "execution_count": 22,
   "metadata": {},
   "outputs": [
    {
     "ename": "ERROR",
     "evalue": "Error in as.Date.default(20001111, \"%y%m%d\"): do not know how to convert '20001111' to class \"Date\"\n",
     "output_type": "error",
     "traceback": [
      "Error in as.Date.default(20001111, \"%y%m%d\"): do not know how to convert '20001111' to class \"Date\"\nTraceback:\n",
      "1. as.Date.default(20001111, \"%y%m%d\")",
      "2. stop(gettextf(\"do not know how to convert '%s' to class %s\", \n .     deparse(substitute(x)), dQuote(\"Date\")), domain = NA)"
     ]
    }
   ],
   "source": [
    "as.Date.default(20001111,\"%y%m%d\")"
   ]
  },
  {
   "cell_type": "code",
   "execution_count": 16,
   "metadata": {
    "collapsed": true
   },
   "outputs": [],
   "source": [
    "?as.Date.default"
   ]
  },
  {
   "cell_type": "code",
   "execution_count": 23,
   "metadata": {
    "collapsed": true
   },
   "outputs": [],
   "source": [
    "?pairwise.t.test"
   ]
  },
  {
   "cell_type": "code",
   "execution_count": 24,
   "metadata": {},
   "outputs": [
    {
     "data": {
      "text/plain": [
       "\n",
       "\tPairwise comparisons using t tests with pooled SD \n",
       "\n",
       "data:  Ozone and Month \n",
       "\n",
       "    May     Jun     Jul     Aug    \n",
       "Jun 1.00000 -       -       -      \n",
       "Jul 0.00026 0.05113 -       -      \n",
       "Aug 0.00019 0.04987 1.00000 -      \n",
       "Sep 1.00000 1.00000 0.00488 0.00388\n",
       "\n",
       "P value adjustment method: holm "
      ]
     },
     "metadata": {},
     "output_type": "display_data"
    }
   ],
   "source": [
    "attach(airquality)\n",
    "Month <- factor(Month, labels = month.abb[5:9])\n",
    "pairwise.t.test(Ozone, Month)"
   ]
  },
  {
   "cell_type": "code",
   "execution_count": 25,
   "metadata": {},
   "outputs": [
    {
     "data": {
      "text/html": [
       "<ol class=list-inline>\n",
       "\t<li>May</li>\n",
       "\t<li>May</li>\n",
       "\t<li>May</li>\n",
       "\t<li>May</li>\n",
       "\t<li>May</li>\n",
       "\t<li>May</li>\n",
       "\t<li>May</li>\n",
       "\t<li>May</li>\n",
       "\t<li>May</li>\n",
       "\t<li>May</li>\n",
       "\t<li>May</li>\n",
       "\t<li>May</li>\n",
       "\t<li>May</li>\n",
       "\t<li>May</li>\n",
       "\t<li>May</li>\n",
       "\t<li>May</li>\n",
       "\t<li>May</li>\n",
       "\t<li>May</li>\n",
       "\t<li>May</li>\n",
       "\t<li>May</li>\n",
       "\t<li>May</li>\n",
       "\t<li>May</li>\n",
       "\t<li>May</li>\n",
       "\t<li>May</li>\n",
       "\t<li>May</li>\n",
       "\t<li>May</li>\n",
       "\t<li>May</li>\n",
       "\t<li>May</li>\n",
       "\t<li>May</li>\n",
       "\t<li>May</li>\n",
       "\t<li>May</li>\n",
       "\t<li>Jun</li>\n",
       "\t<li>Jun</li>\n",
       "\t<li>Jun</li>\n",
       "\t<li>Jun</li>\n",
       "\t<li>Jun</li>\n",
       "\t<li>Jun</li>\n",
       "\t<li>Jun</li>\n",
       "\t<li>Jun</li>\n",
       "\t<li>Jun</li>\n",
       "\t<li>Jun</li>\n",
       "\t<li>Jun</li>\n",
       "\t<li>Jun</li>\n",
       "\t<li>Jun</li>\n",
       "\t<li>Jun</li>\n",
       "\t<li>Jun</li>\n",
       "\t<li>Jun</li>\n",
       "\t<li>Jun</li>\n",
       "\t<li>Jun</li>\n",
       "\t<li>Jun</li>\n",
       "\t<li>Jun</li>\n",
       "\t<li>Jun</li>\n",
       "\t<li>Jun</li>\n",
       "\t<li>Jun</li>\n",
       "\t<li>Jun</li>\n",
       "\t<li>Jun</li>\n",
       "\t<li>Jun</li>\n",
       "\t<li>Jun</li>\n",
       "\t<li>Jun</li>\n",
       "\t<li>Jun</li>\n",
       "\t<li>Jun</li>\n",
       "\t<li>Jul</li>\n",
       "\t<li>Jul</li>\n",
       "\t<li>Jul</li>\n",
       "\t<li>Jul</li>\n",
       "\t<li>Jul</li>\n",
       "\t<li>Jul</li>\n",
       "\t<li>Jul</li>\n",
       "\t<li>Jul</li>\n",
       "\t<li>Jul</li>\n",
       "\t<li>Jul</li>\n",
       "\t<li>Jul</li>\n",
       "\t<li>Jul</li>\n",
       "\t<li>Jul</li>\n",
       "\t<li>Jul</li>\n",
       "\t<li>Jul</li>\n",
       "\t<li>Jul</li>\n",
       "\t<li>Jul</li>\n",
       "\t<li>Jul</li>\n",
       "\t<li>Jul</li>\n",
       "\t<li>Jul</li>\n",
       "\t<li>Jul</li>\n",
       "\t<li>Jul</li>\n",
       "\t<li>Jul</li>\n",
       "\t<li>Jul</li>\n",
       "\t<li>Jul</li>\n",
       "\t<li>Jul</li>\n",
       "\t<li>Jul</li>\n",
       "\t<li>Jul</li>\n",
       "\t<li>Jul</li>\n",
       "\t<li>Jul</li>\n",
       "\t<li>Jul</li>\n",
       "\t<li>Aug</li>\n",
       "\t<li>Aug</li>\n",
       "\t<li>Aug</li>\n",
       "\t<li>Aug</li>\n",
       "\t<li>Aug</li>\n",
       "\t<li>Aug</li>\n",
       "\t<li>Aug</li>\n",
       "\t<li>Aug</li>\n",
       "\t<li>Aug</li>\n",
       "\t<li>Aug</li>\n",
       "\t<li>Aug</li>\n",
       "\t<li>Aug</li>\n",
       "\t<li>Aug</li>\n",
       "\t<li>Aug</li>\n",
       "\t<li>Aug</li>\n",
       "\t<li>Aug</li>\n",
       "\t<li>Aug</li>\n",
       "\t<li>Aug</li>\n",
       "\t<li>Aug</li>\n",
       "\t<li>Aug</li>\n",
       "\t<li>Aug</li>\n",
       "\t<li>Aug</li>\n",
       "\t<li>Aug</li>\n",
       "\t<li>Aug</li>\n",
       "\t<li>Aug</li>\n",
       "\t<li>Aug</li>\n",
       "\t<li>Aug</li>\n",
       "\t<li>Aug</li>\n",
       "\t<li>Aug</li>\n",
       "\t<li>Aug</li>\n",
       "\t<li>Aug</li>\n",
       "\t<li>Sep</li>\n",
       "\t<li>Sep</li>\n",
       "\t<li>Sep</li>\n",
       "\t<li>Sep</li>\n",
       "\t<li>Sep</li>\n",
       "\t<li>Sep</li>\n",
       "\t<li>Sep</li>\n",
       "\t<li>Sep</li>\n",
       "\t<li>Sep</li>\n",
       "\t<li>Sep</li>\n",
       "\t<li>Sep</li>\n",
       "\t<li>Sep</li>\n",
       "\t<li>Sep</li>\n",
       "\t<li>Sep</li>\n",
       "\t<li>Sep</li>\n",
       "\t<li>Sep</li>\n",
       "\t<li>Sep</li>\n",
       "\t<li>Sep</li>\n",
       "\t<li>Sep</li>\n",
       "\t<li>Sep</li>\n",
       "\t<li>Sep</li>\n",
       "\t<li>Sep</li>\n",
       "\t<li>Sep</li>\n",
       "\t<li>Sep</li>\n",
       "\t<li>Sep</li>\n",
       "\t<li>Sep</li>\n",
       "\t<li>Sep</li>\n",
       "\t<li>Sep</li>\n",
       "\t<li>Sep</li>\n",
       "\t<li>Sep</li>\n",
       "</ol>\n"
      ],
      "text/latex": [
       "\\begin{enumerate*}\n",
       "\\item May\n",
       "\\item May\n",
       "\\item May\n",
       "\\item May\n",
       "\\item May\n",
       "\\item May\n",
       "\\item May\n",
       "\\item May\n",
       "\\item May\n",
       "\\item May\n",
       "\\item May\n",
       "\\item May\n",
       "\\item May\n",
       "\\item May\n",
       "\\item May\n",
       "\\item May\n",
       "\\item May\n",
       "\\item May\n",
       "\\item May\n",
       "\\item May\n",
       "\\item May\n",
       "\\item May\n",
       "\\item May\n",
       "\\item May\n",
       "\\item May\n",
       "\\item May\n",
       "\\item May\n",
       "\\item May\n",
       "\\item May\n",
       "\\item May\n",
       "\\item May\n",
       "\\item Jun\n",
       "\\item Jun\n",
       "\\item Jun\n",
       "\\item Jun\n",
       "\\item Jun\n",
       "\\item Jun\n",
       "\\item Jun\n",
       "\\item Jun\n",
       "\\item Jun\n",
       "\\item Jun\n",
       "\\item Jun\n",
       "\\item Jun\n",
       "\\item Jun\n",
       "\\item Jun\n",
       "\\item Jun\n",
       "\\item Jun\n",
       "\\item Jun\n",
       "\\item Jun\n",
       "\\item Jun\n",
       "\\item Jun\n",
       "\\item Jun\n",
       "\\item Jun\n",
       "\\item Jun\n",
       "\\item Jun\n",
       "\\item Jun\n",
       "\\item Jun\n",
       "\\item Jun\n",
       "\\item Jun\n",
       "\\item Jun\n",
       "\\item Jun\n",
       "\\item Jul\n",
       "\\item Jul\n",
       "\\item Jul\n",
       "\\item Jul\n",
       "\\item Jul\n",
       "\\item Jul\n",
       "\\item Jul\n",
       "\\item Jul\n",
       "\\item Jul\n",
       "\\item Jul\n",
       "\\item Jul\n",
       "\\item Jul\n",
       "\\item Jul\n",
       "\\item Jul\n",
       "\\item Jul\n",
       "\\item Jul\n",
       "\\item Jul\n",
       "\\item Jul\n",
       "\\item Jul\n",
       "\\item Jul\n",
       "\\item Jul\n",
       "\\item Jul\n",
       "\\item Jul\n",
       "\\item Jul\n",
       "\\item Jul\n",
       "\\item Jul\n",
       "\\item Jul\n",
       "\\item Jul\n",
       "\\item Jul\n",
       "\\item Jul\n",
       "\\item Jul\n",
       "\\item Aug\n",
       "\\item Aug\n",
       "\\item Aug\n",
       "\\item Aug\n",
       "\\item Aug\n",
       "\\item Aug\n",
       "\\item Aug\n",
       "\\item Aug\n",
       "\\item Aug\n",
       "\\item Aug\n",
       "\\item Aug\n",
       "\\item Aug\n",
       "\\item Aug\n",
       "\\item Aug\n",
       "\\item Aug\n",
       "\\item Aug\n",
       "\\item Aug\n",
       "\\item Aug\n",
       "\\item Aug\n",
       "\\item Aug\n",
       "\\item Aug\n",
       "\\item Aug\n",
       "\\item Aug\n",
       "\\item Aug\n",
       "\\item Aug\n",
       "\\item Aug\n",
       "\\item Aug\n",
       "\\item Aug\n",
       "\\item Aug\n",
       "\\item Aug\n",
       "\\item Aug\n",
       "\\item Sep\n",
       "\\item Sep\n",
       "\\item Sep\n",
       "\\item Sep\n",
       "\\item Sep\n",
       "\\item Sep\n",
       "\\item Sep\n",
       "\\item Sep\n",
       "\\item Sep\n",
       "\\item Sep\n",
       "\\item Sep\n",
       "\\item Sep\n",
       "\\item Sep\n",
       "\\item Sep\n",
       "\\item Sep\n",
       "\\item Sep\n",
       "\\item Sep\n",
       "\\item Sep\n",
       "\\item Sep\n",
       "\\item Sep\n",
       "\\item Sep\n",
       "\\item Sep\n",
       "\\item Sep\n",
       "\\item Sep\n",
       "\\item Sep\n",
       "\\item Sep\n",
       "\\item Sep\n",
       "\\item Sep\n",
       "\\item Sep\n",
       "\\item Sep\n",
       "\\end{enumerate*}\n"
      ],
      "text/markdown": [
       "1. May\n",
       "2. May\n",
       "3. May\n",
       "4. May\n",
       "5. May\n",
       "6. May\n",
       "7. May\n",
       "8. May\n",
       "9. May\n",
       "10. May\n",
       "11. May\n",
       "12. May\n",
       "13. May\n",
       "14. May\n",
       "15. May\n",
       "16. May\n",
       "17. May\n",
       "18. May\n",
       "19. May\n",
       "20. May\n",
       "21. May\n",
       "22. May\n",
       "23. May\n",
       "24. May\n",
       "25. May\n",
       "26. May\n",
       "27. May\n",
       "28. May\n",
       "29. May\n",
       "30. May\n",
       "31. May\n",
       "32. Jun\n",
       "33. Jun\n",
       "34. Jun\n",
       "35. Jun\n",
       "36. Jun\n",
       "37. Jun\n",
       "38. Jun\n",
       "39. Jun\n",
       "40. Jun\n",
       "41. Jun\n",
       "42. Jun\n",
       "43. Jun\n",
       "44. Jun\n",
       "45. Jun\n",
       "46. Jun\n",
       "47. Jun\n",
       "48. Jun\n",
       "49. Jun\n",
       "50. Jun\n",
       "51. Jun\n",
       "52. Jun\n",
       "53. Jun\n",
       "54. Jun\n",
       "55. Jun\n",
       "56. Jun\n",
       "57. Jun\n",
       "58. Jun\n",
       "59. Jun\n",
       "60. Jun\n",
       "61. Jun\n",
       "62. Jul\n",
       "63. Jul\n",
       "64. Jul\n",
       "65. Jul\n",
       "66. Jul\n",
       "67. Jul\n",
       "68. Jul\n",
       "69. Jul\n",
       "70. Jul\n",
       "71. Jul\n",
       "72. Jul\n",
       "73. Jul\n",
       "74. Jul\n",
       "75. Jul\n",
       "76. Jul\n",
       "77. Jul\n",
       "78. Jul\n",
       "79. Jul\n",
       "80. Jul\n",
       "81. Jul\n",
       "82. Jul\n",
       "83. Jul\n",
       "84. Jul\n",
       "85. Jul\n",
       "86. Jul\n",
       "87. Jul\n",
       "88. Jul\n",
       "89. Jul\n",
       "90. Jul\n",
       "91. Jul\n",
       "92. Jul\n",
       "93. Aug\n",
       "94. Aug\n",
       "95. Aug\n",
       "96. Aug\n",
       "97. Aug\n",
       "98. Aug\n",
       "99. Aug\n",
       "100. Aug\n",
       "101. Aug\n",
       "102. Aug\n",
       "103. Aug\n",
       "104. Aug\n",
       "105. Aug\n",
       "106. Aug\n",
       "107. Aug\n",
       "108. Aug\n",
       "109. Aug\n",
       "110. Aug\n",
       "111. Aug\n",
       "112. Aug\n",
       "113. Aug\n",
       "114. Aug\n",
       "115. Aug\n",
       "116. Aug\n",
       "117. Aug\n",
       "118. Aug\n",
       "119. Aug\n",
       "120. Aug\n",
       "121. Aug\n",
       "122. Aug\n",
       "123. Aug\n",
       "124. Sep\n",
       "125. Sep\n",
       "126. Sep\n",
       "127. Sep\n",
       "128. Sep\n",
       "129. Sep\n",
       "130. Sep\n",
       "131. Sep\n",
       "132. Sep\n",
       "133. Sep\n",
       "134. Sep\n",
       "135. Sep\n",
       "136. Sep\n",
       "137. Sep\n",
       "138. Sep\n",
       "139. Sep\n",
       "140. Sep\n",
       "141. Sep\n",
       "142. Sep\n",
       "143. Sep\n",
       "144. Sep\n",
       "145. Sep\n",
       "146. Sep\n",
       "147. Sep\n",
       "148. Sep\n",
       "149. Sep\n",
       "150. Sep\n",
       "151. Sep\n",
       "152. Sep\n",
       "153. Sep\n",
       "\n",
       "\n"
      ],
      "text/plain": [
       "  [1] May May May May May May May May May May May May May May May May May May\n",
       " [19] May May May May May May May May May May May May May Jun Jun Jun Jun Jun\n",
       " [37] Jun Jun Jun Jun Jun Jun Jun Jun Jun Jun Jun Jun Jun Jun Jun Jun Jun Jun\n",
       " [55] Jun Jun Jun Jun Jun Jun Jun Jul Jul Jul Jul Jul Jul Jul Jul Jul Jul Jul\n",
       " [73] Jul Jul Jul Jul Jul Jul Jul Jul Jul Jul Jul Jul Jul Jul Jul Jul Jul Jul\n",
       " [91] Jul Jul Aug Aug Aug Aug Aug Aug Aug Aug Aug Aug Aug Aug Aug Aug Aug Aug\n",
       "[109] Aug Aug Aug Aug Aug Aug Aug Aug Aug Aug Aug Aug Aug Aug Aug Sep Sep Sep\n",
       "[127] Sep Sep Sep Sep Sep Sep Sep Sep Sep Sep Sep Sep Sep Sep Sep Sep Sep Sep\n",
       "[145] Sep Sep Sep Sep Sep Sep Sep Sep Sep\n",
       "Levels: May Jun Jul Aug Sep"
      ]
     },
     "metadata": {},
     "output_type": "display_data"
    }
   ],
   "source": [
    "Month"
   ]
  },
  {
   "cell_type": "code",
   "execution_count": 26,
   "metadata": {},
   "outputs": [
    {
     "data": {
      "text/html": [
       "<pre class=language-r><code>function (x, g, p.adjust.method = p.adjust.methods, pool.sd = !paired, \n",
       "<span style=white-space:pre-wrap>    paired = FALSE, alternative = c(\"two.sided\", \"less\", \"greater\"), </span>\n",
       "<span style=white-space:pre-wrap>    ...) </span>\n",
       "{\n",
       "<span style=white-space:pre-wrap>    if (paired &amp; pool.sd) </span>\n",
       "<span style=white-space:pre-wrap>        stop(\"pooling of SD is incompatible with paired tests\")</span>\n",
       "<span style=white-space:pre-wrap>    DNAME &lt;- paste(deparse(substitute(x)), \"and\", deparse(substitute(g)))</span>\n",
       "<span style=white-space:pre-wrap>    g &lt;- factor(g)</span>\n",
       "<span style=white-space:pre-wrap>    p.adjust.method &lt;- match.arg(p.adjust.method)</span>\n",
       "<span style=white-space:pre-wrap>    alternative &lt;- match.arg(alternative)</span>\n",
       "<span style=white-space:pre-wrap>    if (pool.sd) {</span>\n",
       "<span style=white-space:pre-wrap>        METHOD &lt;- \"t tests with pooled SD\"</span>\n",
       "<span style=white-space:pre-wrap>        xbar &lt;- tapply(x, g, mean, na.rm = TRUE)</span>\n",
       "<span style=white-space:pre-wrap>        s &lt;- tapply(x, g, sd, na.rm = TRUE)</span>\n",
       "<span style=white-space:pre-wrap>        n &lt;- tapply(!is.na(x), g, sum)</span>\n",
       "<span style=white-space:pre-wrap>        degf &lt;- n - 1</span>\n",
       "<span style=white-space:pre-wrap>        total.degf &lt;- sum(degf)</span>\n",
       "<span style=white-space:pre-wrap>        pooled.sd &lt;- sqrt(sum(s^2 * degf)/total.degf)</span>\n",
       "<span style=white-space:pre-wrap>        compare.levels &lt;- function(i, j) {</span>\n",
       "<span style=white-space:pre-wrap>            dif &lt;- xbar[i] - xbar[j]</span>\n",
       "<span style=white-space:pre-wrap>            se.dif &lt;- pooled.sd * sqrt(1/n[i] + 1/n[j])</span>\n",
       "<span style=white-space:pre-wrap>            t.val &lt;- dif/se.dif</span>\n",
       "<span style=white-space:pre-wrap>            if (alternative == \"two.sided\") </span>\n",
       "<span style=white-space:pre-wrap>                2 * pt(-abs(t.val), total.degf)</span>\n",
       "<span style=white-space:pre-wrap>            else pt(t.val, total.degf, lower.tail = (alternative == </span>\n",
       "<span style=white-space:pre-wrap>                \"less\"))</span>\n",
       "<span style=white-space:pre-wrap>        }</span>\n",
       "<span style=white-space:pre-wrap>    }</span>\n",
       "<span style=white-space:pre-wrap>    else {</span>\n",
       "<span style=white-space:pre-wrap>        METHOD &lt;- if (paired) </span>\n",
       "<span style=white-space:pre-wrap>            \"paired t tests\"</span>\n",
       "<span style=white-space:pre-wrap>        else \"t tests with non-pooled SD\"</span>\n",
       "<span style=white-space:pre-wrap>        compare.levels &lt;- function(i, j) {</span>\n",
       "<span style=white-space:pre-wrap>            xi &lt;- x[as.integer(g) == i]</span>\n",
       "<span style=white-space:pre-wrap>            xj &lt;- x[as.integer(g) == j]</span>\n",
       "<span style=white-space:pre-wrap>            t.test(xi, xj, paired = paired, alternative = alternative, </span>\n",
       "<span style=white-space:pre-wrap>                ...)$p.value</span>\n",
       "<span style=white-space:pre-wrap>        }</span>\n",
       "<span style=white-space:pre-wrap>    }</span>\n",
       "<span style=white-space:pre-wrap>    PVAL &lt;- pairwise.table(compare.levels, levels(g), p.adjust.method)</span>\n",
       "<span style=white-space:pre-wrap>    ans &lt;- list(method = METHOD, data.name = DNAME, p.value = PVAL, </span>\n",
       "<span style=white-space:pre-wrap>        p.adjust.method = p.adjust.method)</span>\n",
       "<span style=white-space:pre-wrap>    class(ans) &lt;- \"pairwise.htest\"</span>\n",
       "<span style=white-space:pre-wrap>    ans</span>\n",
       "}</code></pre>"
      ],
      "text/latex": [
       "\\begin{minted}{r}\n",
       "function (x, g, p.adjust.method = p.adjust.methods, pool.sd = !paired, \n",
       "    paired = FALSE, alternative = c(\"two.sided\", \"less\", \"greater\"), \n",
       "    ...) \n",
       "\\{\n",
       "    if (paired \\& pool.sd) \n",
       "        stop(\"pooling of SD is incompatible with paired tests\")\n",
       "    DNAME <- paste(deparse(substitute(x)), \"and\", deparse(substitute(g)))\n",
       "    g <- factor(g)\n",
       "    p.adjust.method <- match.arg(p.adjust.method)\n",
       "    alternative <- match.arg(alternative)\n",
       "    if (pool.sd) \\{\n",
       "        METHOD <- \"t tests with pooled SD\"\n",
       "        xbar <- tapply(x, g, mean, na.rm = TRUE)\n",
       "        s <- tapply(x, g, sd, na.rm = TRUE)\n",
       "        n <- tapply(!is.na(x), g, sum)\n",
       "        degf <- n - 1\n",
       "        total.degf <- sum(degf)\n",
       "        pooled.sd <- sqrt(sum(s\\textasciicircum{}2 * degf)/total.degf)\n",
       "        compare.levels <- function(i, j) \\{\n",
       "            dif <- xbar{[}i{]} - xbar{[}j{]}\n",
       "            se.dif <- pooled.sd * sqrt(1/n{[}i{]} + 1/n{[}j{]})\n",
       "            t.val <- dif/se.dif\n",
       "            if (alternative == \"two.sided\") \n",
       "                2 * pt(-abs(t.val), total.degf)\n",
       "            else pt(t.val, total.degf, lower.tail = (alternative == \n",
       "                \"less\"))\n",
       "        \\}\n",
       "    \\}\n",
       "    else \\{\n",
       "        METHOD <- if (paired) \n",
       "            \"paired t tests\"\n",
       "        else \"t tests with non-pooled SD\"\n",
       "        compare.levels <- function(i, j) \\{\n",
       "            xi <- x{[}as.integer(g) == i{]}\n",
       "            xj <- x{[}as.integer(g) == j{]}\n",
       "            t.test(xi, xj, paired = paired, alternative = alternative, \n",
       "                ...)\\$p.value\n",
       "        \\}\n",
       "    \\}\n",
       "    PVAL <- pairwise.table(compare.levels, levels(g), p.adjust.method)\n",
       "    ans <- list(method = METHOD, data.name = DNAME, p.value = PVAL, \n",
       "        p.adjust.method = p.adjust.method)\n",
       "    class(ans) <- \"pairwise.htest\"\n",
       "    ans\n",
       "\\}\n",
       "\\end{minted}"
      ],
      "text/markdown": [
       "```r\n",
       "function (x, g, p.adjust.method = p.adjust.methods, pool.sd = !paired, \n",
       "    paired = FALSE, alternative = c(\"two.sided\", \"less\", \"greater\"), \n",
       "    ...) \n",
       "{\n",
       "    if (paired & pool.sd) \n",
       "        stop(\"pooling of SD is incompatible with paired tests\")\n",
       "    DNAME <- paste(deparse(substitute(x)), \"and\", deparse(substitute(g)))\n",
       "    g <- factor(g)\n",
       "    p.adjust.method <- match.arg(p.adjust.method)\n",
       "    alternative <- match.arg(alternative)\n",
       "    if (pool.sd) {\n",
       "        METHOD <- \"t tests with pooled SD\"\n",
       "        xbar <- tapply(x, g, mean, na.rm = TRUE)\n",
       "        s <- tapply(x, g, sd, na.rm = TRUE)\n",
       "        n <- tapply(!is.na(x), g, sum)\n",
       "        degf <- n - 1\n",
       "        total.degf <- sum(degf)\n",
       "        pooled.sd <- sqrt(sum(s^2 * degf)/total.degf)\n",
       "        compare.levels <- function(i, j) {\n",
       "            dif <- xbar[i] - xbar[j]\n",
       "            se.dif <- pooled.sd * sqrt(1/n[i] + 1/n[j])\n",
       "            t.val <- dif/se.dif\n",
       "            if (alternative == \"two.sided\") \n",
       "                2 * pt(-abs(t.val), total.degf)\n",
       "            else pt(t.val, total.degf, lower.tail = (alternative == \n",
       "                \"less\"))\n",
       "        }\n",
       "    }\n",
       "    else {\n",
       "        METHOD <- if (paired) \n",
       "            \"paired t tests\"\n",
       "        else \"t tests with non-pooled SD\"\n",
       "        compare.levels <- function(i, j) {\n",
       "            xi <- x[as.integer(g) == i]\n",
       "            xj <- x[as.integer(g) == j]\n",
       "            t.test(xi, xj, paired = paired, alternative = alternative, \n",
       "                ...)$p.value\n",
       "        }\n",
       "    }\n",
       "    PVAL <- pairwise.table(compare.levels, levels(g), p.adjust.method)\n",
       "    ans <- list(method = METHOD, data.name = DNAME, p.value = PVAL, \n",
       "        p.adjust.method = p.adjust.method)\n",
       "    class(ans) <- \"pairwise.htest\"\n",
       "    ans\n",
       "}\n",
       "```"
      ],
      "text/plain": [
       "function (x, g, p.adjust.method = p.adjust.methods, pool.sd = !paired, \n",
       "    paired = FALSE, alternative = c(\"two.sided\", \"less\", \"greater\"), \n",
       "    ...) \n",
       "{\n",
       "    if (paired & pool.sd) \n",
       "        stop(\"pooling of SD is incompatible with paired tests\")\n",
       "    DNAME <- paste(deparse(substitute(x)), \"and\", deparse(substitute(g)))\n",
       "    g <- factor(g)\n",
       "    p.adjust.method <- match.arg(p.adjust.method)\n",
       "    alternative <- match.arg(alternative)\n",
       "    if (pool.sd) {\n",
       "        METHOD <- \"t tests with pooled SD\"\n",
       "        xbar <- tapply(x, g, mean, na.rm = TRUE)\n",
       "        s <- tapply(x, g, sd, na.rm = TRUE)\n",
       "        n <- tapply(!is.na(x), g, sum)\n",
       "        degf <- n - 1\n",
       "        total.degf <- sum(degf)\n",
       "        pooled.sd <- sqrt(sum(s^2 * degf)/total.degf)\n",
       "        compare.levels <- function(i, j) {\n",
       "            dif <- xbar[i] - xbar[j]\n",
       "            se.dif <- pooled.sd * sqrt(1/n[i] + 1/n[j])\n",
       "            t.val <- dif/se.dif\n",
       "            if (alternative == \"two.sided\") \n",
       "                2 * pt(-abs(t.val), total.degf)\n",
       "            else pt(t.val, total.degf, lower.tail = (alternative == \n",
       "                \"less\"))\n",
       "        }\n",
       "    }\n",
       "    else {\n",
       "        METHOD <- if (paired) \n",
       "            \"paired t tests\"\n",
       "        else \"t tests with non-pooled SD\"\n",
       "        compare.levels <- function(i, j) {\n",
       "            xi <- x[as.integer(g) == i]\n",
       "            xj <- x[as.integer(g) == j]\n",
       "            t.test(xi, xj, paired = paired, alternative = alternative, \n",
       "                ...)$p.value\n",
       "        }\n",
       "    }\n",
       "    PVAL <- pairwise.table(compare.levels, levels(g), p.adjust.method)\n",
       "    ans <- list(method = METHOD, data.name = DNAME, p.value = PVAL, \n",
       "        p.adjust.method = p.adjust.method)\n",
       "    class(ans) <- \"pairwise.htest\"\n",
       "    ans\n",
       "}\n",
       "<bytecode: 0x000000000aea6268>\n",
       "<environment: namespace:stats>"
      ]
     },
     "metadata": {},
     "output_type": "display_data"
    }
   ],
   "source": [
    "\n",
    "pairwise.t.test"
   ]
  },
  {
   "cell_type": "code",
   "execution_count": 27,
   "metadata": {},
   "outputs": [
    {
     "data": {
      "text/html": [
       "'x'"
      ],
      "text/latex": [
       "'x'"
      ],
      "text/markdown": [
       "'x'"
      ],
      "text/plain": [
       "[1] \"x\""
      ]
     },
     "metadata": {},
     "output_type": "display_data"
    },
    {
     "data": {
      "text/html": [
       "'x'"
      ],
      "text/latex": [
       "'x'"
      ],
      "text/markdown": [
       "'x'"
      ],
      "text/plain": [
       "[1] \"x\""
      ]
     },
     "metadata": {},
     "output_type": "display_data"
    },
    {
     "data": {
      "text/html": [
       "'x'"
      ],
      "text/latex": [
       "'x'"
      ],
      "text/markdown": [
       "'x'"
      ],
      "text/plain": [
       "[1] \"x\""
      ]
     },
     "metadata": {},
     "output_type": "display_data"
    }
   ],
   "source": [
    "f <- function(x) substitute(x)\n",
    "g <- function(x) deparse(f(x))\n",
    "g(1:10)\n",
    "g(x)\n",
    "g(x + y ^ 2 / z + exp(a * sin(b)))"
   ]
  },
  {
   "cell_type": "markdown",
   "metadata": {},
   "source": [
    "# NSE in subset"
   ]
  },
  {
   "cell_type": "code",
   "execution_count": 28,
   "metadata": {},
   "outputs": [
    {
     "data": {
      "text/html": [
       "<table>\n",
       "<thead><tr><th></th><th scope=col>a</th><th scope=col>b</th><th scope=col>c</th></tr></thead>\n",
       "<tbody>\n",
       "\t<tr><th scope=row>4</th><td>4</td><td>2</td><td>4</td></tr>\n",
       "\t<tr><th scope=row>5</th><td>5</td><td>1</td><td>1</td></tr>\n",
       "</tbody>\n",
       "</table>\n"
      ],
      "text/latex": [
       "\\begin{tabular}{r|lll}\n",
       "  & a & b & c\\\\\n",
       "\\hline\n",
       "\t4 & 4 & 2 & 4\\\\\n",
       "\t5 & 5 & 1 & 1\\\\\n",
       "\\end{tabular}\n"
      ],
      "text/markdown": [
       "\n",
       "| <!--/--> | a | b | c | \n",
       "|---|---|\n",
       "| 4 | 4 | 2 | 4 | \n",
       "| 5 | 5 | 1 | 1 | \n",
       "\n",
       "\n"
      ],
      "text/plain": [
       "  a b c\n",
       "4 4 2 4\n",
       "5 5 1 1"
      ]
     },
     "metadata": {},
     "output_type": "display_data"
    }
   ],
   "source": [
    "sample_df <- data.frame(a = 1:5, b = 5:1, c = c(5, 3, 1, 4, 1))\n",
    "\n",
    "subset(sample_df, a >= 4)"
   ]
  },
  {
   "cell_type": "markdown",
   "metadata": {},
   "source": [
    "### 上記のようにaをグローバルなaとしてではなく、sample_dfのaとして捉えるためにevalが用いられる"
   ]
  },
  {
   "cell_type": "markdown",
   "metadata": {},
   "source": [
    "## quote"
   ]
  },
  {
   "cell_type": "markdown",
   "metadata": {},
   "source": [
    "### quoteのinverseは「evalで第二引数以降を省略したもの」"
   ]
  },
  {
   "cell_type": "code",
   "execution_count": 29,
   "metadata": {
    "collapsed": true
   },
   "outputs": [],
   "source": [
    "?eval"
   ]
  },
  {
   "cell_type": "markdown",
   "metadata": {},
   "source": [
    "### 定義されていないものもquoteできるがevalするとエラーに"
   ]
  },
  {
   "cell_type": "code",
   "execution_count": 35,
   "metadata": {},
   "outputs": [
    {
     "data": {
      "text/plain": [
       "a"
      ]
     },
     "metadata": {},
     "output_type": "display_data"
    }
   ],
   "source": [
    "quote(a)"
   ]
  },
  {
   "cell_type": "code",
   "execution_count": 34,
   "metadata": {},
   "outputs": [
    {
     "data": {
      "text/html": [
       "'name'"
      ],
      "text/latex": [
       "'name'"
      ],
      "text/markdown": [
       "'name'"
      ],
      "text/plain": [
       "[1] \"name\""
      ]
     },
     "metadata": {},
     "output_type": "display_data"
    }
   ],
   "source": [
    "class(quote(a))"
   ]
  },
  {
   "cell_type": "code",
   "execution_count": 32,
   "metadata": {},
   "outputs": [
    {
     "data": {
      "text/plain": [
       "1 + 1"
      ]
     },
     "metadata": {},
     "output_type": "display_data"
    }
   ],
   "source": [
    "quote(1+1)"
   ]
  },
  {
   "cell_type": "code",
   "execution_count": 33,
   "metadata": {},
   "outputs": [
    {
     "data": {
      "text/html": [
       "2"
      ],
      "text/latex": [
       "2"
      ],
      "text/markdown": [
       "2"
      ],
      "text/plain": [
       "[1] 2"
      ]
     },
     "metadata": {},
     "output_type": "display_data"
    }
   ],
   "source": [
    "eval(quote(1+1))"
   ]
  },
  {
   "cell_type": "markdown",
   "metadata": {},
   "source": [
    "### quoteしていないものをevalしようとするとエラーに"
   ]
  },
  {
   "cell_type": "code",
   "execution_count": 38,
   "metadata": {},
   "outputs": [
    {
     "ename": "ERROR",
     "evalue": "Error in eval(x, list(x = 2)):  オブジェクト 'x' がありません \n",
     "output_type": "error",
     "traceback": [
      "Error in eval(x, list(x = 2)):  オブジェクト 'x' がありません \nTraceback:\n",
      "1. eval(x, list(x = 2))"
     ]
    }
   ],
   "source": [
    "eval(x , list(x=2))"
   ]
  },
  {
   "cell_type": "markdown",
   "metadata": {},
   "source": [
    "### evalの第二引数は環境だがlistでも可"
   ]
  },
  {
   "cell_type": "code",
   "execution_count": 37,
   "metadata": {},
   "outputs": [
    {
     "data": {
      "text/html": [
       "2"
      ],
      "text/latex": [
       "2"
      ],
      "text/markdown": [
       "2"
      ],
      "text/plain": [
       "[1] 2"
      ]
     },
     "metadata": {},
     "output_type": "display_data"
    }
   ],
   "source": [
    "eval(quote(x) , list(x=2))"
   ]
  },
  {
   "cell_type": "markdown",
   "metadata": {},
   "source": [
    "### その特性はsubset()の実装に使える"
   ]
  },
  {
   "cell_type": "code",
   "execution_count": 39,
   "metadata": {},
   "outputs": [
    {
     "data": {
      "text/html": [
       "<ol class=list-inline>\n",
       "\t<li>FALSE</li>\n",
       "\t<li>FALSE</li>\n",
       "\t<li>FALSE</li>\n",
       "\t<li>TRUE</li>\n",
       "\t<li>TRUE</li>\n",
       "</ol>\n"
      ],
      "text/latex": [
       "\\begin{enumerate*}\n",
       "\\item FALSE\n",
       "\\item FALSE\n",
       "\\item FALSE\n",
       "\\item TRUE\n",
       "\\item TRUE\n",
       "\\end{enumerate*}\n"
      ],
      "text/markdown": [
       "1. FALSE\n",
       "2. FALSE\n",
       "3. FALSE\n",
       "4. TRUE\n",
       "5. TRUE\n",
       "\n",
       "\n"
      ],
      "text/plain": [
       "[1] FALSE FALSE FALSE  TRUE  TRUE"
      ]
     },
     "metadata": {},
     "output_type": "display_data"
    }
   ],
   "source": [
    "eval(quote(a >= 4), sample_df)"
   ]
  },
  {
   "cell_type": "markdown",
   "metadata": {},
   "source": [
    "## subset2"
   ]
  },
  {
   "cell_type": "code",
   "execution_count": 40,
   "metadata": {},
   "outputs": [
    {
     "data": {
      "text/html": [
       "<table>\n",
       "<thead><tr><th></th><th scope=col>a</th><th scope=col>b</th><th scope=col>c</th></tr></thead>\n",
       "<tbody>\n",
       "\t<tr><th scope=row>4</th><td>4</td><td>2</td><td>4</td></tr>\n",
       "\t<tr><th scope=row>5</th><td>5</td><td>1</td><td>1</td></tr>\n",
       "</tbody>\n",
       "</table>\n"
      ],
      "text/latex": [
       "\\begin{tabular}{r|lll}\n",
       "  & a & b & c\\\\\n",
       "\\hline\n",
       "\t4 & 4 & 2 & 4\\\\\n",
       "\t5 & 5 & 1 & 1\\\\\n",
       "\\end{tabular}\n"
      ],
      "text/markdown": [
       "\n",
       "| <!--/--> | a | b | c | \n",
       "|---|---|\n",
       "| 4 | 4 | 2 | 4 | \n",
       "| 5 | 5 | 1 | 1 | \n",
       "\n",
       "\n"
      ],
      "text/plain": [
       "  a b c\n",
       "4 4 2 4\n",
       "5 5 1 1"
      ]
     },
     "metadata": {},
     "output_type": "display_data"
    }
   ],
   "source": [
    "subset2 <- function(x, condition) {\n",
    "  condition_call <- substitute(condition)\n",
    "  r <- eval(condition_call, x)\n",
    "  x[r, ]\n",
    "}\n",
    "subset2(sample_df, a >= 4)"
   ]
  },
  {
   "cell_type": "markdown",
   "metadata": {},
   "source": [
    "## exercise"
   ]
  },
  {
   "cell_type": "code",
   "execution_count": 41,
   "metadata": {},
   "outputs": [
    {
     "data": {
      "text/html": [
       "4"
      ],
      "text/latex": [
       "4"
      ],
      "text/markdown": [
       "4"
      ],
      "text/plain": [
       "[1] 4"
      ]
     },
     "metadata": {},
     "output_type": "display_data"
    }
   ],
   "source": [
    "eval(quote(eval(quote(eval(quote(2 + 2))))))"
   ]
  },
  {
   "cell_type": "code",
   "execution_count": 42,
   "metadata": {},
   "outputs": [
    {
     "data": {
      "text/html": [
       "4"
      ],
      "text/latex": [
       "4"
      ],
      "text/markdown": [
       "4"
      ],
      "text/plain": [
       "[1] 4"
      ]
     },
     "metadata": {},
     "output_type": "display_data"
    }
   ],
   "source": [
    "\n",
    "eval(eval(quote(eval(quote(eval(quote(2 + 2)))))))"
   ]
  },
  {
   "cell_type": "code",
   "execution_count": 43,
   "metadata": {},
   "outputs": [
    {
     "data": {
      "text/plain": [
       "eval(quote(eval(quote(eval(quote(2 + 2))))))"
      ]
     },
     "metadata": {},
     "output_type": "display_data"
    }
   ],
   "source": [
    "quote(eval(quote(eval(quote(eval(quote(2 + 2)))))))"
   ]
  },
  {
   "cell_type": "code",
   "execution_count": 45,
   "metadata": {},
   "outputs": [
    {
     "data": {
      "text/html": [
       "<ol class=list-inline>\n",
       "\t<li>9</li>\n",
       "\t<li>10</li>\n",
       "\t<li>&lt;NA&gt;</li>\n",
       "</ol>\n"
      ],
      "text/latex": [
       "\\begin{enumerate*}\n",
       "\\item 9\n",
       "\\item 10\n",
       "\\item <NA>\n",
       "\\end{enumerate*}\n"
      ],
      "text/markdown": [
       "1. 9\n",
       "2. 10\n",
       "3. &lt;NA&gt;\n",
       "\n",
       "\n"
      ],
      "text/plain": [
       "[1]  9 10 NA"
      ]
     },
     "metadata": {},
     "output_type": "display_data"
    }
   ],
   "source": [
    "sample_df2 <- data.frame(x = c(1:10 , NA))\n",
    "subset2(sample_df2, x > 8)"
   ]
  },
  {
   "cell_type": "code",
   "execution_count": 58,
   "metadata": {
    "collapsed": true
   },
   "outputs": [],
   "source": [
    "my_subset2 <- function(x, condition) {\n",
    "  condition_call <- substitute(condition)\n",
    "  r <- eval(condition_call, x)\n",
    "  x[r & is.finite(r) ,  , drop = F]\n",
    "}"
   ]
  },
  {
   "cell_type": "code",
   "execution_count": 59,
   "metadata": {},
   "outputs": [
    {
     "data": {
      "text/html": [
       "<table>\n",
       "<thead><tr><th></th><th scope=col>x</th></tr></thead>\n",
       "<tbody>\n",
       "\t<tr><th scope=row>9</th><td> 9</td></tr>\n",
       "\t<tr><th scope=row>10</th><td>10</td></tr>\n",
       "</tbody>\n",
       "</table>\n"
      ],
      "text/latex": [
       "\\begin{tabular}{r|l}\n",
       "  & x\\\\\n",
       "\\hline\n",
       "\t9 &  9\\\\\n",
       "\t10 & 10\\\\\n",
       "\\end{tabular}\n"
      ],
      "text/markdown": [
       "\n",
       "| <!--/--> | x | \n",
       "|---|---|\n",
       "| 9 |  9 | \n",
       "| 10 | 10 | \n",
       "\n",
       "\n"
      ],
      "text/plain": [
       "   x \n",
       "9   9\n",
       "10 10"
      ]
     },
     "metadata": {},
     "output_type": "display_data"
    }
   ],
   "source": [
    "my_subset2(sample_df2 , x > 8)"
   ]
  },
  {
   "cell_type": "markdown",
   "metadata": {},
   "source": [
    "上記my_subset2はうまく動いているようだ！"
   ]
  },
  {
   "cell_type": "markdown",
   "metadata": {},
   "source": [
    "# Scoping issues"
   ]
  },
  {
   "cell_type": "code",
   "execution_count": null,
   "metadata": {
    "collapsed": true
   },
   "outputs": [],
   "source": []
  }
 ],
 "metadata": {
  "kernelspec": {
   "display_name": "R",
   "language": "R",
   "name": "ir"
  },
  "language_info": {
   "codemirror_mode": "r",
   "file_extension": ".r",
   "mimetype": "text/x-r-source",
   "name": "R",
   "pygments_lexer": "r",
   "version": "3.4.1"
  },
  "toc": {
   "nav_menu": {},
   "number_sections": true,
   "sideBar": true,
   "skip_h1_title": false,
   "toc_cell": true,
   "toc_position": {
    "height": "685px",
    "left": "0px",
    "right": "1291.76px",
    "top": "106px",
    "width": "244px"
   },
   "toc_section_display": "block",
   "toc_window_display": true
  }
 },
 "nbformat": 4,
 "nbformat_minor": 2
}
