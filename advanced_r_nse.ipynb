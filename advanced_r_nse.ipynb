{
 "cells": [
  {
   "cell_type": "markdown",
   "metadata": {
    "toc": true
   },
   "source": [
    "<h1>Table of Contents<span class=\"tocSkip\"></span></h1>\n",
    "<div class=\"toc\" style=\"margin-top: 1em;\"><ul class=\"toc-item\"><li><span><a href=\"#Capturing-expressions\" data-toc-modified-id=\"Capturing-expressions-1\"><span class=\"toc-item-num\">1&nbsp;&nbsp;</span>Capturing expressions</a></span><ul class=\"toc-item\"><li><span><a href=\"#substitute\" data-toc-modified-id=\"substitute-1.1\"><span class=\"toc-item-num\">1.1&nbsp;&nbsp;</span>substitute</a></span><ul class=\"toc-item\"><li><span><a href=\"#substitute()-works-because-function-arguments-are-represented-by-a-special-type-of-object-called-a-promise.-A\" data-toc-modified-id=\"substitute()-works-because-function-arguments-are-represented-by-a-special-type-of-object-called-a-promise.-A-1.1.1\"><span class=\"toc-item-num\">1.1.1&nbsp;&nbsp;</span>substitute() works because function arguments are represented by a special type of object called a promise. A</a></span></li><li><span><a href=\"#substituteの返り値は&quot;call&quot;\" data-toc-modified-id=\"substituteの返り値は&quot;call&quot;-1.1.2\"><span class=\"toc-item-num\">1.1.2&nbsp;&nbsp;</span>substituteの返り値は\"call\"</a></span></li><li><span><a href=\"#deparseはcallを食べてcharacter-vectorを返す\" data-toc-modified-id=\"deparseはcallを食べてcharacter-vectorを返す-1.1.3\"><span class=\"toc-item-num\">1.1.3&nbsp;&nbsp;</span>deparseはcallを食べてcharacter vectorを返す</a></span></li></ul></li></ul></li><li><span><a href=\"#NSE-in-subset\" data-toc-modified-id=\"NSE-in-subset-2\"><span class=\"toc-item-num\">2&nbsp;&nbsp;</span>NSE in subset</a></span><ul class=\"toc-item\"><li><ul class=\"toc-item\"><li><span><a href=\"#上記のようにaをグローバルなaとしてではなく、sample_dfのaとして捉えるためにevalが用いられる\" data-toc-modified-id=\"上記のようにaをグローバルなaとしてではなく、sample_dfのaとして捉えるためにevalが用いられる-2.0.1\"><span class=\"toc-item-num\">2.0.1&nbsp;&nbsp;</span>上記のようにaをグローバルなaとしてではなく、sample_dfのaとして捉えるためにevalが用いられる</a></span></li></ul></li><li><span><a href=\"#quote\" data-toc-modified-id=\"quote-2.1\"><span class=\"toc-item-num\">2.1&nbsp;&nbsp;</span>quote</a></span><ul class=\"toc-item\"><li><span><a href=\"#quoteのinverseは「evalで第二引数以降を省略したもの」\" data-toc-modified-id=\"quoteのinverseは「evalで第二引数以降を省略したもの」-2.1.1\"><span class=\"toc-item-num\">2.1.1&nbsp;&nbsp;</span>quoteのinverseは「evalで第二引数以降を省略したもの」</a></span></li><li><span><a href=\"#定義されていないものもquoteできるがevalするとエラーに\" data-toc-modified-id=\"定義されていないものもquoteできるがevalするとエラーに-2.1.2\"><span class=\"toc-item-num\">2.1.2&nbsp;&nbsp;</span>定義されていないものもquoteできるがevalするとエラーに</a></span></li><li><span><a href=\"#quoteしていないものをevalしようとするとエラーに\" data-toc-modified-id=\"quoteしていないものをevalしようとするとエラーに-2.1.3\"><span class=\"toc-item-num\">2.1.3&nbsp;&nbsp;</span>quoteしていないものをevalしようとするとエラーに</a></span></li><li><span><a href=\"#evalの第二引数は環境だがlistでも可\" data-toc-modified-id=\"evalの第二引数は環境だがlistでも可-2.1.4\"><span class=\"toc-item-num\">2.1.4&nbsp;&nbsp;</span>evalの第二引数は環境だがlistでも可</a></span></li><li><span><a href=\"#その特性はsubset()の実装に使える\" data-toc-modified-id=\"その特性はsubset()の実装に使える-2.1.5\"><span class=\"toc-item-num\">2.1.5&nbsp;&nbsp;</span>その特性はsubset()の実装に使える</a></span></li></ul></li><li><span><a href=\"#subset2\" data-toc-modified-id=\"subset2-2.2\"><span class=\"toc-item-num\">2.2&nbsp;&nbsp;</span>subset2</a></span></li><li><span><a href=\"#exercise\" data-toc-modified-id=\"exercise-2.3\"><span class=\"toc-item-num\">2.3&nbsp;&nbsp;</span>exercise</a></span></li><li><span><a href=\"#my_subset2\" data-toc-modified-id=\"my_subset2-2.4\"><span class=\"toc-item-num\">2.4&nbsp;&nbsp;</span>my_subset2</a></span></li></ul></li><li><span><a href=\"#Scoping-issues\" data-toc-modified-id=\"Scoping-issues-3\"><span class=\"toc-item-num\">3&nbsp;&nbsp;</span>Scoping issues</a></span><ul class=\"toc-item\"><li><ul class=\"toc-item\"><li><span><a href=\"#下記はxがevalから見つからないために予期せぬ結果が返る\" data-toc-modified-id=\"下記はxがevalから見つからないために予期せぬ結果が返る-3.0.1\"><span class=\"toc-item-num\">3.0.1&nbsp;&nbsp;</span>下記はxがevalから見つからないために予期せぬ結果が返る</a></span></li><li><span><a href=\"#他方、以下では名前の衝突が起きている（？）\" data-toc-modified-id=\"他方、以下では名前の衝突が起きている（？）-3.0.2\"><span class=\"toc-item-num\">3.0.2&nbsp;&nbsp;</span>他方、以下では名前の衝突が起きている（？）</a></span></li><li><span><a href=\"#evalの第三引数enclosに指定するとenvに指定したのが環境でなく、list-やdata.frameのときenvに見つからないものはenclos内に探しに行く\" data-toc-modified-id=\"evalの第三引数enclosに指定するとenvに指定したのが環境でなく、list-やdata.frameのときenvに見つからないものはenclos内に探しに行く-3.0.3\"><span class=\"toc-item-num\">3.0.3&nbsp;&nbsp;</span>evalの第三引数enclosに指定するとenvに指定したのが環境でなく、list やdata.frameのときenvに見つからないものはenclos内に探しに行く</a></span></li><li><span><a href=\"#enclosを指定することでxが評価できない問題は解決した：\" data-toc-modified-id=\"enclosを指定することでxが評価できない問題は解決した：-3.0.4\"><span class=\"toc-item-num\">3.0.4&nbsp;&nbsp;</span>enclosを指定することでxが評価できない問題は解決した：</a></span></li></ul></li><li><span><a href=\"#conditionやcondition_callが衝突する問題も解決\" data-toc-modified-id=\"conditionやcondition_callが衝突する問題も解決-3.1\"><span class=\"toc-item-num\">3.1&nbsp;&nbsp;</span>conditionやcondition_callが衝突する問題も解決</a></span></li><li><span><a href=\"#Exercise\" data-toc-modified-id=\"Exercise-3.2\"><span class=\"toc-item-num\">3.2&nbsp;&nbsp;</span>Exercise</a></span><ul class=\"toc-item\"><li><span><a href=\"#arrangeに相当する関数を作ってみる\" data-toc-modified-id=\"arrangeに相当する関数を作ってみる-3.2.1\"><span class=\"toc-item-num\">3.2.1&nbsp;&nbsp;</span>arrangeに相当する関数を作ってみる</a></span><ul class=\"toc-item\"><li><span><a href=\"#plyrのarrangeの動作チェック\" data-toc-modified-id=\"plyrのarrangeの動作チェック-3.2.1.1\"><span class=\"toc-item-num\">3.2.1.1&nbsp;&nbsp;</span>plyrのarrangeの動作チェック</a></span></li></ul></li><li><span><a href=\"#plyrのmutateの動作チェック\" data-toc-modified-id=\"plyrのmutateの動作チェック-3.2.2\"><span class=\"toc-item-num\">3.2.2&nbsp;&nbsp;</span>plyrのmutateの動作チェック</a></span><ul class=\"toc-item\"><li><span><a href=\"#quoteをas.listにかけると第一成分がlistであるようなlistが返る\" data-toc-modified-id=\"quoteをas.listにかけると第一成分がlistであるようなlistが返る-3.2.2.1\"><span class=\"toc-item-num\">3.2.2.1&nbsp;&nbsp;</span>quoteをas.listにかけると第一成分がlistであるようなlistが返る</a></span></li></ul></li></ul></li><li><span><a href=\"#withのチェック\" data-toc-modified-id=\"withのチェック-3.3\"><span class=\"toc-item-num\">3.3&nbsp;&nbsp;</span>withのチェック</a></span><ul class=\"toc-item\"><li><ul class=\"toc-item\"><li><span><a href=\"#evalqはcurrent-scopeでの評価を避ける：\" data-toc-modified-id=\"evalqはcurrent-scopeでの評価を避ける：-3.3.0.1\"><span class=\"toc-item-num\">3.3.0.1&nbsp;&nbsp;</span>evalqはcurrent scopeでの評価を避ける：</a></span></li><li><span><a href=\"#以下ではenvironment()がlistとして評価されている。\" data-toc-modified-id=\"以下ではenvironment()がlistとして評価されている。-3.3.0.2\"><span class=\"toc-item-num\">3.3.0.2&nbsp;&nbsp;</span>以下ではenvironment()がlistとして評価されている。</a></span></li></ul></li></ul></li></ul></li><li><span><a href=\"#calling-from-other-functions\" data-toc-modified-id=\"calling-from-other-functions-4\"><span class=\"toc-item-num\">4&nbsp;&nbsp;</span>calling from other functions</a></span><ul class=\"toc-item\"><li><span><a href=\"#what-doesn't-work\" data-toc-modified-id=\"what-doesn't-work-4.1\"><span class=\"toc-item-num\">4.1&nbsp;&nbsp;</span>what doesn't work</a></span><ul class=\"toc-item\"><li><span><a href=\"#evalはenclosを探しに行ってしまうとenvにあるものは見に行かなくなる?\" data-toc-modified-id=\"evalはenclosを探しに行ってしまうとenvにあるものは見に行かなくなる?-4.1.1\"><span class=\"toc-item-num\">4.1.1&nbsp;&nbsp;</span>evalはenclosを探しに行ってしまうとenvにあるものは見に行かなくなる?</a></span></li></ul></li></ul></li><li><span><a href=\"#substitute\" data-toc-modified-id=\"substitute-5\"><span class=\"toc-item-num\">5&nbsp;&nbsp;</span>substitute</a></span><ul class=\"toc-item\"><li><span><a href=\"#envにglobalを指定したとき、substituteは置き換えを行わない\" data-toc-modified-id=\"envにglobalを指定したとき、substituteは置き換えを行わない-5.1\"><span class=\"toc-item-num\">5.1&nbsp;&nbsp;</span>envにglobalを指定したとき、substituteは置き換えを行わない</a></span></li><li><span><a href=\"#function-argumentのことをpromiseという\" data-toc-modified-id=\"function-argumentのことをpromiseという-5.2\"><span class=\"toc-item-num\">5.2&nbsp;&nbsp;</span>function argumentのことをpromiseという</a></span></li><li><span><a href=\"#substituteの第１引数に含まれるnameは以下のルールで変換される\" data-toc-modified-id=\"substituteの第１引数に含まれるnameは以下のルールで変換される-5.3\"><span class=\"toc-item-num\">5.3&nbsp;&nbsp;</span>substituteの第１引数に含まれるnameは以下のルールで変換される</a></span><ul class=\"toc-item\"><li><span><a href=\"#nameがordinary-variableを指示している場合、その値で置き換える\" data-toc-modified-id=\"nameがordinary-variableを指示している場合、その値で置き換える-5.3.1\"><span class=\"toc-item-num\">5.3.1&nbsp;&nbsp;</span>nameがordinary variableを指示している場合、その値で置き換える</a></span></li><li><span><a href=\"#nameがpromise=function-argumentを指示している場合、promiseに関連付けられている表現で置き換えられる\" data-toc-modified-id=\"nameがpromise=function-argumentを指示している場合、promiseに関連付けられている表現で置き換えられる-5.3.2\"><span class=\"toc-item-num\">5.3.2&nbsp;&nbsp;</span>nameがpromise=function argumentを指示している場合、promiseに関連付けられている表現で置き換えられる</a></span></li><li><span><a href=\"#&quot;...&quot;の場合、&quot;...&quot;の内容で置き換えられる\" data-toc-modified-id=\"&quot;...&quot;の場合、&quot;...&quot;の内容で置き換えられる-5.3.3\"><span class=\"toc-item-num\">5.3.3&nbsp;&nbsp;</span>\"...\"の場合、\"...\"の内容で置き換えられる</a></span></li></ul></li></ul></li></ul></div>"
   ]
  },
  {
   "cell_type": "code",
   "execution_count": 82,
   "metadata": {
    "collapsed": true
   },
   "outputs": [],
   "source": [
    "options(repos = structure(c(CRAN = \"http://cran.ism.ac.jp/\")))"
   ]
  },
  {
   "cell_type": "code",
   "execution_count": 83,
   "metadata": {
    "collapsed": true
   },
   "outputs": [],
   "source": [
    "options(repos=\"http://cran.md.tsukuba.ac.jp\")"
   ]
  },
  {
   "cell_type": "markdown",
   "metadata": {},
   "source": [
    "# Capturing expressions"
   ]
  },
  {
   "cell_type": "markdown",
   "metadata": {},
   "source": [
    "## substitute"
   ]
  },
  {
   "cell_type": "code",
   "execution_count": 1,
   "metadata": {},
   "outputs": [
    {
     "data": {
      "text/plain": [
       "1:10"
      ]
     },
     "metadata": {},
     "output_type": "display_data"
    }
   ],
   "source": [
    "f <- function(x) {\n",
    "  substitute(x)\n",
    "}\n",
    "f(1:10)"
   ]
  },
  {
   "cell_type": "markdown",
   "metadata": {},
   "source": [
    "### substitute() works because function arguments are represented by a special type of object called a promise. A "
   ]
  },
  {
   "cell_type": "markdown",
   "metadata": {},
   "source": [
    "### substituteの返り値は\"call\""
   ]
  },
  {
   "cell_type": "code",
   "execution_count": 2,
   "metadata": {},
   "outputs": [
    {
     "data": {
      "text/html": [
       "'call'"
      ],
      "text/latex": [
       "'call'"
      ],
      "text/markdown": [
       "'call'"
      ],
      "text/plain": [
       "[1] \"call\""
      ]
     },
     "metadata": {},
     "output_type": "display_data"
    }
   ],
   "source": [
    "f2 <- function(x) {\n",
    "  class(substitute(x))\n",
    "}\n",
    "f2(1:10)"
   ]
  },
  {
   "cell_type": "markdown",
   "metadata": {},
   "source": [
    "### deparseはcallを食べてcharacter vectorを返す"
   ]
  },
  {
   "cell_type": "code",
   "execution_count": 3,
   "metadata": {},
   "outputs": [
    {
     "data": {
      "text/html": [
       "'1:10'"
      ],
      "text/latex": [
       "'1:10'"
      ],
      "text/markdown": [
       "'1:10'"
      ],
      "text/plain": [
       "[1] \"1:10\""
      ]
     },
     "metadata": {},
     "output_type": "display_data"
    }
   ],
   "source": [
    "f3 <- function(x) {\n",
    "  deparse(substitute(x))\n",
    "}\n",
    "\n",
    "f3(1:10)"
   ]
  },
  {
   "cell_type": "code",
   "execution_count": 4,
   "metadata": {
    "collapsed": true
   },
   "outputs": [],
   "source": [
    "g <- function(x) deparse(substitute(x))"
   ]
  },
  {
   "cell_type": "code",
   "execution_count": 5,
   "metadata": {},
   "outputs": [
    {
     "data": {
      "text/html": [
       "<ol class=list-inline>\n",
       "\t<li>'a + b + c + d + e + f + g + h + i + j + k + l + m + n + o + p + '</li>\n",
       "\t<li><span style=white-space:pre-wrap>'    q + r + s + t + u + v + w + x + y + z'</span></li>\n",
       "</ol>\n"
      ],
      "text/latex": [
       "\\begin{enumerate*}\n",
       "\\item 'a + b + c + d + e + f + g + h + i + j + k + l + m + n + o + p + '\n",
       "\\item '    q + r + s + t + u + v + w + x + y + z'\n",
       "\\end{enumerate*}\n"
      ],
      "text/markdown": [
       "1. 'a + b + c + d + e + f + g + h + i + j + k + l + m + n + o + p + '\n",
       "2. <span style=white-space:pre-wrap>'    q + r + s + t + u + v + w + x + y + z'</span>\n",
       "\n",
       "\n"
      ],
      "text/plain": [
       "[1] \"a + b + c + d + e + f + g + h + i + j + k + l + m + n + o + p + \"\n",
       "[2] \"    q + r + s + t + u + v + w + x + y + z\"                       "
      ]
     },
     "metadata": {},
     "output_type": "display_data"
    }
   ],
   "source": [
    "g(a + b + c + d + e + f + g + h + i + j + k + l + m +\n",
    "  n + o + p + q + r + s + t + u + v + w + x + y + z)"
   ]
  },
  {
   "cell_type": "code",
   "execution_count": 6,
   "metadata": {
    "collapsed": true
   },
   "outputs": [],
   "source": [
    "?deparse"
   ]
  },
  {
   "cell_type": "code",
   "execution_count": 6,
   "metadata": {},
   "outputs": [
    {
     "data": {
      "text/html": [
       "<pre class=language-r><code>function (x, ...) \n",
       "{\n",
       "<span style=white-space:pre-wrap>    if (inherits(x, \"Date\")) </span>\n",
       "<span style=white-space:pre-wrap>        return(x)</span>\n",
       "<span style=white-space:pre-wrap>    if (is.logical(x) &amp;&amp; all(is.na(x))) </span>\n",
       "<span style=white-space:pre-wrap>        return(structure(as.numeric(x), class = \"Date\"))</span>\n",
       "<span style=white-space:pre-wrap>    stop(gettextf(\"do not know how to convert '%s' to class %s\", </span>\n",
       "<span style=white-space:pre-wrap>        deparse(substitute(x)), dQuote(\"Date\")), domain = NA)</span>\n",
       "}</code></pre>"
      ],
      "text/latex": [
       "\\begin{minted}{r}\n",
       "function (x, ...) \n",
       "\\{\n",
       "    if (inherits(x, \"Date\")) \n",
       "        return(x)\n",
       "    if (is.logical(x) \\&\\& all(is.na(x))) \n",
       "        return(structure(as.numeric(x), class = \"Date\"))\n",
       "    stop(gettextf(\"do not know how to convert '\\%s' to class \\%s\", \n",
       "        deparse(substitute(x)), dQuote(\"Date\")), domain = NA)\n",
       "\\}\n",
       "\\end{minted}"
      ],
      "text/markdown": [
       "```r\n",
       "function (x, ...) \n",
       "{\n",
       "    if (inherits(x, \"Date\")) \n",
       "        return(x)\n",
       "    if (is.logical(x) && all(is.na(x))) \n",
       "        return(structure(as.numeric(x), class = \"Date\"))\n",
       "    stop(gettextf(\"do not know how to convert '%s' to class %s\", \n",
       "        deparse(substitute(x)), dQuote(\"Date\")), domain = NA)\n",
       "}\n",
       "```"
      ],
      "text/plain": [
       "function (x, ...) \n",
       "{\n",
       "    if (inherits(x, \"Date\")) \n",
       "        return(x)\n",
       "    if (is.logical(x) && all(is.na(x))) \n",
       "        return(structure(as.numeric(x), class = \"Date\"))\n",
       "    stop(gettextf(\"do not know how to convert '%s' to class %s\", \n",
       "        deparse(substitute(x)), dQuote(\"Date\")), domain = NA)\n",
       "}\n",
       "<bytecode: 0x000000001b29c938>\n",
       "<environment: namespace:base>"
      ]
     },
     "metadata": {},
     "output_type": "display_data"
    }
   ],
   "source": [
    " as.Date.default"
   ]
  },
  {
   "cell_type": "code",
   "execution_count": 7,
   "metadata": {},
   "outputs": [
    {
     "ename": "ERROR",
     "evalue": "Error in as.Date.default(20001111, \"%y%m%d\"): do not know how to convert '20001111' to class \"Date\"\n",
     "output_type": "error",
     "traceback": [
      "Error in as.Date.default(20001111, \"%y%m%d\"): do not know how to convert '20001111' to class \"Date\"\nTraceback:\n",
      "1. as.Date.default(20001111, \"%y%m%d\")",
      "2. stop(gettextf(\"do not know how to convert '%s' to class %s\", \n .     deparse(substitute(x)), dQuote(\"Date\")), domain = NA)"
     ]
    }
   ],
   "source": [
    "as.Date.default(20001111,\"%y%m%d\")"
   ]
  },
  {
   "cell_type": "code",
   "execution_count": 9,
   "metadata": {
    "collapsed": true
   },
   "outputs": [],
   "source": [
    "?as.Date.default"
   ]
  },
  {
   "cell_type": "code",
   "execution_count": 10,
   "metadata": {
    "collapsed": true
   },
   "outputs": [],
   "source": [
    "?pairwise.t.test"
   ]
  },
  {
   "cell_type": "code",
   "execution_count": 8,
   "metadata": {},
   "outputs": [
    {
     "data": {
      "text/plain": [
       "\n",
       "\tPairwise comparisons using t tests with pooled SD \n",
       "\n",
       "data:  Ozone and Month \n",
       "\n",
       "    May     Jun     Jul     Aug    \n",
       "Jun 1.00000 -       -       -      \n",
       "Jul 0.00026 0.05113 -       -      \n",
       "Aug 0.00019 0.04987 1.00000 -      \n",
       "Sep 1.00000 1.00000 0.00488 0.00388\n",
       "\n",
       "P value adjustment method: holm "
      ]
     },
     "metadata": {},
     "output_type": "display_data"
    }
   ],
   "source": [
    "attach(airquality)\n",
    "Month <- factor(Month, labels = month.abb[5:9])\n",
    "pairwise.t.test(Ozone, Month)"
   ]
  },
  {
   "cell_type": "code",
   "execution_count": 9,
   "metadata": {},
   "outputs": [
    {
     "data": {
      "text/html": [
       "<ol class=list-inline>\n",
       "\t<li>May</li>\n",
       "\t<li>May</li>\n",
       "\t<li>May</li>\n",
       "\t<li>May</li>\n",
       "\t<li>May</li>\n",
       "\t<li>May</li>\n",
       "\t<li>May</li>\n",
       "\t<li>May</li>\n",
       "\t<li>May</li>\n",
       "\t<li>May</li>\n",
       "\t<li>May</li>\n",
       "\t<li>May</li>\n",
       "\t<li>May</li>\n",
       "\t<li>May</li>\n",
       "\t<li>May</li>\n",
       "\t<li>May</li>\n",
       "\t<li>May</li>\n",
       "\t<li>May</li>\n",
       "\t<li>May</li>\n",
       "\t<li>May</li>\n",
       "\t<li>May</li>\n",
       "\t<li>May</li>\n",
       "\t<li>May</li>\n",
       "\t<li>May</li>\n",
       "\t<li>May</li>\n",
       "\t<li>May</li>\n",
       "\t<li>May</li>\n",
       "\t<li>May</li>\n",
       "\t<li>May</li>\n",
       "\t<li>May</li>\n",
       "\t<li>May</li>\n",
       "\t<li>Jun</li>\n",
       "\t<li>Jun</li>\n",
       "\t<li>Jun</li>\n",
       "\t<li>Jun</li>\n",
       "\t<li>Jun</li>\n",
       "\t<li>Jun</li>\n",
       "\t<li>Jun</li>\n",
       "\t<li>Jun</li>\n",
       "\t<li>Jun</li>\n",
       "\t<li>Jun</li>\n",
       "\t<li>Jun</li>\n",
       "\t<li>Jun</li>\n",
       "\t<li>Jun</li>\n",
       "\t<li>Jun</li>\n",
       "\t<li>Jun</li>\n",
       "\t<li>Jun</li>\n",
       "\t<li>Jun</li>\n",
       "\t<li>Jun</li>\n",
       "\t<li>Jun</li>\n",
       "\t<li>Jun</li>\n",
       "\t<li>Jun</li>\n",
       "\t<li>Jun</li>\n",
       "\t<li>Jun</li>\n",
       "\t<li>Jun</li>\n",
       "\t<li>Jun</li>\n",
       "\t<li>Jun</li>\n",
       "\t<li>Jun</li>\n",
       "\t<li>Jun</li>\n",
       "\t<li>Jun</li>\n",
       "\t<li>Jun</li>\n",
       "\t<li>Jul</li>\n",
       "\t<li>Jul</li>\n",
       "\t<li>Jul</li>\n",
       "\t<li>Jul</li>\n",
       "\t<li>Jul</li>\n",
       "\t<li>Jul</li>\n",
       "\t<li>Jul</li>\n",
       "\t<li>Jul</li>\n",
       "\t<li>Jul</li>\n",
       "\t<li>Jul</li>\n",
       "\t<li>Jul</li>\n",
       "\t<li>Jul</li>\n",
       "\t<li>Jul</li>\n",
       "\t<li>Jul</li>\n",
       "\t<li>Jul</li>\n",
       "\t<li>Jul</li>\n",
       "\t<li>Jul</li>\n",
       "\t<li>Jul</li>\n",
       "\t<li>Jul</li>\n",
       "\t<li>Jul</li>\n",
       "\t<li>Jul</li>\n",
       "\t<li>Jul</li>\n",
       "\t<li>Jul</li>\n",
       "\t<li>Jul</li>\n",
       "\t<li>Jul</li>\n",
       "\t<li>Jul</li>\n",
       "\t<li>Jul</li>\n",
       "\t<li>Jul</li>\n",
       "\t<li>Jul</li>\n",
       "\t<li>Jul</li>\n",
       "\t<li>Jul</li>\n",
       "\t<li>Aug</li>\n",
       "\t<li>Aug</li>\n",
       "\t<li>Aug</li>\n",
       "\t<li>Aug</li>\n",
       "\t<li>Aug</li>\n",
       "\t<li>Aug</li>\n",
       "\t<li>Aug</li>\n",
       "\t<li>Aug</li>\n",
       "\t<li>Aug</li>\n",
       "\t<li>Aug</li>\n",
       "\t<li>Aug</li>\n",
       "\t<li>Aug</li>\n",
       "\t<li>Aug</li>\n",
       "\t<li>Aug</li>\n",
       "\t<li>Aug</li>\n",
       "\t<li>Aug</li>\n",
       "\t<li>Aug</li>\n",
       "\t<li>Aug</li>\n",
       "\t<li>Aug</li>\n",
       "\t<li>Aug</li>\n",
       "\t<li>Aug</li>\n",
       "\t<li>Aug</li>\n",
       "\t<li>Aug</li>\n",
       "\t<li>Aug</li>\n",
       "\t<li>Aug</li>\n",
       "\t<li>Aug</li>\n",
       "\t<li>Aug</li>\n",
       "\t<li>Aug</li>\n",
       "\t<li>Aug</li>\n",
       "\t<li>Aug</li>\n",
       "\t<li>Aug</li>\n",
       "\t<li>Sep</li>\n",
       "\t<li>Sep</li>\n",
       "\t<li>Sep</li>\n",
       "\t<li>Sep</li>\n",
       "\t<li>Sep</li>\n",
       "\t<li>Sep</li>\n",
       "\t<li>Sep</li>\n",
       "\t<li>Sep</li>\n",
       "\t<li>Sep</li>\n",
       "\t<li>Sep</li>\n",
       "\t<li>Sep</li>\n",
       "\t<li>Sep</li>\n",
       "\t<li>Sep</li>\n",
       "\t<li>Sep</li>\n",
       "\t<li>Sep</li>\n",
       "\t<li>Sep</li>\n",
       "\t<li>Sep</li>\n",
       "\t<li>Sep</li>\n",
       "\t<li>Sep</li>\n",
       "\t<li>Sep</li>\n",
       "\t<li>Sep</li>\n",
       "\t<li>Sep</li>\n",
       "\t<li>Sep</li>\n",
       "\t<li>Sep</li>\n",
       "\t<li>Sep</li>\n",
       "\t<li>Sep</li>\n",
       "\t<li>Sep</li>\n",
       "\t<li>Sep</li>\n",
       "\t<li>Sep</li>\n",
       "\t<li>Sep</li>\n",
       "</ol>\n"
      ],
      "text/latex": [
       "\\begin{enumerate*}\n",
       "\\item May\n",
       "\\item May\n",
       "\\item May\n",
       "\\item May\n",
       "\\item May\n",
       "\\item May\n",
       "\\item May\n",
       "\\item May\n",
       "\\item May\n",
       "\\item May\n",
       "\\item May\n",
       "\\item May\n",
       "\\item May\n",
       "\\item May\n",
       "\\item May\n",
       "\\item May\n",
       "\\item May\n",
       "\\item May\n",
       "\\item May\n",
       "\\item May\n",
       "\\item May\n",
       "\\item May\n",
       "\\item May\n",
       "\\item May\n",
       "\\item May\n",
       "\\item May\n",
       "\\item May\n",
       "\\item May\n",
       "\\item May\n",
       "\\item May\n",
       "\\item May\n",
       "\\item Jun\n",
       "\\item Jun\n",
       "\\item Jun\n",
       "\\item Jun\n",
       "\\item Jun\n",
       "\\item Jun\n",
       "\\item Jun\n",
       "\\item Jun\n",
       "\\item Jun\n",
       "\\item Jun\n",
       "\\item Jun\n",
       "\\item Jun\n",
       "\\item Jun\n",
       "\\item Jun\n",
       "\\item Jun\n",
       "\\item Jun\n",
       "\\item Jun\n",
       "\\item Jun\n",
       "\\item Jun\n",
       "\\item Jun\n",
       "\\item Jun\n",
       "\\item Jun\n",
       "\\item Jun\n",
       "\\item Jun\n",
       "\\item Jun\n",
       "\\item Jun\n",
       "\\item Jun\n",
       "\\item Jun\n",
       "\\item Jun\n",
       "\\item Jun\n",
       "\\item Jul\n",
       "\\item Jul\n",
       "\\item Jul\n",
       "\\item Jul\n",
       "\\item Jul\n",
       "\\item Jul\n",
       "\\item Jul\n",
       "\\item Jul\n",
       "\\item Jul\n",
       "\\item Jul\n",
       "\\item Jul\n",
       "\\item Jul\n",
       "\\item Jul\n",
       "\\item Jul\n",
       "\\item Jul\n",
       "\\item Jul\n",
       "\\item Jul\n",
       "\\item Jul\n",
       "\\item Jul\n",
       "\\item Jul\n",
       "\\item Jul\n",
       "\\item Jul\n",
       "\\item Jul\n",
       "\\item Jul\n",
       "\\item Jul\n",
       "\\item Jul\n",
       "\\item Jul\n",
       "\\item Jul\n",
       "\\item Jul\n",
       "\\item Jul\n",
       "\\item Jul\n",
       "\\item Aug\n",
       "\\item Aug\n",
       "\\item Aug\n",
       "\\item Aug\n",
       "\\item Aug\n",
       "\\item Aug\n",
       "\\item Aug\n",
       "\\item Aug\n",
       "\\item Aug\n",
       "\\item Aug\n",
       "\\item Aug\n",
       "\\item Aug\n",
       "\\item Aug\n",
       "\\item Aug\n",
       "\\item Aug\n",
       "\\item Aug\n",
       "\\item Aug\n",
       "\\item Aug\n",
       "\\item Aug\n",
       "\\item Aug\n",
       "\\item Aug\n",
       "\\item Aug\n",
       "\\item Aug\n",
       "\\item Aug\n",
       "\\item Aug\n",
       "\\item Aug\n",
       "\\item Aug\n",
       "\\item Aug\n",
       "\\item Aug\n",
       "\\item Aug\n",
       "\\item Aug\n",
       "\\item Sep\n",
       "\\item Sep\n",
       "\\item Sep\n",
       "\\item Sep\n",
       "\\item Sep\n",
       "\\item Sep\n",
       "\\item Sep\n",
       "\\item Sep\n",
       "\\item Sep\n",
       "\\item Sep\n",
       "\\item Sep\n",
       "\\item Sep\n",
       "\\item Sep\n",
       "\\item Sep\n",
       "\\item Sep\n",
       "\\item Sep\n",
       "\\item Sep\n",
       "\\item Sep\n",
       "\\item Sep\n",
       "\\item Sep\n",
       "\\item Sep\n",
       "\\item Sep\n",
       "\\item Sep\n",
       "\\item Sep\n",
       "\\item Sep\n",
       "\\item Sep\n",
       "\\item Sep\n",
       "\\item Sep\n",
       "\\item Sep\n",
       "\\item Sep\n",
       "\\end{enumerate*}\n"
      ],
      "text/markdown": [
       "1. May\n",
       "2. May\n",
       "3. May\n",
       "4. May\n",
       "5. May\n",
       "6. May\n",
       "7. May\n",
       "8. May\n",
       "9. May\n",
       "10. May\n",
       "11. May\n",
       "12. May\n",
       "13. May\n",
       "14. May\n",
       "15. May\n",
       "16. May\n",
       "17. May\n",
       "18. May\n",
       "19. May\n",
       "20. May\n",
       "21. May\n",
       "22. May\n",
       "23. May\n",
       "24. May\n",
       "25. May\n",
       "26. May\n",
       "27. May\n",
       "28. May\n",
       "29. May\n",
       "30. May\n",
       "31. May\n",
       "32. Jun\n",
       "33. Jun\n",
       "34. Jun\n",
       "35. Jun\n",
       "36. Jun\n",
       "37. Jun\n",
       "38. Jun\n",
       "39. Jun\n",
       "40. Jun\n",
       "41. Jun\n",
       "42. Jun\n",
       "43. Jun\n",
       "44. Jun\n",
       "45. Jun\n",
       "46. Jun\n",
       "47. Jun\n",
       "48. Jun\n",
       "49. Jun\n",
       "50. Jun\n",
       "51. Jun\n",
       "52. Jun\n",
       "53. Jun\n",
       "54. Jun\n",
       "55. Jun\n",
       "56. Jun\n",
       "57. Jun\n",
       "58. Jun\n",
       "59. Jun\n",
       "60. Jun\n",
       "61. Jun\n",
       "62. Jul\n",
       "63. Jul\n",
       "64. Jul\n",
       "65. Jul\n",
       "66. Jul\n",
       "67. Jul\n",
       "68. Jul\n",
       "69. Jul\n",
       "70. Jul\n",
       "71. Jul\n",
       "72. Jul\n",
       "73. Jul\n",
       "74. Jul\n",
       "75. Jul\n",
       "76. Jul\n",
       "77. Jul\n",
       "78. Jul\n",
       "79. Jul\n",
       "80. Jul\n",
       "81. Jul\n",
       "82. Jul\n",
       "83. Jul\n",
       "84. Jul\n",
       "85. Jul\n",
       "86. Jul\n",
       "87. Jul\n",
       "88. Jul\n",
       "89. Jul\n",
       "90. Jul\n",
       "91. Jul\n",
       "92. Jul\n",
       "93. Aug\n",
       "94. Aug\n",
       "95. Aug\n",
       "96. Aug\n",
       "97. Aug\n",
       "98. Aug\n",
       "99. Aug\n",
       "100. Aug\n",
       "101. Aug\n",
       "102. Aug\n",
       "103. Aug\n",
       "104. Aug\n",
       "105. Aug\n",
       "106. Aug\n",
       "107. Aug\n",
       "108. Aug\n",
       "109. Aug\n",
       "110. Aug\n",
       "111. Aug\n",
       "112. Aug\n",
       "113. Aug\n",
       "114. Aug\n",
       "115. Aug\n",
       "116. Aug\n",
       "117. Aug\n",
       "118. Aug\n",
       "119. Aug\n",
       "120. Aug\n",
       "121. Aug\n",
       "122. Aug\n",
       "123. Aug\n",
       "124. Sep\n",
       "125. Sep\n",
       "126. Sep\n",
       "127. Sep\n",
       "128. Sep\n",
       "129. Sep\n",
       "130. Sep\n",
       "131. Sep\n",
       "132. Sep\n",
       "133. Sep\n",
       "134. Sep\n",
       "135. Sep\n",
       "136. Sep\n",
       "137. Sep\n",
       "138. Sep\n",
       "139. Sep\n",
       "140. Sep\n",
       "141. Sep\n",
       "142. Sep\n",
       "143. Sep\n",
       "144. Sep\n",
       "145. Sep\n",
       "146. Sep\n",
       "147. Sep\n",
       "148. Sep\n",
       "149. Sep\n",
       "150. Sep\n",
       "151. Sep\n",
       "152. Sep\n",
       "153. Sep\n",
       "\n",
       "\n"
      ],
      "text/plain": [
       "  [1] May May May May May May May May May May May May May May May May May May\n",
       " [19] May May May May May May May May May May May May May Jun Jun Jun Jun Jun\n",
       " [37] Jun Jun Jun Jun Jun Jun Jun Jun Jun Jun Jun Jun Jun Jun Jun Jun Jun Jun\n",
       " [55] Jun Jun Jun Jun Jun Jun Jun Jul Jul Jul Jul Jul Jul Jul Jul Jul Jul Jul\n",
       " [73] Jul Jul Jul Jul Jul Jul Jul Jul Jul Jul Jul Jul Jul Jul Jul Jul Jul Jul\n",
       " [91] Jul Jul Aug Aug Aug Aug Aug Aug Aug Aug Aug Aug Aug Aug Aug Aug Aug Aug\n",
       "[109] Aug Aug Aug Aug Aug Aug Aug Aug Aug Aug Aug Aug Aug Aug Aug Sep Sep Sep\n",
       "[127] Sep Sep Sep Sep Sep Sep Sep Sep Sep Sep Sep Sep Sep Sep Sep Sep Sep Sep\n",
       "[145] Sep Sep Sep Sep Sep Sep Sep Sep Sep\n",
       "Levels: May Jun Jul Aug Sep"
      ]
     },
     "metadata": {},
     "output_type": "display_data"
    }
   ],
   "source": [
    "Month"
   ]
  },
  {
   "cell_type": "code",
   "execution_count": 10,
   "metadata": {},
   "outputs": [
    {
     "data": {
      "text/html": [
       "<pre class=language-r><code>function (x, g, p.adjust.method = p.adjust.methods, pool.sd = !paired, \n",
       "<span style=white-space:pre-wrap>    paired = FALSE, alternative = c(\"two.sided\", \"less\", \"greater\"), </span>\n",
       "<span style=white-space:pre-wrap>    ...) </span>\n",
       "{\n",
       "<span style=white-space:pre-wrap>    if (paired &amp; pool.sd) </span>\n",
       "<span style=white-space:pre-wrap>        stop(\"pooling of SD is incompatible with paired tests\")</span>\n",
       "<span style=white-space:pre-wrap>    DNAME &lt;- paste(deparse(substitute(x)), \"and\", deparse(substitute(g)))</span>\n",
       "<span style=white-space:pre-wrap>    g &lt;- factor(g)</span>\n",
       "<span style=white-space:pre-wrap>    p.adjust.method &lt;- match.arg(p.adjust.method)</span>\n",
       "<span style=white-space:pre-wrap>    alternative &lt;- match.arg(alternative)</span>\n",
       "<span style=white-space:pre-wrap>    if (pool.sd) {</span>\n",
       "<span style=white-space:pre-wrap>        METHOD &lt;- \"t tests with pooled SD\"</span>\n",
       "<span style=white-space:pre-wrap>        xbar &lt;- tapply(x, g, mean, na.rm = TRUE)</span>\n",
       "<span style=white-space:pre-wrap>        s &lt;- tapply(x, g, sd, na.rm = TRUE)</span>\n",
       "<span style=white-space:pre-wrap>        n &lt;- tapply(!is.na(x), g, sum)</span>\n",
       "<span style=white-space:pre-wrap>        degf &lt;- n - 1</span>\n",
       "<span style=white-space:pre-wrap>        total.degf &lt;- sum(degf)</span>\n",
       "<span style=white-space:pre-wrap>        pooled.sd &lt;- sqrt(sum(s^2 * degf)/total.degf)</span>\n",
       "<span style=white-space:pre-wrap>        compare.levels &lt;- function(i, j) {</span>\n",
       "<span style=white-space:pre-wrap>            dif &lt;- xbar[i] - xbar[j]</span>\n",
       "<span style=white-space:pre-wrap>            se.dif &lt;- pooled.sd * sqrt(1/n[i] + 1/n[j])</span>\n",
       "<span style=white-space:pre-wrap>            t.val &lt;- dif/se.dif</span>\n",
       "<span style=white-space:pre-wrap>            if (alternative == \"two.sided\") </span>\n",
       "<span style=white-space:pre-wrap>                2 * pt(-abs(t.val), total.degf)</span>\n",
       "<span style=white-space:pre-wrap>            else pt(t.val, total.degf, lower.tail = (alternative == </span>\n",
       "<span style=white-space:pre-wrap>                \"less\"))</span>\n",
       "<span style=white-space:pre-wrap>        }</span>\n",
       "<span style=white-space:pre-wrap>    }</span>\n",
       "<span style=white-space:pre-wrap>    else {</span>\n",
       "<span style=white-space:pre-wrap>        METHOD &lt;- if (paired) </span>\n",
       "<span style=white-space:pre-wrap>            \"paired t tests\"</span>\n",
       "<span style=white-space:pre-wrap>        else \"t tests with non-pooled SD\"</span>\n",
       "<span style=white-space:pre-wrap>        compare.levels &lt;- function(i, j) {</span>\n",
       "<span style=white-space:pre-wrap>            xi &lt;- x[as.integer(g) == i]</span>\n",
       "<span style=white-space:pre-wrap>            xj &lt;- x[as.integer(g) == j]</span>\n",
       "<span style=white-space:pre-wrap>            t.test(xi, xj, paired = paired, alternative = alternative, </span>\n",
       "<span style=white-space:pre-wrap>                ...)$p.value</span>\n",
       "<span style=white-space:pre-wrap>        }</span>\n",
       "<span style=white-space:pre-wrap>    }</span>\n",
       "<span style=white-space:pre-wrap>    PVAL &lt;- pairwise.table(compare.levels, levels(g), p.adjust.method)</span>\n",
       "<span style=white-space:pre-wrap>    ans &lt;- list(method = METHOD, data.name = DNAME, p.value = PVAL, </span>\n",
       "<span style=white-space:pre-wrap>        p.adjust.method = p.adjust.method)</span>\n",
       "<span style=white-space:pre-wrap>    class(ans) &lt;- \"pairwise.htest\"</span>\n",
       "<span style=white-space:pre-wrap>    ans</span>\n",
       "}</code></pre>"
      ],
      "text/latex": [
       "\\begin{minted}{r}\n",
       "function (x, g, p.adjust.method = p.adjust.methods, pool.sd = !paired, \n",
       "    paired = FALSE, alternative = c(\"two.sided\", \"less\", \"greater\"), \n",
       "    ...) \n",
       "\\{\n",
       "    if (paired \\& pool.sd) \n",
       "        stop(\"pooling of SD is incompatible with paired tests\")\n",
       "    DNAME <- paste(deparse(substitute(x)), \"and\", deparse(substitute(g)))\n",
       "    g <- factor(g)\n",
       "    p.adjust.method <- match.arg(p.adjust.method)\n",
       "    alternative <- match.arg(alternative)\n",
       "    if (pool.sd) \\{\n",
       "        METHOD <- \"t tests with pooled SD\"\n",
       "        xbar <- tapply(x, g, mean, na.rm = TRUE)\n",
       "        s <- tapply(x, g, sd, na.rm = TRUE)\n",
       "        n <- tapply(!is.na(x), g, sum)\n",
       "        degf <- n - 1\n",
       "        total.degf <- sum(degf)\n",
       "        pooled.sd <- sqrt(sum(s\\textasciicircum{}2 * degf)/total.degf)\n",
       "        compare.levels <- function(i, j) \\{\n",
       "            dif <- xbar{[}i{]} - xbar{[}j{]}\n",
       "            se.dif <- pooled.sd * sqrt(1/n{[}i{]} + 1/n{[}j{]})\n",
       "            t.val <- dif/se.dif\n",
       "            if (alternative == \"two.sided\") \n",
       "                2 * pt(-abs(t.val), total.degf)\n",
       "            else pt(t.val, total.degf, lower.tail = (alternative == \n",
       "                \"less\"))\n",
       "        \\}\n",
       "    \\}\n",
       "    else \\{\n",
       "        METHOD <- if (paired) \n",
       "            \"paired t tests\"\n",
       "        else \"t tests with non-pooled SD\"\n",
       "        compare.levels <- function(i, j) \\{\n",
       "            xi <- x{[}as.integer(g) == i{]}\n",
       "            xj <- x{[}as.integer(g) == j{]}\n",
       "            t.test(xi, xj, paired = paired, alternative = alternative, \n",
       "                ...)\\$p.value\n",
       "        \\}\n",
       "    \\}\n",
       "    PVAL <- pairwise.table(compare.levels, levels(g), p.adjust.method)\n",
       "    ans <- list(method = METHOD, data.name = DNAME, p.value = PVAL, \n",
       "        p.adjust.method = p.adjust.method)\n",
       "    class(ans) <- \"pairwise.htest\"\n",
       "    ans\n",
       "\\}\n",
       "\\end{minted}"
      ],
      "text/markdown": [
       "```r\n",
       "function (x, g, p.adjust.method = p.adjust.methods, pool.sd = !paired, \n",
       "    paired = FALSE, alternative = c(\"two.sided\", \"less\", \"greater\"), \n",
       "    ...) \n",
       "{\n",
       "    if (paired & pool.sd) \n",
       "        stop(\"pooling of SD is incompatible with paired tests\")\n",
       "    DNAME <- paste(deparse(substitute(x)), \"and\", deparse(substitute(g)))\n",
       "    g <- factor(g)\n",
       "    p.adjust.method <- match.arg(p.adjust.method)\n",
       "    alternative <- match.arg(alternative)\n",
       "    if (pool.sd) {\n",
       "        METHOD <- \"t tests with pooled SD\"\n",
       "        xbar <- tapply(x, g, mean, na.rm = TRUE)\n",
       "        s <- tapply(x, g, sd, na.rm = TRUE)\n",
       "        n <- tapply(!is.na(x), g, sum)\n",
       "        degf <- n - 1\n",
       "        total.degf <- sum(degf)\n",
       "        pooled.sd <- sqrt(sum(s^2 * degf)/total.degf)\n",
       "        compare.levels <- function(i, j) {\n",
       "            dif <- xbar[i] - xbar[j]\n",
       "            se.dif <- pooled.sd * sqrt(1/n[i] + 1/n[j])\n",
       "            t.val <- dif/se.dif\n",
       "            if (alternative == \"two.sided\") \n",
       "                2 * pt(-abs(t.val), total.degf)\n",
       "            else pt(t.val, total.degf, lower.tail = (alternative == \n",
       "                \"less\"))\n",
       "        }\n",
       "    }\n",
       "    else {\n",
       "        METHOD <- if (paired) \n",
       "            \"paired t tests\"\n",
       "        else \"t tests with non-pooled SD\"\n",
       "        compare.levels <- function(i, j) {\n",
       "            xi <- x[as.integer(g) == i]\n",
       "            xj <- x[as.integer(g) == j]\n",
       "            t.test(xi, xj, paired = paired, alternative = alternative, \n",
       "                ...)$p.value\n",
       "        }\n",
       "    }\n",
       "    PVAL <- pairwise.table(compare.levels, levels(g), p.adjust.method)\n",
       "    ans <- list(method = METHOD, data.name = DNAME, p.value = PVAL, \n",
       "        p.adjust.method = p.adjust.method)\n",
       "    class(ans) <- \"pairwise.htest\"\n",
       "    ans\n",
       "}\n",
       "```"
      ],
      "text/plain": [
       "function (x, g, p.adjust.method = p.adjust.methods, pool.sd = !paired, \n",
       "    paired = FALSE, alternative = c(\"two.sided\", \"less\", \"greater\"), \n",
       "    ...) \n",
       "{\n",
       "    if (paired & pool.sd) \n",
       "        stop(\"pooling of SD is incompatible with paired tests\")\n",
       "    DNAME <- paste(deparse(substitute(x)), \"and\", deparse(substitute(g)))\n",
       "    g <- factor(g)\n",
       "    p.adjust.method <- match.arg(p.adjust.method)\n",
       "    alternative <- match.arg(alternative)\n",
       "    if (pool.sd) {\n",
       "        METHOD <- \"t tests with pooled SD\"\n",
       "        xbar <- tapply(x, g, mean, na.rm = TRUE)\n",
       "        s <- tapply(x, g, sd, na.rm = TRUE)\n",
       "        n <- tapply(!is.na(x), g, sum)\n",
       "        degf <- n - 1\n",
       "        total.degf <- sum(degf)\n",
       "        pooled.sd <- sqrt(sum(s^2 * degf)/total.degf)\n",
       "        compare.levels <- function(i, j) {\n",
       "            dif <- xbar[i] - xbar[j]\n",
       "            se.dif <- pooled.sd * sqrt(1/n[i] + 1/n[j])\n",
       "            t.val <- dif/se.dif\n",
       "            if (alternative == \"two.sided\") \n",
       "                2 * pt(-abs(t.val), total.degf)\n",
       "            else pt(t.val, total.degf, lower.tail = (alternative == \n",
       "                \"less\"))\n",
       "        }\n",
       "    }\n",
       "    else {\n",
       "        METHOD <- if (paired) \n",
       "            \"paired t tests\"\n",
       "        else \"t tests with non-pooled SD\"\n",
       "        compare.levels <- function(i, j) {\n",
       "            xi <- x[as.integer(g) == i]\n",
       "            xj <- x[as.integer(g) == j]\n",
       "            t.test(xi, xj, paired = paired, alternative = alternative, \n",
       "                ...)$p.value\n",
       "        }\n",
       "    }\n",
       "    PVAL <- pairwise.table(compare.levels, levels(g), p.adjust.method)\n",
       "    ans <- list(method = METHOD, data.name = DNAME, p.value = PVAL, \n",
       "        p.adjust.method = p.adjust.method)\n",
       "    class(ans) <- \"pairwise.htest\"\n",
       "    ans\n",
       "}\n",
       "<bytecode: 0x000000001ac231b0>\n",
       "<environment: namespace:stats>"
      ]
     },
     "metadata": {},
     "output_type": "display_data"
    }
   ],
   "source": [
    "\n",
    "pairwise.t.test"
   ]
  },
  {
   "cell_type": "code",
   "execution_count": 11,
   "metadata": {},
   "outputs": [
    {
     "data": {
      "text/html": [
       "'x'"
      ],
      "text/latex": [
       "'x'"
      ],
      "text/markdown": [
       "'x'"
      ],
      "text/plain": [
       "[1] \"x\""
      ]
     },
     "metadata": {},
     "output_type": "display_data"
    },
    {
     "data": {
      "text/html": [
       "'x'"
      ],
      "text/latex": [
       "'x'"
      ],
      "text/markdown": [
       "'x'"
      ],
      "text/plain": [
       "[1] \"x\""
      ]
     },
     "metadata": {},
     "output_type": "display_data"
    },
    {
     "data": {
      "text/html": [
       "'x'"
      ],
      "text/latex": [
       "'x'"
      ],
      "text/markdown": [
       "'x'"
      ],
      "text/plain": [
       "[1] \"x\""
      ]
     },
     "metadata": {},
     "output_type": "display_data"
    }
   ],
   "source": [
    "f <- function(x) substitute(x)\n",
    "g <- function(x) deparse(f(x))\n",
    "g(1:10)\n",
    "g(x)\n",
    "g(x + y ^ 2 / z + exp(a * sin(b)))"
   ]
  },
  {
   "cell_type": "markdown",
   "metadata": {},
   "source": [
    "# NSE in subset"
   ]
  },
  {
   "cell_type": "code",
   "execution_count": 12,
   "metadata": {},
   "outputs": [
    {
     "data": {
      "text/html": [
       "<table>\n",
       "<thead><tr><th></th><th scope=col>a</th><th scope=col>b</th><th scope=col>c</th></tr></thead>\n",
       "<tbody>\n",
       "\t<tr><th scope=row>4</th><td>4</td><td>2</td><td>4</td></tr>\n",
       "\t<tr><th scope=row>5</th><td>5</td><td>1</td><td>1</td></tr>\n",
       "</tbody>\n",
       "</table>\n"
      ],
      "text/latex": [
       "\\begin{tabular}{r|lll}\n",
       "  & a & b & c\\\\\n",
       "\\hline\n",
       "\t4 & 4 & 2 & 4\\\\\n",
       "\t5 & 5 & 1 & 1\\\\\n",
       "\\end{tabular}\n"
      ],
      "text/markdown": [
       "\n",
       "| <!--/--> | a | b | c | \n",
       "|---|---|\n",
       "| 4 | 4 | 2 | 4 | \n",
       "| 5 | 5 | 1 | 1 | \n",
       "\n",
       "\n"
      ],
      "text/plain": [
       "  a b c\n",
       "4 4 2 4\n",
       "5 5 1 1"
      ]
     },
     "metadata": {},
     "output_type": "display_data"
    }
   ],
   "source": [
    "sample_df <- data.frame(a = 1:5, b = 5:1, c = c(5, 3, 1, 4, 1))\n",
    "\n",
    "subset(sample_df, a >= 4)"
   ]
  },
  {
   "cell_type": "markdown",
   "metadata": {},
   "source": [
    "### 上記のようにaをグローバルなaとしてではなく、sample_dfのaとして捉えるためにevalが用いられる"
   ]
  },
  {
   "cell_type": "markdown",
   "metadata": {},
   "source": [
    "## quote"
   ]
  },
  {
   "cell_type": "markdown",
   "metadata": {},
   "source": [
    "### quoteのinverseは「evalで第二引数以降を省略したもの」"
   ]
  },
  {
   "cell_type": "code",
   "execution_count": 16,
   "metadata": {
    "collapsed": true
   },
   "outputs": [],
   "source": [
    "?eval"
   ]
  },
  {
   "cell_type": "markdown",
   "metadata": {},
   "source": [
    "### 定義されていないものもquoteできるがevalするとエラーに"
   ]
  },
  {
   "cell_type": "code",
   "execution_count": 13,
   "metadata": {},
   "outputs": [
    {
     "data": {
      "text/plain": [
       "a"
      ]
     },
     "metadata": {},
     "output_type": "display_data"
    }
   ],
   "source": [
    "quote(a)"
   ]
  },
  {
   "cell_type": "code",
   "execution_count": 14,
   "metadata": {},
   "outputs": [
    {
     "data": {
      "text/html": [
       "'name'"
      ],
      "text/latex": [
       "'name'"
      ],
      "text/markdown": [
       "'name'"
      ],
      "text/plain": [
       "[1] \"name\""
      ]
     },
     "metadata": {},
     "output_type": "display_data"
    }
   ],
   "source": [
    "class(quote(a))"
   ]
  },
  {
   "cell_type": "code",
   "execution_count": 15,
   "metadata": {},
   "outputs": [
    {
     "data": {
      "text/plain": [
       "1 + 1"
      ]
     },
     "metadata": {},
     "output_type": "display_data"
    }
   ],
   "source": [
    "quote(1+1)"
   ]
  },
  {
   "cell_type": "code",
   "execution_count": 16,
   "metadata": {},
   "outputs": [
    {
     "data": {
      "text/html": [
       "2"
      ],
      "text/latex": [
       "2"
      ],
      "text/markdown": [
       "2"
      ],
      "text/plain": [
       "[1] 2"
      ]
     },
     "metadata": {},
     "output_type": "display_data"
    }
   ],
   "source": [
    "eval(quote(1+1))"
   ]
  },
  {
   "cell_type": "markdown",
   "metadata": {},
   "source": [
    "### quoteしていないものをevalしようとするとエラーに"
   ]
  },
  {
   "cell_type": "code",
   "execution_count": 17,
   "metadata": {},
   "outputs": [
    {
     "ename": "ERROR",
     "evalue": "Error in eval(x, list(x = 2)): object 'x' not found\n",
     "output_type": "error",
     "traceback": [
      "Error in eval(x, list(x = 2)): object 'x' not found\nTraceback:\n",
      "1. eval(x, list(x = 2))"
     ]
    }
   ],
   "source": [
    "eval(x , list(x=2))"
   ]
  },
  {
   "cell_type": "markdown",
   "metadata": {},
   "source": [
    "### evalの第二引数は環境だがlistでも可"
   ]
  },
  {
   "cell_type": "code",
   "execution_count": 18,
   "metadata": {},
   "outputs": [
    {
     "data": {
      "text/html": [
       "2"
      ],
      "text/latex": [
       "2"
      ],
      "text/markdown": [
       "2"
      ],
      "text/plain": [
       "[1] 2"
      ]
     },
     "metadata": {},
     "output_type": "display_data"
    }
   ],
   "source": [
    "eval(quote(x) , list(x=2))"
   ]
  },
  {
   "cell_type": "markdown",
   "metadata": {},
   "source": [
    "### その特性はsubset()の実装に使える"
   ]
  },
  {
   "cell_type": "code",
   "execution_count": 19,
   "metadata": {},
   "outputs": [
    {
     "data": {
      "text/html": [
       "<ol class=list-inline>\n",
       "\t<li>FALSE</li>\n",
       "\t<li>FALSE</li>\n",
       "\t<li>FALSE</li>\n",
       "\t<li>TRUE</li>\n",
       "\t<li>TRUE</li>\n",
       "</ol>\n"
      ],
      "text/latex": [
       "\\begin{enumerate*}\n",
       "\\item FALSE\n",
       "\\item FALSE\n",
       "\\item FALSE\n",
       "\\item TRUE\n",
       "\\item TRUE\n",
       "\\end{enumerate*}\n"
      ],
      "text/markdown": [
       "1. FALSE\n",
       "2. FALSE\n",
       "3. FALSE\n",
       "4. TRUE\n",
       "5. TRUE\n",
       "\n",
       "\n"
      ],
      "text/plain": [
       "[1] FALSE FALSE FALSE  TRUE  TRUE"
      ]
     },
     "metadata": {},
     "output_type": "display_data"
    }
   ],
   "source": [
    "eval(quote(a >= 4), sample_df)"
   ]
  },
  {
   "cell_type": "markdown",
   "metadata": {},
   "source": [
    "## subset2"
   ]
  },
  {
   "cell_type": "code",
   "execution_count": 20,
   "metadata": {},
   "outputs": [
    {
     "data": {
      "text/html": [
       "<table>\n",
       "<thead><tr><th></th><th scope=col>a</th><th scope=col>b</th><th scope=col>c</th></tr></thead>\n",
       "<tbody>\n",
       "\t<tr><th scope=row>4</th><td>4</td><td>2</td><td>4</td></tr>\n",
       "\t<tr><th scope=row>5</th><td>5</td><td>1</td><td>1</td></tr>\n",
       "</tbody>\n",
       "</table>\n"
      ],
      "text/latex": [
       "\\begin{tabular}{r|lll}\n",
       "  & a & b & c\\\\\n",
       "\\hline\n",
       "\t4 & 4 & 2 & 4\\\\\n",
       "\t5 & 5 & 1 & 1\\\\\n",
       "\\end{tabular}\n"
      ],
      "text/markdown": [
       "\n",
       "| <!--/--> | a | b | c | \n",
       "|---|---|\n",
       "| 4 | 4 | 2 | 4 | \n",
       "| 5 | 5 | 1 | 1 | \n",
       "\n",
       "\n"
      ],
      "text/plain": [
       "  a b c\n",
       "4 4 2 4\n",
       "5 5 1 1"
      ]
     },
     "metadata": {},
     "output_type": "display_data"
    }
   ],
   "source": [
    "subset2 <- function(x, condition) {\n",
    "  condition_call <- substitute(condition)\n",
    "  r <- eval(condition_call, x)\n",
    "  x[r, ]\n",
    "}\n",
    "subset2(sample_df, a >= 4)"
   ]
  },
  {
   "cell_type": "markdown",
   "metadata": {},
   "source": [
    "## exercise"
   ]
  },
  {
   "cell_type": "code",
   "execution_count": 21,
   "metadata": {},
   "outputs": [
    {
     "data": {
      "text/html": [
       "4"
      ],
      "text/latex": [
       "4"
      ],
      "text/markdown": [
       "4"
      ],
      "text/plain": [
       "[1] 4"
      ]
     },
     "metadata": {},
     "output_type": "display_data"
    }
   ],
   "source": [
    "eval(quote(eval(quote(eval(quote(2 + 2))))))"
   ]
  },
  {
   "cell_type": "code",
   "execution_count": 22,
   "metadata": {},
   "outputs": [
    {
     "data": {
      "text/html": [
       "4"
      ],
      "text/latex": [
       "4"
      ],
      "text/markdown": [
       "4"
      ],
      "text/plain": [
       "[1] 4"
      ]
     },
     "metadata": {},
     "output_type": "display_data"
    }
   ],
   "source": [
    "\n",
    "eval(eval(quote(eval(quote(eval(quote(2 + 2)))))))"
   ]
  },
  {
   "cell_type": "code",
   "execution_count": 23,
   "metadata": {},
   "outputs": [
    {
     "data": {
      "text/plain": [
       "eval(quote(eval(quote(eval(quote(2 + 2))))))"
      ]
     },
     "metadata": {},
     "output_type": "display_data"
    }
   ],
   "source": [
    "quote(eval(quote(eval(quote(eval(quote(2 + 2)))))))"
   ]
  },
  {
   "cell_type": "code",
   "execution_count": 24,
   "metadata": {},
   "outputs": [
    {
     "data": {
      "text/html": [
       "<ol class=list-inline>\n",
       "\t<li>9</li>\n",
       "\t<li>10</li>\n",
       "\t<li>&lt;NA&gt;</li>\n",
       "</ol>\n"
      ],
      "text/latex": [
       "\\begin{enumerate*}\n",
       "\\item 9\n",
       "\\item 10\n",
       "\\item <NA>\n",
       "\\end{enumerate*}\n"
      ],
      "text/markdown": [
       "1. 9\n",
       "2. 10\n",
       "3. &lt;NA&gt;\n",
       "\n",
       "\n"
      ],
      "text/plain": [
       "[1]  9 10 NA"
      ]
     },
     "metadata": {},
     "output_type": "display_data"
    }
   ],
   "source": [
    "sample_df2 <- data.frame(x = c(1:10 , NA))\n",
    "subset2(sample_df2, x > 8)"
   ]
  },
  {
   "cell_type": "markdown",
   "metadata": {},
   "source": [
    "## my_subset2"
   ]
  },
  {
   "cell_type": "code",
   "execution_count": 25,
   "metadata": {
    "collapsed": true
   },
   "outputs": [],
   "source": [
    "my_subset2 <- function(x, condition) {\n",
    "  condition_call <- substitute(condition)\n",
    "  r <- eval(condition_call, x)\n",
    "  x[r & is.finite(r) ,  , drop = F]\n",
    "}"
   ]
  },
  {
   "cell_type": "code",
   "execution_count": 26,
   "metadata": {},
   "outputs": [
    {
     "data": {
      "text/html": [
       "<table>\n",
       "<thead><tr><th></th><th scope=col>x</th></tr></thead>\n",
       "<tbody>\n",
       "\t<tr><th scope=row>9</th><td> 9</td></tr>\n",
       "\t<tr><th scope=row>10</th><td>10</td></tr>\n",
       "</tbody>\n",
       "</table>\n"
      ],
      "text/latex": [
       "\\begin{tabular}{r|l}\n",
       "  & x\\\\\n",
       "\\hline\n",
       "\t9 &  9\\\\\n",
       "\t10 & 10\\\\\n",
       "\\end{tabular}\n"
      ],
      "text/markdown": [
       "\n",
       "| <!--/--> | x | \n",
       "|---|---|\n",
       "| 9 |  9 | \n",
       "| 10 | 10 | \n",
       "\n",
       "\n"
      ],
      "text/plain": [
       "   x \n",
       "9   9\n",
       "10 10"
      ]
     },
     "metadata": {},
     "output_type": "display_data"
    }
   ],
   "source": [
    "my_subset2(sample_df2 , x > 8)"
   ]
  },
  {
   "cell_type": "markdown",
   "metadata": {},
   "source": [
    "上記my_subset2はうまく動いているようだ！"
   ]
  },
  {
   "cell_type": "markdown",
   "metadata": {},
   "source": [
    "# Scoping issues"
   ]
  },
  {
   "cell_type": "code",
   "execution_count": 27,
   "metadata": {
    "collapsed": true
   },
   "outputs": [],
   "source": [
    "y <- 4\n",
    "x <- 4"
   ]
  },
  {
   "cell_type": "code",
   "execution_count": 28,
   "metadata": {},
   "outputs": [
    {
     "data": {
      "text/html": [
       "<table>\n",
       "<thead><tr><th></th><th scope=col>a</th><th scope=col>b</th><th scope=col>c</th></tr></thead>\n",
       "<tbody>\n",
       "\t<tr><th scope=row>4</th><td>4</td><td>2</td><td>4</td></tr>\n",
       "</tbody>\n",
       "</table>\n"
      ],
      "text/latex": [
       "\\begin{tabular}{r|lll}\n",
       "  & a & b & c\\\\\n",
       "\\hline\n",
       "\t4 & 4 & 2 & 4\\\\\n",
       "\\end{tabular}\n"
      ],
      "text/markdown": [
       "\n",
       "| <!--/--> | a | b | c | \n",
       "|---|\n",
       "| 4 | 4 | 2 | 4 | \n",
       "\n",
       "\n"
      ],
      "text/plain": [
       "  a b c\n",
       "4 4 2 4"
      ]
     },
     "metadata": {},
     "output_type": "display_data"
    }
   ],
   "source": [
    "subset2(sample_df, a == 4)"
   ]
  },
  {
   "cell_type": "code",
   "execution_count": 29,
   "metadata": {},
   "outputs": [
    {
     "data": {
      "text/html": [
       "<table>\n",
       "<thead><tr><th></th><th scope=col>a</th><th scope=col>b</th><th scope=col>c</th></tr></thead>\n",
       "<tbody>\n",
       "\t<tr><th scope=row>4</th><td>4</td><td>2</td><td>4</td></tr>\n",
       "</tbody>\n",
       "</table>\n"
      ],
      "text/latex": [
       "\\begin{tabular}{r|lll}\n",
       "  & a & b & c\\\\\n",
       "\\hline\n",
       "\t4 & 4 & 2 & 4\\\\\n",
       "\\end{tabular}\n"
      ],
      "text/markdown": [
       "\n",
       "| <!--/--> | a | b | c | \n",
       "|---|\n",
       "| 4 | 4 | 2 | 4 | \n",
       "\n",
       "\n"
      ],
      "text/plain": [
       "  a b c\n",
       "4 4 2 4"
      ]
     },
     "metadata": {},
     "output_type": "display_data"
    }
   ],
   "source": [
    "subset2(sample_df, a == y)"
   ]
  },
  {
   "cell_type": "markdown",
   "metadata": {},
   "source": [
    "### 下記はxがevalから見つからないために予期せぬ結果が返る"
   ]
  },
  {
   "cell_type": "code",
   "execution_count": 30,
   "metadata": {},
   "outputs": [
    {
     "data": {
      "text/html": [
       "<table>\n",
       "<thead><tr><th></th><th scope=col>a</th><th scope=col>b</th><th scope=col>c</th></tr></thead>\n",
       "<tbody>\n",
       "\t<tr><th scope=row>1</th><td> 1</td><td> 5</td><td> 5</td></tr>\n",
       "\t<tr><th scope=row>2</th><td> 2</td><td> 4</td><td> 3</td></tr>\n",
       "\t<tr><th scope=row>3</th><td> 3</td><td> 3</td><td> 1</td></tr>\n",
       "\t<tr><th scope=row>4</th><td> 4</td><td> 2</td><td> 4</td></tr>\n",
       "\t<tr><th scope=row>5</th><td> 5</td><td> 1</td><td> 1</td></tr>\n",
       "\t<tr><th scope=row>NA</th><td>NA</td><td>NA</td><td>NA</td></tr>\n",
       "\t<tr><th scope=row>NA.1</th><td>NA</td><td>NA</td><td>NA</td></tr>\n",
       "</tbody>\n",
       "</table>\n"
      ],
      "text/latex": [
       "\\begin{tabular}{r|lll}\n",
       "  & a & b & c\\\\\n",
       "\\hline\n",
       "\t1 &  1 &  5 &  5\\\\\n",
       "\t2 &  2 &  4 &  3\\\\\n",
       "\t3 &  3 &  3 &  1\\\\\n",
       "\t4 &  4 &  2 &  4\\\\\n",
       "\t5 &  5 &  1 &  1\\\\\n",
       "\tNA & NA & NA & NA\\\\\n",
       "\tNA.1 & NA & NA & NA\\\\\n",
       "\\end{tabular}\n"
      ],
      "text/markdown": [
       "\n",
       "| <!--/--> | a | b | c | \n",
       "|---|---|---|---|---|---|---|\n",
       "| 1 |  1 |  5 |  5 | \n",
       "| 2 |  2 |  4 |  3 | \n",
       "| 3 |  3 |  3 |  1 | \n",
       "| 4 |  4 |  2 |  4 | \n",
       "| 5 |  5 |  1 |  1 | \n",
       "| NA | NA | NA | NA | \n",
       "| NA.1 | NA | NA | NA | \n",
       "\n",
       "\n"
      ],
      "text/plain": [
       "     a  b  c \n",
       "1     1  5  5\n",
       "2     2  4  3\n",
       "3     3  3  1\n",
       "4     4  2  4\n",
       "5     5  1  1\n",
       "NA   NA NA NA\n",
       "NA.1 NA NA NA"
      ]
     },
     "metadata": {},
     "output_type": "display_data"
    }
   ],
   "source": [
    "subset2(sample_df, a == x)"
   ]
  },
  {
   "cell_type": "markdown",
   "metadata": {},
   "source": [
    "### 他方、以下では名前の衝突が起きている（？）"
   ]
  },
  {
   "cell_type": "code",
   "execution_count": 31,
   "metadata": {},
   "outputs": [
    {
     "name": "stderr",
     "output_type": "stream",
     "text": [
      "Warning message in rm(\"condition\"):\n",
      "\"object 'condition' not found\"Warning message in rm(\"condition_call\"):\n",
      "\"object 'condition_call' not found\""
     ]
    }
   ],
   "source": [
    "rm(\"condition\")\n",
    "rm(\"condition_call\")"
   ]
  },
  {
   "cell_type": "code",
   "execution_count": 32,
   "metadata": {
    "collapsed": true
   },
   "outputs": [],
   "source": [
    "condition <- 4\n",
    "condition_call <- 4"
   ]
  },
  {
   "cell_type": "code",
   "execution_count": 33,
   "metadata": {},
   "outputs": [
    {
     "ename": "ERROR",
     "evalue": "Error in eval(condition_call, x): object 'a' not found\n",
     "output_type": "error",
     "traceback": [
      "Error in eval(condition_call, x): object 'a' not found\nTraceback:\n",
      "1. subset2(sample_df, a == condition)",
      "2. eval(condition_call, x)   # at line 3 of file <text>",
      "3. eval(condition_call, x)"
     ]
    }
   ],
   "source": [
    "subset2(sample_df, a == condition)"
   ]
  },
  {
   "cell_type": "code",
   "execution_count": 34,
   "metadata": {},
   "outputs": [
    {
     "name": "stderr",
     "output_type": "stream",
     "text": [
      "Warning message in a == condition_call:\n",
      "\"longer object length is not a multiple of shorter object length\""
     ]
    },
    {
     "data": {
      "text/html": [
       "<table>\n",
       "<thead><tr><th scope=col>a</th><th scope=col>b</th><th scope=col>c</th></tr></thead>\n",
       "<tbody>\n",
       "</tbody>\n",
       "</table>\n"
      ],
      "text/latex": [
       "\\begin{tabular}{r|lll}\n",
       " a & b & c\\\\\n",
       "\\hline\n",
       "\\end{tabular}\n"
      ],
      "text/markdown": [
       "\n",
       "a | b | c | \n",
       "||\n",
       "\n",
       "\n"
      ],
      "text/plain": [
       "     a b c"
      ]
     },
     "metadata": {},
     "output_type": "display_data"
    }
   ],
   "source": [
    "subset2(sample_df, a == condition_call)"
   ]
  },
  {
   "cell_type": "markdown",
   "metadata": {},
   "source": [
    "### evalの第三引数enclosに指定するとenvに指定したのが環境でなく、list やdata.frameのときenvに見つからないものはenclos内に探しに行く"
   ]
  },
  {
   "cell_type": "markdown",
   "metadata": {},
   "source": [
    "- listやdata.frameは親を持ちえないのでこのような措置が必要になる\n",
    "- envに環境を指定したときはencloは無視される\n",
    "\n",
    "The key is the third argument to eval(): enclos. This allows us to specify a parent (or enclosing) environment for objects that don’t have one (like lists and data frames)."
   ]
  },
  {
   "cell_type": "code",
   "execution_count": 35,
   "metadata": {
    "collapsed": true
   },
   "outputs": [],
   "source": [
    "?eval"
   ]
  },
  {
   "cell_type": "code",
   "execution_count": 36,
   "metadata": {
    "collapsed": true
   },
   "outputs": [],
   "source": [
    "my_subset2a <- function(x, condition) {\n",
    "  condition_call <- substitute(condition)\n",
    "  r <- eval(condition_call, x , parent.frame())\n",
    "  x[r & is.finite(r) ,  , drop = F]\n",
    "}"
   ]
  },
  {
   "cell_type": "markdown",
   "metadata": {},
   "source": [
    "### enclosを指定することでxが評価できない問題は解決した："
   ]
  },
  {
   "cell_type": "code",
   "execution_count": 45,
   "metadata": {},
   "outputs": [
    {
     "data": {
      "text/html": [
       "<table>\n",
       "<thead><tr><th></th><th scope=col>a</th><th scope=col>b</th><th scope=col>c</th></tr></thead>\n",
       "<tbody>\n",
       "\t<tr><th scope=row>4</th><td>4</td><td>2</td><td>4</td></tr>\n",
       "</tbody>\n",
       "</table>\n"
      ],
      "text/latex": [
       "\\begin{tabular}{r|lll}\n",
       "  & a & b & c\\\\\n",
       "\\hline\n",
       "\t4 & 4 & 2 & 4\\\\\n",
       "\\end{tabular}\n"
      ],
      "text/markdown": [
       "\n",
       "| <!--/--> | a | b | c | \n",
       "|---|\n",
       "| 4 | 4 | 2 | 4 | \n",
       "\n",
       "\n"
      ],
      "text/plain": [
       "  a b c\n",
       "4 4 2 4"
      ]
     },
     "metadata": {},
     "output_type": "display_data"
    }
   ],
   "source": [
    "my_subset2a(sample_df, a == x)"
   ]
  },
  {
   "cell_type": "markdown",
   "metadata": {},
   "source": [
    "## conditionやcondition_callが衝突する問題も解決\n",
    "\n",
    "関数内で定義されているconditionなどを見ない設定に変更したので外側で定義したものがつかわれるため"
   ]
  },
  {
   "cell_type": "code",
   "execution_count": 52,
   "metadata": {},
   "outputs": [
    {
     "data": {
      "text/html": [
       "<table>\n",
       "<thead><tr><th></th><th scope=col>a</th><th scope=col>b</th><th scope=col>c</th></tr></thead>\n",
       "<tbody>\n",
       "\t<tr><th scope=row>4</th><td>4</td><td>2</td><td>4</td></tr>\n",
       "</tbody>\n",
       "</table>\n"
      ],
      "text/latex": [
       "\\begin{tabular}{r|lll}\n",
       "  & a & b & c\\\\\n",
       "\\hline\n",
       "\t4 & 4 & 2 & 4\\\\\n",
       "\\end{tabular}\n"
      ],
      "text/markdown": [
       "\n",
       "| <!--/--> | a | b | c | \n",
       "|---|\n",
       "| 4 | 4 | 2 | 4 | \n",
       "\n",
       "\n"
      ],
      "text/plain": [
       "  a b c\n",
       "4 4 2 4"
      ]
     },
     "metadata": {},
     "output_type": "display_data"
    }
   ],
   "source": [
    "my_subset2a(sample_df, a == condition)"
   ]
  },
  {
   "cell_type": "code",
   "execution_count": 51,
   "metadata": {},
   "outputs": [
    {
     "data": {
      "text/html": [
       "<table>\n",
       "<thead><tr><th></th><th scope=col>a</th><th scope=col>b</th><th scope=col>c</th></tr></thead>\n",
       "<tbody>\n",
       "\t<tr><th scope=row>4</th><td>4</td><td>2</td><td>4</td></tr>\n",
       "</tbody>\n",
       "</table>\n"
      ],
      "text/latex": [
       "\\begin{tabular}{r|lll}\n",
       "  & a & b & c\\\\\n",
       "\\hline\n",
       "\t4 & 4 & 2 & 4\\\\\n",
       "\\end{tabular}\n"
      ],
      "text/markdown": [
       "\n",
       "| <!--/--> | a | b | c | \n",
       "|---|\n",
       "| 4 | 4 | 2 | 4 | \n",
       "\n",
       "\n"
      ],
      "text/plain": [
       "  a b c\n",
       "4 4 2 4"
      ]
     },
     "metadata": {},
     "output_type": "display_data"
    }
   ],
   "source": [
    "my_subset2a(sample_df, a == condition_call)"
   ]
  },
  {
   "cell_type": "markdown",
   "metadata": {},
   "source": [
    "## Exercise"
   ]
  },
  {
   "cell_type": "markdown",
   "metadata": {},
   "source": [
    "### arrangeに相当する関数を作ってみる"
   ]
  },
  {
   "cell_type": "code",
   "execution_count": 88,
   "metadata": {},
   "outputs": [
    {
     "data": {
      "text/html": [
       "<table>\n",
       "<thead><tr><th></th><th scope=col>a</th><th scope=col>b</th><th scope=col>c</th></tr></thead>\n",
       "<tbody>\n",
       "\t<tr><th scope=row>5</th><td>5</td><td>1</td><td>1</td></tr>\n",
       "\t<tr><th scope=row>4</th><td>4</td><td>2</td><td>4</td></tr>\n",
       "\t<tr><th scope=row>3</th><td>3</td><td>3</td><td>1</td></tr>\n",
       "\t<tr><th scope=row>2</th><td>2</td><td>4</td><td>3</td></tr>\n",
       "\t<tr><th scope=row>1</th><td>1</td><td>5</td><td>5</td></tr>\n",
       "</tbody>\n",
       "</table>\n"
      ],
      "text/latex": [
       "\\begin{tabular}{r|lll}\n",
       "  & a & b & c\\\\\n",
       "\\hline\n",
       "\t5 & 5 & 1 & 1\\\\\n",
       "\t4 & 4 & 2 & 4\\\\\n",
       "\t3 & 3 & 3 & 1\\\\\n",
       "\t2 & 2 & 4 & 3\\\\\n",
       "\t1 & 1 & 5 & 5\\\\\n",
       "\\end{tabular}\n"
      ],
      "text/markdown": [
       "\n",
       "| <!--/--> | a | b | c | \n",
       "|---|---|---|---|---|\n",
       "| 5 | 5 | 1 | 1 | \n",
       "| 4 | 4 | 2 | 4 | \n",
       "| 3 | 3 | 3 | 1 | \n",
       "| 2 | 2 | 4 | 3 | \n",
       "| 1 | 1 | 5 | 5 | \n",
       "\n",
       "\n"
      ],
      "text/plain": [
       "  a b c\n",
       "5 5 1 1\n",
       "4 4 2 4\n",
       "3 3 3 1\n",
       "2 2 4 3\n",
       "1 1 5 5"
      ]
     },
     "metadata": {},
     "output_type": "display_data"
    }
   ],
   "source": [
    "sample_df[order(sample_df$b) , ]"
   ]
  },
  {
   "cell_type": "code",
   "execution_count": 91,
   "metadata": {
    "collapsed": true
   },
   "outputs": [],
   "source": [
    "my_arrange <- function(x, argument) {\n",
    "  quoted_argument <- substitute(argument)\n",
    "  r <- order(eval(quoted_argument, x , parent.frame()))\n",
    "  x[r  ,  , drop = F]\n",
    "}"
   ]
  },
  {
   "cell_type": "code",
   "execution_count": 92,
   "metadata": {},
   "outputs": [
    {
     "data": {
      "text/html": [
       "<table>\n",
       "<thead><tr><th></th><th scope=col>a</th><th scope=col>b</th><th scope=col>c</th></tr></thead>\n",
       "<tbody>\n",
       "\t<tr><th scope=row>5</th><td>5</td><td>1</td><td>1</td></tr>\n",
       "\t<tr><th scope=row>4</th><td>4</td><td>2</td><td>4</td></tr>\n",
       "\t<tr><th scope=row>3</th><td>3</td><td>3</td><td>1</td></tr>\n",
       "\t<tr><th scope=row>2</th><td>2</td><td>4</td><td>3</td></tr>\n",
       "\t<tr><th scope=row>1</th><td>1</td><td>5</td><td>5</td></tr>\n",
       "</tbody>\n",
       "</table>\n"
      ],
      "text/latex": [
       "\\begin{tabular}{r|lll}\n",
       "  & a & b & c\\\\\n",
       "\\hline\n",
       "\t5 & 5 & 1 & 1\\\\\n",
       "\t4 & 4 & 2 & 4\\\\\n",
       "\t3 & 3 & 3 & 1\\\\\n",
       "\t2 & 2 & 4 & 3\\\\\n",
       "\t1 & 1 & 5 & 5\\\\\n",
       "\\end{tabular}\n"
      ],
      "text/markdown": [
       "\n",
       "| <!--/--> | a | b | c | \n",
       "|---|---|---|---|---|\n",
       "| 5 | 5 | 1 | 1 | \n",
       "| 4 | 4 | 2 | 4 | \n",
       "| 3 | 3 | 3 | 1 | \n",
       "| 2 | 2 | 4 | 3 | \n",
       "| 1 | 1 | 5 | 5 | \n",
       "\n",
       "\n"
      ],
      "text/plain": [
       "  a b c\n",
       "5 5 1 1\n",
       "4 4 2 4\n",
       "3 3 3 1\n",
       "2 2 4 3\n",
       "1 1 5 5"
      ]
     },
     "metadata": {},
     "output_type": "display_data"
    }
   ],
   "source": [
    "my_arrange(sample_df , b)"
   ]
  },
  {
   "cell_type": "code",
   "execution_count": 110,
   "metadata": {
    "collapsed": true
   },
   "outputs": [],
   "source": [
    "my_arrange2 = function(df , ...){\n",
    "    substitute(order(...))\n",
    "}"
   ]
  },
  {
   "cell_type": "code",
   "execution_count": 112,
   "metadata": {},
   "outputs": [
    {
     "data": {
      "text/plain": [
       "order(a)"
      ]
     },
     "metadata": {},
     "output_type": "display_data"
    }
   ],
   "source": [
    "my_arrange2(sample_df , a)"
   ]
  },
  {
   "cell_type": "code",
   "execution_count": 108,
   "metadata": {
    "collapsed": true
   },
   "outputs": [],
   "source": [
    "my_arrange3 = function(df , ...){\n",
    "    eval(substitute(order(...)) , df , parent.frame())\n",
    "}"
   ]
  },
  {
   "cell_type": "code",
   "execution_count": 109,
   "metadata": {},
   "outputs": [
    {
     "data": {
      "text/html": [
       "<ol class=list-inline>\n",
       "\t<li>1</li>\n",
       "\t<li>2</li>\n",
       "\t<li>3</li>\n",
       "\t<li>4</li>\n",
       "\t<li>5</li>\n",
       "</ol>\n"
      ],
      "text/latex": [
       "\\begin{enumerate*}\n",
       "\\item 1\n",
       "\\item 2\n",
       "\\item 3\n",
       "\\item 4\n",
       "\\item 5\n",
       "\\end{enumerate*}\n"
      ],
      "text/markdown": [
       "1. 1\n",
       "2. 2\n",
       "3. 3\n",
       "4. 4\n",
       "5. 5\n",
       "\n",
       "\n"
      ],
      "text/plain": [
       "[1] 1 2 3 4 5"
      ]
     },
     "metadata": {},
     "output_type": "display_data"
    }
   ],
   "source": [
    "my_arrange3(sample_df , a)"
   ]
  },
  {
   "cell_type": "markdown",
   "metadata": {},
   "source": [
    "#### plyrのarrangeの動作チェック"
   ]
  },
  {
   "cell_type": "code",
   "execution_count": 96,
   "metadata": {
    "collapsed": true
   },
   "outputs": [],
   "source": [
    "library(plyr)"
   ]
  },
  {
   "cell_type": "code",
   "execution_count": 97,
   "metadata": {},
   "outputs": [
    {
     "data": {
      "text/html": [
       "<pre class=language-r><code>function (df, ...) \n",
       "{\n",
       "<span style=white-space:pre-wrap>    stopifnot(is.data.frame(df))</span>\n",
       "<span style=white-space:pre-wrap>    ord &lt;- eval(substitute(order(...)), df, parent.frame())</span>\n",
       "<span style=white-space:pre-wrap>    if (length(ord) != nrow(df)) {</span>\n",
       "<span style=white-space:pre-wrap>        stop(\"Length of ordering vectors don't match data frame size\", </span>\n",
       "<span style=white-space:pre-wrap>            call. = FALSE)</span>\n",
       "<span style=white-space:pre-wrap>    }</span>\n",
       "<span style=white-space:pre-wrap>    unrowname(df[ord, , drop = FALSE])</span>\n",
       "}</code></pre>"
      ],
      "text/latex": [
       "\\begin{minted}{r}\n",
       "function (df, ...) \n",
       "\\{\n",
       "    stopifnot(is.data.frame(df))\n",
       "    ord <- eval(substitute(order(...)), df, parent.frame())\n",
       "    if (length(ord) != nrow(df)) \\{\n",
       "        stop(\"Length of ordering vectors don't match data frame size\", \n",
       "            call. = FALSE)\n",
       "    \\}\n",
       "    unrowname(df{[}ord, , drop = FALSE{]})\n",
       "\\}\n",
       "\\end{minted}"
      ],
      "text/markdown": [
       "```r\n",
       "function (df, ...) \n",
       "{\n",
       "    stopifnot(is.data.frame(df))\n",
       "    ord <- eval(substitute(order(...)), df, parent.frame())\n",
       "    if (length(ord) != nrow(df)) {\n",
       "        stop(\"Length of ordering vectors don't match data frame size\", \n",
       "            call. = FALSE)\n",
       "    }\n",
       "    unrowname(df[ord, , drop = FALSE])\n",
       "}\n",
       "```"
      ],
      "text/plain": [
       "function (df, ...) \n",
       "{\n",
       "    stopifnot(is.data.frame(df))\n",
       "    ord <- eval(substitute(order(...)), df, parent.frame())\n",
       "    if (length(ord) != nrow(df)) {\n",
       "        stop(\"Length of ordering vectors don't match data frame size\", \n",
       "            call. = FALSE)\n",
       "    }\n",
       "    unrowname(df[ord, , drop = FALSE])\n",
       "}\n",
       "<environment: namespace:plyr>"
      ]
     },
     "metadata": {},
     "output_type": "display_data"
    }
   ],
   "source": [
    "plyr::arrange"
   ]
  },
  {
   "cell_type": "code",
   "execution_count": 114,
   "metadata": {
    "collapsed": true
   },
   "outputs": [],
   "source": [
    "?transform"
   ]
  },
  {
   "cell_type": "code",
   "execution_count": 116,
   "metadata": {},
   "outputs": [
    {
     "name": "stderr",
     "output_type": "stream",
     "text": [
      "Warning message:\n",
      "\"package 'dplyr' was built under R version 3.4.2\"\n",
      "Attaching package: 'dplyr'\n",
      "\n",
      "The following objects are masked from 'package:plyr':\n",
      "\n",
      "    arrange, count, desc, failwith, id, mutate, rename, summarise,\n",
      "    summarize\n",
      "\n",
      "The following objects are masked from 'package:stats':\n",
      "\n",
      "    filter, lag\n",
      "\n",
      "The following objects are masked from 'package:base':\n",
      "\n",
      "    intersect, setdiff, setequal, union\n",
      "\n"
     ]
    }
   ],
   "source": [
    "library(dplyr)"
   ]
  },
  {
   "cell_type": "code",
   "execution_count": 117,
   "metadata": {},
   "outputs": [
    {
     "data": {
      "text/html": [
       "<table>\n",
       "<thead><tr><th scope=col>a</th><th scope=col>b</th><th scope=col>c</th><th scope=col>x</th></tr></thead>\n",
       "<tbody>\n",
       "\t<tr><td>1 </td><td>5 </td><td>5 </td><td>-1</td></tr>\n",
       "\t<tr><td>2 </td><td>4 </td><td>3 </td><td>-2</td></tr>\n",
       "\t<tr><td>3 </td><td>3 </td><td>1 </td><td>-3</td></tr>\n",
       "\t<tr><td>4 </td><td>2 </td><td>4 </td><td>-4</td></tr>\n",
       "\t<tr><td>5 </td><td>1 </td><td>1 </td><td>-5</td></tr>\n",
       "</tbody>\n",
       "</table>\n"
      ],
      "text/latex": [
       "\\begin{tabular}{r|llll}\n",
       " a & b & c & x\\\\\n",
       "\\hline\n",
       "\t 1  & 5  & 5  & -1\\\\\n",
       "\t 2  & 4  & 3  & -2\\\\\n",
       "\t 3  & 3  & 1  & -3\\\\\n",
       "\t 4  & 2  & 4  & -4\\\\\n",
       "\t 5  & 1  & 1  & -5\\\\\n",
       "\\end{tabular}\n"
      ],
      "text/markdown": [
       "\n",
       "a | b | c | x | \n",
       "|---|---|---|---|---|\n",
       "| 1  | 5  | 5  | -1 | \n",
       "| 2  | 4  | 3  | -2 | \n",
       "| 3  | 3  | 1  | -3 | \n",
       "| 4  | 2  | 4  | -4 | \n",
       "| 5  | 1  | 1  | -5 | \n",
       "\n",
       "\n"
      ],
      "text/plain": [
       "  a b c x \n",
       "1 1 5 5 -1\n",
       "2 2 4 3 -2\n",
       "3 3 3 1 -3\n",
       "4 4 2 4 -4\n",
       "5 5 1 1 -5"
      ]
     },
     "metadata": {},
     "output_type": "display_data"
    }
   ],
   "source": [
    "sample_df %>% transform(x = -a)"
   ]
  },
  {
   "cell_type": "markdown",
   "metadata": {},
   "source": [
    "### plyrのmutateの動作チェック"
   ]
  },
  {
   "cell_type": "code",
   "execution_count": 119,
   "metadata": {},
   "outputs": [
    {
     "data": {
      "text/html": [
       "<pre class=language-r><code>function (.data, ...) \n",
       "{\n",
       "<span style=white-space:pre-wrap>    stopifnot(is.data.frame(.data) || is.list(.data) || is.environment(.data))</span>\n",
       "<span style=white-space:pre-wrap>    cols &lt;- as.list(substitute(list(...))[-1])</span>\n",
       "<span style=white-space:pre-wrap>    cols &lt;- cols[names(cols) != \"\"]</span>\n",
       "<span style=white-space:pre-wrap>    for (col in names(cols)) {</span>\n",
       "<span style=white-space:pre-wrap>        .data[[col]] &lt;- eval(cols[[col]], .data, parent.frame())</span>\n",
       "<span style=white-space:pre-wrap>    }</span>\n",
       "<span style=white-space:pre-wrap>    .data</span>\n",
       "}</code></pre>"
      ],
      "text/latex": [
       "\\begin{minted}{r}\n",
       "function (.data, ...) \n",
       "\\{\n",
       "    stopifnot(is.data.frame(.data) \\textbar{}\\textbar{} is.list(.data) \\textbar{}\\textbar{} is.environment(.data))\n",
       "    cols <- as.list(substitute(list(...)){[}-1{]})\n",
       "    cols <- cols{[}names(cols) != \"\"{]}\n",
       "    for (col in names(cols)) \\{\n",
       "        .data{[}{[}col{]}{]} <- eval(cols{[}{[}col{]}{]}, .data, parent.frame())\n",
       "    \\}\n",
       "    .data\n",
       "\\}\n",
       "\\end{minted}"
      ],
      "text/markdown": [
       "```r\n",
       "function (.data, ...) \n",
       "{\n",
       "    stopifnot(is.data.frame(.data) || is.list(.data) || is.environment(.data))\n",
       "    cols <- as.list(substitute(list(...))[-1])\n",
       "    cols <- cols[names(cols) != \"\"]\n",
       "    for (col in names(cols)) {\n",
       "        .data[[col]] <- eval(cols[[col]], .data, parent.frame())\n",
       "    }\n",
       "    .data\n",
       "}\n",
       "```"
      ],
      "text/plain": [
       "function (.data, ...) \n",
       "{\n",
       "    stopifnot(is.data.frame(.data) || is.list(.data) || is.environment(.data))\n",
       "    cols <- as.list(substitute(list(...))[-1])\n",
       "    cols <- cols[names(cols) != \"\"]\n",
       "    for (col in names(cols)) {\n",
       "        .data[[col]] <- eval(cols[[col]], .data, parent.frame())\n",
       "    }\n",
       "    .data\n",
       "}\n",
       "<environment: namespace:plyr>"
      ]
     },
     "metadata": {},
     "output_type": "display_data"
    }
   ],
   "source": [
    "plyr::mutate"
   ]
  },
  {
   "cell_type": "code",
   "execution_count": 132,
   "metadata": {
    "collapsed": true
   },
   "outputs": [],
   "source": [
    "tmp0 = function (.data, ...) \n",
    "{\n",
    "    substitute(list(...))\n",
    "}"
   ]
  },
  {
   "cell_type": "code",
   "execution_count": 137,
   "metadata": {},
   "outputs": [
    {
     "data": {
      "text/html": [
       "'call'"
      ],
      "text/latex": [
       "'call'"
      ],
      "text/markdown": [
       "'call'"
      ],
      "text/plain": [
       "[1] \"call\""
      ]
     },
     "metadata": {},
     "output_type": "display_data"
    }
   ],
   "source": [
    "tmp0(sample_df , x = -a) "
   ]
  },
  {
   "cell_type": "markdown",
   "metadata": {},
   "source": [
    "#### quoteをas.listにかけると第一成分がlistであるようなlistが返る"
   ]
  },
  {
   "cell_type": "code",
   "execution_count": 139,
   "metadata": {},
   "outputs": [
    {
     "data": {
      "text/plain": [
       "[[1]]\n",
       "list\n",
       "\n",
       "$x\n",
       "[1] 1\n"
      ]
     },
     "metadata": {},
     "output_type": "display_data"
    }
   ],
   "source": [
    "as.list(quote(list(x=1))) "
   ]
  },
  {
   "cell_type": "code",
   "execution_count": 126,
   "metadata": {
    "collapsed": true
   },
   "outputs": [],
   "source": [
    "tmp = function (.data, ...) \n",
    "{\n",
    "    as.list(substitute(list(...)))\n",
    "}"
   ]
  },
  {
   "cell_type": "code",
   "execution_count": 130,
   "metadata": {},
   "outputs": [
    {
     "data": {
      "text/html": [
       "<ol class=list-inline>\n",
       "\t<li>''</li>\n",
       "\t<li>'x'</li>\n",
       "</ol>\n"
      ],
      "text/latex": [
       "\\begin{enumerate*}\n",
       "\\item ''\n",
       "\\item 'x'\n",
       "\\end{enumerate*}\n"
      ],
      "text/markdown": [
       "1. ''\n",
       "2. 'x'\n",
       "\n",
       "\n"
      ],
      "text/plain": [
       "[1] \"\"  \"x\""
      ]
     },
     "metadata": {},
     "output_type": "display_data"
    }
   ],
   "source": [
    "tmp(sample_df , x = -a) "
   ]
  },
  {
   "cell_type": "code",
   "execution_count": 141,
   "metadata": {},
   "outputs": [
    {
     "data": {
      "text/plain": [
       "[[1]]\n",
       "list\n",
       "\n",
       "$x\n",
       "[1] 1\n"
      ]
     },
     "metadata": {},
     "output_type": "display_data"
    }
   ],
   "source": [
    "as.list(quote(list(x = 1)))"
   ]
  },
  {
   "cell_type": "code",
   "execution_count": 145,
   "metadata": {},
   "outputs": [
    {
     "data": {
      "text/html": [
       "<dl>\n",
       "\t<dt>$Sepal.Length</dt>\n",
       "\t\t<dd><ol class=list-inline>\n",
       "\t<li>5.1</li>\n",
       "\t<li>4.9</li>\n",
       "\t<li>4.7</li>\n",
       "\t<li>4.6</li>\n",
       "\t<li>5</li>\n",
       "\t<li>5.4</li>\n",
       "\t<li>4.6</li>\n",
       "\t<li>5</li>\n",
       "\t<li>4.4</li>\n",
       "\t<li>4.9</li>\n",
       "\t<li>5.4</li>\n",
       "\t<li>4.8</li>\n",
       "\t<li>4.8</li>\n",
       "\t<li>4.3</li>\n",
       "\t<li>5.8</li>\n",
       "\t<li>5.7</li>\n",
       "\t<li>5.4</li>\n",
       "\t<li>5.1</li>\n",
       "\t<li>5.7</li>\n",
       "\t<li>5.1</li>\n",
       "\t<li>5.4</li>\n",
       "\t<li>5.1</li>\n",
       "\t<li>4.6</li>\n",
       "\t<li>5.1</li>\n",
       "\t<li>4.8</li>\n",
       "\t<li>5</li>\n",
       "\t<li>5</li>\n",
       "\t<li>5.2</li>\n",
       "\t<li>5.2</li>\n",
       "\t<li>4.7</li>\n",
       "\t<li>4.8</li>\n",
       "\t<li>5.4</li>\n",
       "\t<li>5.2</li>\n",
       "\t<li>5.5</li>\n",
       "\t<li>4.9</li>\n",
       "\t<li>5</li>\n",
       "\t<li>5.5</li>\n",
       "\t<li>4.9</li>\n",
       "\t<li>4.4</li>\n",
       "\t<li>5.1</li>\n",
       "\t<li>5</li>\n",
       "\t<li>4.5</li>\n",
       "\t<li>4.4</li>\n",
       "\t<li>5</li>\n",
       "\t<li>5.1</li>\n",
       "\t<li>4.8</li>\n",
       "\t<li>5.1</li>\n",
       "\t<li>4.6</li>\n",
       "\t<li>5.3</li>\n",
       "\t<li>5</li>\n",
       "\t<li>7</li>\n",
       "\t<li>6.4</li>\n",
       "\t<li>6.9</li>\n",
       "\t<li>5.5</li>\n",
       "\t<li>6.5</li>\n",
       "\t<li>5.7</li>\n",
       "\t<li>6.3</li>\n",
       "\t<li>4.9</li>\n",
       "\t<li>6.6</li>\n",
       "\t<li>5.2</li>\n",
       "\t<li>5</li>\n",
       "\t<li>5.9</li>\n",
       "\t<li>6</li>\n",
       "\t<li>6.1</li>\n",
       "\t<li>5.6</li>\n",
       "\t<li>6.7</li>\n",
       "\t<li>5.6</li>\n",
       "\t<li>5.8</li>\n",
       "\t<li>6.2</li>\n",
       "\t<li>5.6</li>\n",
       "\t<li>5.9</li>\n",
       "\t<li>6.1</li>\n",
       "\t<li>6.3</li>\n",
       "\t<li>6.1</li>\n",
       "\t<li>6.4</li>\n",
       "\t<li>6.6</li>\n",
       "\t<li>6.8</li>\n",
       "\t<li>6.7</li>\n",
       "\t<li>6</li>\n",
       "\t<li>5.7</li>\n",
       "\t<li>5.5</li>\n",
       "\t<li>5.5</li>\n",
       "\t<li>5.8</li>\n",
       "\t<li>6</li>\n",
       "\t<li>5.4</li>\n",
       "\t<li>6</li>\n",
       "\t<li>6.7</li>\n",
       "\t<li>6.3</li>\n",
       "\t<li>5.6</li>\n",
       "\t<li>5.5</li>\n",
       "\t<li>5.5</li>\n",
       "\t<li>6.1</li>\n",
       "\t<li>5.8</li>\n",
       "\t<li>5</li>\n",
       "\t<li>5.6</li>\n",
       "\t<li>5.7</li>\n",
       "\t<li>5.7</li>\n",
       "\t<li>6.2</li>\n",
       "\t<li>5.1</li>\n",
       "\t<li>5.7</li>\n",
       "\t<li>6.3</li>\n",
       "\t<li>5.8</li>\n",
       "\t<li>7.1</li>\n",
       "\t<li>6.3</li>\n",
       "\t<li>6.5</li>\n",
       "\t<li>7.6</li>\n",
       "\t<li>4.9</li>\n",
       "\t<li>7.3</li>\n",
       "\t<li>6.7</li>\n",
       "\t<li>7.2</li>\n",
       "\t<li>6.5</li>\n",
       "\t<li>6.4</li>\n",
       "\t<li>6.8</li>\n",
       "\t<li>5.7</li>\n",
       "\t<li>5.8</li>\n",
       "\t<li>6.4</li>\n",
       "\t<li>6.5</li>\n",
       "\t<li>7.7</li>\n",
       "\t<li>7.7</li>\n",
       "\t<li>6</li>\n",
       "\t<li>6.9</li>\n",
       "\t<li>5.6</li>\n",
       "\t<li>7.7</li>\n",
       "\t<li>6.3</li>\n",
       "\t<li>6.7</li>\n",
       "\t<li>7.2</li>\n",
       "\t<li>6.2</li>\n",
       "\t<li>6.1</li>\n",
       "\t<li>6.4</li>\n",
       "\t<li>7.2</li>\n",
       "\t<li>7.4</li>\n",
       "\t<li>7.9</li>\n",
       "\t<li>6.4</li>\n",
       "\t<li>6.3</li>\n",
       "\t<li>6.1</li>\n",
       "\t<li>7.7</li>\n",
       "\t<li>6.3</li>\n",
       "\t<li>6.4</li>\n",
       "\t<li>6</li>\n",
       "\t<li>6.9</li>\n",
       "\t<li>6.7</li>\n",
       "\t<li>6.9</li>\n",
       "\t<li>5.8</li>\n",
       "\t<li>6.8</li>\n",
       "\t<li>6.7</li>\n",
       "\t<li>6.7</li>\n",
       "\t<li>6.3</li>\n",
       "\t<li>6.5</li>\n",
       "\t<li>6.2</li>\n",
       "\t<li>5.9</li>\n",
       "</ol>\n",
       "</dd>\n",
       "\t<dt>$Sepal.Width</dt>\n",
       "\t\t<dd><ol class=list-inline>\n",
       "\t<li>3.5</li>\n",
       "\t<li>3</li>\n",
       "\t<li>3.2</li>\n",
       "\t<li>3.1</li>\n",
       "\t<li>3.6</li>\n",
       "\t<li>3.9</li>\n",
       "\t<li>3.4</li>\n",
       "\t<li>3.4</li>\n",
       "\t<li>2.9</li>\n",
       "\t<li>3.1</li>\n",
       "\t<li>3.7</li>\n",
       "\t<li>3.4</li>\n",
       "\t<li>3</li>\n",
       "\t<li>3</li>\n",
       "\t<li>4</li>\n",
       "\t<li>4.4</li>\n",
       "\t<li>3.9</li>\n",
       "\t<li>3.5</li>\n",
       "\t<li>3.8</li>\n",
       "\t<li>3.8</li>\n",
       "\t<li>3.4</li>\n",
       "\t<li>3.7</li>\n",
       "\t<li>3.6</li>\n",
       "\t<li>3.3</li>\n",
       "\t<li>3.4</li>\n",
       "\t<li>3</li>\n",
       "\t<li>3.4</li>\n",
       "\t<li>3.5</li>\n",
       "\t<li>3.4</li>\n",
       "\t<li>3.2</li>\n",
       "\t<li>3.1</li>\n",
       "\t<li>3.4</li>\n",
       "\t<li>4.1</li>\n",
       "\t<li>4.2</li>\n",
       "\t<li>3.1</li>\n",
       "\t<li>3.2</li>\n",
       "\t<li>3.5</li>\n",
       "\t<li>3.6</li>\n",
       "\t<li>3</li>\n",
       "\t<li>3.4</li>\n",
       "\t<li>3.5</li>\n",
       "\t<li>2.3</li>\n",
       "\t<li>3.2</li>\n",
       "\t<li>3.5</li>\n",
       "\t<li>3.8</li>\n",
       "\t<li>3</li>\n",
       "\t<li>3.8</li>\n",
       "\t<li>3.2</li>\n",
       "\t<li>3.7</li>\n",
       "\t<li>3.3</li>\n",
       "\t<li>3.2</li>\n",
       "\t<li>3.2</li>\n",
       "\t<li>3.1</li>\n",
       "\t<li>2.3</li>\n",
       "\t<li>2.8</li>\n",
       "\t<li>2.8</li>\n",
       "\t<li>3.3</li>\n",
       "\t<li>2.4</li>\n",
       "\t<li>2.9</li>\n",
       "\t<li>2.7</li>\n",
       "\t<li>2</li>\n",
       "\t<li>3</li>\n",
       "\t<li>2.2</li>\n",
       "\t<li>2.9</li>\n",
       "\t<li>2.9</li>\n",
       "\t<li>3.1</li>\n",
       "\t<li>3</li>\n",
       "\t<li>2.7</li>\n",
       "\t<li>2.2</li>\n",
       "\t<li>2.5</li>\n",
       "\t<li>3.2</li>\n",
       "\t<li>2.8</li>\n",
       "\t<li>2.5</li>\n",
       "\t<li>2.8</li>\n",
       "\t<li>2.9</li>\n",
       "\t<li>3</li>\n",
       "\t<li>2.8</li>\n",
       "\t<li>3</li>\n",
       "\t<li>2.9</li>\n",
       "\t<li>2.6</li>\n",
       "\t<li>2.4</li>\n",
       "\t<li>2.4</li>\n",
       "\t<li>2.7</li>\n",
       "\t<li>2.7</li>\n",
       "\t<li>3</li>\n",
       "\t<li>3.4</li>\n",
       "\t<li>3.1</li>\n",
       "\t<li>2.3</li>\n",
       "\t<li>3</li>\n",
       "\t<li>2.5</li>\n",
       "\t<li>2.6</li>\n",
       "\t<li>3</li>\n",
       "\t<li>2.6</li>\n",
       "\t<li>2.3</li>\n",
       "\t<li>2.7</li>\n",
       "\t<li>3</li>\n",
       "\t<li>2.9</li>\n",
       "\t<li>2.9</li>\n",
       "\t<li>2.5</li>\n",
       "\t<li>2.8</li>\n",
       "\t<li>3.3</li>\n",
       "\t<li>2.7</li>\n",
       "\t<li>3</li>\n",
       "\t<li>2.9</li>\n",
       "\t<li>3</li>\n",
       "\t<li>3</li>\n",
       "\t<li>2.5</li>\n",
       "\t<li>2.9</li>\n",
       "\t<li>2.5</li>\n",
       "\t<li>3.6</li>\n",
       "\t<li>3.2</li>\n",
       "\t<li>2.7</li>\n",
       "\t<li>3</li>\n",
       "\t<li>2.5</li>\n",
       "\t<li>2.8</li>\n",
       "\t<li>3.2</li>\n",
       "\t<li>3</li>\n",
       "\t<li>3.8</li>\n",
       "\t<li>2.6</li>\n",
       "\t<li>2.2</li>\n",
       "\t<li>3.2</li>\n",
       "\t<li>2.8</li>\n",
       "\t<li>2.8</li>\n",
       "\t<li>2.7</li>\n",
       "\t<li>3.3</li>\n",
       "\t<li>3.2</li>\n",
       "\t<li>2.8</li>\n",
       "\t<li>3</li>\n",
       "\t<li>2.8</li>\n",
       "\t<li>3</li>\n",
       "\t<li>2.8</li>\n",
       "\t<li>3.8</li>\n",
       "\t<li>2.8</li>\n",
       "\t<li>2.8</li>\n",
       "\t<li>2.6</li>\n",
       "\t<li>3</li>\n",
       "\t<li>3.4</li>\n",
       "\t<li>3.1</li>\n",
       "\t<li>3</li>\n",
       "\t<li>3.1</li>\n",
       "\t<li>3.1</li>\n",
       "\t<li>3.1</li>\n",
       "\t<li>2.7</li>\n",
       "\t<li>3.2</li>\n",
       "\t<li>3.3</li>\n",
       "\t<li>3</li>\n",
       "\t<li>2.5</li>\n",
       "\t<li>3</li>\n",
       "\t<li>3.4</li>\n",
       "\t<li>3</li>\n",
       "</ol>\n",
       "</dd>\n",
       "\t<dt>$Petal.Length</dt>\n",
       "\t\t<dd><ol class=list-inline>\n",
       "\t<li>1.4</li>\n",
       "\t<li>1.4</li>\n",
       "\t<li>1.3</li>\n",
       "\t<li>1.5</li>\n",
       "\t<li>1.4</li>\n",
       "\t<li>1.7</li>\n",
       "\t<li>1.4</li>\n",
       "\t<li>1.5</li>\n",
       "\t<li>1.4</li>\n",
       "\t<li>1.5</li>\n",
       "\t<li>1.5</li>\n",
       "\t<li>1.6</li>\n",
       "\t<li>1.4</li>\n",
       "\t<li>1.1</li>\n",
       "\t<li>1.2</li>\n",
       "\t<li>1.5</li>\n",
       "\t<li>1.3</li>\n",
       "\t<li>1.4</li>\n",
       "\t<li>1.7</li>\n",
       "\t<li>1.5</li>\n",
       "\t<li>1.7</li>\n",
       "\t<li>1.5</li>\n",
       "\t<li>1</li>\n",
       "\t<li>1.7</li>\n",
       "\t<li>1.9</li>\n",
       "\t<li>1.6</li>\n",
       "\t<li>1.6</li>\n",
       "\t<li>1.5</li>\n",
       "\t<li>1.4</li>\n",
       "\t<li>1.6</li>\n",
       "\t<li>1.6</li>\n",
       "\t<li>1.5</li>\n",
       "\t<li>1.5</li>\n",
       "\t<li>1.4</li>\n",
       "\t<li>1.5</li>\n",
       "\t<li>1.2</li>\n",
       "\t<li>1.3</li>\n",
       "\t<li>1.4</li>\n",
       "\t<li>1.3</li>\n",
       "\t<li>1.5</li>\n",
       "\t<li>1.3</li>\n",
       "\t<li>1.3</li>\n",
       "\t<li>1.3</li>\n",
       "\t<li>1.6</li>\n",
       "\t<li>1.9</li>\n",
       "\t<li>1.4</li>\n",
       "\t<li>1.6</li>\n",
       "\t<li>1.4</li>\n",
       "\t<li>1.5</li>\n",
       "\t<li>1.4</li>\n",
       "\t<li>4.7</li>\n",
       "\t<li>4.5</li>\n",
       "\t<li>4.9</li>\n",
       "\t<li>4</li>\n",
       "\t<li>4.6</li>\n",
       "\t<li>4.5</li>\n",
       "\t<li>4.7</li>\n",
       "\t<li>3.3</li>\n",
       "\t<li>4.6</li>\n",
       "\t<li>3.9</li>\n",
       "\t<li>3.5</li>\n",
       "\t<li>4.2</li>\n",
       "\t<li>4</li>\n",
       "\t<li>4.7</li>\n",
       "\t<li>3.6</li>\n",
       "\t<li>4.4</li>\n",
       "\t<li>4.5</li>\n",
       "\t<li>4.1</li>\n",
       "\t<li>4.5</li>\n",
       "\t<li>3.9</li>\n",
       "\t<li>4.8</li>\n",
       "\t<li>4</li>\n",
       "\t<li>4.9</li>\n",
       "\t<li>4.7</li>\n",
       "\t<li>4.3</li>\n",
       "\t<li>4.4</li>\n",
       "\t<li>4.8</li>\n",
       "\t<li>5</li>\n",
       "\t<li>4.5</li>\n",
       "\t<li>3.5</li>\n",
       "\t<li>3.8</li>\n",
       "\t<li>3.7</li>\n",
       "\t<li>3.9</li>\n",
       "\t<li>5.1</li>\n",
       "\t<li>4.5</li>\n",
       "\t<li>4.5</li>\n",
       "\t<li>4.7</li>\n",
       "\t<li>4.4</li>\n",
       "\t<li>4.1</li>\n",
       "\t<li>4</li>\n",
       "\t<li>4.4</li>\n",
       "\t<li>4.6</li>\n",
       "\t<li>4</li>\n",
       "\t<li>3.3</li>\n",
       "\t<li>4.2</li>\n",
       "\t<li>4.2</li>\n",
       "\t<li>4.2</li>\n",
       "\t<li>4.3</li>\n",
       "\t<li>3</li>\n",
       "\t<li>4.1</li>\n",
       "\t<li>6</li>\n",
       "\t<li>5.1</li>\n",
       "\t<li>5.9</li>\n",
       "\t<li>5.6</li>\n",
       "\t<li>5.8</li>\n",
       "\t<li>6.6</li>\n",
       "\t<li>4.5</li>\n",
       "\t<li>6.3</li>\n",
       "\t<li>5.8</li>\n",
       "\t<li>6.1</li>\n",
       "\t<li>5.1</li>\n",
       "\t<li>5.3</li>\n",
       "\t<li>5.5</li>\n",
       "\t<li>5</li>\n",
       "\t<li>5.1</li>\n",
       "\t<li>5.3</li>\n",
       "\t<li>5.5</li>\n",
       "\t<li>6.7</li>\n",
       "\t<li>6.9</li>\n",
       "\t<li>5</li>\n",
       "\t<li>5.7</li>\n",
       "\t<li>4.9</li>\n",
       "\t<li>6.7</li>\n",
       "\t<li>4.9</li>\n",
       "\t<li>5.7</li>\n",
       "\t<li>6</li>\n",
       "\t<li>4.8</li>\n",
       "\t<li>4.9</li>\n",
       "\t<li>5.6</li>\n",
       "\t<li>5.8</li>\n",
       "\t<li>6.1</li>\n",
       "\t<li>6.4</li>\n",
       "\t<li>5.6</li>\n",
       "\t<li>5.1</li>\n",
       "\t<li>5.6</li>\n",
       "\t<li>6.1</li>\n",
       "\t<li>5.6</li>\n",
       "\t<li>5.5</li>\n",
       "\t<li>4.8</li>\n",
       "\t<li>5.4</li>\n",
       "\t<li>5.6</li>\n",
       "\t<li>5.1</li>\n",
       "\t<li>5.1</li>\n",
       "\t<li>5.9</li>\n",
       "\t<li>5.7</li>\n",
       "\t<li>5.2</li>\n",
       "\t<li>5</li>\n",
       "\t<li>5.2</li>\n",
       "\t<li>5.4</li>\n",
       "\t<li>5.1</li>\n",
       "</ol>\n",
       "</dd>\n",
       "\t<dt>$Petal.Width</dt>\n",
       "\t\t<dd><ol class=list-inline>\n",
       "\t<li>0.2</li>\n",
       "\t<li>0.2</li>\n",
       "\t<li>0.2</li>\n",
       "\t<li>0.2</li>\n",
       "\t<li>0.2</li>\n",
       "\t<li>0.4</li>\n",
       "\t<li>0.3</li>\n",
       "\t<li>0.2</li>\n",
       "\t<li>0.2</li>\n",
       "\t<li>0.1</li>\n",
       "\t<li>0.2</li>\n",
       "\t<li>0.2</li>\n",
       "\t<li>0.1</li>\n",
       "\t<li>0.1</li>\n",
       "\t<li>0.2</li>\n",
       "\t<li>0.4</li>\n",
       "\t<li>0.4</li>\n",
       "\t<li>0.3</li>\n",
       "\t<li>0.3</li>\n",
       "\t<li>0.3</li>\n",
       "\t<li>0.2</li>\n",
       "\t<li>0.4</li>\n",
       "\t<li>0.2</li>\n",
       "\t<li>0.5</li>\n",
       "\t<li>0.2</li>\n",
       "\t<li>0.2</li>\n",
       "\t<li>0.4</li>\n",
       "\t<li>0.2</li>\n",
       "\t<li>0.2</li>\n",
       "\t<li>0.2</li>\n",
       "\t<li>0.2</li>\n",
       "\t<li>0.4</li>\n",
       "\t<li>0.1</li>\n",
       "\t<li>0.2</li>\n",
       "\t<li>0.2</li>\n",
       "\t<li>0.2</li>\n",
       "\t<li>0.2</li>\n",
       "\t<li>0.1</li>\n",
       "\t<li>0.2</li>\n",
       "\t<li>0.2</li>\n",
       "\t<li>0.3</li>\n",
       "\t<li>0.3</li>\n",
       "\t<li>0.2</li>\n",
       "\t<li>0.6</li>\n",
       "\t<li>0.4</li>\n",
       "\t<li>0.3</li>\n",
       "\t<li>0.2</li>\n",
       "\t<li>0.2</li>\n",
       "\t<li>0.2</li>\n",
       "\t<li>0.2</li>\n",
       "\t<li>1.4</li>\n",
       "\t<li>1.5</li>\n",
       "\t<li>1.5</li>\n",
       "\t<li>1.3</li>\n",
       "\t<li>1.5</li>\n",
       "\t<li>1.3</li>\n",
       "\t<li>1.6</li>\n",
       "\t<li>1</li>\n",
       "\t<li>1.3</li>\n",
       "\t<li>1.4</li>\n",
       "\t<li>1</li>\n",
       "\t<li>1.5</li>\n",
       "\t<li>1</li>\n",
       "\t<li>1.4</li>\n",
       "\t<li>1.3</li>\n",
       "\t<li>1.4</li>\n",
       "\t<li>1.5</li>\n",
       "\t<li>1</li>\n",
       "\t<li>1.5</li>\n",
       "\t<li>1.1</li>\n",
       "\t<li>1.8</li>\n",
       "\t<li>1.3</li>\n",
       "\t<li>1.5</li>\n",
       "\t<li>1.2</li>\n",
       "\t<li>1.3</li>\n",
       "\t<li>1.4</li>\n",
       "\t<li>1.4</li>\n",
       "\t<li>1.7</li>\n",
       "\t<li>1.5</li>\n",
       "\t<li>1</li>\n",
       "\t<li>1.1</li>\n",
       "\t<li>1</li>\n",
       "\t<li>1.2</li>\n",
       "\t<li>1.6</li>\n",
       "\t<li>1.5</li>\n",
       "\t<li>1.6</li>\n",
       "\t<li>1.5</li>\n",
       "\t<li>1.3</li>\n",
       "\t<li>1.3</li>\n",
       "\t<li>1.3</li>\n",
       "\t<li>1.2</li>\n",
       "\t<li>1.4</li>\n",
       "\t<li>1.2</li>\n",
       "\t<li>1</li>\n",
       "\t<li>1.3</li>\n",
       "\t<li>1.2</li>\n",
       "\t<li>1.3</li>\n",
       "\t<li>1.3</li>\n",
       "\t<li>1.1</li>\n",
       "\t<li>1.3</li>\n",
       "\t<li>2.5</li>\n",
       "\t<li>1.9</li>\n",
       "\t<li>2.1</li>\n",
       "\t<li>1.8</li>\n",
       "\t<li>2.2</li>\n",
       "\t<li>2.1</li>\n",
       "\t<li>1.7</li>\n",
       "\t<li>1.8</li>\n",
       "\t<li>1.8</li>\n",
       "\t<li>2.5</li>\n",
       "\t<li>2</li>\n",
       "\t<li>1.9</li>\n",
       "\t<li>2.1</li>\n",
       "\t<li>2</li>\n",
       "\t<li>2.4</li>\n",
       "\t<li>2.3</li>\n",
       "\t<li>1.8</li>\n",
       "\t<li>2.2</li>\n",
       "\t<li>2.3</li>\n",
       "\t<li>1.5</li>\n",
       "\t<li>2.3</li>\n",
       "\t<li>2</li>\n",
       "\t<li>2</li>\n",
       "\t<li>1.8</li>\n",
       "\t<li>2.1</li>\n",
       "\t<li>1.8</li>\n",
       "\t<li>1.8</li>\n",
       "\t<li>1.8</li>\n",
       "\t<li>2.1</li>\n",
       "\t<li>1.6</li>\n",
       "\t<li>1.9</li>\n",
       "\t<li>2</li>\n",
       "\t<li>2.2</li>\n",
       "\t<li>1.5</li>\n",
       "\t<li>1.4</li>\n",
       "\t<li>2.3</li>\n",
       "\t<li>2.4</li>\n",
       "\t<li>1.8</li>\n",
       "\t<li>1.8</li>\n",
       "\t<li>2.1</li>\n",
       "\t<li>2.4</li>\n",
       "\t<li>2.3</li>\n",
       "\t<li>1.9</li>\n",
       "\t<li>2.3</li>\n",
       "\t<li>2.5</li>\n",
       "\t<li>2.3</li>\n",
       "\t<li>1.9</li>\n",
       "\t<li>2</li>\n",
       "\t<li>2.3</li>\n",
       "\t<li>1.8</li>\n",
       "</ol>\n",
       "</dd>\n",
       "\t<dt>$Species</dt>\n",
       "\t\t<dd><ol class=list-inline>\n",
       "\t<li>setosa</li>\n",
       "\t<li>setosa</li>\n",
       "\t<li>setosa</li>\n",
       "\t<li>setosa</li>\n",
       "\t<li>setosa</li>\n",
       "\t<li>setosa</li>\n",
       "\t<li>setosa</li>\n",
       "\t<li>setosa</li>\n",
       "\t<li>setosa</li>\n",
       "\t<li>setosa</li>\n",
       "\t<li>setosa</li>\n",
       "\t<li>setosa</li>\n",
       "\t<li>setosa</li>\n",
       "\t<li>setosa</li>\n",
       "\t<li>setosa</li>\n",
       "\t<li>setosa</li>\n",
       "\t<li>setosa</li>\n",
       "\t<li>setosa</li>\n",
       "\t<li>setosa</li>\n",
       "\t<li>setosa</li>\n",
       "\t<li>setosa</li>\n",
       "\t<li>setosa</li>\n",
       "\t<li>setosa</li>\n",
       "\t<li>setosa</li>\n",
       "\t<li>setosa</li>\n",
       "\t<li>setosa</li>\n",
       "\t<li>setosa</li>\n",
       "\t<li>setosa</li>\n",
       "\t<li>setosa</li>\n",
       "\t<li>setosa</li>\n",
       "\t<li>setosa</li>\n",
       "\t<li>setosa</li>\n",
       "\t<li>setosa</li>\n",
       "\t<li>setosa</li>\n",
       "\t<li>setosa</li>\n",
       "\t<li>setosa</li>\n",
       "\t<li>setosa</li>\n",
       "\t<li>setosa</li>\n",
       "\t<li>setosa</li>\n",
       "\t<li>setosa</li>\n",
       "\t<li>setosa</li>\n",
       "\t<li>setosa</li>\n",
       "\t<li>setosa</li>\n",
       "\t<li>setosa</li>\n",
       "\t<li>setosa</li>\n",
       "\t<li>setosa</li>\n",
       "\t<li>setosa</li>\n",
       "\t<li>setosa</li>\n",
       "\t<li>setosa</li>\n",
       "\t<li>setosa</li>\n",
       "\t<li>versicolor</li>\n",
       "\t<li>versicolor</li>\n",
       "\t<li>versicolor</li>\n",
       "\t<li>versicolor</li>\n",
       "\t<li>versicolor</li>\n",
       "\t<li>versicolor</li>\n",
       "\t<li>versicolor</li>\n",
       "\t<li>versicolor</li>\n",
       "\t<li>versicolor</li>\n",
       "\t<li>versicolor</li>\n",
       "\t<li>versicolor</li>\n",
       "\t<li>versicolor</li>\n",
       "\t<li>versicolor</li>\n",
       "\t<li>versicolor</li>\n",
       "\t<li>versicolor</li>\n",
       "\t<li>versicolor</li>\n",
       "\t<li>versicolor</li>\n",
       "\t<li>versicolor</li>\n",
       "\t<li>versicolor</li>\n",
       "\t<li>versicolor</li>\n",
       "\t<li>versicolor</li>\n",
       "\t<li>versicolor</li>\n",
       "\t<li>versicolor</li>\n",
       "\t<li>versicolor</li>\n",
       "\t<li>versicolor</li>\n",
       "\t<li>versicolor</li>\n",
       "\t<li>versicolor</li>\n",
       "\t<li>versicolor</li>\n",
       "\t<li>versicolor</li>\n",
       "\t<li>versicolor</li>\n",
       "\t<li>versicolor</li>\n",
       "\t<li>versicolor</li>\n",
       "\t<li>versicolor</li>\n",
       "\t<li>versicolor</li>\n",
       "\t<li>versicolor</li>\n",
       "\t<li>versicolor</li>\n",
       "\t<li>versicolor</li>\n",
       "\t<li>versicolor</li>\n",
       "\t<li>versicolor</li>\n",
       "\t<li>versicolor</li>\n",
       "\t<li>versicolor</li>\n",
       "\t<li>versicolor</li>\n",
       "\t<li>versicolor</li>\n",
       "\t<li>versicolor</li>\n",
       "\t<li>versicolor</li>\n",
       "\t<li>versicolor</li>\n",
       "\t<li>versicolor</li>\n",
       "\t<li>versicolor</li>\n",
       "\t<li>versicolor</li>\n",
       "\t<li>versicolor</li>\n",
       "\t<li>virginica</li>\n",
       "\t<li>virginica</li>\n",
       "\t<li>virginica</li>\n",
       "\t<li>virginica</li>\n",
       "\t<li>virginica</li>\n",
       "\t<li>virginica</li>\n",
       "\t<li>virginica</li>\n",
       "\t<li>virginica</li>\n",
       "\t<li>virginica</li>\n",
       "\t<li>virginica</li>\n",
       "\t<li>virginica</li>\n",
       "\t<li>virginica</li>\n",
       "\t<li>virginica</li>\n",
       "\t<li>virginica</li>\n",
       "\t<li>virginica</li>\n",
       "\t<li>virginica</li>\n",
       "\t<li>virginica</li>\n",
       "\t<li>virginica</li>\n",
       "\t<li>virginica</li>\n",
       "\t<li>virginica</li>\n",
       "\t<li>virginica</li>\n",
       "\t<li>virginica</li>\n",
       "\t<li>virginica</li>\n",
       "\t<li>virginica</li>\n",
       "\t<li>virginica</li>\n",
       "\t<li>virginica</li>\n",
       "\t<li>virginica</li>\n",
       "\t<li>virginica</li>\n",
       "\t<li>virginica</li>\n",
       "\t<li>virginica</li>\n",
       "\t<li>virginica</li>\n",
       "\t<li>virginica</li>\n",
       "\t<li>virginica</li>\n",
       "\t<li>virginica</li>\n",
       "\t<li>virginica</li>\n",
       "\t<li>virginica</li>\n",
       "\t<li>virginica</li>\n",
       "\t<li>virginica</li>\n",
       "\t<li>virginica</li>\n",
       "\t<li>virginica</li>\n",
       "\t<li>virginica</li>\n",
       "\t<li>virginica</li>\n",
       "\t<li>virginica</li>\n",
       "\t<li>virginica</li>\n",
       "\t<li>virginica</li>\n",
       "\t<li>virginica</li>\n",
       "\t<li>virginica</li>\n",
       "\t<li>virginica</li>\n",
       "\t<li>virginica</li>\n",
       "\t<li>virginica</li>\n",
       "</ol>\n",
       "</dd>\n",
       "</dl>\n"
      ],
      "text/latex": [
       "\\begin{description}\n",
       "\\item[\\$Sepal.Length] \\begin{enumerate*}\n",
       "\\item 5.1\n",
       "\\item 4.9\n",
       "\\item 4.7\n",
       "\\item 4.6\n",
       "\\item 5\n",
       "\\item 5.4\n",
       "\\item 4.6\n",
       "\\item 5\n",
       "\\item 4.4\n",
       "\\item 4.9\n",
       "\\item 5.4\n",
       "\\item 4.8\n",
       "\\item 4.8\n",
       "\\item 4.3\n",
       "\\item 5.8\n",
       "\\item 5.7\n",
       "\\item 5.4\n",
       "\\item 5.1\n",
       "\\item 5.7\n",
       "\\item 5.1\n",
       "\\item 5.4\n",
       "\\item 5.1\n",
       "\\item 4.6\n",
       "\\item 5.1\n",
       "\\item 4.8\n",
       "\\item 5\n",
       "\\item 5\n",
       "\\item 5.2\n",
       "\\item 5.2\n",
       "\\item 4.7\n",
       "\\item 4.8\n",
       "\\item 5.4\n",
       "\\item 5.2\n",
       "\\item 5.5\n",
       "\\item 4.9\n",
       "\\item 5\n",
       "\\item 5.5\n",
       "\\item 4.9\n",
       "\\item 4.4\n",
       "\\item 5.1\n",
       "\\item 5\n",
       "\\item 4.5\n",
       "\\item 4.4\n",
       "\\item 5\n",
       "\\item 5.1\n",
       "\\item 4.8\n",
       "\\item 5.1\n",
       "\\item 4.6\n",
       "\\item 5.3\n",
       "\\item 5\n",
       "\\item 7\n",
       "\\item 6.4\n",
       "\\item 6.9\n",
       "\\item 5.5\n",
       "\\item 6.5\n",
       "\\item 5.7\n",
       "\\item 6.3\n",
       "\\item 4.9\n",
       "\\item 6.6\n",
       "\\item 5.2\n",
       "\\item 5\n",
       "\\item 5.9\n",
       "\\item 6\n",
       "\\item 6.1\n",
       "\\item 5.6\n",
       "\\item 6.7\n",
       "\\item 5.6\n",
       "\\item 5.8\n",
       "\\item 6.2\n",
       "\\item 5.6\n",
       "\\item 5.9\n",
       "\\item 6.1\n",
       "\\item 6.3\n",
       "\\item 6.1\n",
       "\\item 6.4\n",
       "\\item 6.6\n",
       "\\item 6.8\n",
       "\\item 6.7\n",
       "\\item 6\n",
       "\\item 5.7\n",
       "\\item 5.5\n",
       "\\item 5.5\n",
       "\\item 5.8\n",
       "\\item 6\n",
       "\\item 5.4\n",
       "\\item 6\n",
       "\\item 6.7\n",
       "\\item 6.3\n",
       "\\item 5.6\n",
       "\\item 5.5\n",
       "\\item 5.5\n",
       "\\item 6.1\n",
       "\\item 5.8\n",
       "\\item 5\n",
       "\\item 5.6\n",
       "\\item 5.7\n",
       "\\item 5.7\n",
       "\\item 6.2\n",
       "\\item 5.1\n",
       "\\item 5.7\n",
       "\\item 6.3\n",
       "\\item 5.8\n",
       "\\item 7.1\n",
       "\\item 6.3\n",
       "\\item 6.5\n",
       "\\item 7.6\n",
       "\\item 4.9\n",
       "\\item 7.3\n",
       "\\item 6.7\n",
       "\\item 7.2\n",
       "\\item 6.5\n",
       "\\item 6.4\n",
       "\\item 6.8\n",
       "\\item 5.7\n",
       "\\item 5.8\n",
       "\\item 6.4\n",
       "\\item 6.5\n",
       "\\item 7.7\n",
       "\\item 7.7\n",
       "\\item 6\n",
       "\\item 6.9\n",
       "\\item 5.6\n",
       "\\item 7.7\n",
       "\\item 6.3\n",
       "\\item 6.7\n",
       "\\item 7.2\n",
       "\\item 6.2\n",
       "\\item 6.1\n",
       "\\item 6.4\n",
       "\\item 7.2\n",
       "\\item 7.4\n",
       "\\item 7.9\n",
       "\\item 6.4\n",
       "\\item 6.3\n",
       "\\item 6.1\n",
       "\\item 7.7\n",
       "\\item 6.3\n",
       "\\item 6.4\n",
       "\\item 6\n",
       "\\item 6.9\n",
       "\\item 6.7\n",
       "\\item 6.9\n",
       "\\item 5.8\n",
       "\\item 6.8\n",
       "\\item 6.7\n",
       "\\item 6.7\n",
       "\\item 6.3\n",
       "\\item 6.5\n",
       "\\item 6.2\n",
       "\\item 5.9\n",
       "\\end{enumerate*}\n",
       "\n",
       "\\item[\\$Sepal.Width] \\begin{enumerate*}\n",
       "\\item 3.5\n",
       "\\item 3\n",
       "\\item 3.2\n",
       "\\item 3.1\n",
       "\\item 3.6\n",
       "\\item 3.9\n",
       "\\item 3.4\n",
       "\\item 3.4\n",
       "\\item 2.9\n",
       "\\item 3.1\n",
       "\\item 3.7\n",
       "\\item 3.4\n",
       "\\item 3\n",
       "\\item 3\n",
       "\\item 4\n",
       "\\item 4.4\n",
       "\\item 3.9\n",
       "\\item 3.5\n",
       "\\item 3.8\n",
       "\\item 3.8\n",
       "\\item 3.4\n",
       "\\item 3.7\n",
       "\\item 3.6\n",
       "\\item 3.3\n",
       "\\item 3.4\n",
       "\\item 3\n",
       "\\item 3.4\n",
       "\\item 3.5\n",
       "\\item 3.4\n",
       "\\item 3.2\n",
       "\\item 3.1\n",
       "\\item 3.4\n",
       "\\item 4.1\n",
       "\\item 4.2\n",
       "\\item 3.1\n",
       "\\item 3.2\n",
       "\\item 3.5\n",
       "\\item 3.6\n",
       "\\item 3\n",
       "\\item 3.4\n",
       "\\item 3.5\n",
       "\\item 2.3\n",
       "\\item 3.2\n",
       "\\item 3.5\n",
       "\\item 3.8\n",
       "\\item 3\n",
       "\\item 3.8\n",
       "\\item 3.2\n",
       "\\item 3.7\n",
       "\\item 3.3\n",
       "\\item 3.2\n",
       "\\item 3.2\n",
       "\\item 3.1\n",
       "\\item 2.3\n",
       "\\item 2.8\n",
       "\\item 2.8\n",
       "\\item 3.3\n",
       "\\item 2.4\n",
       "\\item 2.9\n",
       "\\item 2.7\n",
       "\\item 2\n",
       "\\item 3\n",
       "\\item 2.2\n",
       "\\item 2.9\n",
       "\\item 2.9\n",
       "\\item 3.1\n",
       "\\item 3\n",
       "\\item 2.7\n",
       "\\item 2.2\n",
       "\\item 2.5\n",
       "\\item 3.2\n",
       "\\item 2.8\n",
       "\\item 2.5\n",
       "\\item 2.8\n",
       "\\item 2.9\n",
       "\\item 3\n",
       "\\item 2.8\n",
       "\\item 3\n",
       "\\item 2.9\n",
       "\\item 2.6\n",
       "\\item 2.4\n",
       "\\item 2.4\n",
       "\\item 2.7\n",
       "\\item 2.7\n",
       "\\item 3\n",
       "\\item 3.4\n",
       "\\item 3.1\n",
       "\\item 2.3\n",
       "\\item 3\n",
       "\\item 2.5\n",
       "\\item 2.6\n",
       "\\item 3\n",
       "\\item 2.6\n",
       "\\item 2.3\n",
       "\\item 2.7\n",
       "\\item 3\n",
       "\\item 2.9\n",
       "\\item 2.9\n",
       "\\item 2.5\n",
       "\\item 2.8\n",
       "\\item 3.3\n",
       "\\item 2.7\n",
       "\\item 3\n",
       "\\item 2.9\n",
       "\\item 3\n",
       "\\item 3\n",
       "\\item 2.5\n",
       "\\item 2.9\n",
       "\\item 2.5\n",
       "\\item 3.6\n",
       "\\item 3.2\n",
       "\\item 2.7\n",
       "\\item 3\n",
       "\\item 2.5\n",
       "\\item 2.8\n",
       "\\item 3.2\n",
       "\\item 3\n",
       "\\item 3.8\n",
       "\\item 2.6\n",
       "\\item 2.2\n",
       "\\item 3.2\n",
       "\\item 2.8\n",
       "\\item 2.8\n",
       "\\item 2.7\n",
       "\\item 3.3\n",
       "\\item 3.2\n",
       "\\item 2.8\n",
       "\\item 3\n",
       "\\item 2.8\n",
       "\\item 3\n",
       "\\item 2.8\n",
       "\\item 3.8\n",
       "\\item 2.8\n",
       "\\item 2.8\n",
       "\\item 2.6\n",
       "\\item 3\n",
       "\\item 3.4\n",
       "\\item 3.1\n",
       "\\item 3\n",
       "\\item 3.1\n",
       "\\item 3.1\n",
       "\\item 3.1\n",
       "\\item 2.7\n",
       "\\item 3.2\n",
       "\\item 3.3\n",
       "\\item 3\n",
       "\\item 2.5\n",
       "\\item 3\n",
       "\\item 3.4\n",
       "\\item 3\n",
       "\\end{enumerate*}\n",
       "\n",
       "\\item[\\$Petal.Length] \\begin{enumerate*}\n",
       "\\item 1.4\n",
       "\\item 1.4\n",
       "\\item 1.3\n",
       "\\item 1.5\n",
       "\\item 1.4\n",
       "\\item 1.7\n",
       "\\item 1.4\n",
       "\\item 1.5\n",
       "\\item 1.4\n",
       "\\item 1.5\n",
       "\\item 1.5\n",
       "\\item 1.6\n",
       "\\item 1.4\n",
       "\\item 1.1\n",
       "\\item 1.2\n",
       "\\item 1.5\n",
       "\\item 1.3\n",
       "\\item 1.4\n",
       "\\item 1.7\n",
       "\\item 1.5\n",
       "\\item 1.7\n",
       "\\item 1.5\n",
       "\\item 1\n",
       "\\item 1.7\n",
       "\\item 1.9\n",
       "\\item 1.6\n",
       "\\item 1.6\n",
       "\\item 1.5\n",
       "\\item 1.4\n",
       "\\item 1.6\n",
       "\\item 1.6\n",
       "\\item 1.5\n",
       "\\item 1.5\n",
       "\\item 1.4\n",
       "\\item 1.5\n",
       "\\item 1.2\n",
       "\\item 1.3\n",
       "\\item 1.4\n",
       "\\item 1.3\n",
       "\\item 1.5\n",
       "\\item 1.3\n",
       "\\item 1.3\n",
       "\\item 1.3\n",
       "\\item 1.6\n",
       "\\item 1.9\n",
       "\\item 1.4\n",
       "\\item 1.6\n",
       "\\item 1.4\n",
       "\\item 1.5\n",
       "\\item 1.4\n",
       "\\item 4.7\n",
       "\\item 4.5\n",
       "\\item 4.9\n",
       "\\item 4\n",
       "\\item 4.6\n",
       "\\item 4.5\n",
       "\\item 4.7\n",
       "\\item 3.3\n",
       "\\item 4.6\n",
       "\\item 3.9\n",
       "\\item 3.5\n",
       "\\item 4.2\n",
       "\\item 4\n",
       "\\item 4.7\n",
       "\\item 3.6\n",
       "\\item 4.4\n",
       "\\item 4.5\n",
       "\\item 4.1\n",
       "\\item 4.5\n",
       "\\item 3.9\n",
       "\\item 4.8\n",
       "\\item 4\n",
       "\\item 4.9\n",
       "\\item 4.7\n",
       "\\item 4.3\n",
       "\\item 4.4\n",
       "\\item 4.8\n",
       "\\item 5\n",
       "\\item 4.5\n",
       "\\item 3.5\n",
       "\\item 3.8\n",
       "\\item 3.7\n",
       "\\item 3.9\n",
       "\\item 5.1\n",
       "\\item 4.5\n",
       "\\item 4.5\n",
       "\\item 4.7\n",
       "\\item 4.4\n",
       "\\item 4.1\n",
       "\\item 4\n",
       "\\item 4.4\n",
       "\\item 4.6\n",
       "\\item 4\n",
       "\\item 3.3\n",
       "\\item 4.2\n",
       "\\item 4.2\n",
       "\\item 4.2\n",
       "\\item 4.3\n",
       "\\item 3\n",
       "\\item 4.1\n",
       "\\item 6\n",
       "\\item 5.1\n",
       "\\item 5.9\n",
       "\\item 5.6\n",
       "\\item 5.8\n",
       "\\item 6.6\n",
       "\\item 4.5\n",
       "\\item 6.3\n",
       "\\item 5.8\n",
       "\\item 6.1\n",
       "\\item 5.1\n",
       "\\item 5.3\n",
       "\\item 5.5\n",
       "\\item 5\n",
       "\\item 5.1\n",
       "\\item 5.3\n",
       "\\item 5.5\n",
       "\\item 6.7\n",
       "\\item 6.9\n",
       "\\item 5\n",
       "\\item 5.7\n",
       "\\item 4.9\n",
       "\\item 6.7\n",
       "\\item 4.9\n",
       "\\item 5.7\n",
       "\\item 6\n",
       "\\item 4.8\n",
       "\\item 4.9\n",
       "\\item 5.6\n",
       "\\item 5.8\n",
       "\\item 6.1\n",
       "\\item 6.4\n",
       "\\item 5.6\n",
       "\\item 5.1\n",
       "\\item 5.6\n",
       "\\item 6.1\n",
       "\\item 5.6\n",
       "\\item 5.5\n",
       "\\item 4.8\n",
       "\\item 5.4\n",
       "\\item 5.6\n",
       "\\item 5.1\n",
       "\\item 5.1\n",
       "\\item 5.9\n",
       "\\item 5.7\n",
       "\\item 5.2\n",
       "\\item 5\n",
       "\\item 5.2\n",
       "\\item 5.4\n",
       "\\item 5.1\n",
       "\\end{enumerate*}\n",
       "\n",
       "\\item[\\$Petal.Width] \\begin{enumerate*}\n",
       "\\item 0.2\n",
       "\\item 0.2\n",
       "\\item 0.2\n",
       "\\item 0.2\n",
       "\\item 0.2\n",
       "\\item 0.4\n",
       "\\item 0.3\n",
       "\\item 0.2\n",
       "\\item 0.2\n",
       "\\item 0.1\n",
       "\\item 0.2\n",
       "\\item 0.2\n",
       "\\item 0.1\n",
       "\\item 0.1\n",
       "\\item 0.2\n",
       "\\item 0.4\n",
       "\\item 0.4\n",
       "\\item 0.3\n",
       "\\item 0.3\n",
       "\\item 0.3\n",
       "\\item 0.2\n",
       "\\item 0.4\n",
       "\\item 0.2\n",
       "\\item 0.5\n",
       "\\item 0.2\n",
       "\\item 0.2\n",
       "\\item 0.4\n",
       "\\item 0.2\n",
       "\\item 0.2\n",
       "\\item 0.2\n",
       "\\item 0.2\n",
       "\\item 0.4\n",
       "\\item 0.1\n",
       "\\item 0.2\n",
       "\\item 0.2\n",
       "\\item 0.2\n",
       "\\item 0.2\n",
       "\\item 0.1\n",
       "\\item 0.2\n",
       "\\item 0.2\n",
       "\\item 0.3\n",
       "\\item 0.3\n",
       "\\item 0.2\n",
       "\\item 0.6\n",
       "\\item 0.4\n",
       "\\item 0.3\n",
       "\\item 0.2\n",
       "\\item 0.2\n",
       "\\item 0.2\n",
       "\\item 0.2\n",
       "\\item 1.4\n",
       "\\item 1.5\n",
       "\\item 1.5\n",
       "\\item 1.3\n",
       "\\item 1.5\n",
       "\\item 1.3\n",
       "\\item 1.6\n",
       "\\item 1\n",
       "\\item 1.3\n",
       "\\item 1.4\n",
       "\\item 1\n",
       "\\item 1.5\n",
       "\\item 1\n",
       "\\item 1.4\n",
       "\\item 1.3\n",
       "\\item 1.4\n",
       "\\item 1.5\n",
       "\\item 1\n",
       "\\item 1.5\n",
       "\\item 1.1\n",
       "\\item 1.8\n",
       "\\item 1.3\n",
       "\\item 1.5\n",
       "\\item 1.2\n",
       "\\item 1.3\n",
       "\\item 1.4\n",
       "\\item 1.4\n",
       "\\item 1.7\n",
       "\\item 1.5\n",
       "\\item 1\n",
       "\\item 1.1\n",
       "\\item 1\n",
       "\\item 1.2\n",
       "\\item 1.6\n",
       "\\item 1.5\n",
       "\\item 1.6\n",
       "\\item 1.5\n",
       "\\item 1.3\n",
       "\\item 1.3\n",
       "\\item 1.3\n",
       "\\item 1.2\n",
       "\\item 1.4\n",
       "\\item 1.2\n",
       "\\item 1\n",
       "\\item 1.3\n",
       "\\item 1.2\n",
       "\\item 1.3\n",
       "\\item 1.3\n",
       "\\item 1.1\n",
       "\\item 1.3\n",
       "\\item 2.5\n",
       "\\item 1.9\n",
       "\\item 2.1\n",
       "\\item 1.8\n",
       "\\item 2.2\n",
       "\\item 2.1\n",
       "\\item 1.7\n",
       "\\item 1.8\n",
       "\\item 1.8\n",
       "\\item 2.5\n",
       "\\item 2\n",
       "\\item 1.9\n",
       "\\item 2.1\n",
       "\\item 2\n",
       "\\item 2.4\n",
       "\\item 2.3\n",
       "\\item 1.8\n",
       "\\item 2.2\n",
       "\\item 2.3\n",
       "\\item 1.5\n",
       "\\item 2.3\n",
       "\\item 2\n",
       "\\item 2\n",
       "\\item 1.8\n",
       "\\item 2.1\n",
       "\\item 1.8\n",
       "\\item 1.8\n",
       "\\item 1.8\n",
       "\\item 2.1\n",
       "\\item 1.6\n",
       "\\item 1.9\n",
       "\\item 2\n",
       "\\item 2.2\n",
       "\\item 1.5\n",
       "\\item 1.4\n",
       "\\item 2.3\n",
       "\\item 2.4\n",
       "\\item 1.8\n",
       "\\item 1.8\n",
       "\\item 2.1\n",
       "\\item 2.4\n",
       "\\item 2.3\n",
       "\\item 1.9\n",
       "\\item 2.3\n",
       "\\item 2.5\n",
       "\\item 2.3\n",
       "\\item 1.9\n",
       "\\item 2\n",
       "\\item 2.3\n",
       "\\item 1.8\n",
       "\\end{enumerate*}\n",
       "\n",
       "\\item[\\$Species] \\begin{enumerate*}\n",
       "\\item setosa\n",
       "\\item setosa\n",
       "\\item setosa\n",
       "\\item setosa\n",
       "\\item setosa\n",
       "\\item setosa\n",
       "\\item setosa\n",
       "\\item setosa\n",
       "\\item setosa\n",
       "\\item setosa\n",
       "\\item setosa\n",
       "\\item setosa\n",
       "\\item setosa\n",
       "\\item setosa\n",
       "\\item setosa\n",
       "\\item setosa\n",
       "\\item setosa\n",
       "\\item setosa\n",
       "\\item setosa\n",
       "\\item setosa\n",
       "\\item setosa\n",
       "\\item setosa\n",
       "\\item setosa\n",
       "\\item setosa\n",
       "\\item setosa\n",
       "\\item setosa\n",
       "\\item setosa\n",
       "\\item setosa\n",
       "\\item setosa\n",
       "\\item setosa\n",
       "\\item setosa\n",
       "\\item setosa\n",
       "\\item setosa\n",
       "\\item setosa\n",
       "\\item setosa\n",
       "\\item setosa\n",
       "\\item setosa\n",
       "\\item setosa\n",
       "\\item setosa\n",
       "\\item setosa\n",
       "\\item setosa\n",
       "\\item setosa\n",
       "\\item setosa\n",
       "\\item setosa\n",
       "\\item setosa\n",
       "\\item setosa\n",
       "\\item setosa\n",
       "\\item setosa\n",
       "\\item setosa\n",
       "\\item setosa\n",
       "\\item versicolor\n",
       "\\item versicolor\n",
       "\\item versicolor\n",
       "\\item versicolor\n",
       "\\item versicolor\n",
       "\\item versicolor\n",
       "\\item versicolor\n",
       "\\item versicolor\n",
       "\\item versicolor\n",
       "\\item versicolor\n",
       "\\item versicolor\n",
       "\\item versicolor\n",
       "\\item versicolor\n",
       "\\item versicolor\n",
       "\\item versicolor\n",
       "\\item versicolor\n",
       "\\item versicolor\n",
       "\\item versicolor\n",
       "\\item versicolor\n",
       "\\item versicolor\n",
       "\\item versicolor\n",
       "\\item versicolor\n",
       "\\item versicolor\n",
       "\\item versicolor\n",
       "\\item versicolor\n",
       "\\item versicolor\n",
       "\\item versicolor\n",
       "\\item versicolor\n",
       "\\item versicolor\n",
       "\\item versicolor\n",
       "\\item versicolor\n",
       "\\item versicolor\n",
       "\\item versicolor\n",
       "\\item versicolor\n",
       "\\item versicolor\n",
       "\\item versicolor\n",
       "\\item versicolor\n",
       "\\item versicolor\n",
       "\\item versicolor\n",
       "\\item versicolor\n",
       "\\item versicolor\n",
       "\\item versicolor\n",
       "\\item versicolor\n",
       "\\item versicolor\n",
       "\\item versicolor\n",
       "\\item versicolor\n",
       "\\item versicolor\n",
       "\\item versicolor\n",
       "\\item versicolor\n",
       "\\item versicolor\n",
       "\\item virginica\n",
       "\\item virginica\n",
       "\\item virginica\n",
       "\\item virginica\n",
       "\\item virginica\n",
       "\\item virginica\n",
       "\\item virginica\n",
       "\\item virginica\n",
       "\\item virginica\n",
       "\\item virginica\n",
       "\\item virginica\n",
       "\\item virginica\n",
       "\\item virginica\n",
       "\\item virginica\n",
       "\\item virginica\n",
       "\\item virginica\n",
       "\\item virginica\n",
       "\\item virginica\n",
       "\\item virginica\n",
       "\\item virginica\n",
       "\\item virginica\n",
       "\\item virginica\n",
       "\\item virginica\n",
       "\\item virginica\n",
       "\\item virginica\n",
       "\\item virginica\n",
       "\\item virginica\n",
       "\\item virginica\n",
       "\\item virginica\n",
       "\\item virginica\n",
       "\\item virginica\n",
       "\\item virginica\n",
       "\\item virginica\n",
       "\\item virginica\n",
       "\\item virginica\n",
       "\\item virginica\n",
       "\\item virginica\n",
       "\\item virginica\n",
       "\\item virginica\n",
       "\\item virginica\n",
       "\\item virginica\n",
       "\\item virginica\n",
       "\\item virginica\n",
       "\\item virginica\n",
       "\\item virginica\n",
       "\\item virginica\n",
       "\\item virginica\n",
       "\\item virginica\n",
       "\\item virginica\n",
       "\\item virginica\n",
       "\\end{enumerate*}\n",
       "\n",
       "\\end{description}\n"
      ],
      "text/markdown": [
       "$Sepal.Length\n",
       ":   1. 5.1\n",
       "2. 4.9\n",
       "3. 4.7\n",
       "4. 4.6\n",
       "5. 5\n",
       "6. 5.4\n",
       "7. 4.6\n",
       "8. 5\n",
       "9. 4.4\n",
       "10. 4.9\n",
       "11. 5.4\n",
       "12. 4.8\n",
       "13. 4.8\n",
       "14. 4.3\n",
       "15. 5.8\n",
       "16. 5.7\n",
       "17. 5.4\n",
       "18. 5.1\n",
       "19. 5.7\n",
       "20. 5.1\n",
       "21. 5.4\n",
       "22. 5.1\n",
       "23. 4.6\n",
       "24. 5.1\n",
       "25. 4.8\n",
       "26. 5\n",
       "27. 5\n",
       "28. 5.2\n",
       "29. 5.2\n",
       "30. 4.7\n",
       "31. 4.8\n",
       "32. 5.4\n",
       "33. 5.2\n",
       "34. 5.5\n",
       "35. 4.9\n",
       "36. 5\n",
       "37. 5.5\n",
       "38. 4.9\n",
       "39. 4.4\n",
       "40. 5.1\n",
       "41. 5\n",
       "42. 4.5\n",
       "43. 4.4\n",
       "44. 5\n",
       "45. 5.1\n",
       "46. 4.8\n",
       "47. 5.1\n",
       "48. 4.6\n",
       "49. 5.3\n",
       "50. 5\n",
       "51. 7\n",
       "52. 6.4\n",
       "53. 6.9\n",
       "54. 5.5\n",
       "55. 6.5\n",
       "56. 5.7\n",
       "57. 6.3\n",
       "58. 4.9\n",
       "59. 6.6\n",
       "60. 5.2\n",
       "61. 5\n",
       "62. 5.9\n",
       "63. 6\n",
       "64. 6.1\n",
       "65. 5.6\n",
       "66. 6.7\n",
       "67. 5.6\n",
       "68. 5.8\n",
       "69. 6.2\n",
       "70. 5.6\n",
       "71. 5.9\n",
       "72. 6.1\n",
       "73. 6.3\n",
       "74. 6.1\n",
       "75. 6.4\n",
       "76. 6.6\n",
       "77. 6.8\n",
       "78. 6.7\n",
       "79. 6\n",
       "80. 5.7\n",
       "81. 5.5\n",
       "82. 5.5\n",
       "83. 5.8\n",
       "84. 6\n",
       "85. 5.4\n",
       "86. 6\n",
       "87. 6.7\n",
       "88. 6.3\n",
       "89. 5.6\n",
       "90. 5.5\n",
       "91. 5.5\n",
       "92. 6.1\n",
       "93. 5.8\n",
       "94. 5\n",
       "95. 5.6\n",
       "96. 5.7\n",
       "97. 5.7\n",
       "98. 6.2\n",
       "99. 5.1\n",
       "100. 5.7\n",
       "101. 6.3\n",
       "102. 5.8\n",
       "103. 7.1\n",
       "104. 6.3\n",
       "105. 6.5\n",
       "106. 7.6\n",
       "107. 4.9\n",
       "108. 7.3\n",
       "109. 6.7\n",
       "110. 7.2\n",
       "111. 6.5\n",
       "112. 6.4\n",
       "113. 6.8\n",
       "114. 5.7\n",
       "115. 5.8\n",
       "116. 6.4\n",
       "117. 6.5\n",
       "118. 7.7\n",
       "119. 7.7\n",
       "120. 6\n",
       "121. 6.9\n",
       "122. 5.6\n",
       "123. 7.7\n",
       "124. 6.3\n",
       "125. 6.7\n",
       "126. 7.2\n",
       "127. 6.2\n",
       "128. 6.1\n",
       "129. 6.4\n",
       "130. 7.2\n",
       "131. 7.4\n",
       "132. 7.9\n",
       "133. 6.4\n",
       "134. 6.3\n",
       "135. 6.1\n",
       "136. 7.7\n",
       "137. 6.3\n",
       "138. 6.4\n",
       "139. 6\n",
       "140. 6.9\n",
       "141. 6.7\n",
       "142. 6.9\n",
       "143. 5.8\n",
       "144. 6.8\n",
       "145. 6.7\n",
       "146. 6.7\n",
       "147. 6.3\n",
       "148. 6.5\n",
       "149. 6.2\n",
       "150. 5.9\n",
       "\n",
       "\n",
       "\n",
       "$Sepal.Width\n",
       ":   1. 3.5\n",
       "2. 3\n",
       "3. 3.2\n",
       "4. 3.1\n",
       "5. 3.6\n",
       "6. 3.9\n",
       "7. 3.4\n",
       "8. 3.4\n",
       "9. 2.9\n",
       "10. 3.1\n",
       "11. 3.7\n",
       "12. 3.4\n",
       "13. 3\n",
       "14. 3\n",
       "15. 4\n",
       "16. 4.4\n",
       "17. 3.9\n",
       "18. 3.5\n",
       "19. 3.8\n",
       "20. 3.8\n",
       "21. 3.4\n",
       "22. 3.7\n",
       "23. 3.6\n",
       "24. 3.3\n",
       "25. 3.4\n",
       "26. 3\n",
       "27. 3.4\n",
       "28. 3.5\n",
       "29. 3.4\n",
       "30. 3.2\n",
       "31. 3.1\n",
       "32. 3.4\n",
       "33. 4.1\n",
       "34. 4.2\n",
       "35. 3.1\n",
       "36. 3.2\n",
       "37. 3.5\n",
       "38. 3.6\n",
       "39. 3\n",
       "40. 3.4\n",
       "41. 3.5\n",
       "42. 2.3\n",
       "43. 3.2\n",
       "44. 3.5\n",
       "45. 3.8\n",
       "46. 3\n",
       "47. 3.8\n",
       "48. 3.2\n",
       "49. 3.7\n",
       "50. 3.3\n",
       "51. 3.2\n",
       "52. 3.2\n",
       "53. 3.1\n",
       "54. 2.3\n",
       "55. 2.8\n",
       "56. 2.8\n",
       "57. 3.3\n",
       "58. 2.4\n",
       "59. 2.9\n",
       "60. 2.7\n",
       "61. 2\n",
       "62. 3\n",
       "63. 2.2\n",
       "64. 2.9\n",
       "65. 2.9\n",
       "66. 3.1\n",
       "67. 3\n",
       "68. 2.7\n",
       "69. 2.2\n",
       "70. 2.5\n",
       "71. 3.2\n",
       "72. 2.8\n",
       "73. 2.5\n",
       "74. 2.8\n",
       "75. 2.9\n",
       "76. 3\n",
       "77. 2.8\n",
       "78. 3\n",
       "79. 2.9\n",
       "80. 2.6\n",
       "81. 2.4\n",
       "82. 2.4\n",
       "83. 2.7\n",
       "84. 2.7\n",
       "85. 3\n",
       "86. 3.4\n",
       "87. 3.1\n",
       "88. 2.3\n",
       "89. 3\n",
       "90. 2.5\n",
       "91. 2.6\n",
       "92. 3\n",
       "93. 2.6\n",
       "94. 2.3\n",
       "95. 2.7\n",
       "96. 3\n",
       "97. 2.9\n",
       "98. 2.9\n",
       "99. 2.5\n",
       "100. 2.8\n",
       "101. 3.3\n",
       "102. 2.7\n",
       "103. 3\n",
       "104. 2.9\n",
       "105. 3\n",
       "106. 3\n",
       "107. 2.5\n",
       "108. 2.9\n",
       "109. 2.5\n",
       "110. 3.6\n",
       "111. 3.2\n",
       "112. 2.7\n",
       "113. 3\n",
       "114. 2.5\n",
       "115. 2.8\n",
       "116. 3.2\n",
       "117. 3\n",
       "118. 3.8\n",
       "119. 2.6\n",
       "120. 2.2\n",
       "121. 3.2\n",
       "122. 2.8\n",
       "123. 2.8\n",
       "124. 2.7\n",
       "125. 3.3\n",
       "126. 3.2\n",
       "127. 2.8\n",
       "128. 3\n",
       "129. 2.8\n",
       "130. 3\n",
       "131. 2.8\n",
       "132. 3.8\n",
       "133. 2.8\n",
       "134. 2.8\n",
       "135. 2.6\n",
       "136. 3\n",
       "137. 3.4\n",
       "138. 3.1\n",
       "139. 3\n",
       "140. 3.1\n",
       "141. 3.1\n",
       "142. 3.1\n",
       "143. 2.7\n",
       "144. 3.2\n",
       "145. 3.3\n",
       "146. 3\n",
       "147. 2.5\n",
       "148. 3\n",
       "149. 3.4\n",
       "150. 3\n",
       "\n",
       "\n",
       "\n",
       "$Petal.Length\n",
       ":   1. 1.4\n",
       "2. 1.4\n",
       "3. 1.3\n",
       "4. 1.5\n",
       "5. 1.4\n",
       "6. 1.7\n",
       "7. 1.4\n",
       "8. 1.5\n",
       "9. 1.4\n",
       "10. 1.5\n",
       "11. 1.5\n",
       "12. 1.6\n",
       "13. 1.4\n",
       "14. 1.1\n",
       "15. 1.2\n",
       "16. 1.5\n",
       "17. 1.3\n",
       "18. 1.4\n",
       "19. 1.7\n",
       "20. 1.5\n",
       "21. 1.7\n",
       "22. 1.5\n",
       "23. 1\n",
       "24. 1.7\n",
       "25. 1.9\n",
       "26. 1.6\n",
       "27. 1.6\n",
       "28. 1.5\n",
       "29. 1.4\n",
       "30. 1.6\n",
       "31. 1.6\n",
       "32. 1.5\n",
       "33. 1.5\n",
       "34. 1.4\n",
       "35. 1.5\n",
       "36. 1.2\n",
       "37. 1.3\n",
       "38. 1.4\n",
       "39. 1.3\n",
       "40. 1.5\n",
       "41. 1.3\n",
       "42. 1.3\n",
       "43. 1.3\n",
       "44. 1.6\n",
       "45. 1.9\n",
       "46. 1.4\n",
       "47. 1.6\n",
       "48. 1.4\n",
       "49. 1.5\n",
       "50. 1.4\n",
       "51. 4.7\n",
       "52. 4.5\n",
       "53. 4.9\n",
       "54. 4\n",
       "55. 4.6\n",
       "56. 4.5\n",
       "57. 4.7\n",
       "58. 3.3\n",
       "59. 4.6\n",
       "60. 3.9\n",
       "61. 3.5\n",
       "62. 4.2\n",
       "63. 4\n",
       "64. 4.7\n",
       "65. 3.6\n",
       "66. 4.4\n",
       "67. 4.5\n",
       "68. 4.1\n",
       "69. 4.5\n",
       "70. 3.9\n",
       "71. 4.8\n",
       "72. 4\n",
       "73. 4.9\n",
       "74. 4.7\n",
       "75. 4.3\n",
       "76. 4.4\n",
       "77. 4.8\n",
       "78. 5\n",
       "79. 4.5\n",
       "80. 3.5\n",
       "81. 3.8\n",
       "82. 3.7\n",
       "83. 3.9\n",
       "84. 5.1\n",
       "85. 4.5\n",
       "86. 4.5\n",
       "87. 4.7\n",
       "88. 4.4\n",
       "89. 4.1\n",
       "90. 4\n",
       "91. 4.4\n",
       "92. 4.6\n",
       "93. 4\n",
       "94. 3.3\n",
       "95. 4.2\n",
       "96. 4.2\n",
       "97. 4.2\n",
       "98. 4.3\n",
       "99. 3\n",
       "100. 4.1\n",
       "101. 6\n",
       "102. 5.1\n",
       "103. 5.9\n",
       "104. 5.6\n",
       "105. 5.8\n",
       "106. 6.6\n",
       "107. 4.5\n",
       "108. 6.3\n",
       "109. 5.8\n",
       "110. 6.1\n",
       "111. 5.1\n",
       "112. 5.3\n",
       "113. 5.5\n",
       "114. 5\n",
       "115. 5.1\n",
       "116. 5.3\n",
       "117. 5.5\n",
       "118. 6.7\n",
       "119. 6.9\n",
       "120. 5\n",
       "121. 5.7\n",
       "122. 4.9\n",
       "123. 6.7\n",
       "124. 4.9\n",
       "125. 5.7\n",
       "126. 6\n",
       "127. 4.8\n",
       "128. 4.9\n",
       "129. 5.6\n",
       "130. 5.8\n",
       "131. 6.1\n",
       "132. 6.4\n",
       "133. 5.6\n",
       "134. 5.1\n",
       "135. 5.6\n",
       "136. 6.1\n",
       "137. 5.6\n",
       "138. 5.5\n",
       "139. 4.8\n",
       "140. 5.4\n",
       "141. 5.6\n",
       "142. 5.1\n",
       "143. 5.1\n",
       "144. 5.9\n",
       "145. 5.7\n",
       "146. 5.2\n",
       "147. 5\n",
       "148. 5.2\n",
       "149. 5.4\n",
       "150. 5.1\n",
       "\n",
       "\n",
       "\n",
       "$Petal.Width\n",
       ":   1. 0.2\n",
       "2. 0.2\n",
       "3. 0.2\n",
       "4. 0.2\n",
       "5. 0.2\n",
       "6. 0.4\n",
       "7. 0.3\n",
       "8. 0.2\n",
       "9. 0.2\n",
       "10. 0.1\n",
       "11. 0.2\n",
       "12. 0.2\n",
       "13. 0.1\n",
       "14. 0.1\n",
       "15. 0.2\n",
       "16. 0.4\n",
       "17. 0.4\n",
       "18. 0.3\n",
       "19. 0.3\n",
       "20. 0.3\n",
       "21. 0.2\n",
       "22. 0.4\n",
       "23. 0.2\n",
       "24. 0.5\n",
       "25. 0.2\n",
       "26. 0.2\n",
       "27. 0.4\n",
       "28. 0.2\n",
       "29. 0.2\n",
       "30. 0.2\n",
       "31. 0.2\n",
       "32. 0.4\n",
       "33. 0.1\n",
       "34. 0.2\n",
       "35. 0.2\n",
       "36. 0.2\n",
       "37. 0.2\n",
       "38. 0.1\n",
       "39. 0.2\n",
       "40. 0.2\n",
       "41. 0.3\n",
       "42. 0.3\n",
       "43. 0.2\n",
       "44. 0.6\n",
       "45. 0.4\n",
       "46. 0.3\n",
       "47. 0.2\n",
       "48. 0.2\n",
       "49. 0.2\n",
       "50. 0.2\n",
       "51. 1.4\n",
       "52. 1.5\n",
       "53. 1.5\n",
       "54. 1.3\n",
       "55. 1.5\n",
       "56. 1.3\n",
       "57. 1.6\n",
       "58. 1\n",
       "59. 1.3\n",
       "60. 1.4\n",
       "61. 1\n",
       "62. 1.5\n",
       "63. 1\n",
       "64. 1.4\n",
       "65. 1.3\n",
       "66. 1.4\n",
       "67. 1.5\n",
       "68. 1\n",
       "69. 1.5\n",
       "70. 1.1\n",
       "71. 1.8\n",
       "72. 1.3\n",
       "73. 1.5\n",
       "74. 1.2\n",
       "75. 1.3\n",
       "76. 1.4\n",
       "77. 1.4\n",
       "78. 1.7\n",
       "79. 1.5\n",
       "80. 1\n",
       "81. 1.1\n",
       "82. 1\n",
       "83. 1.2\n",
       "84. 1.6\n",
       "85. 1.5\n",
       "86. 1.6\n",
       "87. 1.5\n",
       "88. 1.3\n",
       "89. 1.3\n",
       "90. 1.3\n",
       "91. 1.2\n",
       "92. 1.4\n",
       "93. 1.2\n",
       "94. 1\n",
       "95. 1.3\n",
       "96. 1.2\n",
       "97. 1.3\n",
       "98. 1.3\n",
       "99. 1.1\n",
       "100. 1.3\n",
       "101. 2.5\n",
       "102. 1.9\n",
       "103. 2.1\n",
       "104. 1.8\n",
       "105. 2.2\n",
       "106. 2.1\n",
       "107. 1.7\n",
       "108. 1.8\n",
       "109. 1.8\n",
       "110. 2.5\n",
       "111. 2\n",
       "112. 1.9\n",
       "113. 2.1\n",
       "114. 2\n",
       "115. 2.4\n",
       "116. 2.3\n",
       "117. 1.8\n",
       "118. 2.2\n",
       "119. 2.3\n",
       "120. 1.5\n",
       "121. 2.3\n",
       "122. 2\n",
       "123. 2\n",
       "124. 1.8\n",
       "125. 2.1\n",
       "126. 1.8\n",
       "127. 1.8\n",
       "128. 1.8\n",
       "129. 2.1\n",
       "130. 1.6\n",
       "131. 1.9\n",
       "132. 2\n",
       "133. 2.2\n",
       "134. 1.5\n",
       "135. 1.4\n",
       "136. 2.3\n",
       "137. 2.4\n",
       "138. 1.8\n",
       "139. 1.8\n",
       "140. 2.1\n",
       "141. 2.4\n",
       "142. 2.3\n",
       "143. 1.9\n",
       "144. 2.3\n",
       "145. 2.5\n",
       "146. 2.3\n",
       "147. 1.9\n",
       "148. 2\n",
       "149. 2.3\n",
       "150. 1.8\n",
       "\n",
       "\n",
       "\n",
       "$Species\n",
       ":   1. setosa\n",
       "2. setosa\n",
       "3. setosa\n",
       "4. setosa\n",
       "5. setosa\n",
       "6. setosa\n",
       "7. setosa\n",
       "8. setosa\n",
       "9. setosa\n",
       "10. setosa\n",
       "11. setosa\n",
       "12. setosa\n",
       "13. setosa\n",
       "14. setosa\n",
       "15. setosa\n",
       "16. setosa\n",
       "17. setosa\n",
       "18. setosa\n",
       "19. setosa\n",
       "20. setosa\n",
       "21. setosa\n",
       "22. setosa\n",
       "23. setosa\n",
       "24. setosa\n",
       "25. setosa\n",
       "26. setosa\n",
       "27. setosa\n",
       "28. setosa\n",
       "29. setosa\n",
       "30. setosa\n",
       "31. setosa\n",
       "32. setosa\n",
       "33. setosa\n",
       "34. setosa\n",
       "35. setosa\n",
       "36. setosa\n",
       "37. setosa\n",
       "38. setosa\n",
       "39. setosa\n",
       "40. setosa\n",
       "41. setosa\n",
       "42. setosa\n",
       "43. setosa\n",
       "44. setosa\n",
       "45. setosa\n",
       "46. setosa\n",
       "47. setosa\n",
       "48. setosa\n",
       "49. setosa\n",
       "50. setosa\n",
       "51. versicolor\n",
       "52. versicolor\n",
       "53. versicolor\n",
       "54. versicolor\n",
       "55. versicolor\n",
       "56. versicolor\n",
       "57. versicolor\n",
       "58. versicolor\n",
       "59. versicolor\n",
       "60. versicolor\n",
       "61. versicolor\n",
       "62. versicolor\n",
       "63. versicolor\n",
       "64. versicolor\n",
       "65. versicolor\n",
       "66. versicolor\n",
       "67. versicolor\n",
       "68. versicolor\n",
       "69. versicolor\n",
       "70. versicolor\n",
       "71. versicolor\n",
       "72. versicolor\n",
       "73. versicolor\n",
       "74. versicolor\n",
       "75. versicolor\n",
       "76. versicolor\n",
       "77. versicolor\n",
       "78. versicolor\n",
       "79. versicolor\n",
       "80. versicolor\n",
       "81. versicolor\n",
       "82. versicolor\n",
       "83. versicolor\n",
       "84. versicolor\n",
       "85. versicolor\n",
       "86. versicolor\n",
       "87. versicolor\n",
       "88. versicolor\n",
       "89. versicolor\n",
       "90. versicolor\n",
       "91. versicolor\n",
       "92. versicolor\n",
       "93. versicolor\n",
       "94. versicolor\n",
       "95. versicolor\n",
       "96. versicolor\n",
       "97. versicolor\n",
       "98. versicolor\n",
       "99. versicolor\n",
       "100. versicolor\n",
       "101. virginica\n",
       "102. virginica\n",
       "103. virginica\n",
       "104. virginica\n",
       "105. virginica\n",
       "106. virginica\n",
       "107. virginica\n",
       "108. virginica\n",
       "109. virginica\n",
       "110. virginica\n",
       "111. virginica\n",
       "112. virginica\n",
       "113. virginica\n",
       "114. virginica\n",
       "115. virginica\n",
       "116. virginica\n",
       "117. virginica\n",
       "118. virginica\n",
       "119. virginica\n",
       "120. virginica\n",
       "121. virginica\n",
       "122. virginica\n",
       "123. virginica\n",
       "124. virginica\n",
       "125. virginica\n",
       "126. virginica\n",
       "127. virginica\n",
       "128. virginica\n",
       "129. virginica\n",
       "130. virginica\n",
       "131. virginica\n",
       "132. virginica\n",
       "133. virginica\n",
       "134. virginica\n",
       "135. virginica\n",
       "136. virginica\n",
       "137. virginica\n",
       "138. virginica\n",
       "139. virginica\n",
       "140. virginica\n",
       "141. virginica\n",
       "142. virginica\n",
       "143. virginica\n",
       "144. virginica\n",
       "145. virginica\n",
       "146. virginica\n",
       "147. virginica\n",
       "148. virginica\n",
       "149. virginica\n",
       "150. virginica\n",
       "\n",
       "\n",
       "\n",
       "\n",
       "\n"
      ],
      "text/plain": [
       "$Sepal.Length\n",
       "  [1] 5.1 4.9 4.7 4.6 5.0 5.4 4.6 5.0 4.4 4.9 5.4 4.8 4.8 4.3 5.8 5.7 5.4 5.1\n",
       " [19] 5.7 5.1 5.4 5.1 4.6 5.1 4.8 5.0 5.0 5.2 5.2 4.7 4.8 5.4 5.2 5.5 4.9 5.0\n",
       " [37] 5.5 4.9 4.4 5.1 5.0 4.5 4.4 5.0 5.1 4.8 5.1 4.6 5.3 5.0 7.0 6.4 6.9 5.5\n",
       " [55] 6.5 5.7 6.3 4.9 6.6 5.2 5.0 5.9 6.0 6.1 5.6 6.7 5.6 5.8 6.2 5.6 5.9 6.1\n",
       " [73] 6.3 6.1 6.4 6.6 6.8 6.7 6.0 5.7 5.5 5.5 5.8 6.0 5.4 6.0 6.7 6.3 5.6 5.5\n",
       " [91] 5.5 6.1 5.8 5.0 5.6 5.7 5.7 6.2 5.1 5.7 6.3 5.8 7.1 6.3 6.5 7.6 4.9 7.3\n",
       "[109] 6.7 7.2 6.5 6.4 6.8 5.7 5.8 6.4 6.5 7.7 7.7 6.0 6.9 5.6 7.7 6.3 6.7 7.2\n",
       "[127] 6.2 6.1 6.4 7.2 7.4 7.9 6.4 6.3 6.1 7.7 6.3 6.4 6.0 6.9 6.7 6.9 5.8 6.8\n",
       "[145] 6.7 6.7 6.3 6.5 6.2 5.9\n",
       "\n",
       "$Sepal.Width\n",
       "  [1] 3.5 3.0 3.2 3.1 3.6 3.9 3.4 3.4 2.9 3.1 3.7 3.4 3.0 3.0 4.0 4.4 3.9 3.5\n",
       " [19] 3.8 3.8 3.4 3.7 3.6 3.3 3.4 3.0 3.4 3.5 3.4 3.2 3.1 3.4 4.1 4.2 3.1 3.2\n",
       " [37] 3.5 3.6 3.0 3.4 3.5 2.3 3.2 3.5 3.8 3.0 3.8 3.2 3.7 3.3 3.2 3.2 3.1 2.3\n",
       " [55] 2.8 2.8 3.3 2.4 2.9 2.7 2.0 3.0 2.2 2.9 2.9 3.1 3.0 2.7 2.2 2.5 3.2 2.8\n",
       " [73] 2.5 2.8 2.9 3.0 2.8 3.0 2.9 2.6 2.4 2.4 2.7 2.7 3.0 3.4 3.1 2.3 3.0 2.5\n",
       " [91] 2.6 3.0 2.6 2.3 2.7 3.0 2.9 2.9 2.5 2.8 3.3 2.7 3.0 2.9 3.0 3.0 2.5 2.9\n",
       "[109] 2.5 3.6 3.2 2.7 3.0 2.5 2.8 3.2 3.0 3.8 2.6 2.2 3.2 2.8 2.8 2.7 3.3 3.2\n",
       "[127] 2.8 3.0 2.8 3.0 2.8 3.8 2.8 2.8 2.6 3.0 3.4 3.1 3.0 3.1 3.1 3.1 2.7 3.2\n",
       "[145] 3.3 3.0 2.5 3.0 3.4 3.0\n",
       "\n",
       "$Petal.Length\n",
       "  [1] 1.4 1.4 1.3 1.5 1.4 1.7 1.4 1.5 1.4 1.5 1.5 1.6 1.4 1.1 1.2 1.5 1.3 1.4\n",
       " [19] 1.7 1.5 1.7 1.5 1.0 1.7 1.9 1.6 1.6 1.5 1.4 1.6 1.6 1.5 1.5 1.4 1.5 1.2\n",
       " [37] 1.3 1.4 1.3 1.5 1.3 1.3 1.3 1.6 1.9 1.4 1.6 1.4 1.5 1.4 4.7 4.5 4.9 4.0\n",
       " [55] 4.6 4.5 4.7 3.3 4.6 3.9 3.5 4.2 4.0 4.7 3.6 4.4 4.5 4.1 4.5 3.9 4.8 4.0\n",
       " [73] 4.9 4.7 4.3 4.4 4.8 5.0 4.5 3.5 3.8 3.7 3.9 5.1 4.5 4.5 4.7 4.4 4.1 4.0\n",
       " [91] 4.4 4.6 4.0 3.3 4.2 4.2 4.2 4.3 3.0 4.1 6.0 5.1 5.9 5.6 5.8 6.6 4.5 6.3\n",
       "[109] 5.8 6.1 5.1 5.3 5.5 5.0 5.1 5.3 5.5 6.7 6.9 5.0 5.7 4.9 6.7 4.9 5.7 6.0\n",
       "[127] 4.8 4.9 5.6 5.8 6.1 6.4 5.6 5.1 5.6 6.1 5.6 5.5 4.8 5.4 5.6 5.1 5.1 5.9\n",
       "[145] 5.7 5.2 5.0 5.2 5.4 5.1\n",
       "\n",
       "$Petal.Width\n",
       "  [1] 0.2 0.2 0.2 0.2 0.2 0.4 0.3 0.2 0.2 0.1 0.2 0.2 0.1 0.1 0.2 0.4 0.4 0.3\n",
       " [19] 0.3 0.3 0.2 0.4 0.2 0.5 0.2 0.2 0.4 0.2 0.2 0.2 0.2 0.4 0.1 0.2 0.2 0.2\n",
       " [37] 0.2 0.1 0.2 0.2 0.3 0.3 0.2 0.6 0.4 0.3 0.2 0.2 0.2 0.2 1.4 1.5 1.5 1.3\n",
       " [55] 1.5 1.3 1.6 1.0 1.3 1.4 1.0 1.5 1.0 1.4 1.3 1.4 1.5 1.0 1.5 1.1 1.8 1.3\n",
       " [73] 1.5 1.2 1.3 1.4 1.4 1.7 1.5 1.0 1.1 1.0 1.2 1.6 1.5 1.6 1.5 1.3 1.3 1.3\n",
       " [91] 1.2 1.4 1.2 1.0 1.3 1.2 1.3 1.3 1.1 1.3 2.5 1.9 2.1 1.8 2.2 2.1 1.7 1.8\n",
       "[109] 1.8 2.5 2.0 1.9 2.1 2.0 2.4 2.3 1.8 2.2 2.3 1.5 2.3 2.0 2.0 1.8 2.1 1.8\n",
       "[127] 1.8 1.8 2.1 1.6 1.9 2.0 2.2 1.5 1.4 2.3 2.4 1.8 1.8 2.1 2.4 2.3 1.9 2.3\n",
       "[145] 2.5 2.3 1.9 2.0 2.3 1.8\n",
       "\n",
       "$Species\n",
       "  [1] setosa     setosa     setosa     setosa     setosa     setosa    \n",
       "  [7] setosa     setosa     setosa     setosa     setosa     setosa    \n",
       " [13] setosa     setosa     setosa     setosa     setosa     setosa    \n",
       " [19] setosa     setosa     setosa     setosa     setosa     setosa    \n",
       " [25] setosa     setosa     setosa     setosa     setosa     setosa    \n",
       " [31] setosa     setosa     setosa     setosa     setosa     setosa    \n",
       " [37] setosa     setosa     setosa     setosa     setosa     setosa    \n",
       " [43] setosa     setosa     setosa     setosa     setosa     setosa    \n",
       " [49] setosa     setosa     versicolor versicolor versicolor versicolor\n",
       " [55] versicolor versicolor versicolor versicolor versicolor versicolor\n",
       " [61] versicolor versicolor versicolor versicolor versicolor versicolor\n",
       " [67] versicolor versicolor versicolor versicolor versicolor versicolor\n",
       " [73] versicolor versicolor versicolor versicolor versicolor versicolor\n",
       " [79] versicolor versicolor versicolor versicolor versicolor versicolor\n",
       " [85] versicolor versicolor versicolor versicolor versicolor versicolor\n",
       " [91] versicolor versicolor versicolor versicolor versicolor versicolor\n",
       " [97] versicolor versicolor versicolor versicolor virginica  virginica \n",
       "[103] virginica  virginica  virginica  virginica  virginica  virginica \n",
       "[109] virginica  virginica  virginica  virginica  virginica  virginica \n",
       "[115] virginica  virginica  virginica  virginica  virginica  virginica \n",
       "[121] virginica  virginica  virginica  virginica  virginica  virginica \n",
       "[127] virginica  virginica  virginica  virginica  virginica  virginica \n",
       "[133] virginica  virginica  virginica  virginica  virginica  virginica \n",
       "[139] virginica  virginica  virginica  virginica  virginica  virginica \n",
       "[145] virginica  virginica  virginica  virginica  virginica  virginica \n",
       "Levels: setosa versicolor virginica\n"
      ]
     },
     "metadata": {},
     "output_type": "display_data"
    }
   ],
   "source": [
    "as.list(iris)"
   ]
  },
  {
   "cell_type": "code",
   "execution_count": 144,
   "metadata": {},
   "outputs": [
    {
     "data": {
      "text/plain": [
       "[[1]]\n",
       "as.list\n",
       "\n",
       "[[2]]\n",
       "sample_df\n"
      ]
     },
     "metadata": {},
     "output_type": "display_data"
    }
   ],
   "source": [
    "as.list(quote(as.list(sample_df)))"
   ]
  },
  {
   "cell_type": "code",
   "execution_count": 142,
   "metadata": {},
   "outputs": [
    {
     "data": {
      "text/plain": [
       "[[1]]\n",
       "sample_df\n"
      ]
     },
     "metadata": {},
     "output_type": "display_data"
    }
   ],
   "source": [
    "as.list(quote(sample_df))"
   ]
  },
  {
   "cell_type": "code",
   "execution_count": 131,
   "metadata": {
    "collapsed": true
   },
   "outputs": [],
   "source": [
    "tmp2 = function (.data, ...) \n",
    "{\n",
    "    as.list(substitute(list(...))[-1])\n",
    "}"
   ]
  },
  {
   "cell_type": "markdown",
   "metadata": {},
   "source": [
    "## withのチェック"
   ]
  },
  {
   "cell_type": "code",
   "execution_count": 53,
   "metadata": {},
   "outputs": [
    {
     "data": {
      "text/html": [
       "<pre class=language-r><code>function (data, expr, ...) \n",
       "eval(substitute(expr), data, enclos = parent.frame())</code></pre>"
      ],
      "text/latex": [
       "\\begin{minted}{r}\n",
       "function (data, expr, ...) \n",
       "eval(substitute(expr), data, enclos = parent.frame())\n",
       "\\end{minted}"
      ],
      "text/markdown": [
       "```r\n",
       "function (data, expr, ...) \n",
       "eval(substitute(expr), data, enclos = parent.frame())\n",
       "```"
      ],
      "text/plain": [
       "function (data, expr, ...) \n",
       "eval(substitute(expr), data, enclos = parent.frame())\n",
       "<bytecode: 0x0000000014564758>\n",
       "<environment: namespace:base>"
      ]
     },
     "metadata": {},
     "output_type": "display_data"
    }
   ],
   "source": [
    "with.default"
   ]
  },
  {
   "cell_type": "code",
   "execution_count": 54,
   "metadata": {},
   "outputs": [
    {
     "data": {
      "text/html": [
       "<pre class=language-r><code>function (data, expr, ...) \n",
       "{\n",
       "<span style=white-space:pre-wrap>    parent &lt;- parent.frame()</span>\n",
       "<span style=white-space:pre-wrap>    e &lt;- evalq(environment(), data, parent)</span>\n",
       "<span style=white-space:pre-wrap>    eval(substitute(expr), e)</span>\n",
       "<span style=white-space:pre-wrap>    l &lt;- as.list(e, all.names = TRUE)</span>\n",
       "<span style=white-space:pre-wrap>    l &lt;- l[!vapply(l, is.null, NA, USE.NAMES = FALSE)]</span>\n",
       "<span style=white-space:pre-wrap>    nD &lt;- length(del &lt;- setdiff(names(data), (nl &lt;- names(l))))</span>\n",
       "<span style=white-space:pre-wrap>    data[nl] &lt;- l</span>\n",
       "<span style=white-space:pre-wrap>    if (nD) </span>\n",
       "<span style=white-space:pre-wrap>        data[del] &lt;- if (nD == 1) </span>\n",
       "<span style=white-space:pre-wrap>            NULL</span>\n",
       "<span style=white-space:pre-wrap>        else vector(\"list\", nD)</span>\n",
       "<span style=white-space:pre-wrap>    data</span>\n",
       "}</code></pre>"
      ],
      "text/latex": [
       "\\begin{minted}{r}\n",
       "function (data, expr, ...) \n",
       "\\{\n",
       "    parent <- parent.frame()\n",
       "    e <- evalq(environment(), data, parent)\n",
       "    eval(substitute(expr), e)\n",
       "    l <- as.list(e, all.names = TRUE)\n",
       "    l <- l{[}!vapply(l, is.null, NA, USE.NAMES = FALSE){]}\n",
       "    nD <- length(del <- setdiff(names(data), (nl <- names(l))))\n",
       "    data{[}nl{]} <- l\n",
       "    if (nD) \n",
       "        data{[}del{]} <- if (nD == 1) \n",
       "            NULL\n",
       "        else vector(\"list\", nD)\n",
       "    data\n",
       "\\}\n",
       "\\end{minted}"
      ],
      "text/markdown": [
       "```r\n",
       "function (data, expr, ...) \n",
       "{\n",
       "    parent <- parent.frame()\n",
       "    e <- evalq(environment(), data, parent)\n",
       "    eval(substitute(expr), e)\n",
       "    l <- as.list(e, all.names = TRUE)\n",
       "    l <- l[!vapply(l, is.null, NA, USE.NAMES = FALSE)]\n",
       "    nD <- length(del <- setdiff(names(data), (nl <- names(l))))\n",
       "    data[nl] <- l\n",
       "    if (nD) \n",
       "        data[del] <- if (nD == 1) \n",
       "            NULL\n",
       "        else vector(\"list\", nD)\n",
       "    data\n",
       "}\n",
       "```"
      ],
      "text/plain": [
       "function (data, expr, ...) \n",
       "{\n",
       "    parent <- parent.frame()\n",
       "    e <- evalq(environment(), data, parent)\n",
       "    eval(substitute(expr), e)\n",
       "    l <- as.list(e, all.names = TRUE)\n",
       "    l <- l[!vapply(l, is.null, NA, USE.NAMES = FALSE)]\n",
       "    nD <- length(del <- setdiff(names(data), (nl <- names(l))))\n",
       "    data[nl] <- l\n",
       "    if (nD) \n",
       "        data[del] <- if (nD == 1) \n",
       "            NULL\n",
       "        else vector(\"list\", nD)\n",
       "    data\n",
       "}\n",
       "<bytecode: 0x00000000148cff40>\n",
       "<environment: namespace:base>"
      ]
     },
     "metadata": {},
     "output_type": "display_data"
    }
   ],
   "source": [
    "within.data.frame"
   ]
  },
  {
   "cell_type": "markdown",
   "metadata": {},
   "source": [
    "#### evalqはcurrent scopeでの評価を避ける："
   ]
  },
  {
   "cell_type": "code",
   "execution_count": 56,
   "metadata": {
    "collapsed": true
   },
   "outputs": [],
   "source": [
    "?evalq"
   ]
  },
  {
   "cell_type": "markdown",
   "metadata": {},
   "source": [
    "#### 以下ではenvironment()がlistとして評価されている。"
   ]
  },
  {
   "cell_type": "code",
   "execution_count": 57,
   "metadata": {
    "collapsed": true
   },
   "outputs": [],
   "source": [
    "tmp3 = function (data, expr, ...) \n",
    "{\n",
    "    parent <- parent.frame()\n",
    "    evalq(environment(), data, parent)\n",
    "    }"
   ]
  },
  {
   "cell_type": "code",
   "execution_count": 62,
   "metadata": {
    "collapsed": true
   },
   "outputs": [],
   "source": [
    "tmp4 = tmp3(sample_df , a)"
   ]
  },
  {
   "cell_type": "code",
   "execution_count": 60,
   "metadata": {},
   "outputs": [
    {
     "data": {
      "text/html": [
       "<ol class=list-inline>\n",
       "\t<li>'a'</li>\n",
       "\t<li>'b'</li>\n",
       "\t<li>'c'</li>\n",
       "</ol>\n"
      ],
      "text/latex": [
       "\\begin{enumerate*}\n",
       "\\item 'a'\n",
       "\\item 'b'\n",
       "\\item 'c'\n",
       "\\end{enumerate*}\n"
      ],
      "text/markdown": [
       "1. 'a'\n",
       "2. 'b'\n",
       "3. 'c'\n",
       "\n",
       "\n"
      ],
      "text/plain": [
       "[1] \"a\" \"b\" \"c\""
      ]
     },
     "metadata": {},
     "output_type": "display_data"
    }
   ],
   "source": [
    "ls(envir = tmp3(sample_df , x = -a))"
   ]
  },
  {
   "cell_type": "code",
   "execution_count": 72,
   "metadata": {},
   "outputs": [
    {
     "data": {
      "text/html": [
       "<ol class=list-inline>\n",
       "\t<li>5</li>\n",
       "\t<li>3</li>\n",
       "\t<li>1</li>\n",
       "\t<li>4</li>\n",
       "\t<li>1</li>\n",
       "</ol>\n"
      ],
      "text/latex": [
       "\\begin{enumerate*}\n",
       "\\item 5\n",
       "\\item 3\n",
       "\\item 1\n",
       "\\item 4\n",
       "\\item 1\n",
       "\\end{enumerate*}\n"
      ],
      "text/markdown": [
       "1. 5\n",
       "2. 3\n",
       "3. 1\n",
       "4. 4\n",
       "5. 1\n",
       "\n",
       "\n"
      ],
      "text/plain": [
       "[1] 5 3 1 4 1"
      ]
     },
     "metadata": {},
     "output_type": "display_data"
    }
   ],
   "source": [
    "eval(as.name(ls(tmp4)[3]) , tmp4)"
   ]
  },
  {
   "cell_type": "markdown",
   "metadata": {},
   "source": [
    "# calling from other functions"
   ]
  },
  {
   "cell_type": "markdown",
   "metadata": {},
   "source": [
    "## what doesn't work"
   ]
  },
  {
   "cell_type": "code",
   "execution_count": 40,
   "metadata": {
    "collapsed": true
   },
   "outputs": [],
   "source": [
    "subset2 <- function(x, condition) {\n",
    "  condition_call <- substitute(condition)\n",
    "    #print(condition_call)\n",
    "    #print(ls(parent.frame()))\n",
    "    print(get(\"condition\" , envir = parent.frame()))\n",
    "    #print(eval(quote(condition) , parent.frame()))\n",
    "    #print(eval(quote(condition)))\n",
    "    print(x)\n",
    "  r <- eval(condition_call, x, parent.frame())\n",
    "\n",
    "  x[r, ]\n",
    "}\n",
    "\n",
    "scramble <- function(x) x[sample(nrow(x)), ]\n",
    "\n",
    "subscramble <- function(x, condition) {\n",
    "  #print(class(condition))\n",
    "  scramble(subset2(x, condition))\n",
    "}"
   ]
  },
  {
   "cell_type": "code",
   "execution_count": 41,
   "metadata": {},
   "outputs": [
    {
     "ename": "ERROR",
     "evalue": "Error in get(\"condition\", envir = parent.frame()): object 'a' not found\n",
     "output_type": "error",
     "traceback": [
      "Error in get(\"condition\", envir = parent.frame()): object 'a' not found\nTraceback:\n",
      "1. subscramble(sample_df, a >= 4)",
      "2. scramble(subset2(x, condition))   # at line 18 of file <text>",
      "3. subset2(x, condition)   # at line 14 of file <text>",
      "4. print(get(\"condition\", envir = parent.frame()))   # at line 5 of file <text>",
      "5. get(\"condition\", envir = parent.frame())"
     ]
    }
   ],
   "source": [
    "subscramble(sample_df, a >= 4)"
   ]
  },
  {
   "cell_type": "code",
   "execution_count": 78,
   "metadata": {},
   "outputs": [
    {
     "name": "stdout",
     "output_type": "stream",
     "text": [
      "a > 3\n"
     ]
    },
    {
     "data": {
      "text/html": [
       "<table>\n",
       "<thead><tr><th></th><th scope=col>a</th><th scope=col>b</th><th scope=col>c</th></tr></thead>\n",
       "<tbody>\n",
       "\t<tr><th scope=row>4</th><td>4</td><td>2</td><td>4</td></tr>\n",
       "\t<tr><th scope=row>5</th><td>5</td><td>1</td><td>1</td></tr>\n",
       "</tbody>\n",
       "</table>\n"
      ],
      "text/latex": [
       "\\begin{tabular}{r|lll}\n",
       "  & a & b & c\\\\\n",
       "\\hline\n",
       "\t4 & 4 & 2 & 4\\\\\n",
       "\t5 & 5 & 1 & 1\\\\\n",
       "\\end{tabular}\n"
      ],
      "text/markdown": [
       "\n",
       "| <!--/--> | a | b | c | \n",
       "|---|---|\n",
       "| 4 | 4 | 2 | 4 | \n",
       "| 5 | 5 | 1 | 1 | \n",
       "\n",
       "\n"
      ],
      "text/plain": [
       "  a b c\n",
       "4 4 2 4\n",
       "5 5 1 1"
      ]
     },
     "metadata": {},
     "output_type": "display_data"
    }
   ],
   "source": [
    "subset2(sample_df , a > 3)"
   ]
  },
  {
   "cell_type": "code",
   "execution_count": 85,
   "metadata": {},
   "outputs": [
    {
     "name": "stdout",
     "output_type": "stream",
     "text": [
      "debugging in: subset2(x, condition)\n",
      " <text>#1 の debug: {\n",
      "    condition_call <- substitute(condition)\n",
      "    print(condition_call)\n",
      "    print(x)\n",
      "    r <- eval(condition_call, x, parent.frame())\n",
      "    x[r, ]\n",
      "}\n",
      " <text>#2 の debug: condition_call <- substitute(condition)\n",
      " <text>#3 の debug: print(condition_call)\n",
      "condition\n",
      " <text>#4 の debug: print(x)\n",
      "  a b c\n",
      "1 1 5 5\n",
      "2 2 4 3\n",
      "3 3 3 1\n",
      "4 4 2 4\n",
      "5 5 1 1\n",
      " <text>#5 の debug: r <- eval(condition_call, x, parent.frame())\n"
     ]
    },
    {
     "ename": "ERROR",
     "evalue": "Error in eval(condition_call, x, parent.frame()):  オブジェクト 'a' がありません \n",
     "output_type": "error",
     "traceback": [
      "Error in eval(condition_call, x, parent.frame()):  オブジェクト 'a' がありません \nTraceback:\n",
      "1. subscramble(sample_df, a >= 4)",
      "2. scramble(subset2(x, condition))   # at line 13 of file <text>",
      "3. subset2(x, condition)   # at line 13 of file <text>",
      "4. eval(condition_call, x, parent.frame())   # at line 5 of file <text>",
      "5. eval(condition_call, x, parent.frame())"
     ]
    }
   ],
   "source": [
    "debugonce(subset2)\n",
    "subscramble(sample_df, a >= 4)"
   ]
  },
  {
   "cell_type": "markdown",
   "metadata": {},
   "source": [
    "### evalはenclosを探しに行ってしまうとenvにあるものは見に行かなくなる?"
   ]
  },
  {
   "cell_type": "code",
   "execution_count": 42,
   "metadata": {
    "collapsed": true
   },
   "outputs": [],
   "source": [
    "f = function(x) { deparse(substitute(x))}"
   ]
  },
  {
   "cell_type": "code",
   "execution_count": 57,
   "metadata": {
    "collapsed": true
   },
   "outputs": [],
   "source": [
    "f = function(x) {\n",
    "    deparse(substitute(x))\n",
    "}"
   ]
  },
  {
   "cell_type": "code",
   "execution_count": 60,
   "metadata": {
    "collapsed": true
   },
   "outputs": [],
   "source": [
    "f = function(x) {\n",
    "    eval(substitute(x) ,list(a=1111) , parent.frame())\n",
    "}"
   ]
  },
  {
   "cell_type": "code",
   "execution_count": 48,
   "metadata": {},
   "outputs": [
    {
     "data": {
      "text/html": [
       "'1 + x'"
      ],
      "text/latex": [
       "'1 + x'"
      ],
      "text/markdown": [
       "'1 + x'"
      ],
      "text/plain": [
       "[1] \"1 + x\""
      ]
     },
     "metadata": {},
     "output_type": "display_data"
    }
   ],
   "source": [
    "f(1+x)\n"
   ]
  },
  {
   "cell_type": "code",
   "execution_count": 52,
   "metadata": {
    "collapsed": true
   },
   "outputs": [],
   "source": [
    "g = function(x) {\n",
    "    f(x)\n",
    "}"
   ]
  },
  {
   "cell_type": "code",
   "execution_count": 54,
   "metadata": {
    "collapsed": true
   },
   "outputs": [],
   "source": [
    "x = 1"
   ]
  },
  {
   "cell_type": "code",
   "execution_count": 62,
   "metadata": {
    "scrolled": true
   },
   "outputs": [
    {
     "ename": "ERROR",
     "evalue": "Error in eval(substitute(x), list(a = 1111), parent.frame()): object 'a' not found\n",
     "output_type": "error",
     "traceback": [
      "Error in eval(substitute(x), list(a = 1111), parent.frame()): object 'a' not found\nTraceback:\n",
      "1. g(1 + a)",
      "2. f(x)   # at line 2 of file <text>",
      "3. eval(substitute(x), list(a = 1111), parent.frame())   # at line 2 of file <text>",
      "4. eval(substitute(x), list(a = 1111), parent.frame())"
     ]
    }
   ],
   "source": [
    "g(1+a)"
   ]
  },
  {
   "cell_type": "markdown",
   "metadata": {},
   "source": [
    "# substitute"
   ]
  },
  {
   "cell_type": "markdown",
   "metadata": {},
   "source": [
    "## envにglobalを指定したとき、substituteは置き換えを行わない"
   ]
  },
  {
   "cell_type": "code",
   "execution_count": 64,
   "metadata": {
    "collapsed": true
   },
   "outputs": [],
   "source": [
    ".e = new.env()"
   ]
  },
  {
   "cell_type": "code",
   "execution_count": 65,
   "metadata": {
    "collapsed": true
   },
   "outputs": [],
   "source": [
    "assign(\"x\" , 2 , .e)"
   ]
  },
  {
   "cell_type": "code",
   "execution_count": 67,
   "metadata": {
    "scrolled": true
   },
   "outputs": [
    {
     "data": {
      "text/html": [
       "2"
      ],
      "text/latex": [
       "2"
      ],
      "text/markdown": [
       "2"
      ],
      "text/plain": [
       "[1] 2"
      ]
     },
     "metadata": {},
     "output_type": "display_data"
    }
   ],
   "source": [
    "substitute(x  , .e)"
   ]
  },
  {
   "cell_type": "code",
   "execution_count": 70,
   "metadata": {},
   "outputs": [
    {
     "data": {
      "text/plain": [
       "x"
      ]
     },
     "metadata": {},
     "output_type": "display_data"
    }
   ],
   "source": [
    "substitute(x)"
   ]
  },
  {
   "cell_type": "code",
   "execution_count": 92,
   "metadata": {
    "scrolled": true
   },
   "outputs": [
    {
     "name": "stderr",
     "output_type": "stream",
     "text": [
      "Warning message in file(out, \"wt\"):\n",
      "\"cannot open file 'C:\\Users\\tsnoa\\AppData\\Local\\Temp\\RtmpIDYbxy\\file3e98448c78d3': No such file or directory\"Warning message in file(con, \"r\"):\n",
      "\"cannot open file 'C:\\Users\\tsnoa\\AppData\\Local\\Temp\\RtmpIDYbxy\\file3e98448c78d3': No such file or directory\"ERROR while rich displaying an object: Error in file(con, \"r\"): cannot open the connection\n",
      "\n",
      "Traceback:\n",
      "1. FUN(X[[i]], ...)\n",
      "2. tryCatch(withCallingHandlers({\n",
      " .     rpr <- mime2repr[[mime]](obj)\n",
      " .     if (is.null(rpr)) \n",
      " .         return(NULL)\n",
      " .     prepare_content(is.raw(rpr), rpr)\n",
      " . }, error = error_handler), error = outer_handler)\n",
      "3. tryCatchList(expr, classes, parentenv, handlers)\n",
      "4. tryCatchOne(expr, names, parentenv, handlers[[1L]])\n",
      "5. doTryCatch(return(expr), name, parentenv, handler)\n",
      "6. withCallingHandlers({\n",
      " .     rpr <- mime2repr[[mime]](obj)\n",
      " .     if (is.null(rpr)) \n",
      " .         return(NULL)\n",
      " .     prepare_content(is.raw(rpr), rpr)\n",
      " . }, error = error_handler)\n",
      "7. mime2repr[[mime]](obj)\n",
      "8. repr_latex.help_files_with_topic(obj)\n",
      "9. repr_help_files_with_topic_generic(obj, Rd2latex)\n",
      "10. capture.output(Rd2_(rd, package = pkgname, outputEncoding = \"UTF-8\"))\n",
      "11. evalVis(expr)\n",
      "12. withVisible(eval(expr, pf))\n",
      "13. eval(expr, pf)\n",
      "14. eval(expr, pf)\n",
      "15. Rd2_(rd, package = pkgname, outputEncoding = \"UTF-8\")\n",
      "16. .Rd_get_latex(.Rd_get_section(Rd, \"title\"))\n",
      "17. readLines(tf, warn = FALSE, encoding = \"UTF-8\")\n",
      "18. file(con, \"r\")\n"
     ]
    }
   ],
   "source": [
    "?substitute"
   ]
  },
  {
   "cell_type": "code",
   "execution_count": 85,
   "metadata": {},
   "outputs": [
    {
     "name": "stderr",
     "output_type": "stream",
     "text": [
      "\n",
      "Attaching package: 'pryr'\n",
      "\n",
      "The following object is masked _by_ '.GlobalEnv':\n",
      "\n",
      "    f\n",
      "\n"
     ]
    }
   ],
   "source": [
    "library(pryr)"
   ]
  },
  {
   "cell_type": "code",
   "execution_count": 86,
   "metadata": {},
   "outputs": [
    {
     "data": {
      "text/html": [
       "<pre class=language-r><code>function (x, env = parent.frame()) \n",
       "{\n",
       "<span style=white-space:pre-wrap>    if (identical(env, globalenv())) {</span>\n",
       "<span style=white-space:pre-wrap>        env &lt;- as.list(env)</span>\n",
       "<span style=white-space:pre-wrap>    }</span>\n",
       "<span style=white-space:pre-wrap>    substitute_q(substitute(x), env)</span>\n",
       "}</code></pre>"
      ],
      "text/latex": [
       "\\begin{minted}{r}\n",
       "function (x, env = parent.frame()) \n",
       "\\{\n",
       "    if (identical(env, globalenv())) \\{\n",
       "        env <- as.list(env)\n",
       "    \\}\n",
       "    substitute\\_q(substitute(x), env)\n",
       "\\}\n",
       "\\end{minted}"
      ],
      "text/markdown": [
       "```r\n",
       "function (x, env = parent.frame()) \n",
       "{\n",
       "    if (identical(env, globalenv())) {\n",
       "        env <- as.list(env)\n",
       "    }\n",
       "    substitute_q(substitute(x), env)\n",
       "}\n",
       "```"
      ],
      "text/plain": [
       "function (x, env = parent.frame()) \n",
       "{\n",
       "    if (identical(env, globalenv())) {\n",
       "        env <- as.list(env)\n",
       "    }\n",
       "    substitute_q(substitute(x), env)\n",
       "}\n",
       "<environment: namespace:pryr>"
      ]
     },
     "metadata": {},
     "output_type": "display_data"
    }
   ],
   "source": [
    "subs"
   ]
  },
  {
   "cell_type": "code",
   "execution_count": 88,
   "metadata": {
    "collapsed": true
   },
   "outputs": [],
   "source": [
    "x = 1"
   ]
  },
  {
   "cell_type": "code",
   "execution_count": 89,
   "metadata": {},
   "outputs": [
    {
     "data": {
      "text/html": [
       "1"
      ],
      "text/latex": [
       "1"
      ],
      "text/markdown": [
       "1"
      ],
      "text/plain": [
       "[1] 1"
      ]
     },
     "metadata": {},
     "output_type": "display_data"
    }
   ],
   "source": [
    "subs(x )"
   ]
  },
  {
   "cell_type": "code",
   "execution_count": 90,
   "metadata": {},
   "outputs": [
    {
     "ename": "ERROR",
     "evalue": "Error in eval(expr, envir, enclos): object 'a' not found\n",
     "output_type": "error",
     "traceback": [
      "Error in eval(expr, envir, enclos): object 'a' not found\nTraceback:\n"
     ]
    }
   ],
   "source": [
    "x = a + 1"
   ]
  },
  {
   "cell_type": "code",
   "execution_count": 91,
   "metadata": {},
   "outputs": [
    {
     "data": {
      "text/plain": [
       "1 + 1"
      ]
     },
     "metadata": {},
     "output_type": "display_data"
    }
   ],
   "source": [
    "subs(1+x)"
   ]
  },
  {
   "cell_type": "code",
   "execution_count": 99,
   "metadata": {
    "collapsed": true
   },
   "outputs": [],
   "source": [
    "f = function(x) {\n",
    "    a = 1\n",
    "    substitute(x)\n",
    "}"
   ]
  },
  {
   "cell_type": "code",
   "execution_count": 100,
   "metadata": {},
   "outputs": [
    {
     "data": {
      "text/plain": [
       "a + b"
      ]
     },
     "metadata": {},
     "output_type": "display_data"
    }
   ],
   "source": [
    "a=1 \n",
    "f(a+b)"
   ]
  },
  {
   "cell_type": "markdown",
   "metadata": {},
   "source": [
    "## function argumentのことをpromiseという"
   ]
  },
  {
   "cell_type": "markdown",
   "metadata": {},
   "source": [
    "## substituteの第１引数に含まれるnameは以下のルールで変換される\n"
   ]
  },
  {
   "cell_type": "markdown",
   "metadata": {},
   "source": [
    "### nameがordinary variableを指示している場合、その値で置き換える"
   ]
  },
  {
   "cell_type": "markdown",
   "metadata": {},
   "source": [
    "### nameがpromise=function argumentを指示している場合、promiseに関連付けられている表現で置き換えられる"
   ]
  },
  {
   "cell_type": "markdown",
   "metadata": {},
   "source": [
    "### \"...\"の場合、\"...\"の内容で置き換えられる"
   ]
  },
  {
   "cell_type": "code",
   "execution_count": null,
   "metadata": {
    "collapsed": true
   },
   "outputs": [],
   "source": []
  }
 ],
 "metadata": {
  "kernelspec": {
   "display_name": "R",
   "language": "R",
   "name": "ir"
  },
  "language_info": {
   "codemirror_mode": "r",
   "file_extension": ".r",
   "mimetype": "text/x-r-source",
   "name": "R",
   "pygments_lexer": "r",
   "version": "3.4.1"
  },
  "toc": {
   "nav_menu": {},
   "number_sections": true,
   "sideBar": true,
   "skip_h1_title": false,
   "toc_cell": true,
   "toc_position": {
    "height": "1102px",
    "left": "0px",
    "right": "1291.76px",
    "top": "107px",
    "width": "244px"
   },
   "toc_section_display": "block",
   "toc_window_display": true
  }
 },
 "nbformat": 4,
 "nbformat_minor": 2
}
