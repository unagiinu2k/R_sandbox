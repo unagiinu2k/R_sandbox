{
 "cells": [
  {
   "cell_type": "code",
   "execution_count": 1,
   "metadata": {},
   "outputs": [
    {
     "data": {
      "text/plain": [
       "1:10"
      ]
     },
     "metadata": {},
     "output_type": "display_data"
    }
   ],
   "source": [
    "f <- function(x) {\n",
    "  substitute(x)\n",
    "}\n",
    "f(1:10)"
   ]
  },
  {
   "cell_type": "markdown",
   "metadata": {},
   "source": [
    "substitute() works because function arguments are represented by a special type of object called a promise. A "
   ]
  },
  {
   "cell_type": "markdown",
   "metadata": {},
   "source": [
    "substituteの返り値は\"call\""
   ]
  },
  {
   "cell_type": "code",
   "execution_count": 2,
   "metadata": {},
   "outputs": [
    {
     "data": {
      "text/html": [
       "'call'"
      ],
      "text/latex": [
       "'call'"
      ],
      "text/markdown": [
       "'call'"
      ],
      "text/plain": [
       "[1] \"call\""
      ]
     },
     "metadata": {},
     "output_type": "display_data"
    }
   ],
   "source": [
    "f2 <- function(x) {\n",
    "  class(substitute(x))\n",
    "}\n",
    "f2(1:10)"
   ]
  },
  {
   "cell_type": "markdown",
   "metadata": {},
   "source": [
    "deparseはcallを食べてcharacter vectorを返す"
   ]
  },
  {
   "cell_type": "code",
   "execution_count": 8,
   "metadata": {},
   "outputs": [
    {
     "data": {
      "text/html": [
       "'1:10'"
      ],
      "text/latex": [
       "'1:10'"
      ],
      "text/markdown": [
       "'1:10'"
      ],
      "text/plain": [
       "[1] \"1:10\""
      ]
     },
     "metadata": {},
     "output_type": "display_data"
    }
   ],
   "source": [
    "f3 <- function(x) {\n",
    "  deparse(substitute(x))\n",
    "}\n",
    "\n",
    "f3(1:10)"
   ]
  },
  {
   "cell_type": "code",
   "execution_count": 9,
   "metadata": {
    "collapsed": true
   },
   "outputs": [],
   "source": [
    "g <- function(x) deparse(substitute(x))"
   ]
  },
  {
   "cell_type": "code",
   "execution_count": 10,
   "metadata": {},
   "outputs": [
    {
     "data": {
      "text/html": [
       "<ol class=list-inline>\n",
       "\t<li>'a + b + c + d + e + f + g + h + i + j + k + l + m + n + o + p + '</li>\n",
       "\t<li><span style=white-space:pre-wrap>'    q + r + s + t + u + v + w + x + y + z'</span></li>\n",
       "</ol>\n"
      ],
      "text/latex": [
       "\\begin{enumerate*}\n",
       "\\item 'a + b + c + d + e + f + g + h + i + j + k + l + m + n + o + p + '\n",
       "\\item '    q + r + s + t + u + v + w + x + y + z'\n",
       "\\end{enumerate*}\n"
      ],
      "text/markdown": [
       "1. 'a + b + c + d + e + f + g + h + i + j + k + l + m + n + o + p + '\n",
       "2. <span style=white-space:pre-wrap>'    q + r + s + t + u + v + w + x + y + z'</span>\n",
       "\n",
       "\n"
      ],
      "text/plain": [
       "[1] \"a + b + c + d + e + f + g + h + i + j + k + l + m + n + o + p + \"\n",
       "[2] \"    q + r + s + t + u + v + w + x + y + z\"                       "
      ]
     },
     "metadata": {},
     "output_type": "display_data"
    }
   ],
   "source": [
    "g(a + b + c + d + e + f + g + h + i + j + k + l + m +\n",
    "  n + o + p + q + r + s + t + u + v + w + x + y + z)"
   ]
  },
  {
   "cell_type": "code",
   "execution_count": 11,
   "metadata": {
    "collapsed": true
   },
   "outputs": [],
   "source": [
    "?deparse"
   ]
  },
  {
   "cell_type": "code",
   "execution_count": 12,
   "metadata": {},
   "outputs": [
    {
     "data": {
      "text/html": [
       "<pre class=language-r><code>function (x, ...) \n",
       "{\n",
       "<span style=white-space:pre-wrap>    if (inherits(x, \"Date\")) </span>\n",
       "<span style=white-space:pre-wrap>        return(x)</span>\n",
       "<span style=white-space:pre-wrap>    if (is.logical(x) &amp;&amp; all(is.na(x))) </span>\n",
       "<span style=white-space:pre-wrap>        return(structure(as.numeric(x), class = \"Date\"))</span>\n",
       "<span style=white-space:pre-wrap>    stop(gettextf(\"do not know how to convert '%s' to class %s\", </span>\n",
       "<span style=white-space:pre-wrap>        deparse(substitute(x)), dQuote(\"Date\")), domain = NA)</span>\n",
       "}</code></pre>"
      ],
      "text/latex": [
       "\\begin{minted}{r}\n",
       "function (x, ...) \n",
       "\\{\n",
       "    if (inherits(x, \"Date\")) \n",
       "        return(x)\n",
       "    if (is.logical(x) \\&\\& all(is.na(x))) \n",
       "        return(structure(as.numeric(x), class = \"Date\"))\n",
       "    stop(gettextf(\"do not know how to convert '\\%s' to class \\%s\", \n",
       "        deparse(substitute(x)), dQuote(\"Date\")), domain = NA)\n",
       "\\}\n",
       "\\end{minted}"
      ],
      "text/markdown": [
       "```r\n",
       "function (x, ...) \n",
       "{\n",
       "    if (inherits(x, \"Date\")) \n",
       "        return(x)\n",
       "    if (is.logical(x) && all(is.na(x))) \n",
       "        return(structure(as.numeric(x), class = \"Date\"))\n",
       "    stop(gettextf(\"do not know how to convert '%s' to class %s\", \n",
       "        deparse(substitute(x)), dQuote(\"Date\")), domain = NA)\n",
       "}\n",
       "```"
      ],
      "text/plain": [
       "function (x, ...) \n",
       "{\n",
       "    if (inherits(x, \"Date\")) \n",
       "        return(x)\n",
       "    if (is.logical(x) && all(is.na(x))) \n",
       "        return(structure(as.numeric(x), class = \"Date\"))\n",
       "    stop(gettextf(\"do not know how to convert '%s' to class %s\", \n",
       "        deparse(substitute(x)), dQuote(\"Date\")), domain = NA)\n",
       "}\n",
       "<bytecode: 0x000000001903b6a0>\n",
       "<environment: namespace:base>"
      ]
     },
     "metadata": {},
     "output_type": "display_data"
    }
   ],
   "source": [
    " as.Date.default"
   ]
  },
  {
   "cell_type": "code",
   "execution_count": 22,
   "metadata": {},
   "outputs": [
    {
     "ename": "ERROR",
     "evalue": "Error in as.Date.default(20001111, \"%y%m%d\"): do not know how to convert '20001111' to class \"Date\"\n",
     "output_type": "error",
     "traceback": [
      "Error in as.Date.default(20001111, \"%y%m%d\"): do not know how to convert '20001111' to class \"Date\"\nTraceback:\n",
      "1. as.Date.default(20001111, \"%y%m%d\")",
      "2. stop(gettextf(\"do not know how to convert '%s' to class %s\", \n .     deparse(substitute(x)), dQuote(\"Date\")), domain = NA)"
     ]
    }
   ],
   "source": [
    "as.Date.default(20001111,\"%y%m%d\")"
   ]
  },
  {
   "cell_type": "code",
   "execution_count": 16,
   "metadata": {
    "collapsed": true
   },
   "outputs": [],
   "source": [
    "?as.Date.default"
   ]
  },
  {
   "cell_type": "code",
   "execution_count": 23,
   "metadata": {
    "collapsed": true
   },
   "outputs": [],
   "source": [
    "?pairwise.t.test"
   ]
  },
  {
   "cell_type": "code",
   "execution_count": 24,
   "metadata": {},
   "outputs": [
    {
     "data": {
      "text/plain": [
       "\n",
       "\tPairwise comparisons using t tests with pooled SD \n",
       "\n",
       "data:  Ozone and Month \n",
       "\n",
       "    May     Jun     Jul     Aug    \n",
       "Jun 1.00000 -       -       -      \n",
       "Jul 0.00026 0.05113 -       -      \n",
       "Aug 0.00019 0.04987 1.00000 -      \n",
       "Sep 1.00000 1.00000 0.00488 0.00388\n",
       "\n",
       "P value adjustment method: holm "
      ]
     },
     "metadata": {},
     "output_type": "display_data"
    }
   ],
   "source": [
    "attach(airquality)\n",
    "Month <- factor(Month, labels = month.abb[5:9])\n",
    "pairwise.t.test(Ozone, Month)"
   ]
  },
  {
   "cell_type": "code",
   "execution_count": 25,
   "metadata": {},
   "outputs": [
    {
     "data": {
      "text/html": [
       "<ol class=list-inline>\n",
       "\t<li>May</li>\n",
       "\t<li>May</li>\n",
       "\t<li>May</li>\n",
       "\t<li>May</li>\n",
       "\t<li>May</li>\n",
       "\t<li>May</li>\n",
       "\t<li>May</li>\n",
       "\t<li>May</li>\n",
       "\t<li>May</li>\n",
       "\t<li>May</li>\n",
       "\t<li>May</li>\n",
       "\t<li>May</li>\n",
       "\t<li>May</li>\n",
       "\t<li>May</li>\n",
       "\t<li>May</li>\n",
       "\t<li>May</li>\n",
       "\t<li>May</li>\n",
       "\t<li>May</li>\n",
       "\t<li>May</li>\n",
       "\t<li>May</li>\n",
       "\t<li>May</li>\n",
       "\t<li>May</li>\n",
       "\t<li>May</li>\n",
       "\t<li>May</li>\n",
       "\t<li>May</li>\n",
       "\t<li>May</li>\n",
       "\t<li>May</li>\n",
       "\t<li>May</li>\n",
       "\t<li>May</li>\n",
       "\t<li>May</li>\n",
       "\t<li>May</li>\n",
       "\t<li>Jun</li>\n",
       "\t<li>Jun</li>\n",
       "\t<li>Jun</li>\n",
       "\t<li>Jun</li>\n",
       "\t<li>Jun</li>\n",
       "\t<li>Jun</li>\n",
       "\t<li>Jun</li>\n",
       "\t<li>Jun</li>\n",
       "\t<li>Jun</li>\n",
       "\t<li>Jun</li>\n",
       "\t<li>Jun</li>\n",
       "\t<li>Jun</li>\n",
       "\t<li>Jun</li>\n",
       "\t<li>Jun</li>\n",
       "\t<li>Jun</li>\n",
       "\t<li>Jun</li>\n",
       "\t<li>Jun</li>\n",
       "\t<li>Jun</li>\n",
       "\t<li>Jun</li>\n",
       "\t<li>Jun</li>\n",
       "\t<li>Jun</li>\n",
       "\t<li>Jun</li>\n",
       "\t<li>Jun</li>\n",
       "\t<li>Jun</li>\n",
       "\t<li>Jun</li>\n",
       "\t<li>Jun</li>\n",
       "\t<li>Jun</li>\n",
       "\t<li>Jun</li>\n",
       "\t<li>Jun</li>\n",
       "\t<li>Jun</li>\n",
       "\t<li>Jul</li>\n",
       "\t<li>Jul</li>\n",
       "\t<li>Jul</li>\n",
       "\t<li>Jul</li>\n",
       "\t<li>Jul</li>\n",
       "\t<li>Jul</li>\n",
       "\t<li>Jul</li>\n",
       "\t<li>Jul</li>\n",
       "\t<li>Jul</li>\n",
       "\t<li>Jul</li>\n",
       "\t<li>Jul</li>\n",
       "\t<li>Jul</li>\n",
       "\t<li>Jul</li>\n",
       "\t<li>Jul</li>\n",
       "\t<li>Jul</li>\n",
       "\t<li>Jul</li>\n",
       "\t<li>Jul</li>\n",
       "\t<li>Jul</li>\n",
       "\t<li>Jul</li>\n",
       "\t<li>Jul</li>\n",
       "\t<li>Jul</li>\n",
       "\t<li>Jul</li>\n",
       "\t<li>Jul</li>\n",
       "\t<li>Jul</li>\n",
       "\t<li>Jul</li>\n",
       "\t<li>Jul</li>\n",
       "\t<li>Jul</li>\n",
       "\t<li>Jul</li>\n",
       "\t<li>Jul</li>\n",
       "\t<li>Jul</li>\n",
       "\t<li>Jul</li>\n",
       "\t<li>Aug</li>\n",
       "\t<li>Aug</li>\n",
       "\t<li>Aug</li>\n",
       "\t<li>Aug</li>\n",
       "\t<li>Aug</li>\n",
       "\t<li>Aug</li>\n",
       "\t<li>Aug</li>\n",
       "\t<li>Aug</li>\n",
       "\t<li>Aug</li>\n",
       "\t<li>Aug</li>\n",
       "\t<li>Aug</li>\n",
       "\t<li>Aug</li>\n",
       "\t<li>Aug</li>\n",
       "\t<li>Aug</li>\n",
       "\t<li>Aug</li>\n",
       "\t<li>Aug</li>\n",
       "\t<li>Aug</li>\n",
       "\t<li>Aug</li>\n",
       "\t<li>Aug</li>\n",
       "\t<li>Aug</li>\n",
       "\t<li>Aug</li>\n",
       "\t<li>Aug</li>\n",
       "\t<li>Aug</li>\n",
       "\t<li>Aug</li>\n",
       "\t<li>Aug</li>\n",
       "\t<li>Aug</li>\n",
       "\t<li>Aug</li>\n",
       "\t<li>Aug</li>\n",
       "\t<li>Aug</li>\n",
       "\t<li>Aug</li>\n",
       "\t<li>Aug</li>\n",
       "\t<li>Sep</li>\n",
       "\t<li>Sep</li>\n",
       "\t<li>Sep</li>\n",
       "\t<li>Sep</li>\n",
       "\t<li>Sep</li>\n",
       "\t<li>Sep</li>\n",
       "\t<li>Sep</li>\n",
       "\t<li>Sep</li>\n",
       "\t<li>Sep</li>\n",
       "\t<li>Sep</li>\n",
       "\t<li>Sep</li>\n",
       "\t<li>Sep</li>\n",
       "\t<li>Sep</li>\n",
       "\t<li>Sep</li>\n",
       "\t<li>Sep</li>\n",
       "\t<li>Sep</li>\n",
       "\t<li>Sep</li>\n",
       "\t<li>Sep</li>\n",
       "\t<li>Sep</li>\n",
       "\t<li>Sep</li>\n",
       "\t<li>Sep</li>\n",
       "\t<li>Sep</li>\n",
       "\t<li>Sep</li>\n",
       "\t<li>Sep</li>\n",
       "\t<li>Sep</li>\n",
       "\t<li>Sep</li>\n",
       "\t<li>Sep</li>\n",
       "\t<li>Sep</li>\n",
       "\t<li>Sep</li>\n",
       "\t<li>Sep</li>\n",
       "</ol>\n"
      ],
      "text/latex": [
       "\\begin{enumerate*}\n",
       "\\item May\n",
       "\\item May\n",
       "\\item May\n",
       "\\item May\n",
       "\\item May\n",
       "\\item May\n",
       "\\item May\n",
       "\\item May\n",
       "\\item May\n",
       "\\item May\n",
       "\\item May\n",
       "\\item May\n",
       "\\item May\n",
       "\\item May\n",
       "\\item May\n",
       "\\item May\n",
       "\\item May\n",
       "\\item May\n",
       "\\item May\n",
       "\\item May\n",
       "\\item May\n",
       "\\item May\n",
       "\\item May\n",
       "\\item May\n",
       "\\item May\n",
       "\\item May\n",
       "\\item May\n",
       "\\item May\n",
       "\\item May\n",
       "\\item May\n",
       "\\item May\n",
       "\\item Jun\n",
       "\\item Jun\n",
       "\\item Jun\n",
       "\\item Jun\n",
       "\\item Jun\n",
       "\\item Jun\n",
       "\\item Jun\n",
       "\\item Jun\n",
       "\\item Jun\n",
       "\\item Jun\n",
       "\\item Jun\n",
       "\\item Jun\n",
       "\\item Jun\n",
       "\\item Jun\n",
       "\\item Jun\n",
       "\\item Jun\n",
       "\\item Jun\n",
       "\\item Jun\n",
       "\\item Jun\n",
       "\\item Jun\n",
       "\\item Jun\n",
       "\\item Jun\n",
       "\\item Jun\n",
       "\\item Jun\n",
       "\\item Jun\n",
       "\\item Jun\n",
       "\\item Jun\n",
       "\\item Jun\n",
       "\\item Jun\n",
       "\\item Jun\n",
       "\\item Jul\n",
       "\\item Jul\n",
       "\\item Jul\n",
       "\\item Jul\n",
       "\\item Jul\n",
       "\\item Jul\n",
       "\\item Jul\n",
       "\\item Jul\n",
       "\\item Jul\n",
       "\\item Jul\n",
       "\\item Jul\n",
       "\\item Jul\n",
       "\\item Jul\n",
       "\\item Jul\n",
       "\\item Jul\n",
       "\\item Jul\n",
       "\\item Jul\n",
       "\\item Jul\n",
       "\\item Jul\n",
       "\\item Jul\n",
       "\\item Jul\n",
       "\\item Jul\n",
       "\\item Jul\n",
       "\\item Jul\n",
       "\\item Jul\n",
       "\\item Jul\n",
       "\\item Jul\n",
       "\\item Jul\n",
       "\\item Jul\n",
       "\\item Jul\n",
       "\\item Jul\n",
       "\\item Aug\n",
       "\\item Aug\n",
       "\\item Aug\n",
       "\\item Aug\n",
       "\\item Aug\n",
       "\\item Aug\n",
       "\\item Aug\n",
       "\\item Aug\n",
       "\\item Aug\n",
       "\\item Aug\n",
       "\\item Aug\n",
       "\\item Aug\n",
       "\\item Aug\n",
       "\\item Aug\n",
       "\\item Aug\n",
       "\\item Aug\n",
       "\\item Aug\n",
       "\\item Aug\n",
       "\\item Aug\n",
       "\\item Aug\n",
       "\\item Aug\n",
       "\\item Aug\n",
       "\\item Aug\n",
       "\\item Aug\n",
       "\\item Aug\n",
       "\\item Aug\n",
       "\\item Aug\n",
       "\\item Aug\n",
       "\\item Aug\n",
       "\\item Aug\n",
       "\\item Aug\n",
       "\\item Sep\n",
       "\\item Sep\n",
       "\\item Sep\n",
       "\\item Sep\n",
       "\\item Sep\n",
       "\\item Sep\n",
       "\\item Sep\n",
       "\\item Sep\n",
       "\\item Sep\n",
       "\\item Sep\n",
       "\\item Sep\n",
       "\\item Sep\n",
       "\\item Sep\n",
       "\\item Sep\n",
       "\\item Sep\n",
       "\\item Sep\n",
       "\\item Sep\n",
       "\\item Sep\n",
       "\\item Sep\n",
       "\\item Sep\n",
       "\\item Sep\n",
       "\\item Sep\n",
       "\\item Sep\n",
       "\\item Sep\n",
       "\\item Sep\n",
       "\\item Sep\n",
       "\\item Sep\n",
       "\\item Sep\n",
       "\\item Sep\n",
       "\\item Sep\n",
       "\\end{enumerate*}\n"
      ],
      "text/markdown": [
       "1. May\n",
       "2. May\n",
       "3. May\n",
       "4. May\n",
       "5. May\n",
       "6. May\n",
       "7. May\n",
       "8. May\n",
       "9. May\n",
       "10. May\n",
       "11. May\n",
       "12. May\n",
       "13. May\n",
       "14. May\n",
       "15. May\n",
       "16. May\n",
       "17. May\n",
       "18. May\n",
       "19. May\n",
       "20. May\n",
       "21. May\n",
       "22. May\n",
       "23. May\n",
       "24. May\n",
       "25. May\n",
       "26. May\n",
       "27. May\n",
       "28. May\n",
       "29. May\n",
       "30. May\n",
       "31. May\n",
       "32. Jun\n",
       "33. Jun\n",
       "34. Jun\n",
       "35. Jun\n",
       "36. Jun\n",
       "37. Jun\n",
       "38. Jun\n",
       "39. Jun\n",
       "40. Jun\n",
       "41. Jun\n",
       "42. Jun\n",
       "43. Jun\n",
       "44. Jun\n",
       "45. Jun\n",
       "46. Jun\n",
       "47. Jun\n",
       "48. Jun\n",
       "49. Jun\n",
       "50. Jun\n",
       "51. Jun\n",
       "52. Jun\n",
       "53. Jun\n",
       "54. Jun\n",
       "55. Jun\n",
       "56. Jun\n",
       "57. Jun\n",
       "58. Jun\n",
       "59. Jun\n",
       "60. Jun\n",
       "61. Jun\n",
       "62. Jul\n",
       "63. Jul\n",
       "64. Jul\n",
       "65. Jul\n",
       "66. Jul\n",
       "67. Jul\n",
       "68. Jul\n",
       "69. Jul\n",
       "70. Jul\n",
       "71. Jul\n",
       "72. Jul\n",
       "73. Jul\n",
       "74. Jul\n",
       "75. Jul\n",
       "76. Jul\n",
       "77. Jul\n",
       "78. Jul\n",
       "79. Jul\n",
       "80. Jul\n",
       "81. Jul\n",
       "82. Jul\n",
       "83. Jul\n",
       "84. Jul\n",
       "85. Jul\n",
       "86. Jul\n",
       "87. Jul\n",
       "88. Jul\n",
       "89. Jul\n",
       "90. Jul\n",
       "91. Jul\n",
       "92. Jul\n",
       "93. Aug\n",
       "94. Aug\n",
       "95. Aug\n",
       "96. Aug\n",
       "97. Aug\n",
       "98. Aug\n",
       "99. Aug\n",
       "100. Aug\n",
       "101. Aug\n",
       "102. Aug\n",
       "103. Aug\n",
       "104. Aug\n",
       "105. Aug\n",
       "106. Aug\n",
       "107. Aug\n",
       "108. Aug\n",
       "109. Aug\n",
       "110. Aug\n",
       "111. Aug\n",
       "112. Aug\n",
       "113. Aug\n",
       "114. Aug\n",
       "115. Aug\n",
       "116. Aug\n",
       "117. Aug\n",
       "118. Aug\n",
       "119. Aug\n",
       "120. Aug\n",
       "121. Aug\n",
       "122. Aug\n",
       "123. Aug\n",
       "124. Sep\n",
       "125. Sep\n",
       "126. Sep\n",
       "127. Sep\n",
       "128. Sep\n",
       "129. Sep\n",
       "130. Sep\n",
       "131. Sep\n",
       "132. Sep\n",
       "133. Sep\n",
       "134. Sep\n",
       "135. Sep\n",
       "136. Sep\n",
       "137. Sep\n",
       "138. Sep\n",
       "139. Sep\n",
       "140. Sep\n",
       "141. Sep\n",
       "142. Sep\n",
       "143. Sep\n",
       "144. Sep\n",
       "145. Sep\n",
       "146. Sep\n",
       "147. Sep\n",
       "148. Sep\n",
       "149. Sep\n",
       "150. Sep\n",
       "151. Sep\n",
       "152. Sep\n",
       "153. Sep\n",
       "\n",
       "\n"
      ],
      "text/plain": [
       "  [1] May May May May May May May May May May May May May May May May May May\n",
       " [19] May May May May May May May May May May May May May Jun Jun Jun Jun Jun\n",
       " [37] Jun Jun Jun Jun Jun Jun Jun Jun Jun Jun Jun Jun Jun Jun Jun Jun Jun Jun\n",
       " [55] Jun Jun Jun Jun Jun Jun Jun Jul Jul Jul Jul Jul Jul Jul Jul Jul Jul Jul\n",
       " [73] Jul Jul Jul Jul Jul Jul Jul Jul Jul Jul Jul Jul Jul Jul Jul Jul Jul Jul\n",
       " [91] Jul Jul Aug Aug Aug Aug Aug Aug Aug Aug Aug Aug Aug Aug Aug Aug Aug Aug\n",
       "[109] Aug Aug Aug Aug Aug Aug Aug Aug Aug Aug Aug Aug Aug Aug Aug Sep Sep Sep\n",
       "[127] Sep Sep Sep Sep Sep Sep Sep Sep Sep Sep Sep Sep Sep Sep Sep Sep Sep Sep\n",
       "[145] Sep Sep Sep Sep Sep Sep Sep Sep Sep\n",
       "Levels: May Jun Jul Aug Sep"
      ]
     },
     "metadata": {},
     "output_type": "display_data"
    }
   ],
   "source": [
    "Month"
   ]
  },
  {
   "cell_type": "code",
   "execution_count": 26,
   "metadata": {},
   "outputs": [
    {
     "data": {
      "text/html": [
       "<pre class=language-r><code>function (x, g, p.adjust.method = p.adjust.methods, pool.sd = !paired, \n",
       "<span style=white-space:pre-wrap>    paired = FALSE, alternative = c(\"two.sided\", \"less\", \"greater\"), </span>\n",
       "<span style=white-space:pre-wrap>    ...) </span>\n",
       "{\n",
       "<span style=white-space:pre-wrap>    if (paired &amp; pool.sd) </span>\n",
       "<span style=white-space:pre-wrap>        stop(\"pooling of SD is incompatible with paired tests\")</span>\n",
       "<span style=white-space:pre-wrap>    DNAME &lt;- paste(deparse(substitute(x)), \"and\", deparse(substitute(g)))</span>\n",
       "<span style=white-space:pre-wrap>    g &lt;- factor(g)</span>\n",
       "<span style=white-space:pre-wrap>    p.adjust.method &lt;- match.arg(p.adjust.method)</span>\n",
       "<span style=white-space:pre-wrap>    alternative &lt;- match.arg(alternative)</span>\n",
       "<span style=white-space:pre-wrap>    if (pool.sd) {</span>\n",
       "<span style=white-space:pre-wrap>        METHOD &lt;- \"t tests with pooled SD\"</span>\n",
       "<span style=white-space:pre-wrap>        xbar &lt;- tapply(x, g, mean, na.rm = TRUE)</span>\n",
       "<span style=white-space:pre-wrap>        s &lt;- tapply(x, g, sd, na.rm = TRUE)</span>\n",
       "<span style=white-space:pre-wrap>        n &lt;- tapply(!is.na(x), g, sum)</span>\n",
       "<span style=white-space:pre-wrap>        degf &lt;- n - 1</span>\n",
       "<span style=white-space:pre-wrap>        total.degf &lt;- sum(degf)</span>\n",
       "<span style=white-space:pre-wrap>        pooled.sd &lt;- sqrt(sum(s^2 * degf)/total.degf)</span>\n",
       "<span style=white-space:pre-wrap>        compare.levels &lt;- function(i, j) {</span>\n",
       "<span style=white-space:pre-wrap>            dif &lt;- xbar[i] - xbar[j]</span>\n",
       "<span style=white-space:pre-wrap>            se.dif &lt;- pooled.sd * sqrt(1/n[i] + 1/n[j])</span>\n",
       "<span style=white-space:pre-wrap>            t.val &lt;- dif/se.dif</span>\n",
       "<span style=white-space:pre-wrap>            if (alternative == \"two.sided\") </span>\n",
       "<span style=white-space:pre-wrap>                2 * pt(-abs(t.val), total.degf)</span>\n",
       "<span style=white-space:pre-wrap>            else pt(t.val, total.degf, lower.tail = (alternative == </span>\n",
       "<span style=white-space:pre-wrap>                \"less\"))</span>\n",
       "<span style=white-space:pre-wrap>        }</span>\n",
       "<span style=white-space:pre-wrap>    }</span>\n",
       "<span style=white-space:pre-wrap>    else {</span>\n",
       "<span style=white-space:pre-wrap>        METHOD &lt;- if (paired) </span>\n",
       "<span style=white-space:pre-wrap>            \"paired t tests\"</span>\n",
       "<span style=white-space:pre-wrap>        else \"t tests with non-pooled SD\"</span>\n",
       "<span style=white-space:pre-wrap>        compare.levels &lt;- function(i, j) {</span>\n",
       "<span style=white-space:pre-wrap>            xi &lt;- x[as.integer(g) == i]</span>\n",
       "<span style=white-space:pre-wrap>            xj &lt;- x[as.integer(g) == j]</span>\n",
       "<span style=white-space:pre-wrap>            t.test(xi, xj, paired = paired, alternative = alternative, </span>\n",
       "<span style=white-space:pre-wrap>                ...)$p.value</span>\n",
       "<span style=white-space:pre-wrap>        }</span>\n",
       "<span style=white-space:pre-wrap>    }</span>\n",
       "<span style=white-space:pre-wrap>    PVAL &lt;- pairwise.table(compare.levels, levels(g), p.adjust.method)</span>\n",
       "<span style=white-space:pre-wrap>    ans &lt;- list(method = METHOD, data.name = DNAME, p.value = PVAL, </span>\n",
       "<span style=white-space:pre-wrap>        p.adjust.method = p.adjust.method)</span>\n",
       "<span style=white-space:pre-wrap>    class(ans) &lt;- \"pairwise.htest\"</span>\n",
       "<span style=white-space:pre-wrap>    ans</span>\n",
       "}</code></pre>"
      ],
      "text/latex": [
       "\\begin{minted}{r}\n",
       "function (x, g, p.adjust.method = p.adjust.methods, pool.sd = !paired, \n",
       "    paired = FALSE, alternative = c(\"two.sided\", \"less\", \"greater\"), \n",
       "    ...) \n",
       "\\{\n",
       "    if (paired \\& pool.sd) \n",
       "        stop(\"pooling of SD is incompatible with paired tests\")\n",
       "    DNAME <- paste(deparse(substitute(x)), \"and\", deparse(substitute(g)))\n",
       "    g <- factor(g)\n",
       "    p.adjust.method <- match.arg(p.adjust.method)\n",
       "    alternative <- match.arg(alternative)\n",
       "    if (pool.sd) \\{\n",
       "        METHOD <- \"t tests with pooled SD\"\n",
       "        xbar <- tapply(x, g, mean, na.rm = TRUE)\n",
       "        s <- tapply(x, g, sd, na.rm = TRUE)\n",
       "        n <- tapply(!is.na(x), g, sum)\n",
       "        degf <- n - 1\n",
       "        total.degf <- sum(degf)\n",
       "        pooled.sd <- sqrt(sum(s\\textasciicircum{}2 * degf)/total.degf)\n",
       "        compare.levels <- function(i, j) \\{\n",
       "            dif <- xbar{[}i{]} - xbar{[}j{]}\n",
       "            se.dif <- pooled.sd * sqrt(1/n{[}i{]} + 1/n{[}j{]})\n",
       "            t.val <- dif/se.dif\n",
       "            if (alternative == \"two.sided\") \n",
       "                2 * pt(-abs(t.val), total.degf)\n",
       "            else pt(t.val, total.degf, lower.tail = (alternative == \n",
       "                \"less\"))\n",
       "        \\}\n",
       "    \\}\n",
       "    else \\{\n",
       "        METHOD <- if (paired) \n",
       "            \"paired t tests\"\n",
       "        else \"t tests with non-pooled SD\"\n",
       "        compare.levels <- function(i, j) \\{\n",
       "            xi <- x{[}as.integer(g) == i{]}\n",
       "            xj <- x{[}as.integer(g) == j{]}\n",
       "            t.test(xi, xj, paired = paired, alternative = alternative, \n",
       "                ...)\\$p.value\n",
       "        \\}\n",
       "    \\}\n",
       "    PVAL <- pairwise.table(compare.levels, levels(g), p.adjust.method)\n",
       "    ans <- list(method = METHOD, data.name = DNAME, p.value = PVAL, \n",
       "        p.adjust.method = p.adjust.method)\n",
       "    class(ans) <- \"pairwise.htest\"\n",
       "    ans\n",
       "\\}\n",
       "\\end{minted}"
      ],
      "text/markdown": [
       "```r\n",
       "function (x, g, p.adjust.method = p.adjust.methods, pool.sd = !paired, \n",
       "    paired = FALSE, alternative = c(\"two.sided\", \"less\", \"greater\"), \n",
       "    ...) \n",
       "{\n",
       "    if (paired & pool.sd) \n",
       "        stop(\"pooling of SD is incompatible with paired tests\")\n",
       "    DNAME <- paste(deparse(substitute(x)), \"and\", deparse(substitute(g)))\n",
       "    g <- factor(g)\n",
       "    p.adjust.method <- match.arg(p.adjust.method)\n",
       "    alternative <- match.arg(alternative)\n",
       "    if (pool.sd) {\n",
       "        METHOD <- \"t tests with pooled SD\"\n",
       "        xbar <- tapply(x, g, mean, na.rm = TRUE)\n",
       "        s <- tapply(x, g, sd, na.rm = TRUE)\n",
       "        n <- tapply(!is.na(x), g, sum)\n",
       "        degf <- n - 1\n",
       "        total.degf <- sum(degf)\n",
       "        pooled.sd <- sqrt(sum(s^2 * degf)/total.degf)\n",
       "        compare.levels <- function(i, j) {\n",
       "            dif <- xbar[i] - xbar[j]\n",
       "            se.dif <- pooled.sd * sqrt(1/n[i] + 1/n[j])\n",
       "            t.val <- dif/se.dif\n",
       "            if (alternative == \"two.sided\") \n",
       "                2 * pt(-abs(t.val), total.degf)\n",
       "            else pt(t.val, total.degf, lower.tail = (alternative == \n",
       "                \"less\"))\n",
       "        }\n",
       "    }\n",
       "    else {\n",
       "        METHOD <- if (paired) \n",
       "            \"paired t tests\"\n",
       "        else \"t tests with non-pooled SD\"\n",
       "        compare.levels <- function(i, j) {\n",
       "            xi <- x[as.integer(g) == i]\n",
       "            xj <- x[as.integer(g) == j]\n",
       "            t.test(xi, xj, paired = paired, alternative = alternative, \n",
       "                ...)$p.value\n",
       "        }\n",
       "    }\n",
       "    PVAL <- pairwise.table(compare.levels, levels(g), p.adjust.method)\n",
       "    ans <- list(method = METHOD, data.name = DNAME, p.value = PVAL, \n",
       "        p.adjust.method = p.adjust.method)\n",
       "    class(ans) <- \"pairwise.htest\"\n",
       "    ans\n",
       "}\n",
       "```"
      ],
      "text/plain": [
       "function (x, g, p.adjust.method = p.adjust.methods, pool.sd = !paired, \n",
       "    paired = FALSE, alternative = c(\"two.sided\", \"less\", \"greater\"), \n",
       "    ...) \n",
       "{\n",
       "    if (paired & pool.sd) \n",
       "        stop(\"pooling of SD is incompatible with paired tests\")\n",
       "    DNAME <- paste(deparse(substitute(x)), \"and\", deparse(substitute(g)))\n",
       "    g <- factor(g)\n",
       "    p.adjust.method <- match.arg(p.adjust.method)\n",
       "    alternative <- match.arg(alternative)\n",
       "    if (pool.sd) {\n",
       "        METHOD <- \"t tests with pooled SD\"\n",
       "        xbar <- tapply(x, g, mean, na.rm = TRUE)\n",
       "        s <- tapply(x, g, sd, na.rm = TRUE)\n",
       "        n <- tapply(!is.na(x), g, sum)\n",
       "        degf <- n - 1\n",
       "        total.degf <- sum(degf)\n",
       "        pooled.sd <- sqrt(sum(s^2 * degf)/total.degf)\n",
       "        compare.levels <- function(i, j) {\n",
       "            dif <- xbar[i] - xbar[j]\n",
       "            se.dif <- pooled.sd * sqrt(1/n[i] + 1/n[j])\n",
       "            t.val <- dif/se.dif\n",
       "            if (alternative == \"two.sided\") \n",
       "                2 * pt(-abs(t.val), total.degf)\n",
       "            else pt(t.val, total.degf, lower.tail = (alternative == \n",
       "                \"less\"))\n",
       "        }\n",
       "    }\n",
       "    else {\n",
       "        METHOD <- if (paired) \n",
       "            \"paired t tests\"\n",
       "        else \"t tests with non-pooled SD\"\n",
       "        compare.levels <- function(i, j) {\n",
       "            xi <- x[as.integer(g) == i]\n",
       "            xj <- x[as.integer(g) == j]\n",
       "            t.test(xi, xj, paired = paired, alternative = alternative, \n",
       "                ...)$p.value\n",
       "        }\n",
       "    }\n",
       "    PVAL <- pairwise.table(compare.levels, levels(g), p.adjust.method)\n",
       "    ans <- list(method = METHOD, data.name = DNAME, p.value = PVAL, \n",
       "        p.adjust.method = p.adjust.method)\n",
       "    class(ans) <- \"pairwise.htest\"\n",
       "    ans\n",
       "}\n",
       "<bytecode: 0x000000000aea6268>\n",
       "<environment: namespace:stats>"
      ]
     },
     "metadata": {},
     "output_type": "display_data"
    }
   ],
   "source": [
    "\n",
    "pairwise.t.test"
   ]
  },
  {
   "cell_type": "code",
   "execution_count": 27,
   "metadata": {},
   "outputs": [
    {
     "data": {
      "text/html": [
       "'x'"
      ],
      "text/latex": [
       "'x'"
      ],
      "text/markdown": [
       "'x'"
      ],
      "text/plain": [
       "[1] \"x\""
      ]
     },
     "metadata": {},
     "output_type": "display_data"
    },
    {
     "data": {
      "text/html": [
       "'x'"
      ],
      "text/latex": [
       "'x'"
      ],
      "text/markdown": [
       "'x'"
      ],
      "text/plain": [
       "[1] \"x\""
      ]
     },
     "metadata": {},
     "output_type": "display_data"
    },
    {
     "data": {
      "text/html": [
       "'x'"
      ],
      "text/latex": [
       "'x'"
      ],
      "text/markdown": [
       "'x'"
      ],
      "text/plain": [
       "[1] \"x\""
      ]
     },
     "metadata": {},
     "output_type": "display_data"
    }
   ],
   "source": [
    "f <- function(x) substitute(x)\n",
    "g <- function(x) deparse(f(x))\n",
    "g(1:10)\n",
    "g(x)\n",
    "g(x + y ^ 2 / z + exp(a * sin(b)))"
   ]
  },
  {
   "cell_type": "code",
   "execution_count": null,
   "metadata": {
    "collapsed": true
   },
   "outputs": [],
   "source": []
  }
 ],
 "metadata": {
  "kernelspec": {
   "display_name": "R",
   "language": "R",
   "name": "ir"
  },
  "language_info": {
   "codemirror_mode": "r",
   "file_extension": ".r",
   "mimetype": "text/x-r-source",
   "name": "R",
   "pygments_lexer": "r",
   "version": "3.4.1"
  },
  "toc": {
   "nav_menu": {},
   "number_sections": true,
   "sideBar": true,
   "skip_h1_title": false,
   "toc_cell": false,
   "toc_position": {},
   "toc_section_display": "block",
   "toc_window_display": false
  }
 },
 "nbformat": 4,
 "nbformat_minor": 2
}
