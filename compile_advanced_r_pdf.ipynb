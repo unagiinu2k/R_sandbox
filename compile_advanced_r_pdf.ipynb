{
 "cells": [
  {
   "cell_type": "markdown",
   "metadata": {},
   "source": [
    "http://brettklamer.com/diversions/statistical/compile-hadleys-advanced-r-programming-to-a-pdf/"
   ]
  },
  {
   "cell_type": "code",
   "execution_count": 1,
   "metadata": {
    "collapsed": true
   },
   "outputs": [],
   "source": [
    "options(repos = structure(c(CRAN = \"http://cran.ism.ac.jp/\")))"
   ]
  },
  {
   "cell_type": "code",
   "execution_count": null,
   "metadata": {
    "collapsed": true
   },
   "outputs": [],
   "source": [
    "devtools::install_github(\"tidyverse/tibble\")"
   ]
  },
  {
   "cell_type": "code",
   "execution_count": 2,
   "metadata": {},
   "outputs": [
    {
     "name": "stderr",
     "output_type": "stream",
     "text": [
      "Downloading GitHub repo hadley/sloop@master\n",
      "from URL https://api.github.com/repos/hadley/sloop/zipball/master\n",
      "Installing sloop\n",
      "Installing 1 package: tibble\n",
      "Installing package into 'C:/Users/t/Documents/R/win-library/3.4'\n",
      "(as 'lib' is unspecified)\n",
      "also installing the dependencies 'utf8', 'pillar'\n",
      "\n"
     ]
    },
    {
     "name": "stdout",
     "output_type": "stream",
     "text": [
      "package 'utf8' successfully unpacked and MD5 sums checked\n",
      "package 'pillar' successfully unpacked and MD5 sums checked\n",
      "package 'tibble' successfully unpacked and MD5 sums checked\n"
     ]
    },
    {
     "name": "stderr",
     "output_type": "stream",
     "text": [
      "Warning message:\n",
      "\"cannot remove prior installation of package 'tibble'\""
     ]
    },
    {
     "name": "stdout",
     "output_type": "stream",
     "text": [
      "\n",
      "The downloaded binary packages are in\n",
      "\tC:\\Users\\t\\AppData\\Local\\Temp\\Rtmpi2IGPE\\downloaded_packages\n"
     ]
    },
    {
     "name": "stderr",
     "output_type": "stream",
     "text": [
      "\"C:/PROGRA~1/R/R-34~1.1/bin/x64/R\" --no-site-file --no-environ --no-save  \\\n",
      "  --no-restore --quiet CMD INSTALL  \\\n",
      "  \"C:/Users/t/AppData/Local/Temp/Rtmpi2IGPE/devtools3934232059c4/hadley-sloop-ece21d8\"  \\\n",
      "  --library=\"C:/Users/t/Documents/R/win-library/3.4\" --install-tests \n",
      "\n",
      "Installation failed: Command failed (1)\n",
      "Downloading GitHub repo hadley/emo@master\n",
      "from URL https://api.github.com/repos/hadley/emo/zipball/master\n",
      "Warning message:\n",
      "\"GitHub repo contains submodules, may not function as expected!\"Installing emo\n",
      "Installing 1 package: lubridate\n",
      "Installing package into 'C:/Users/t/Documents/R/win-library/3.4'\n",
      "(as 'lib' is unspecified)\n"
     ]
    },
    {
     "name": "stdout",
     "output_type": "stream",
     "text": [
      "package 'lubridate' successfully unpacked and MD5 sums checked\n",
      "\n",
      "The downloaded binary packages are in\n",
      "\tC:\\Users\\t\\AppData\\Local\\Temp\\Rtmpi2IGPE\\downloaded_packages\n"
     ]
    },
    {
     "name": "stderr",
     "output_type": "stream",
     "text": [
      "\"C:/PROGRA~1/R/R-34~1.1/bin/x64/R\" --no-site-file --no-environ --no-save  \\\n",
      "  --no-restore --quiet CMD INSTALL  \\\n",
      "  \"C:/Users/t/AppData/Local/Temp/Rtmpi2IGPE/devtools39347646e97/hadley-emo-16094f0\"  \\\n",
      "  --library=\"C:/Users/t/Documents/R/win-library/3.4\" --install-tests \n",
      "\n",
      "Installation failed: Command failed (1)\n"
     ]
    }
   ],
   "source": [
    "devtools::install_github(\"hadley/sloop\")\n",
    "devtools::install_github(\"hadley/emo\")"
   ]
  },
  {
   "cell_type": "code",
   "execution_count": 3,
   "metadata": {},
   "outputs": [
    {
     "data": {
      "text/html": [
       "'C:/Users/t/PycharmProjects/R_sandbox'"
      ],
      "text/latex": [
       "'C:/Users/t/PycharmProjects/R\\_sandbox'"
      ],
      "text/markdown": [
       "'C:/Users/t/PycharmProjects/R_sandbox'"
      ],
      "text/plain": [
       "[1] \"C:/Users/t/PycharmProjects/R_sandbox\""
      ]
     },
     "metadata": {},
     "output_type": "display_data"
    }
   ],
   "source": [
    "getwd()"
   ]
  },
  {
   "cell_type": "code",
   "execution_count": 1,
   "metadata": {},
   "outputs": [],
   "source": [
    "setwd(\"C:/Users/t/Downloads/adv-r-master\")"
   ]
  },
  {
   "cell_type": "code",
   "execution_count": null,
   "metadata": {},
   "outputs": [],
   "source": [
    "s"
   ]
  },
  {
   "cell_type": "code",
   "execution_count": null,
   "metadata": {
    "collapsed": true
   },
   "outputs": [],
   "source": []
  }
 ],
 "metadata": {
  "kernelspec": {
   "display_name": "R",
   "language": "R",
   "name": "ir"
  },
  "language_info": {
   "codemirror_mode": "r",
   "file_extension": ".r",
   "mimetype": "text/x-r-source",
   "name": "R",
   "pygments_lexer": "r",
   "version": "3.4.1"
  },
  "toc": {
   "nav_menu": {},
   "number_sections": true,
   "sideBar": true,
   "skip_h1_title": false,
   "toc_cell": false,
   "toc_position": {},
   "toc_section_display": "block",
   "toc_window_display": false
  }
 },
 "nbformat": 4,
 "nbformat_minor": 2
}
