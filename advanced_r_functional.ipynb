{
 "cells": [
  {
   "cell_type": "markdown",
   "metadata": {
    "toc": true
   },
   "source": [
    "<h1>Table of Contents<span class=\"tocSkip\"></span></h1>\n",
    "<div class=\"toc\" style=\"margin-top: 1em;\"><ul class=\"toc-item\"><li><span><a href=\"#Motivation\" data-toc-modified-id=\"Motivation-1\"><span class=\"toc-item-num\">1&nbsp;&nbsp;</span>Motivation</a></span><ul class=\"toc-item\"><li><ul class=\"toc-item\"><li><span><a href=\"#Generate-a-sample-dataset\" data-toc-modified-id=\"Generate-a-sample-dataset-1.0.1\"><span class=\"toc-item-num\">1.0.1&nbsp;&nbsp;</span>Generate a sample dataset</a></span></li><li><span><a href=\"#lapply-is-equivalent-to-the-following\" data-toc-modified-id=\"lapply-is-equivalent-to-the-following-1.0.2\"><span class=\"toc-item-num\">1.0.2&nbsp;&nbsp;</span>lapply is equivalent to the following</a></span></li></ul></li><li><span><a href=\"#extra-argumentを使うのは必ずしもうまくいかない\" data-toc-modified-id=\"extra-argumentを使うのは必ずしもうまくいかない-1.1\"><span class=\"toc-item-num\">1.1&nbsp;&nbsp;</span>extra argumentを使うのは必ずしもうまくいかない</a></span></li><li><span><a href=\"#コードで似たような表現を繰り返すためにbugが起こりやすい例\" data-toc-modified-id=\"コードで似たような表現を繰り返すためにbugが起こりやすい例-1.2\"><span class=\"toc-item-num\">1.2&nbsp;&nbsp;</span>コードで似たような表現を繰り返すためにbugが起こりやすい例</a></span></li><li><span><a href=\"#以下のようにしたほうが良い\" data-toc-modified-id=\"以下のようにしたほうが良い-1.3\"><span class=\"toc-item-num\">1.3&nbsp;&nbsp;</span>以下のようにしたほうが良い</a></span></li></ul></li><li><span><a href=\"#anonymous-function\" data-toc-modified-id=\"anonymous-function-2\"><span class=\"toc-item-num\">2&nbsp;&nbsp;</span>anonymous function</a></span></li></ul></div>"
   ]
  },
  {
   "cell_type": "markdown",
   "metadata": {},
   "source": [
    "# Motivation"
   ]
  },
  {
   "cell_type": "markdown",
   "metadata": {},
   "source": [
    "### Generate a sample dataset"
   ]
  },
  {
   "cell_type": "code",
   "execution_count": 3,
   "metadata": {},
   "outputs": [
    {
     "data": {
      "text/html": [
       "<table>\n",
       "<thead><tr><th scope=col>a</th><th scope=col>b</th><th scope=col>c</th><th scope=col>d</th><th scope=col>e</th><th scope=col>f</th></tr></thead>\n",
       "<tbody>\n",
       "\t<tr><td> 1 </td><td> 6 </td><td>1  </td><td>  5</td><td>-99</td><td>1  </td></tr>\n",
       "\t<tr><td>10 </td><td> 4 </td><td>4  </td><td>-99</td><td>  9</td><td>3  </td></tr>\n",
       "\t<tr><td> 7 </td><td> 9 </td><td>5  </td><td>  4</td><td>  1</td><td>4  </td></tr>\n",
       "\t<tr><td> 2 </td><td> 9 </td><td>3  </td><td>  8</td><td>  6</td><td>8  </td></tr>\n",
       "\t<tr><td> 1 </td><td>10 </td><td>5  </td><td>  9</td><td>  8</td><td>6  </td></tr>\n",
       "\t<tr><td> 6 </td><td> 2 </td><td>1  </td><td>  3</td><td>  8</td><td>5  </td></tr>\n",
       "</tbody>\n",
       "</table>\n"
      ],
      "text/latex": [
       "\\begin{tabular}{r|llllll}\n",
       " a & b & c & d & e & f\\\\\n",
       "\\hline\n",
       "\t  1  &  6  & 1   &   5 & -99 & 1  \\\\\n",
       "\t 10  &  4  & 4   & -99 &   9 & 3  \\\\\n",
       "\t  7  &  9  & 5   &   4 &   1 & 4  \\\\\n",
       "\t  2  &  9  & 3   &   8 &   6 & 8  \\\\\n",
       "\t  1  & 10  & 5   &   9 &   8 & 6  \\\\\n",
       "\t  6  &  2  & 1   &   3 &   8 & 5  \\\\\n",
       "\\end{tabular}\n"
      ],
      "text/markdown": [
       "\n",
       "a | b | c | d | e | f | \n",
       "|---|---|---|---|---|---|\n",
       "|  1  |  6  | 1   |   5 | -99 | 1   | \n",
       "| 10  |  4  | 4   | -99 |   9 | 3   | \n",
       "|  7  |  9  | 5   |   4 |   1 | 4   | \n",
       "|  2  |  9  | 3   |   8 |   6 | 8   | \n",
       "|  1  | 10  | 5   |   9 |   8 | 6   | \n",
       "|  6  |  2  | 1   |   3 |   8 | 5   | \n",
       "\n",
       "\n"
      ],
      "text/plain": [
       "  a  b  c d   e   f\n",
       "1  1  6 1   5 -99 1\n",
       "2 10  4 4 -99   9 3\n",
       "3  7  9 5   4   1 4\n",
       "4  2  9 3   8   6 8\n",
       "5  1 10 5   9   8 6\n",
       "6  6  2 1   3   8 5"
      ]
     },
     "metadata": {},
     "output_type": "display_data"
    }
   ],
   "source": [
    "set.seed(1014)\n",
    "df <- data.frame(replicate(6, sample(c(1:10, -99), 6, rep = TRUE)))\n",
    "names(df) <- letters[1:6]\n",
    "df"
   ]
  },
  {
   "cell_type": "markdown",
   "metadata": {},
   "source": [
    "### lapply is equivalent to the following"
   ]
  },
  {
   "cell_type": "code",
   "execution_count": 10,
   "metadata": {},
   "outputs": [],
   "source": [
    "my_lapply = function(x , f, ...) {\n",
    "    out <- vector(\"list\", length(x))\n",
    "    for (i in seq_along(x)) {\n",
    "      out[[i]] <- f(x[[i]], ...)\n",
    "    }\n",
    "    out\n",
    "    }"
   ]
  },
  {
   "cell_type": "code",
   "execution_count": 7,
   "metadata": {
    "collapsed": true
   },
   "outputs": [],
   "source": [
    "fix_missing <- function(x) {\n",
    "  x[x == -99] <- NA\n",
    "  x\n",
    "}"
   ]
  },
  {
   "cell_type": "code",
   "execution_count": 8,
   "metadata": {},
   "outputs": [
    {
     "data": {
      "text/html": [
       "<dl>\n",
       "\t<dt>$a</dt>\n",
       "\t\t<dd><ol class=list-inline>\n",
       "\t<li>1</li>\n",
       "\t<li>10</li>\n",
       "\t<li>7</li>\n",
       "\t<li>2</li>\n",
       "\t<li>1</li>\n",
       "\t<li>6</li>\n",
       "</ol>\n",
       "</dd>\n",
       "\t<dt>$b</dt>\n",
       "\t\t<dd><ol class=list-inline>\n",
       "\t<li>6</li>\n",
       "\t<li>4</li>\n",
       "\t<li>9</li>\n",
       "\t<li>9</li>\n",
       "\t<li>10</li>\n",
       "\t<li>2</li>\n",
       "</ol>\n",
       "</dd>\n",
       "\t<dt>$c</dt>\n",
       "\t\t<dd><ol class=list-inline>\n",
       "\t<li>1</li>\n",
       "\t<li>4</li>\n",
       "\t<li>5</li>\n",
       "\t<li>3</li>\n",
       "\t<li>5</li>\n",
       "\t<li>1</li>\n",
       "</ol>\n",
       "</dd>\n",
       "\t<dt>$d</dt>\n",
       "\t\t<dd><ol class=list-inline>\n",
       "\t<li>5</li>\n",
       "\t<li>&lt;NA&gt;</li>\n",
       "\t<li>4</li>\n",
       "\t<li>8</li>\n",
       "\t<li>9</li>\n",
       "\t<li>3</li>\n",
       "</ol>\n",
       "</dd>\n",
       "\t<dt>$e</dt>\n",
       "\t\t<dd><ol class=list-inline>\n",
       "\t<li>&lt;NA&gt;</li>\n",
       "\t<li>9</li>\n",
       "\t<li>1</li>\n",
       "\t<li>6</li>\n",
       "\t<li>8</li>\n",
       "\t<li>8</li>\n",
       "</ol>\n",
       "</dd>\n",
       "\t<dt>$f</dt>\n",
       "\t\t<dd><ol class=list-inline>\n",
       "\t<li>1</li>\n",
       "\t<li>3</li>\n",
       "\t<li>4</li>\n",
       "\t<li>8</li>\n",
       "\t<li>6</li>\n",
       "\t<li>5</li>\n",
       "</ol>\n",
       "</dd>\n",
       "</dl>\n"
      ],
      "text/latex": [
       "\\begin{description}\n",
       "\\item[\\$a] \\begin{enumerate*}\n",
       "\\item 1\n",
       "\\item 10\n",
       "\\item 7\n",
       "\\item 2\n",
       "\\item 1\n",
       "\\item 6\n",
       "\\end{enumerate*}\n",
       "\n",
       "\\item[\\$b] \\begin{enumerate*}\n",
       "\\item 6\n",
       "\\item 4\n",
       "\\item 9\n",
       "\\item 9\n",
       "\\item 10\n",
       "\\item 2\n",
       "\\end{enumerate*}\n",
       "\n",
       "\\item[\\$c] \\begin{enumerate*}\n",
       "\\item 1\n",
       "\\item 4\n",
       "\\item 5\n",
       "\\item 3\n",
       "\\item 5\n",
       "\\item 1\n",
       "\\end{enumerate*}\n",
       "\n",
       "\\item[\\$d] \\begin{enumerate*}\n",
       "\\item 5\n",
       "\\item <NA>\n",
       "\\item 4\n",
       "\\item 8\n",
       "\\item 9\n",
       "\\item 3\n",
       "\\end{enumerate*}\n",
       "\n",
       "\\item[\\$e] \\begin{enumerate*}\n",
       "\\item <NA>\n",
       "\\item 9\n",
       "\\item 1\n",
       "\\item 6\n",
       "\\item 8\n",
       "\\item 8\n",
       "\\end{enumerate*}\n",
       "\n",
       "\\item[\\$f] \\begin{enumerate*}\n",
       "\\item 1\n",
       "\\item 3\n",
       "\\item 4\n",
       "\\item 8\n",
       "\\item 6\n",
       "\\item 5\n",
       "\\end{enumerate*}\n",
       "\n",
       "\\end{description}\n"
      ],
      "text/markdown": [
       "$a\n",
       ":   1. 1\n",
       "2. 10\n",
       "3. 7\n",
       "4. 2\n",
       "5. 1\n",
       "6. 6\n",
       "\n",
       "\n",
       "\n",
       "$b\n",
       ":   1. 6\n",
       "2. 4\n",
       "3. 9\n",
       "4. 9\n",
       "5. 10\n",
       "6. 2\n",
       "\n",
       "\n",
       "\n",
       "$c\n",
       ":   1. 1\n",
       "2. 4\n",
       "3. 5\n",
       "4. 3\n",
       "5. 5\n",
       "6. 1\n",
       "\n",
       "\n",
       "\n",
       "$d\n",
       ":   1. 5\n",
       "2. &lt;NA&gt;\n",
       "3. 4\n",
       "4. 8\n",
       "5. 9\n",
       "6. 3\n",
       "\n",
       "\n",
       "\n",
       "$e\n",
       ":   1. &lt;NA&gt;\n",
       "2. 9\n",
       "3. 1\n",
       "4. 6\n",
       "5. 8\n",
       "6. 8\n",
       "\n",
       "\n",
       "\n",
       "$f\n",
       ":   1. 1\n",
       "2. 3\n",
       "3. 4\n",
       "4. 8\n",
       "5. 6\n",
       "6. 5\n",
       "\n",
       "\n",
       "\n",
       "\n",
       "\n"
      ],
      "text/plain": [
       "$a\n",
       "[1]  1 10  7  2  1  6\n",
       "\n",
       "$b\n",
       "[1]  6  4  9  9 10  2\n",
       "\n",
       "$c\n",
       "[1] 1 4 5 3 5 1\n",
       "\n",
       "$d\n",
       "[1]  5 NA  4  8  9  3\n",
       "\n",
       "$e\n",
       "[1] NA  9  1  6  8  8\n",
       "\n",
       "$f\n",
       "[1] 1 3 4 8 6 5\n"
      ]
     },
     "metadata": {},
     "output_type": "display_data"
    }
   ],
   "source": [
    "lapply(df , fix_missing)"
   ]
  },
  {
   "cell_type": "code",
   "execution_count": 11,
   "metadata": {},
   "outputs": [
    {
     "data": {
      "text/html": [
       "<ol>\n",
       "\t<li><ol class=list-inline>\n",
       "\t<li>1</li>\n",
       "\t<li>10</li>\n",
       "\t<li>7</li>\n",
       "\t<li>2</li>\n",
       "\t<li>1</li>\n",
       "\t<li>6</li>\n",
       "</ol>\n",
       "</li>\n",
       "\t<li><ol class=list-inline>\n",
       "\t<li>6</li>\n",
       "\t<li>4</li>\n",
       "\t<li>9</li>\n",
       "\t<li>9</li>\n",
       "\t<li>10</li>\n",
       "\t<li>2</li>\n",
       "</ol>\n",
       "</li>\n",
       "\t<li><ol class=list-inline>\n",
       "\t<li>1</li>\n",
       "\t<li>4</li>\n",
       "\t<li>5</li>\n",
       "\t<li>3</li>\n",
       "\t<li>5</li>\n",
       "\t<li>1</li>\n",
       "</ol>\n",
       "</li>\n",
       "\t<li><ol class=list-inline>\n",
       "\t<li>5</li>\n",
       "\t<li>&lt;NA&gt;</li>\n",
       "\t<li>4</li>\n",
       "\t<li>8</li>\n",
       "\t<li>9</li>\n",
       "\t<li>3</li>\n",
       "</ol>\n",
       "</li>\n",
       "\t<li><ol class=list-inline>\n",
       "\t<li>&lt;NA&gt;</li>\n",
       "\t<li>9</li>\n",
       "\t<li>1</li>\n",
       "\t<li>6</li>\n",
       "\t<li>8</li>\n",
       "\t<li>8</li>\n",
       "</ol>\n",
       "</li>\n",
       "\t<li><ol class=list-inline>\n",
       "\t<li>1</li>\n",
       "\t<li>3</li>\n",
       "\t<li>4</li>\n",
       "\t<li>8</li>\n",
       "\t<li>6</li>\n",
       "\t<li>5</li>\n",
       "</ol>\n",
       "</li>\n",
       "</ol>\n"
      ],
      "text/latex": [
       "\\begin{enumerate}\n",
       "\\item \\begin{enumerate*}\n",
       "\\item 1\n",
       "\\item 10\n",
       "\\item 7\n",
       "\\item 2\n",
       "\\item 1\n",
       "\\item 6\n",
       "\\end{enumerate*}\n",
       "\n",
       "\\item \\begin{enumerate*}\n",
       "\\item 6\n",
       "\\item 4\n",
       "\\item 9\n",
       "\\item 9\n",
       "\\item 10\n",
       "\\item 2\n",
       "\\end{enumerate*}\n",
       "\n",
       "\\item \\begin{enumerate*}\n",
       "\\item 1\n",
       "\\item 4\n",
       "\\item 5\n",
       "\\item 3\n",
       "\\item 5\n",
       "\\item 1\n",
       "\\end{enumerate*}\n",
       "\n",
       "\\item \\begin{enumerate*}\n",
       "\\item 5\n",
       "\\item <NA>\n",
       "\\item 4\n",
       "\\item 8\n",
       "\\item 9\n",
       "\\item 3\n",
       "\\end{enumerate*}\n",
       "\n",
       "\\item \\begin{enumerate*}\n",
       "\\item <NA>\n",
       "\\item 9\n",
       "\\item 1\n",
       "\\item 6\n",
       "\\item 8\n",
       "\\item 8\n",
       "\\end{enumerate*}\n",
       "\n",
       "\\item \\begin{enumerate*}\n",
       "\\item 1\n",
       "\\item 3\n",
       "\\item 4\n",
       "\\item 8\n",
       "\\item 6\n",
       "\\item 5\n",
       "\\end{enumerate*}\n",
       "\n",
       "\\end{enumerate}\n"
      ],
      "text/markdown": [
       "1. 1. 1\n",
       "2. 10\n",
       "3. 7\n",
       "4. 2\n",
       "5. 1\n",
       "6. 6\n",
       "\n",
       "\n",
       "\n",
       "2. 1. 6\n",
       "2. 4\n",
       "3. 9\n",
       "4. 9\n",
       "5. 10\n",
       "6. 2\n",
       "\n",
       "\n",
       "\n",
       "3. 1. 1\n",
       "2. 4\n",
       "3. 5\n",
       "4. 3\n",
       "5. 5\n",
       "6. 1\n",
       "\n",
       "\n",
       "\n",
       "4. 1. 5\n",
       "2. &lt;NA&gt;\n",
       "3. 4\n",
       "4. 8\n",
       "5. 9\n",
       "6. 3\n",
       "\n",
       "\n",
       "\n",
       "5. 1. &lt;NA&gt;\n",
       "2. 9\n",
       "3. 1\n",
       "4. 6\n",
       "5. 8\n",
       "6. 8\n",
       "\n",
       "\n",
       "\n",
       "6. 1. 1\n",
       "2. 3\n",
       "3. 4\n",
       "4. 8\n",
       "5. 6\n",
       "6. 5\n",
       "\n",
       "\n",
       "\n",
       "\n",
       "\n"
      ],
      "text/plain": [
       "[[1]]\n",
       "[1]  1 10  7  2  1  6\n",
       "\n",
       "[[2]]\n",
       "[1]  6  4  9  9 10  2\n",
       "\n",
       "[[3]]\n",
       "[1] 1 4 5 3 5 1\n",
       "\n",
       "[[4]]\n",
       "[1]  5 NA  4  8  9  3\n",
       "\n",
       "[[5]]\n",
       "[1] NA  9  1  6  8  8\n",
       "\n",
       "[[6]]\n",
       "[1] 1 3 4 8 6 5\n"
      ]
     },
     "metadata": {},
     "output_type": "display_data"
    }
   ],
   "source": [
    "my_lapply(df , fix_missing)"
   ]
  },
  {
   "cell_type": "code",
   "execution_count": null,
   "metadata": {
    "collapsed": true
   },
   "outputs": [],
   "source": [
    "missing_fixer <- function(na_value) {\n",
    "  function(x) {\n",
    "    x[x == na_value] <- NA\n",
    "    x\n",
    "  }\n",
    "}\n",
    "fix_missing_99 <- missing_fixer(-99)\n",
    "fix_missing_999 <- missing_fixer(-999)"
   ]
  },
  {
   "cell_type": "code",
   "execution_count": 14,
   "metadata": {},
   "outputs": [
    {
     "data": {
      "text/html": [
       "<ol class=list-inline>\n",
       "\t<li>&lt;NA&gt;</li>\n",
       "\t<li>-999</li>\n",
       "</ol>\n"
      ],
      "text/latex": [
       "\\begin{enumerate*}\n",
       "\\item <NA>\n",
       "\\item -999\n",
       "\\end{enumerate*}\n"
      ],
      "text/markdown": [
       "1. &lt;NA&gt;\n",
       "2. -999\n",
       "\n",
       "\n"
      ],
      "text/plain": [
       "[1]   NA -999"
      ]
     },
     "metadata": {},
     "output_type": "display_data"
    }
   ],
   "source": [
    "fix_missing_99(c(-99, -999))"
   ]
  },
  {
   "cell_type": "code",
   "execution_count": 15,
   "metadata": {},
   "outputs": [
    {
     "data": {
      "text/html": [
       "<ol class=list-inline>\n",
       "\t<li>-99</li>\n",
       "\t<li>&lt;NA&gt;</li>\n",
       "</ol>\n"
      ],
      "text/latex": [
       "\\begin{enumerate*}\n",
       "\\item -99\n",
       "\\item <NA>\n",
       "\\end{enumerate*}\n"
      ],
      "text/markdown": [
       "1. -99\n",
       "2. &lt;NA&gt;\n",
       "\n",
       "\n"
      ],
      "text/plain": [
       "[1] -99  NA"
      ]
     },
     "metadata": {},
     "output_type": "display_data"
    }
   ],
   "source": [
    "fix_missing_999(c(-99,-999))"
   ]
  },
  {
   "cell_type": "markdown",
   "metadata": {},
   "source": [
    "## extra argumentを使うのは必ずしもうまくいかない"
   ]
  },
  {
   "cell_type": "markdown",
   "metadata": {},
   "source": [
    "extra argumentを使う例："
   ]
  },
  {
   "cell_type": "code",
   "execution_count": 16,
   "metadata": {
    "collapsed": true
   },
   "outputs": [],
   "source": [
    "fix_missing <- function(x, na.value) {\n",
    "  x[x == na.value] <- NA\n",
    "  x\n",
    "}"
   ]
  },
  {
   "cell_type": "markdown",
   "metadata": {},
   "source": [
    "## コードで似たような表現を繰り返すためにbugが起こりやすい例"
   ]
  },
  {
   "cell_type": "code",
   "execution_count": 17,
   "metadata": {},
   "outputs": [
    {
     "data": {
      "text/html": [
       "<dl>\n",
       "\t<dt>$a</dt>\n",
       "\t\t<dd><ol class=list-inline>\n",
       "\t<li>4.5</li>\n",
       "\t<li>4</li>\n",
       "\t<li>3.72827037646145</li>\n",
       "\t<li>4.4478</li>\n",
       "\t<li>5.5</li>\n",
       "</ol>\n",
       "</dd>\n",
       "\t<dt>$b</dt>\n",
       "\t\t<dd><ol class=list-inline>\n",
       "\t<li>6.66666666666667</li>\n",
       "\t<li>7.5</li>\n",
       "\t<li>3.20416395751944</li>\n",
       "\t<li>2.9652</li>\n",
       "\t<li>4.5</li>\n",
       "</ol>\n",
       "</dd>\n",
       "\t<dt>$c</dt>\n",
       "\t\t<dd><ol class=list-inline>\n",
       "\t<li>3.16666666666667</li>\n",
       "\t<li>3.5</li>\n",
       "\t<li>1.83484785926972</li>\n",
       "\t<li>2.2239</li>\n",
       "\t<li>3.25</li>\n",
       "</ol>\n",
       "</dd>\n",
       "\t<dt>$d</dt>\n",
       "\t\t<dd><ol class=list-inline>\n",
       "\t<li>-11.6666666666667</li>\n",
       "\t<li>4.5</li>\n",
       "\t<li>42.8470146762486</li>\n",
       "\t<li>3.7065</li>\n",
       "\t<li>4</li>\n",
       "</ol>\n",
       "</dd>\n",
       "\t<dt>$e</dt>\n",
       "\t\t<dd><ol class=list-inline>\n",
       "\t<li>-11.1666666666667</li>\n",
       "\t<li>7</li>\n",
       "\t<li>43.125012077293</li>\n",
       "\t<li>2.2239</li>\n",
       "\t<li>5.75</li>\n",
       "</ol>\n",
       "</dd>\n",
       "\t<dt>$f</dt>\n",
       "\t\t<dd><ol class=list-inline>\n",
       "\t<li>4.5</li>\n",
       "\t<li>4.5</li>\n",
       "\t<li>2.42899156029822</li>\n",
       "\t<li>2.2239</li>\n",
       "\t<li>2.5</li>\n",
       "</ol>\n",
       "</dd>\n",
       "</dl>\n"
      ],
      "text/latex": [
       "\\begin{description}\n",
       "\\item[\\$a] \\begin{enumerate*}\n",
       "\\item 4.5\n",
       "\\item 4\n",
       "\\item 3.72827037646145\n",
       "\\item 4.4478\n",
       "\\item 5.5\n",
       "\\end{enumerate*}\n",
       "\n",
       "\\item[\\$b] \\begin{enumerate*}\n",
       "\\item 6.66666666666667\n",
       "\\item 7.5\n",
       "\\item 3.20416395751944\n",
       "\\item 2.9652\n",
       "\\item 4.5\n",
       "\\end{enumerate*}\n",
       "\n",
       "\\item[\\$c] \\begin{enumerate*}\n",
       "\\item 3.16666666666667\n",
       "\\item 3.5\n",
       "\\item 1.83484785926972\n",
       "\\item 2.2239\n",
       "\\item 3.25\n",
       "\\end{enumerate*}\n",
       "\n",
       "\\item[\\$d] \\begin{enumerate*}\n",
       "\\item -11.6666666666667\n",
       "\\item 4.5\n",
       "\\item 42.8470146762486\n",
       "\\item 3.7065\n",
       "\\item 4\n",
       "\\end{enumerate*}\n",
       "\n",
       "\\item[\\$e] \\begin{enumerate*}\n",
       "\\item -11.1666666666667\n",
       "\\item 7\n",
       "\\item 43.125012077293\n",
       "\\item 2.2239\n",
       "\\item 5.75\n",
       "\\end{enumerate*}\n",
       "\n",
       "\\item[\\$f] \\begin{enumerate*}\n",
       "\\item 4.5\n",
       "\\item 4.5\n",
       "\\item 2.42899156029822\n",
       "\\item 2.2239\n",
       "\\item 2.5\n",
       "\\end{enumerate*}\n",
       "\n",
       "\\end{description}\n"
      ],
      "text/markdown": [
       "$a\n",
       ":   1. 4.5\n",
       "2. 4\n",
       "3. 3.72827037646145\n",
       "4. 4.4478\n",
       "5. 5.5\n",
       "\n",
       "\n",
       "\n",
       "$b\n",
       ":   1. 6.66666666666667\n",
       "2. 7.5\n",
       "3. 3.20416395751944\n",
       "4. 2.9652\n",
       "5. 4.5\n",
       "\n",
       "\n",
       "\n",
       "$c\n",
       ":   1. 3.16666666666667\n",
       "2. 3.5\n",
       "3. 1.83484785926972\n",
       "4. 2.2239\n",
       "5. 3.25\n",
       "\n",
       "\n",
       "\n",
       "$d\n",
       ":   1. -11.6666666666667\n",
       "2. 4.5\n",
       "3. 42.8470146762486\n",
       "4. 3.7065\n",
       "5. 4\n",
       "\n",
       "\n",
       "\n",
       "$e\n",
       ":   1. -11.1666666666667\n",
       "2. 7\n",
       "3. 43.125012077293\n",
       "4. 2.2239\n",
       "5. 5.75\n",
       "\n",
       "\n",
       "\n",
       "$f\n",
       ":   1. 4.5\n",
       "2. 4.5\n",
       "3. 2.42899156029822\n",
       "4. 2.2239\n",
       "5. 2.5\n",
       "\n",
       "\n",
       "\n",
       "\n",
       "\n"
      ],
      "text/plain": [
       "$a\n",
       "[1] 4.50000 4.00000 3.72827 4.44780 5.50000\n",
       "\n",
       "$b\n",
       "[1] 6.666667 7.500000 3.204164 2.965200 4.500000\n",
       "\n",
       "$c\n",
       "[1] 3.166667 3.500000 1.834848 2.223900 3.250000\n",
       "\n",
       "$d\n",
       "[1] -11.66667   4.50000  42.84701   3.70650   4.00000\n",
       "\n",
       "$e\n",
       "[1] -11.16667   7.00000  43.12501   2.22390   5.75000\n",
       "\n",
       "$f\n",
       "[1] 4.500000 4.500000 2.428992 2.223900 2.500000\n"
      ]
     },
     "metadata": {},
     "output_type": "display_data"
    }
   ],
   "source": [
    "summary <- function(x) {\n",
    "  c(mean(x), median(x), sd(x), mad(x), IQR(x))\n",
    "}\n",
    "lapply(df, summary)"
   ]
  },
  {
   "cell_type": "code",
   "execution_count": 18,
   "metadata": {
    "collapsed": true
   },
   "outputs": [],
   "source": [
    "summary <- function(x) {\n",
    " c(mean(x, na.rm = TRUE),\n",
    "   median(x, na.rm = TRUE),\n",
    "   sd(x, na.rm = TRUE),\n",
    "   mad(x, na.rm = TRUE),\n",
    "   IQR(x, na.rm = TRUE))\n",
    "}"
   ]
  },
  {
   "cell_type": "code",
   "execution_count": 20,
   "metadata": {},
   "outputs": [
    {
     "data": {
      "text/html": [
       "<dl>\n",
       "\t<dt>$a</dt>\n",
       "\t\t<dd><ol class=list-inline>\n",
       "\t<li>4.5</li>\n",
       "\t<li>4</li>\n",
       "\t<li>3.72827037646145</li>\n",
       "\t<li>4.4478</li>\n",
       "\t<li>5.5</li>\n",
       "</ol>\n",
       "</dd>\n",
       "\t<dt>$b</dt>\n",
       "\t\t<dd><ol class=list-inline>\n",
       "\t<li>6.66666666666667</li>\n",
       "\t<li>7.5</li>\n",
       "\t<li>3.20416395751944</li>\n",
       "\t<li>2.9652</li>\n",
       "\t<li>4.5</li>\n",
       "</ol>\n",
       "</dd>\n",
       "\t<dt>$c</dt>\n",
       "\t\t<dd><ol class=list-inline>\n",
       "\t<li>3.16666666666667</li>\n",
       "\t<li>3.5</li>\n",
       "\t<li>1.83484785926972</li>\n",
       "\t<li>2.2239</li>\n",
       "\t<li>3.25</li>\n",
       "</ol>\n",
       "</dd>\n",
       "\t<dt>$d</dt>\n",
       "\t\t<dd><ol class=list-inline>\n",
       "\t<li>-11.6666666666667</li>\n",
       "\t<li>4.5</li>\n",
       "\t<li>42.8470146762486</li>\n",
       "\t<li>3.7065</li>\n",
       "\t<li>4</li>\n",
       "</ol>\n",
       "</dd>\n",
       "\t<dt>$e</dt>\n",
       "\t\t<dd><ol class=list-inline>\n",
       "\t<li>-11.1666666666667</li>\n",
       "\t<li>7</li>\n",
       "\t<li>43.125012077293</li>\n",
       "\t<li>2.2239</li>\n",
       "\t<li>5.75</li>\n",
       "</ol>\n",
       "</dd>\n",
       "\t<dt>$f</dt>\n",
       "\t\t<dd><ol class=list-inline>\n",
       "\t<li>4.5</li>\n",
       "\t<li>4.5</li>\n",
       "\t<li>2.42899156029822</li>\n",
       "\t<li>2.2239</li>\n",
       "\t<li>2.5</li>\n",
       "</ol>\n",
       "</dd>\n",
       "</dl>\n"
      ],
      "text/latex": [
       "\\begin{description}\n",
       "\\item[\\$a] \\begin{enumerate*}\n",
       "\\item 4.5\n",
       "\\item 4\n",
       "\\item 3.72827037646145\n",
       "\\item 4.4478\n",
       "\\item 5.5\n",
       "\\end{enumerate*}\n",
       "\n",
       "\\item[\\$b] \\begin{enumerate*}\n",
       "\\item 6.66666666666667\n",
       "\\item 7.5\n",
       "\\item 3.20416395751944\n",
       "\\item 2.9652\n",
       "\\item 4.5\n",
       "\\end{enumerate*}\n",
       "\n",
       "\\item[\\$c] \\begin{enumerate*}\n",
       "\\item 3.16666666666667\n",
       "\\item 3.5\n",
       "\\item 1.83484785926972\n",
       "\\item 2.2239\n",
       "\\item 3.25\n",
       "\\end{enumerate*}\n",
       "\n",
       "\\item[\\$d] \\begin{enumerate*}\n",
       "\\item -11.6666666666667\n",
       "\\item 4.5\n",
       "\\item 42.8470146762486\n",
       "\\item 3.7065\n",
       "\\item 4\n",
       "\\end{enumerate*}\n",
       "\n",
       "\\item[\\$e] \\begin{enumerate*}\n",
       "\\item -11.1666666666667\n",
       "\\item 7\n",
       "\\item 43.125012077293\n",
       "\\item 2.2239\n",
       "\\item 5.75\n",
       "\\end{enumerate*}\n",
       "\n",
       "\\item[\\$f] \\begin{enumerate*}\n",
       "\\item 4.5\n",
       "\\item 4.5\n",
       "\\item 2.42899156029822\n",
       "\\item 2.2239\n",
       "\\item 2.5\n",
       "\\end{enumerate*}\n",
       "\n",
       "\\end{description}\n"
      ],
      "text/markdown": [
       "$a\n",
       ":   1. 4.5\n",
       "2. 4\n",
       "3. 3.72827037646145\n",
       "4. 4.4478\n",
       "5. 5.5\n",
       "\n",
       "\n",
       "\n",
       "$b\n",
       ":   1. 6.66666666666667\n",
       "2. 7.5\n",
       "3. 3.20416395751944\n",
       "4. 2.9652\n",
       "5. 4.5\n",
       "\n",
       "\n",
       "\n",
       "$c\n",
       ":   1. 3.16666666666667\n",
       "2. 3.5\n",
       "3. 1.83484785926972\n",
       "4. 2.2239\n",
       "5. 3.25\n",
       "\n",
       "\n",
       "\n",
       "$d\n",
       ":   1. -11.6666666666667\n",
       "2. 4.5\n",
       "3. 42.8470146762486\n",
       "4. 3.7065\n",
       "5. 4\n",
       "\n",
       "\n",
       "\n",
       "$e\n",
       ":   1. -11.1666666666667\n",
       "2. 7\n",
       "3. 43.125012077293\n",
       "4. 2.2239\n",
       "5. 5.75\n",
       "\n",
       "\n",
       "\n",
       "$f\n",
       ":   1. 4.5\n",
       "2. 4.5\n",
       "3. 2.42899156029822\n",
       "4. 2.2239\n",
       "5. 2.5\n",
       "\n",
       "\n",
       "\n",
       "\n",
       "\n"
      ],
      "text/plain": [
       "$a\n",
       "[1] 4.50000 4.00000 3.72827 4.44780 5.50000\n",
       "\n",
       "$b\n",
       "[1] 6.666667 7.500000 3.204164 2.965200 4.500000\n",
       "\n",
       "$c\n",
       "[1] 3.166667 3.500000 1.834848 2.223900 3.250000\n",
       "\n",
       "$d\n",
       "[1] -11.66667   4.50000  42.84701   3.70650   4.00000\n",
       "\n",
       "$e\n",
       "[1] -11.16667   7.00000  43.12501   2.22390   5.75000\n",
       "\n",
       "$f\n",
       "[1] 4.500000 4.500000 2.428992 2.223900 2.500000\n"
      ]
     },
     "metadata": {},
     "output_type": "display_data"
    }
   ],
   "source": [
    "lapply(df , summary)"
   ]
  },
  {
   "cell_type": "markdown",
   "metadata": {},
   "source": [
    "## 以下のようにしたほうが良い"
   ]
  },
  {
   "cell_type": "code",
   "execution_count": 22,
   "metadata": {
    "collapsed": true
   },
   "outputs": [],
   "source": [
    "summary <- function(x) {\n",
    "  funs <- c(mean, median, sd, mad, IQR)\n",
    "  lapply(funs, function(f) f(x, na.rm = TRUE))\n",
    "}"
   ]
  },
  {
   "cell_type": "code",
   "execution_count": 27,
   "metadata": {},
   "outputs": [
    {
     "data": {
      "text/html": [
       "<ol>\n",
       "\t<li>1.5</li>\n",
       "\t<li>1.5</li>\n",
       "\t<li>0.707106781186548</li>\n",
       "\t<li>0.7413</li>\n",
       "\t<li>0.5</li>\n",
       "</ol>\n"
      ],
      "text/latex": [
       "\\begin{enumerate}\n",
       "\\item 1.5\n",
       "\\item 1.5\n",
       "\\item 0.707106781186548\n",
       "\\item 0.7413\n",
       "\\item 0.5\n",
       "\\end{enumerate}\n"
      ],
      "text/markdown": [
       "1. 1.5\n",
       "2. 1.5\n",
       "3. 0.707106781186548\n",
       "4. 0.7413\n",
       "5. 0.5\n",
       "\n",
       "\n"
      ],
      "text/plain": [
       "[[1]]\n",
       "[1] 1.5\n",
       "\n",
       "[[2]]\n",
       "[1] 1.5\n",
       "\n",
       "[[3]]\n",
       "[1] 0.7071068\n",
       "\n",
       "[[4]]\n",
       "[1] 0.7413\n",
       "\n",
       "[[5]]\n",
       "[1] 0.5\n"
      ]
     },
     "metadata": {},
     "output_type": "display_data"
    }
   ],
   "source": [
    "summary(c(1,2))"
   ]
  },
  {
   "cell_type": "code",
   "execution_count": 28,
   "metadata": {},
   "outputs": [
    {
     "data": {
      "text/html": [
       "<dl>\n",
       "\t<dt>$a</dt>\n",
       "\t\t<dd><ol>\n",
       "\t<li>4.5</li>\n",
       "\t<li>4</li>\n",
       "\t<li>3.72827037646145</li>\n",
       "\t<li>4.4478</li>\n",
       "\t<li>5.5</li>\n",
       "</ol>\n",
       "</dd>\n",
       "\t<dt>$b</dt>\n",
       "\t\t<dd><ol>\n",
       "\t<li>6.66666666666667</li>\n",
       "\t<li>7.5</li>\n",
       "\t<li>3.20416395751944</li>\n",
       "\t<li>2.9652</li>\n",
       "\t<li>4.5</li>\n",
       "</ol>\n",
       "</dd>\n",
       "\t<dt>$c</dt>\n",
       "\t\t<dd><ol>\n",
       "\t<li>3.16666666666667</li>\n",
       "\t<li>3.5</li>\n",
       "\t<li>1.83484785926972</li>\n",
       "\t<li>2.2239</li>\n",
       "\t<li>3.25</li>\n",
       "</ol>\n",
       "</dd>\n",
       "\t<dt>$d</dt>\n",
       "\t\t<dd><ol>\n",
       "\t<li>-11.6666666666667</li>\n",
       "\t<li>4.5</li>\n",
       "\t<li>42.8470146762486</li>\n",
       "\t<li>3.7065</li>\n",
       "\t<li>4</li>\n",
       "</ol>\n",
       "</dd>\n",
       "\t<dt>$e</dt>\n",
       "\t\t<dd><ol>\n",
       "\t<li>-11.1666666666667</li>\n",
       "\t<li>7</li>\n",
       "\t<li>43.125012077293</li>\n",
       "\t<li>2.2239</li>\n",
       "\t<li>5.75</li>\n",
       "</ol>\n",
       "</dd>\n",
       "\t<dt>$f</dt>\n",
       "\t\t<dd><ol>\n",
       "\t<li>4.5</li>\n",
       "\t<li>4.5</li>\n",
       "\t<li>2.42899156029822</li>\n",
       "\t<li>2.2239</li>\n",
       "\t<li>2.5</li>\n",
       "</ol>\n",
       "</dd>\n",
       "</dl>\n"
      ],
      "text/latex": [
       "\\begin{description}\n",
       "\\item[\\$a] \\begin{enumerate}\n",
       "\\item 4.5\n",
       "\\item 4\n",
       "\\item 3.72827037646145\n",
       "\\item 4.4478\n",
       "\\item 5.5\n",
       "\\end{enumerate}\n",
       "\n",
       "\\item[\\$b] \\begin{enumerate}\n",
       "\\item 6.66666666666667\n",
       "\\item 7.5\n",
       "\\item 3.20416395751944\n",
       "\\item 2.9652\n",
       "\\item 4.5\n",
       "\\end{enumerate}\n",
       "\n",
       "\\item[\\$c] \\begin{enumerate}\n",
       "\\item 3.16666666666667\n",
       "\\item 3.5\n",
       "\\item 1.83484785926972\n",
       "\\item 2.2239\n",
       "\\item 3.25\n",
       "\\end{enumerate}\n",
       "\n",
       "\\item[\\$d] \\begin{enumerate}\n",
       "\\item -11.6666666666667\n",
       "\\item 4.5\n",
       "\\item 42.8470146762486\n",
       "\\item 3.7065\n",
       "\\item 4\n",
       "\\end{enumerate}\n",
       "\n",
       "\\item[\\$e] \\begin{enumerate}\n",
       "\\item -11.1666666666667\n",
       "\\item 7\n",
       "\\item 43.125012077293\n",
       "\\item 2.2239\n",
       "\\item 5.75\n",
       "\\end{enumerate}\n",
       "\n",
       "\\item[\\$f] \\begin{enumerate}\n",
       "\\item 4.5\n",
       "\\item 4.5\n",
       "\\item 2.42899156029822\n",
       "\\item 2.2239\n",
       "\\item 2.5\n",
       "\\end{enumerate}\n",
       "\n",
       "\\end{description}\n"
      ],
      "text/markdown": [
       "$a\n",
       ":   1. 4.5\n",
       "2. 4\n",
       "3. 3.72827037646145\n",
       "4. 4.4478\n",
       "5. 5.5\n",
       "\n",
       "\n",
       "\n",
       "$b\n",
       ":   1. 6.66666666666667\n",
       "2. 7.5\n",
       "3. 3.20416395751944\n",
       "4. 2.9652\n",
       "5. 4.5\n",
       "\n",
       "\n",
       "\n",
       "$c\n",
       ":   1. 3.16666666666667\n",
       "2. 3.5\n",
       "3. 1.83484785926972\n",
       "4. 2.2239\n",
       "5. 3.25\n",
       "\n",
       "\n",
       "\n",
       "$d\n",
       ":   1. -11.6666666666667\n",
       "2. 4.5\n",
       "3. 42.8470146762486\n",
       "4. 3.7065\n",
       "5. 4\n",
       "\n",
       "\n",
       "\n",
       "$e\n",
       ":   1. -11.1666666666667\n",
       "2. 7\n",
       "3. 43.125012077293\n",
       "4. 2.2239\n",
       "5. 5.75\n",
       "\n",
       "\n",
       "\n",
       "$f\n",
       ":   1. 4.5\n",
       "2. 4.5\n",
       "3. 2.42899156029822\n",
       "4. 2.2239\n",
       "5. 2.5\n",
       "\n",
       "\n",
       "\n",
       "\n",
       "\n"
      ],
      "text/plain": [
       "$a\n",
       "$a[[1]]\n",
       "[1] 4.5\n",
       "\n",
       "$a[[2]]\n",
       "[1] 4\n",
       "\n",
       "$a[[3]]\n",
       "[1] 3.72827\n",
       "\n",
       "$a[[4]]\n",
       "[1] 4.4478\n",
       "\n",
       "$a[[5]]\n",
       "[1] 5.5\n",
       "\n",
       "\n",
       "$b\n",
       "$b[[1]]\n",
       "[1] 6.666667\n",
       "\n",
       "$b[[2]]\n",
       "[1] 7.5\n",
       "\n",
       "$b[[3]]\n",
       "[1] 3.204164\n",
       "\n",
       "$b[[4]]\n",
       "[1] 2.9652\n",
       "\n",
       "$b[[5]]\n",
       "[1] 4.5\n",
       "\n",
       "\n",
       "$c\n",
       "$c[[1]]\n",
       "[1] 3.166667\n",
       "\n",
       "$c[[2]]\n",
       "[1] 3.5\n",
       "\n",
       "$c[[3]]\n",
       "[1] 1.834848\n",
       "\n",
       "$c[[4]]\n",
       "[1] 2.2239\n",
       "\n",
       "$c[[5]]\n",
       "[1] 3.25\n",
       "\n",
       "\n",
       "$d\n",
       "$d[[1]]\n",
       "[1] -11.66667\n",
       "\n",
       "$d[[2]]\n",
       "[1] 4.5\n",
       "\n",
       "$d[[3]]\n",
       "[1] 42.84701\n",
       "\n",
       "$d[[4]]\n",
       "[1] 3.7065\n",
       "\n",
       "$d[[5]]\n",
       "[1] 4\n",
       "\n",
       "\n",
       "$e\n",
       "$e[[1]]\n",
       "[1] -11.16667\n",
       "\n",
       "$e[[2]]\n",
       "[1] 7\n",
       "\n",
       "$e[[3]]\n",
       "[1] 43.12501\n",
       "\n",
       "$e[[4]]\n",
       "[1] 2.2239\n",
       "\n",
       "$e[[5]]\n",
       "[1] 5.75\n",
       "\n",
       "\n",
       "$f\n",
       "$f[[1]]\n",
       "[1] 4.5\n",
       "\n",
       "$f[[2]]\n",
       "[1] 4.5\n",
       "\n",
       "$f[[3]]\n",
       "[1] 2.428992\n",
       "\n",
       "$f[[4]]\n",
       "[1] 2.2239\n",
       "\n",
       "$f[[5]]\n",
       "[1] 2.5\n",
       "\n"
      ]
     },
     "metadata": {},
     "output_type": "display_data"
    }
   ],
   "source": [
    "lapply(df, summary)"
   ]
  },
  {
   "cell_type": "markdown",
   "metadata": {},
   "source": [
    "# anonymous function"
   ]
  },
  {
   "cell_type": "code",
   "execution_count": 1,
   "metadata": {
    "collapsed": true
   },
   "outputs": [],
   "source": [
    "options(repos = structure(c(CRAN = \"http://cran.ism.ac.jp/\")))"
   ]
  },
  {
   "cell_type": "code",
   "execution_count": null,
   "metadata": {
    "collapsed": true
   },
   "outputs": [],
   "source": []
  },
  {
   "cell_type": "code",
   "execution_count": 4,
   "metadata": {},
   "outputs": [
    {
     "data": {
      "text/html": [
       "<table>\n",
       "<thead><tr><th scope=col>a</th><th scope=col>b</th><th scope=col>c</th><th scope=col>d</th><th scope=col>e</th><th scope=col>f</th></tr></thead>\n",
       "<tbody>\n",
       "\t<tr><td> 1 </td><td> 6 </td><td>1  </td><td>  5</td><td>-99</td><td>1  </td></tr>\n",
       "\t<tr><td>10 </td><td> 4 </td><td>4  </td><td>-99</td><td>  9</td><td>3  </td></tr>\n",
       "\t<tr><td> 7 </td><td> 9 </td><td>5  </td><td>  4</td><td>  1</td><td>4  </td></tr>\n",
       "\t<tr><td> 2 </td><td> 9 </td><td>3  </td><td>  8</td><td>  6</td><td>8  </td></tr>\n",
       "\t<tr><td> 1 </td><td>10 </td><td>5  </td><td>  9</td><td>  8</td><td>6  </td></tr>\n",
       "\t<tr><td> 6 </td><td> 2 </td><td>1  </td><td>  3</td><td>  8</td><td>5  </td></tr>\n",
       "</tbody>\n",
       "</table>\n"
      ],
      "text/latex": [
       "\\begin{tabular}{r|llllll}\n",
       " a & b & c & d & e & f\\\\\n",
       "\\hline\n",
       "\t  1  &  6  & 1   &   5 & -99 & 1  \\\\\n",
       "\t 10  &  4  & 4   & -99 &   9 & 3  \\\\\n",
       "\t  7  &  9  & 5   &   4 &   1 & 4  \\\\\n",
       "\t  2  &  9  & 3   &   8 &   6 & 8  \\\\\n",
       "\t  1  & 10  & 5   &   9 &   8 & 6  \\\\\n",
       "\t  6  &  2  & 1   &   3 &   8 & 5  \\\\\n",
       "\\end{tabular}\n"
      ],
      "text/markdown": [
       "\n",
       "a | b | c | d | e | f | \n",
       "|---|---|---|---|---|---|\n",
       "|  1  |  6  | 1   |   5 | -99 | 1   | \n",
       "| 10  |  4  | 4   | -99 |   9 | 3   | \n",
       "|  7  |  9  | 5   |   4 |   1 | 4   | \n",
       "|  2  |  9  | 3   |   8 |   6 | 8   | \n",
       "|  1  | 10  | 5   |   9 |   8 | 6   | \n",
       "|  6  |  2  | 1   |   3 |   8 | 5   | \n",
       "\n",
       "\n"
      ],
      "text/plain": [
       "  a  b  c d   e   f\n",
       "1  1  6 1   5 -99 1\n",
       "2 10  4 4 -99   9 3\n",
       "3  7  9 5   4   1 4\n",
       "4  2  9 3   8   6 8\n",
       "5  1 10 5   9   8 6\n",
       "6  6  2 1   3   8 5"
      ]
     },
     "metadata": {},
     "output_type": "display_data"
    }
   ],
   "source": [
    "# Generate a sample dataset\n",
    "set.seed(1014)\n",
    "df <- data.frame(replicate(6, sample(c(1:10, -99), 6, rep = TRUE)))\n",
    "names(df) <- letters[1:6]\n",
    "df"
   ]
  },
  {
   "cell_type": "code",
   "execution_count": 6,
   "metadata": {},
   "outputs": [
    {
     "data": {
      "text/html": [
       "<table>\n",
       "<tbody>\n",
       "\t<tr><td>  8</td><td>  8</td><td>-99</td><td>6  </td><td>10 </td><td>-99</td></tr>\n",
       "\t<tr><td>-99</td><td>  8</td><td>  5</td><td>9  </td><td> 4 </td><td>  6</td></tr>\n",
       "\t<tr><td>  2</td><td>  2</td><td>  6</td><td>3  </td><td> 7 </td><td>  6</td></tr>\n",
       "\t<tr><td>  3</td><td>  9</td><td>  4</td><td>8  </td><td> 4 </td><td>  4</td></tr>\n",
       "\t<tr><td>  8</td><td>  9</td><td>  2</td><td>1  </td><td> 7 </td><td>  5</td></tr>\n",
       "\t<tr><td>  6</td><td>-99</td><td>  6</td><td>4  </td><td> 3 </td><td>  5</td></tr>\n",
       "</tbody>\n",
       "</table>\n"
      ],
      "text/latex": [
       "\\begin{tabular}{llllll}\n",
       "\t   8 &   8 & -99 & 6   & 10  & -99\\\\\n",
       "\t -99 &   8 &   5 & 9   &  4  &   6\\\\\n",
       "\t   2 &   2 &   6 & 3   &  7  &   6\\\\\n",
       "\t   3 &   9 &   4 & 8   &  4  &   4\\\\\n",
       "\t   8 &   9 &   2 & 1   &  7  &   5\\\\\n",
       "\t   6 & -99 &   6 & 4   &  3  &   5\\\\\n",
       "\\end{tabular}\n"
      ],
      "text/markdown": [
       "\n",
       "|   8 |   8 | -99 | 6   | 10  | -99 | \n",
       "| -99 |   8 |   5 | 9   |  4  |   6 | \n",
       "|   2 |   2 |   6 | 3   |  7  |   6 | \n",
       "|   3 |   9 |   4 | 8   |  4  |   4 | \n",
       "|   8 |   9 |   2 | 1   |  7  |   5 | \n",
       "|   6 | -99 |   6 | 4   |  3  |   5 | \n",
       "\n",
       "\n"
      ],
      "text/plain": [
       "     [,1] [,2] [,3] [,4] [,5] [,6]\n",
       "[1,]   8    8  -99  6    10   -99 \n",
       "[2,] -99    8    5  9     4     6 \n",
       "[3,]   2    2    6  3     7     6 \n",
       "[4,]   3    9    4  8     4     4 \n",
       "[5,]   8    9    2  1     7     5 \n",
       "[6,]   6  -99    6  4     3     5 "
      ]
     },
     "metadata": {},
     "output_type": "display_data"
    }
   ],
   "source": [
    "replicate(6, sample(c(1:10, -99), 6, rep = TRUE))"
   ]
  },
  {
   "cell_type": "code",
   "execution_count": 7,
   "metadata": {
    "collapsed": true
   },
   "outputs": [],
   "source": [
    "fix_missing <- function(x) {\n",
    "  x[x == -99] <- NA\n",
    "  x\n",
    "}\n",
    "df[] <- lapply(df, fix_missing)"
   ]
  },
  {
   "cell_type": "code",
   "execution_count": 8,
   "metadata": {},
   "outputs": [
    {
     "data": {
      "text/html": [
       "<table>\n",
       "<thead><tr><th scope=col>a</th><th scope=col>b</th><th scope=col>c</th><th scope=col>d</th><th scope=col>e</th><th scope=col>f</th></tr></thead>\n",
       "<tbody>\n",
       "\t<tr><td> 1</td><td> 6</td><td>1 </td><td> 5</td><td>NA</td><td>1 </td></tr>\n",
       "\t<tr><td>10</td><td> 4</td><td>4 </td><td>NA</td><td> 9</td><td>3 </td></tr>\n",
       "\t<tr><td> 7</td><td> 9</td><td>5 </td><td> 4</td><td> 1</td><td>4 </td></tr>\n",
       "\t<tr><td> 2</td><td> 9</td><td>3 </td><td> 8</td><td> 6</td><td>8 </td></tr>\n",
       "\t<tr><td> 1</td><td>10</td><td>5 </td><td> 9</td><td> 8</td><td>6 </td></tr>\n",
       "\t<tr><td> 6</td><td> 2</td><td>1 </td><td> 3</td><td> 8</td><td>5 </td></tr>\n",
       "</tbody>\n",
       "</table>\n"
      ],
      "text/latex": [
       "\\begin{tabular}{r|llllll}\n",
       " a & b & c & d & e & f\\\\\n",
       "\\hline\n",
       "\t  1 &  6 & 1  &  5 & NA & 1 \\\\\n",
       "\t 10 &  4 & 4  & NA &  9 & 3 \\\\\n",
       "\t  7 &  9 & 5  &  4 &  1 & 4 \\\\\n",
       "\t  2 &  9 & 3  &  8 &  6 & 8 \\\\\n",
       "\t  1 & 10 & 5  &  9 &  8 & 6 \\\\\n",
       "\t  6 &  2 & 1  &  3 &  8 & 5 \\\\\n",
       "\\end{tabular}\n"
      ],
      "text/markdown": [
       "\n",
       "a | b | c | d | e | f | \n",
       "|---|---|---|---|---|---|\n",
       "|  1 |  6 | 1  |  5 | NA | 1  | \n",
       "| 10 |  4 | 4  | NA |  9 | 3  | \n",
       "|  7 |  9 | 5  |  4 |  1 | 4  | \n",
       "|  2 |  9 | 3  |  8 |  6 | 8  | \n",
       "|  1 | 10 | 5  |  9 |  8 | 6  | \n",
       "|  6 |  2 | 1  |  3 |  8 | 5  | \n",
       "\n",
       "\n"
      ],
      "text/plain": [
       "  a  b  c d  e  f\n",
       "1  1  6 1  5 NA 1\n",
       "2 10  4 4 NA  9 3\n",
       "3  7  9 5  4  1 4\n",
       "4  2  9 3  8  6 8\n",
       "5  1 10 5  9  8 6\n",
       "6  6  2 1  3  8 5"
      ]
     },
     "metadata": {},
     "output_type": "display_data"
    }
   ],
   "source": [
    "df"
   ]
  },
  {
   "cell_type": "code",
   "execution_count": 11,
   "metadata": {},
   "outputs": [
    {
     "name": "stderr",
     "output_type": "stream",
     "text": [
      "\n",
      "Attaching package: 'dplyr'\n",
      "\n",
      "The following objects are masked from 'package:stats':\n",
      "\n",
      "    filter, lag\n",
      "\n",
      "The following objects are masked from 'package:base':\n",
      "\n",
      "    intersect, setdiff, setequal, union\n",
      "\n"
     ]
    }
   ],
   "source": [
    "library(dplyr)"
   ]
  },
  {
   "cell_type": "code",
   "execution_count": 12,
   "metadata": {},
   "outputs": [
    {
     "data": {
      "text/html": [
       "6"
      ],
      "text/latex": [
       "6"
      ],
      "text/markdown": [
       "6"
      ],
      "text/plain": [
       "[1] 6"
      ]
     },
     "metadata": {},
     "output_type": "display_data"
    }
   ],
   "source": [
    "df$a %>% length\n"
   ]
  },
  {
   "cell_type": "code",
   "execution_count": 15,
   "metadata": {
    "collapsed": true
   },
   "outputs": [],
   "source": [
    "tmp = df"
   ]
  },
  {
   "cell_type": "code",
   "execution_count": 18,
   "metadata": {},
   "outputs": [
    {
     "data": {
      "text/html": [
       "<table>\n",
       "<thead><tr><th scope=col>a</th><th scope=col>b</th><th scope=col>c</th><th scope=col>d</th><th scope=col>e</th><th scope=col>f</th></tr></thead>\n",
       "<tbody>\n",
       "\t<tr><td>6</td><td>6</td><td>6</td><td>6</td><td>6</td><td>6</td></tr>\n",
       "</tbody>\n",
       "</table>\n"
      ],
      "text/latex": [
       "\\begin{tabular}{r|llllll}\n",
       " a & b & c & d & e & f\\\\\n",
       "\\hline\n",
       "\t 6 & 6 & 6 & 6 & 6 & 6\\\\\n",
       "\\end{tabular}\n"
      ],
      "text/markdown": [
       "\n",
       "a | b | c | d | e | f | \n",
       "|---|\n",
       "| 6 | 6 | 6 | 6 | 6 | 6 | \n",
       "\n",
       "\n"
      ],
      "text/plain": [
       "  a b c d e f\n",
       "1 6 6 6 6 6 6"
      ]
     },
     "metadata": {},
     "output_type": "display_data"
    }
   ],
   "source": [
    "data.frame(lapply(df , length))"
   ]
  },
  {
   "cell_type": "code",
   "execution_count": 17,
   "metadata": {},
   "outputs": [
    {
     "data": {
      "text/html": [
       "<table>\n",
       "<thead><tr><th scope=col>a</th><th scope=col>b</th><th scope=col>c</th><th scope=col>d</th><th scope=col>e</th><th scope=col>f</th></tr></thead>\n",
       "<tbody>\n",
       "\t<tr><td>6</td><td>6</td><td>6</td><td>6</td><td>6</td><td>6</td></tr>\n",
       "\t<tr><td>6</td><td>6</td><td>6</td><td>6</td><td>6</td><td>6</td></tr>\n",
       "\t<tr><td>6</td><td>6</td><td>6</td><td>6</td><td>6</td><td>6</td></tr>\n",
       "\t<tr><td>6</td><td>6</td><td>6</td><td>6</td><td>6</td><td>6</td></tr>\n",
       "\t<tr><td>6</td><td>6</td><td>6</td><td>6</td><td>6</td><td>6</td></tr>\n",
       "\t<tr><td>6</td><td>6</td><td>6</td><td>6</td><td>6</td><td>6</td></tr>\n",
       "</tbody>\n",
       "</table>\n"
      ],
      "text/latex": [
       "\\begin{tabular}{r|llllll}\n",
       " a & b & c & d & e & f\\\\\n",
       "\\hline\n",
       "\t 6 & 6 & 6 & 6 & 6 & 6\\\\\n",
       "\t 6 & 6 & 6 & 6 & 6 & 6\\\\\n",
       "\t 6 & 6 & 6 & 6 & 6 & 6\\\\\n",
       "\t 6 & 6 & 6 & 6 & 6 & 6\\\\\n",
       "\t 6 & 6 & 6 & 6 & 6 & 6\\\\\n",
       "\t 6 & 6 & 6 & 6 & 6 & 6\\\\\n",
       "\\end{tabular}\n"
      ],
      "text/markdown": [
       "\n",
       "a | b | c | d | e | f | \n",
       "|---|---|---|---|---|---|\n",
       "| 6 | 6 | 6 | 6 | 6 | 6 | \n",
       "| 6 | 6 | 6 | 6 | 6 | 6 | \n",
       "| 6 | 6 | 6 | 6 | 6 | 6 | \n",
       "| 6 | 6 | 6 | 6 | 6 | 6 | \n",
       "| 6 | 6 | 6 | 6 | 6 | 6 | \n",
       "| 6 | 6 | 6 | 6 | 6 | 6 | \n",
       "\n",
       "\n"
      ],
      "text/plain": [
       "  a b c d e f\n",
       "1 6 6 6 6 6 6\n",
       "2 6 6 6 6 6 6\n",
       "3 6 6 6 6 6 6\n",
       "4 6 6 6 6 6 6\n",
       "5 6 6 6 6 6 6\n",
       "6 6 6 6 6 6 6"
      ]
     },
     "metadata": {},
     "output_type": "display_data"
    }
   ],
   "source": [
    "tmp"
   ]
  },
  {
   "cell_type": "code",
   "execution_count": 19,
   "metadata": {},
   "outputs": [
    {
     "data": {
      "text/html": [
       "<ol class=list-inline>\n",
       "\t<li>&lt;NA&gt;</li>\n",
       "\t<li>-999</li>\n",
       "</ol>\n"
      ],
      "text/latex": [
       "\\begin{enumerate*}\n",
       "\\item <NA>\n",
       "\\item -999\n",
       "\\end{enumerate*}\n"
      ],
      "text/markdown": [
       "1. &lt;NA&gt;\n",
       "2. -999\n",
       "\n",
       "\n"
      ],
      "text/plain": [
       "[1]   NA -999"
      ]
     },
     "metadata": {},
     "output_type": "display_data"
    }
   ],
   "source": [
    "missing_fixer <- function(na_value) {\n",
    "  function(x) {\n",
    "    x[x == na_value] <- NA\n",
    "    x\n",
    "  }\n",
    "}\n",
    "fix_missing_99 <- missing_fixer(-99)\n",
    "fix_missing_999 <- missing_fixer(-999)\n",
    "\n",
    "fix_missing_99(c(-99, -999))"
   ]
  },
  {
   "cell_type": "code",
   "execution_count": null,
   "metadata": {
    "collapsed": true
   },
   "outputs": [],
   "source": []
  }
 ],
 "metadata": {
  "kernelspec": {
   "display_name": "R",
   "language": "R",
   "name": "ir"
  },
  "language_info": {
   "codemirror_mode": "r",
   "file_extension": ".r",
   "mimetype": "text/x-r-source",
   "name": "R",
   "pygments_lexer": "r",
   "version": "3.4.1"
  },
  "toc": {
   "nav_menu": {},
   "number_sections": true,
   "sideBar": true,
   "skip_h1_title": false,
   "toc_cell": true,
   "toc_position": {},
   "toc_section_display": "block",
   "toc_window_display": true
  }
 },
 "nbformat": 4,
 "nbformat_minor": 2
}
