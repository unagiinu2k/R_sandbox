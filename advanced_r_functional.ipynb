{
 "cells": [
  {
   "cell_type": "markdown",
   "metadata": {},
   "source": [
    "完全版は\n",
    "https://adv-r.hadley.nz/"
   ]
  },
  {
   "cell_type": "markdown",
   "metadata": {
    "toc": true
   },
   "source": [
    "<h1>Table of Contents<span class=\"tocSkip\"></span></h1>\n",
    "<div class=\"toc\" style=\"margin-top: 1em;\"><ul class=\"toc-item\"><li><span><a href=\"#Motivation\" data-toc-modified-id=\"Motivation-1\"><span class=\"toc-item-num\">1&nbsp;&nbsp;</span>Motivation</a></span><ul class=\"toc-item\"><li><ul class=\"toc-item\"><li><span><a href=\"#Generate-a-sample-dataset\" data-toc-modified-id=\"Generate-a-sample-dataset-1.0.1\"><span class=\"toc-item-num\">1.0.1&nbsp;&nbsp;</span>Generate a sample dataset</a></span></li><li><span><a href=\"#lapply-is-equivalent-to-the-following\" data-toc-modified-id=\"lapply-is-equivalent-to-the-following-1.0.2\"><span class=\"toc-item-num\">1.0.2&nbsp;&nbsp;</span>lapply is equivalent to the following</a></span></li></ul></li><li><span><a href=\"#extra-argumentを使うのは必ずしもうまくいかない\" data-toc-modified-id=\"extra-argumentを使うのは必ずしもうまくいかない-1.1\"><span class=\"toc-item-num\">1.1&nbsp;&nbsp;</span>extra argumentを使うのは必ずしもうまくいかない</a></span></li><li><span><a href=\"#コードで似たような表現を繰り返すためにbugが起こりやすい例\" data-toc-modified-id=\"コードで似たような表現を繰り返すためにbugが起こりやすい例-1.2\"><span class=\"toc-item-num\">1.2&nbsp;&nbsp;</span>コードで似たような表現を繰り返すためにbugが起こりやすい例</a></span></li><li><span><a href=\"#以下のようにしたほうが良い\" data-toc-modified-id=\"以下のようにしたほうが良い-1.3\"><span class=\"toc-item-num\">1.3&nbsp;&nbsp;</span>以下のようにしたほうが良い</a></span></li><li><span><a href=\"#sandbox\" data-toc-modified-id=\"sandbox-1.4\"><span class=\"toc-item-num\">1.4&nbsp;&nbsp;</span>sandbox</a></span></li></ul></li><li><span><a href=\"#anonymous-function\" data-toc-modified-id=\"anonymous-function-2\"><span class=\"toc-item-num\">2&nbsp;&nbsp;</span>anonymous function</a></span><ul class=\"toc-item\"><li><ul class=\"toc-item\"><li><span><a href=\"#is.numericをベクトルにかけると１個のboolのみが返る\" data-toc-modified-id=\"is.numericをベクトルにかけると１個のboolのみが返る-2.0.1\"><span class=\"toc-item-num\">2.0.1&nbsp;&nbsp;</span>is.numericをベクトルにかけると１個のboolのみが返る</a></span></li></ul></li><li><span><a href=\"#Like-all-functions-in-R,-anonymous-functions-have-formals(),-a-body(),-and-a-parent-environment()\" data-toc-modified-id=\"Like-all-functions-in-R,-anonymous-functions-have-formals(),-a-body(),-and-a-parent-environment()-2.1\"><span class=\"toc-item-num\">2.1&nbsp;&nbsp;</span>Like all functions in R, anonymous functions have formals(), a body(), and a parent environment()</a></span></li></ul></li><li><span><a href=\"#Closure\" data-toc-modified-id=\"Closure-3\"><span class=\"toc-item-num\">3&nbsp;&nbsp;</span>Closure</a></span></li></ul></div>"
   ]
  },
  {
   "cell_type": "code",
   "execution_count": 1,
   "metadata": {
    "collapsed": true
   },
   "outputs": [],
   "source": [
    "options(repos = structure(c(CRAN = \"http://cran.ism.ac.jp/\")))"
   ]
  },
  {
   "cell_type": "markdown",
   "metadata": {},
   "source": [
    "# Motivation"
   ]
  },
  {
   "cell_type": "markdown",
   "metadata": {},
   "source": [
    "### Generate a sample dataset"
   ]
  },
  {
   "cell_type": "code",
   "execution_count": 3,
   "metadata": {},
   "outputs": [
    {
     "data": {
      "text/html": [
       "<table>\n",
       "<thead><tr><th scope=col>a</th><th scope=col>b</th><th scope=col>c</th><th scope=col>d</th><th scope=col>e</th><th scope=col>f</th></tr></thead>\n",
       "<tbody>\n",
       "\t<tr><td> 1 </td><td> 6 </td><td>1  </td><td>  5</td><td>-99</td><td>1  </td></tr>\n",
       "\t<tr><td>10 </td><td> 4 </td><td>4  </td><td>-99</td><td>  9</td><td>3  </td></tr>\n",
       "\t<tr><td> 7 </td><td> 9 </td><td>5  </td><td>  4</td><td>  1</td><td>4  </td></tr>\n",
       "\t<tr><td> 2 </td><td> 9 </td><td>3  </td><td>  8</td><td>  6</td><td>8  </td></tr>\n",
       "\t<tr><td> 1 </td><td>10 </td><td>5  </td><td>  9</td><td>  8</td><td>6  </td></tr>\n",
       "\t<tr><td> 6 </td><td> 2 </td><td>1  </td><td>  3</td><td>  8</td><td>5  </td></tr>\n",
       "</tbody>\n",
       "</table>\n"
      ],
      "text/latex": [
       "\\begin{tabular}{r|llllll}\n",
       " a & b & c & d & e & f\\\\\n",
       "\\hline\n",
       "\t  1  &  6  & 1   &   5 & -99 & 1  \\\\\n",
       "\t 10  &  4  & 4   & -99 &   9 & 3  \\\\\n",
       "\t  7  &  9  & 5   &   4 &   1 & 4  \\\\\n",
       "\t  2  &  9  & 3   &   8 &   6 & 8  \\\\\n",
       "\t  1  & 10  & 5   &   9 &   8 & 6  \\\\\n",
       "\t  6  &  2  & 1   &   3 &   8 & 5  \\\\\n",
       "\\end{tabular}\n"
      ],
      "text/markdown": [
       "\n",
       "a | b | c | d | e | f | \n",
       "|---|---|---|---|---|---|\n",
       "|  1  |  6  | 1   |   5 | -99 | 1   | \n",
       "| 10  |  4  | 4   | -99 |   9 | 3   | \n",
       "|  7  |  9  | 5   |   4 |   1 | 4   | \n",
       "|  2  |  9  | 3   |   8 |   6 | 8   | \n",
       "|  1  | 10  | 5   |   9 |   8 | 6   | \n",
       "|  6  |  2  | 1   |   3 |   8 | 5   | \n",
       "\n",
       "\n"
      ],
      "text/plain": [
       "  a  b  c d   e   f\n",
       "1  1  6 1   5 -99 1\n",
       "2 10  4 4 -99   9 3\n",
       "3  7  9 5   4   1 4\n",
       "4  2  9 3   8   6 8\n",
       "5  1 10 5   9   8 6\n",
       "6  6  2 1   3   8 5"
      ]
     },
     "metadata": {},
     "output_type": "display_data"
    }
   ],
   "source": [
    "set.seed(1014)\n",
    "df <- data.frame(replicate(6, sample(c(1:10, -99), 6, rep = TRUE)))\n",
    "names(df) <- letters[1:6]\n",
    "df"
   ]
  },
  {
   "cell_type": "markdown",
   "metadata": {},
   "source": [
    "### lapply is equivalent to the following"
   ]
  },
  {
   "cell_type": "code",
   "execution_count": 10,
   "metadata": {},
   "outputs": [],
   "source": [
    "my_lapply = function(x , f, ...) {\n",
    "    out <- vector(\"list\", length(x))\n",
    "    for (i in seq_along(x)) {\n",
    "      out[[i]] <- f(x[[i]], ...)\n",
    "    }\n",
    "    out\n",
    "    }"
   ]
  },
  {
   "cell_type": "code",
   "execution_count": 7,
   "metadata": {
    "collapsed": true
   },
   "outputs": [],
   "source": [
    "fix_missing <- function(x) {\n",
    "  x[x == -99] <- NA\n",
    "  x\n",
    "}"
   ]
  },
  {
   "cell_type": "code",
   "execution_count": 8,
   "metadata": {},
   "outputs": [
    {
     "data": {
      "text/html": [
       "<dl>\n",
       "\t<dt>$a</dt>\n",
       "\t\t<dd><ol class=list-inline>\n",
       "\t<li>1</li>\n",
       "\t<li>10</li>\n",
       "\t<li>7</li>\n",
       "\t<li>2</li>\n",
       "\t<li>1</li>\n",
       "\t<li>6</li>\n",
       "</ol>\n",
       "</dd>\n",
       "\t<dt>$b</dt>\n",
       "\t\t<dd><ol class=list-inline>\n",
       "\t<li>6</li>\n",
       "\t<li>4</li>\n",
       "\t<li>9</li>\n",
       "\t<li>9</li>\n",
       "\t<li>10</li>\n",
       "\t<li>2</li>\n",
       "</ol>\n",
       "</dd>\n",
       "\t<dt>$c</dt>\n",
       "\t\t<dd><ol class=list-inline>\n",
       "\t<li>1</li>\n",
       "\t<li>4</li>\n",
       "\t<li>5</li>\n",
       "\t<li>3</li>\n",
       "\t<li>5</li>\n",
       "\t<li>1</li>\n",
       "</ol>\n",
       "</dd>\n",
       "\t<dt>$d</dt>\n",
       "\t\t<dd><ol class=list-inline>\n",
       "\t<li>5</li>\n",
       "\t<li>&lt;NA&gt;</li>\n",
       "\t<li>4</li>\n",
       "\t<li>8</li>\n",
       "\t<li>9</li>\n",
       "\t<li>3</li>\n",
       "</ol>\n",
       "</dd>\n",
       "\t<dt>$e</dt>\n",
       "\t\t<dd><ol class=list-inline>\n",
       "\t<li>&lt;NA&gt;</li>\n",
       "\t<li>9</li>\n",
       "\t<li>1</li>\n",
       "\t<li>6</li>\n",
       "\t<li>8</li>\n",
       "\t<li>8</li>\n",
       "</ol>\n",
       "</dd>\n",
       "\t<dt>$f</dt>\n",
       "\t\t<dd><ol class=list-inline>\n",
       "\t<li>1</li>\n",
       "\t<li>3</li>\n",
       "\t<li>4</li>\n",
       "\t<li>8</li>\n",
       "\t<li>6</li>\n",
       "\t<li>5</li>\n",
       "</ol>\n",
       "</dd>\n",
       "</dl>\n"
      ],
      "text/latex": [
       "\\begin{description}\n",
       "\\item[\\$a] \\begin{enumerate*}\n",
       "\\item 1\n",
       "\\item 10\n",
       "\\item 7\n",
       "\\item 2\n",
       "\\item 1\n",
       "\\item 6\n",
       "\\end{enumerate*}\n",
       "\n",
       "\\item[\\$b] \\begin{enumerate*}\n",
       "\\item 6\n",
       "\\item 4\n",
       "\\item 9\n",
       "\\item 9\n",
       "\\item 10\n",
       "\\item 2\n",
       "\\end{enumerate*}\n",
       "\n",
       "\\item[\\$c] \\begin{enumerate*}\n",
       "\\item 1\n",
       "\\item 4\n",
       "\\item 5\n",
       "\\item 3\n",
       "\\item 5\n",
       "\\item 1\n",
       "\\end{enumerate*}\n",
       "\n",
       "\\item[\\$d] \\begin{enumerate*}\n",
       "\\item 5\n",
       "\\item <NA>\n",
       "\\item 4\n",
       "\\item 8\n",
       "\\item 9\n",
       "\\item 3\n",
       "\\end{enumerate*}\n",
       "\n",
       "\\item[\\$e] \\begin{enumerate*}\n",
       "\\item <NA>\n",
       "\\item 9\n",
       "\\item 1\n",
       "\\item 6\n",
       "\\item 8\n",
       "\\item 8\n",
       "\\end{enumerate*}\n",
       "\n",
       "\\item[\\$f] \\begin{enumerate*}\n",
       "\\item 1\n",
       "\\item 3\n",
       "\\item 4\n",
       "\\item 8\n",
       "\\item 6\n",
       "\\item 5\n",
       "\\end{enumerate*}\n",
       "\n",
       "\\end{description}\n"
      ],
      "text/markdown": [
       "$a\n",
       ":   1. 1\n",
       "2. 10\n",
       "3. 7\n",
       "4. 2\n",
       "5. 1\n",
       "6. 6\n",
       "\n",
       "\n",
       "\n",
       "$b\n",
       ":   1. 6\n",
       "2. 4\n",
       "3. 9\n",
       "4. 9\n",
       "5. 10\n",
       "6. 2\n",
       "\n",
       "\n",
       "\n",
       "$c\n",
       ":   1. 1\n",
       "2. 4\n",
       "3. 5\n",
       "4. 3\n",
       "5. 5\n",
       "6. 1\n",
       "\n",
       "\n",
       "\n",
       "$d\n",
       ":   1. 5\n",
       "2. &lt;NA&gt;\n",
       "3. 4\n",
       "4. 8\n",
       "5. 9\n",
       "6. 3\n",
       "\n",
       "\n",
       "\n",
       "$e\n",
       ":   1. &lt;NA&gt;\n",
       "2. 9\n",
       "3. 1\n",
       "4. 6\n",
       "5. 8\n",
       "6. 8\n",
       "\n",
       "\n",
       "\n",
       "$f\n",
       ":   1. 1\n",
       "2. 3\n",
       "3. 4\n",
       "4. 8\n",
       "5. 6\n",
       "6. 5\n",
       "\n",
       "\n",
       "\n",
       "\n",
       "\n"
      ],
      "text/plain": [
       "$a\n",
       "[1]  1 10  7  2  1  6\n",
       "\n",
       "$b\n",
       "[1]  6  4  9  9 10  2\n",
       "\n",
       "$c\n",
       "[1] 1 4 5 3 5 1\n",
       "\n",
       "$d\n",
       "[1]  5 NA  4  8  9  3\n",
       "\n",
       "$e\n",
       "[1] NA  9  1  6  8  8\n",
       "\n",
       "$f\n",
       "[1] 1 3 4 8 6 5\n"
      ]
     },
     "metadata": {},
     "output_type": "display_data"
    }
   ],
   "source": [
    "lapply(df , fix_missing)"
   ]
  },
  {
   "cell_type": "code",
   "execution_count": 11,
   "metadata": {},
   "outputs": [
    {
     "data": {
      "text/html": [
       "<ol>\n",
       "\t<li><ol class=list-inline>\n",
       "\t<li>1</li>\n",
       "\t<li>10</li>\n",
       "\t<li>7</li>\n",
       "\t<li>2</li>\n",
       "\t<li>1</li>\n",
       "\t<li>6</li>\n",
       "</ol>\n",
       "</li>\n",
       "\t<li><ol class=list-inline>\n",
       "\t<li>6</li>\n",
       "\t<li>4</li>\n",
       "\t<li>9</li>\n",
       "\t<li>9</li>\n",
       "\t<li>10</li>\n",
       "\t<li>2</li>\n",
       "</ol>\n",
       "</li>\n",
       "\t<li><ol class=list-inline>\n",
       "\t<li>1</li>\n",
       "\t<li>4</li>\n",
       "\t<li>5</li>\n",
       "\t<li>3</li>\n",
       "\t<li>5</li>\n",
       "\t<li>1</li>\n",
       "</ol>\n",
       "</li>\n",
       "\t<li><ol class=list-inline>\n",
       "\t<li>5</li>\n",
       "\t<li>&lt;NA&gt;</li>\n",
       "\t<li>4</li>\n",
       "\t<li>8</li>\n",
       "\t<li>9</li>\n",
       "\t<li>3</li>\n",
       "</ol>\n",
       "</li>\n",
       "\t<li><ol class=list-inline>\n",
       "\t<li>&lt;NA&gt;</li>\n",
       "\t<li>9</li>\n",
       "\t<li>1</li>\n",
       "\t<li>6</li>\n",
       "\t<li>8</li>\n",
       "\t<li>8</li>\n",
       "</ol>\n",
       "</li>\n",
       "\t<li><ol class=list-inline>\n",
       "\t<li>1</li>\n",
       "\t<li>3</li>\n",
       "\t<li>4</li>\n",
       "\t<li>8</li>\n",
       "\t<li>6</li>\n",
       "\t<li>5</li>\n",
       "</ol>\n",
       "</li>\n",
       "</ol>\n"
      ],
      "text/latex": [
       "\\begin{enumerate}\n",
       "\\item \\begin{enumerate*}\n",
       "\\item 1\n",
       "\\item 10\n",
       "\\item 7\n",
       "\\item 2\n",
       "\\item 1\n",
       "\\item 6\n",
       "\\end{enumerate*}\n",
       "\n",
       "\\item \\begin{enumerate*}\n",
       "\\item 6\n",
       "\\item 4\n",
       "\\item 9\n",
       "\\item 9\n",
       "\\item 10\n",
       "\\item 2\n",
       "\\end{enumerate*}\n",
       "\n",
       "\\item \\begin{enumerate*}\n",
       "\\item 1\n",
       "\\item 4\n",
       "\\item 5\n",
       "\\item 3\n",
       "\\item 5\n",
       "\\item 1\n",
       "\\end{enumerate*}\n",
       "\n",
       "\\item \\begin{enumerate*}\n",
       "\\item 5\n",
       "\\item <NA>\n",
       "\\item 4\n",
       "\\item 8\n",
       "\\item 9\n",
       "\\item 3\n",
       "\\end{enumerate*}\n",
       "\n",
       "\\item \\begin{enumerate*}\n",
       "\\item <NA>\n",
       "\\item 9\n",
       "\\item 1\n",
       "\\item 6\n",
       "\\item 8\n",
       "\\item 8\n",
       "\\end{enumerate*}\n",
       "\n",
       "\\item \\begin{enumerate*}\n",
       "\\item 1\n",
       "\\item 3\n",
       "\\item 4\n",
       "\\item 8\n",
       "\\item 6\n",
       "\\item 5\n",
       "\\end{enumerate*}\n",
       "\n",
       "\\end{enumerate}\n"
      ],
      "text/markdown": [
       "1. 1. 1\n",
       "2. 10\n",
       "3. 7\n",
       "4. 2\n",
       "5. 1\n",
       "6. 6\n",
       "\n",
       "\n",
       "\n",
       "2. 1. 6\n",
       "2. 4\n",
       "3. 9\n",
       "4. 9\n",
       "5. 10\n",
       "6. 2\n",
       "\n",
       "\n",
       "\n",
       "3. 1. 1\n",
       "2. 4\n",
       "3. 5\n",
       "4. 3\n",
       "5. 5\n",
       "6. 1\n",
       "\n",
       "\n",
       "\n",
       "4. 1. 5\n",
       "2. &lt;NA&gt;\n",
       "3. 4\n",
       "4. 8\n",
       "5. 9\n",
       "6. 3\n",
       "\n",
       "\n",
       "\n",
       "5. 1. &lt;NA&gt;\n",
       "2. 9\n",
       "3. 1\n",
       "4. 6\n",
       "5. 8\n",
       "6. 8\n",
       "\n",
       "\n",
       "\n",
       "6. 1. 1\n",
       "2. 3\n",
       "3. 4\n",
       "4. 8\n",
       "5. 6\n",
       "6. 5\n",
       "\n",
       "\n",
       "\n",
       "\n",
       "\n"
      ],
      "text/plain": [
       "[[1]]\n",
       "[1]  1 10  7  2  1  6\n",
       "\n",
       "[[2]]\n",
       "[1]  6  4  9  9 10  2\n",
       "\n",
       "[[3]]\n",
       "[1] 1 4 5 3 5 1\n",
       "\n",
       "[[4]]\n",
       "[1]  5 NA  4  8  9  3\n",
       "\n",
       "[[5]]\n",
       "[1] NA  9  1  6  8  8\n",
       "\n",
       "[[6]]\n",
       "[1] 1 3 4 8 6 5\n"
      ]
     },
     "metadata": {},
     "output_type": "display_data"
    }
   ],
   "source": [
    "my_lapply(df , fix_missing)"
   ]
  },
  {
   "cell_type": "code",
   "execution_count": null,
   "metadata": {
    "collapsed": true
   },
   "outputs": [],
   "source": [
    "missing_fixer <- function(na_value) {\n",
    "  function(x) {\n",
    "    x[x == na_value] <- NA\n",
    "    x\n",
    "  }\n",
    "}\n",
    "fix_missing_99 <- missing_fixer(-99)\n",
    "fix_missing_999 <- missing_fixer(-999)"
   ]
  },
  {
   "cell_type": "code",
   "execution_count": 14,
   "metadata": {},
   "outputs": [
    {
     "data": {
      "text/html": [
       "<ol class=list-inline>\n",
       "\t<li>&lt;NA&gt;</li>\n",
       "\t<li>-999</li>\n",
       "</ol>\n"
      ],
      "text/latex": [
       "\\begin{enumerate*}\n",
       "\\item <NA>\n",
       "\\item -999\n",
       "\\end{enumerate*}\n"
      ],
      "text/markdown": [
       "1. &lt;NA&gt;\n",
       "2. -999\n",
       "\n",
       "\n"
      ],
      "text/plain": [
       "[1]   NA -999"
      ]
     },
     "metadata": {},
     "output_type": "display_data"
    }
   ],
   "source": [
    "fix_missing_99(c(-99, -999))"
   ]
  },
  {
   "cell_type": "code",
   "execution_count": 15,
   "metadata": {},
   "outputs": [
    {
     "data": {
      "text/html": [
       "<ol class=list-inline>\n",
       "\t<li>-99</li>\n",
       "\t<li>&lt;NA&gt;</li>\n",
       "</ol>\n"
      ],
      "text/latex": [
       "\\begin{enumerate*}\n",
       "\\item -99\n",
       "\\item <NA>\n",
       "\\end{enumerate*}\n"
      ],
      "text/markdown": [
       "1. -99\n",
       "2. &lt;NA&gt;\n",
       "\n",
       "\n"
      ],
      "text/plain": [
       "[1] -99  NA"
      ]
     },
     "metadata": {},
     "output_type": "display_data"
    }
   ],
   "source": [
    "fix_missing_999(c(-99,-999))"
   ]
  },
  {
   "cell_type": "markdown",
   "metadata": {},
   "source": [
    "## extra argumentを使うのは必ずしもうまくいかない"
   ]
  },
  {
   "cell_type": "markdown",
   "metadata": {},
   "source": [
    "extra argumentを使う例："
   ]
  },
  {
   "cell_type": "code",
   "execution_count": 16,
   "metadata": {
    "collapsed": true
   },
   "outputs": [],
   "source": [
    "fix_missing <- function(x, na.value) {\n",
    "  x[x == na.value] <- NA\n",
    "  x\n",
    "}"
   ]
  },
  {
   "cell_type": "markdown",
   "metadata": {},
   "source": [
    "## コードで似たような表現を繰り返すためにbugが起こりやすい例"
   ]
  },
  {
   "cell_type": "code",
   "execution_count": 17,
   "metadata": {},
   "outputs": [
    {
     "data": {
      "text/html": [
       "<dl>\n",
       "\t<dt>$a</dt>\n",
       "\t\t<dd><ol class=list-inline>\n",
       "\t<li>4.5</li>\n",
       "\t<li>4</li>\n",
       "\t<li>3.72827037646145</li>\n",
       "\t<li>4.4478</li>\n",
       "\t<li>5.5</li>\n",
       "</ol>\n",
       "</dd>\n",
       "\t<dt>$b</dt>\n",
       "\t\t<dd><ol class=list-inline>\n",
       "\t<li>6.66666666666667</li>\n",
       "\t<li>7.5</li>\n",
       "\t<li>3.20416395751944</li>\n",
       "\t<li>2.9652</li>\n",
       "\t<li>4.5</li>\n",
       "</ol>\n",
       "</dd>\n",
       "\t<dt>$c</dt>\n",
       "\t\t<dd><ol class=list-inline>\n",
       "\t<li>3.16666666666667</li>\n",
       "\t<li>3.5</li>\n",
       "\t<li>1.83484785926972</li>\n",
       "\t<li>2.2239</li>\n",
       "\t<li>3.25</li>\n",
       "</ol>\n",
       "</dd>\n",
       "\t<dt>$d</dt>\n",
       "\t\t<dd><ol class=list-inline>\n",
       "\t<li>-11.6666666666667</li>\n",
       "\t<li>4.5</li>\n",
       "\t<li>42.8470146762486</li>\n",
       "\t<li>3.7065</li>\n",
       "\t<li>4</li>\n",
       "</ol>\n",
       "</dd>\n",
       "\t<dt>$e</dt>\n",
       "\t\t<dd><ol class=list-inline>\n",
       "\t<li>-11.1666666666667</li>\n",
       "\t<li>7</li>\n",
       "\t<li>43.125012077293</li>\n",
       "\t<li>2.2239</li>\n",
       "\t<li>5.75</li>\n",
       "</ol>\n",
       "</dd>\n",
       "\t<dt>$f</dt>\n",
       "\t\t<dd><ol class=list-inline>\n",
       "\t<li>4.5</li>\n",
       "\t<li>4.5</li>\n",
       "\t<li>2.42899156029822</li>\n",
       "\t<li>2.2239</li>\n",
       "\t<li>2.5</li>\n",
       "</ol>\n",
       "</dd>\n",
       "</dl>\n"
      ],
      "text/latex": [
       "\\begin{description}\n",
       "\\item[\\$a] \\begin{enumerate*}\n",
       "\\item 4.5\n",
       "\\item 4\n",
       "\\item 3.72827037646145\n",
       "\\item 4.4478\n",
       "\\item 5.5\n",
       "\\end{enumerate*}\n",
       "\n",
       "\\item[\\$b] \\begin{enumerate*}\n",
       "\\item 6.66666666666667\n",
       "\\item 7.5\n",
       "\\item 3.20416395751944\n",
       "\\item 2.9652\n",
       "\\item 4.5\n",
       "\\end{enumerate*}\n",
       "\n",
       "\\item[\\$c] \\begin{enumerate*}\n",
       "\\item 3.16666666666667\n",
       "\\item 3.5\n",
       "\\item 1.83484785926972\n",
       "\\item 2.2239\n",
       "\\item 3.25\n",
       "\\end{enumerate*}\n",
       "\n",
       "\\item[\\$d] \\begin{enumerate*}\n",
       "\\item -11.6666666666667\n",
       "\\item 4.5\n",
       "\\item 42.8470146762486\n",
       "\\item 3.7065\n",
       "\\item 4\n",
       "\\end{enumerate*}\n",
       "\n",
       "\\item[\\$e] \\begin{enumerate*}\n",
       "\\item -11.1666666666667\n",
       "\\item 7\n",
       "\\item 43.125012077293\n",
       "\\item 2.2239\n",
       "\\item 5.75\n",
       "\\end{enumerate*}\n",
       "\n",
       "\\item[\\$f] \\begin{enumerate*}\n",
       "\\item 4.5\n",
       "\\item 4.5\n",
       "\\item 2.42899156029822\n",
       "\\item 2.2239\n",
       "\\item 2.5\n",
       "\\end{enumerate*}\n",
       "\n",
       "\\end{description}\n"
      ],
      "text/markdown": [
       "$a\n",
       ":   1. 4.5\n",
       "2. 4\n",
       "3. 3.72827037646145\n",
       "4. 4.4478\n",
       "5. 5.5\n",
       "\n",
       "\n",
       "\n",
       "$b\n",
       ":   1. 6.66666666666667\n",
       "2. 7.5\n",
       "3. 3.20416395751944\n",
       "4. 2.9652\n",
       "5. 4.5\n",
       "\n",
       "\n",
       "\n",
       "$c\n",
       ":   1. 3.16666666666667\n",
       "2. 3.5\n",
       "3. 1.83484785926972\n",
       "4. 2.2239\n",
       "5. 3.25\n",
       "\n",
       "\n",
       "\n",
       "$d\n",
       ":   1. -11.6666666666667\n",
       "2. 4.5\n",
       "3. 42.8470146762486\n",
       "4. 3.7065\n",
       "5. 4\n",
       "\n",
       "\n",
       "\n",
       "$e\n",
       ":   1. -11.1666666666667\n",
       "2. 7\n",
       "3. 43.125012077293\n",
       "4. 2.2239\n",
       "5. 5.75\n",
       "\n",
       "\n",
       "\n",
       "$f\n",
       ":   1. 4.5\n",
       "2. 4.5\n",
       "3. 2.42899156029822\n",
       "4. 2.2239\n",
       "5. 2.5\n",
       "\n",
       "\n",
       "\n",
       "\n",
       "\n"
      ],
      "text/plain": [
       "$a\n",
       "[1] 4.50000 4.00000 3.72827 4.44780 5.50000\n",
       "\n",
       "$b\n",
       "[1] 6.666667 7.500000 3.204164 2.965200 4.500000\n",
       "\n",
       "$c\n",
       "[1] 3.166667 3.500000 1.834848 2.223900 3.250000\n",
       "\n",
       "$d\n",
       "[1] -11.66667   4.50000  42.84701   3.70650   4.00000\n",
       "\n",
       "$e\n",
       "[1] -11.16667   7.00000  43.12501   2.22390   5.75000\n",
       "\n",
       "$f\n",
       "[1] 4.500000 4.500000 2.428992 2.223900 2.500000\n"
      ]
     },
     "metadata": {},
     "output_type": "display_data"
    }
   ],
   "source": [
    "summary <- function(x) {\n",
    "  c(mean(x), median(x), sd(x), mad(x), IQR(x))\n",
    "}\n",
    "lapply(df, summary)"
   ]
  },
  {
   "cell_type": "code",
   "execution_count": 18,
   "metadata": {
    "collapsed": true
   },
   "outputs": [],
   "source": [
    "summary <- function(x) {\n",
    " c(mean(x, na.rm = TRUE),\n",
    "   median(x, na.rm = TRUE),\n",
    "   sd(x, na.rm = TRUE),\n",
    "   mad(x, na.rm = TRUE),\n",
    "   IQR(x, na.rm = TRUE))\n",
    "}"
   ]
  },
  {
   "cell_type": "code",
   "execution_count": 20,
   "metadata": {},
   "outputs": [
    {
     "data": {
      "text/html": [
       "<dl>\n",
       "\t<dt>$a</dt>\n",
       "\t\t<dd><ol class=list-inline>\n",
       "\t<li>4.5</li>\n",
       "\t<li>4</li>\n",
       "\t<li>3.72827037646145</li>\n",
       "\t<li>4.4478</li>\n",
       "\t<li>5.5</li>\n",
       "</ol>\n",
       "</dd>\n",
       "\t<dt>$b</dt>\n",
       "\t\t<dd><ol class=list-inline>\n",
       "\t<li>6.66666666666667</li>\n",
       "\t<li>7.5</li>\n",
       "\t<li>3.20416395751944</li>\n",
       "\t<li>2.9652</li>\n",
       "\t<li>4.5</li>\n",
       "</ol>\n",
       "</dd>\n",
       "\t<dt>$c</dt>\n",
       "\t\t<dd><ol class=list-inline>\n",
       "\t<li>3.16666666666667</li>\n",
       "\t<li>3.5</li>\n",
       "\t<li>1.83484785926972</li>\n",
       "\t<li>2.2239</li>\n",
       "\t<li>3.25</li>\n",
       "</ol>\n",
       "</dd>\n",
       "\t<dt>$d</dt>\n",
       "\t\t<dd><ol class=list-inline>\n",
       "\t<li>-11.6666666666667</li>\n",
       "\t<li>4.5</li>\n",
       "\t<li>42.8470146762486</li>\n",
       "\t<li>3.7065</li>\n",
       "\t<li>4</li>\n",
       "</ol>\n",
       "</dd>\n",
       "\t<dt>$e</dt>\n",
       "\t\t<dd><ol class=list-inline>\n",
       "\t<li>-11.1666666666667</li>\n",
       "\t<li>7</li>\n",
       "\t<li>43.125012077293</li>\n",
       "\t<li>2.2239</li>\n",
       "\t<li>5.75</li>\n",
       "</ol>\n",
       "</dd>\n",
       "\t<dt>$f</dt>\n",
       "\t\t<dd><ol class=list-inline>\n",
       "\t<li>4.5</li>\n",
       "\t<li>4.5</li>\n",
       "\t<li>2.42899156029822</li>\n",
       "\t<li>2.2239</li>\n",
       "\t<li>2.5</li>\n",
       "</ol>\n",
       "</dd>\n",
       "</dl>\n"
      ],
      "text/latex": [
       "\\begin{description}\n",
       "\\item[\\$a] \\begin{enumerate*}\n",
       "\\item 4.5\n",
       "\\item 4\n",
       "\\item 3.72827037646145\n",
       "\\item 4.4478\n",
       "\\item 5.5\n",
       "\\end{enumerate*}\n",
       "\n",
       "\\item[\\$b] \\begin{enumerate*}\n",
       "\\item 6.66666666666667\n",
       "\\item 7.5\n",
       "\\item 3.20416395751944\n",
       "\\item 2.9652\n",
       "\\item 4.5\n",
       "\\end{enumerate*}\n",
       "\n",
       "\\item[\\$c] \\begin{enumerate*}\n",
       "\\item 3.16666666666667\n",
       "\\item 3.5\n",
       "\\item 1.83484785926972\n",
       "\\item 2.2239\n",
       "\\item 3.25\n",
       "\\end{enumerate*}\n",
       "\n",
       "\\item[\\$d] \\begin{enumerate*}\n",
       "\\item -11.6666666666667\n",
       "\\item 4.5\n",
       "\\item 42.8470146762486\n",
       "\\item 3.7065\n",
       "\\item 4\n",
       "\\end{enumerate*}\n",
       "\n",
       "\\item[\\$e] \\begin{enumerate*}\n",
       "\\item -11.1666666666667\n",
       "\\item 7\n",
       "\\item 43.125012077293\n",
       "\\item 2.2239\n",
       "\\item 5.75\n",
       "\\end{enumerate*}\n",
       "\n",
       "\\item[\\$f] \\begin{enumerate*}\n",
       "\\item 4.5\n",
       "\\item 4.5\n",
       "\\item 2.42899156029822\n",
       "\\item 2.2239\n",
       "\\item 2.5\n",
       "\\end{enumerate*}\n",
       "\n",
       "\\end{description}\n"
      ],
      "text/markdown": [
       "$a\n",
       ":   1. 4.5\n",
       "2. 4\n",
       "3. 3.72827037646145\n",
       "4. 4.4478\n",
       "5. 5.5\n",
       "\n",
       "\n",
       "\n",
       "$b\n",
       ":   1. 6.66666666666667\n",
       "2. 7.5\n",
       "3. 3.20416395751944\n",
       "4. 2.9652\n",
       "5. 4.5\n",
       "\n",
       "\n",
       "\n",
       "$c\n",
       ":   1. 3.16666666666667\n",
       "2. 3.5\n",
       "3. 1.83484785926972\n",
       "4. 2.2239\n",
       "5. 3.25\n",
       "\n",
       "\n",
       "\n",
       "$d\n",
       ":   1. -11.6666666666667\n",
       "2. 4.5\n",
       "3. 42.8470146762486\n",
       "4. 3.7065\n",
       "5. 4\n",
       "\n",
       "\n",
       "\n",
       "$e\n",
       ":   1. -11.1666666666667\n",
       "2. 7\n",
       "3. 43.125012077293\n",
       "4. 2.2239\n",
       "5. 5.75\n",
       "\n",
       "\n",
       "\n",
       "$f\n",
       ":   1. 4.5\n",
       "2. 4.5\n",
       "3. 2.42899156029822\n",
       "4. 2.2239\n",
       "5. 2.5\n",
       "\n",
       "\n",
       "\n",
       "\n",
       "\n"
      ],
      "text/plain": [
       "$a\n",
       "[1] 4.50000 4.00000 3.72827 4.44780 5.50000\n",
       "\n",
       "$b\n",
       "[1] 6.666667 7.500000 3.204164 2.965200 4.500000\n",
       "\n",
       "$c\n",
       "[1] 3.166667 3.500000 1.834848 2.223900 3.250000\n",
       "\n",
       "$d\n",
       "[1] -11.66667   4.50000  42.84701   3.70650   4.00000\n",
       "\n",
       "$e\n",
       "[1] -11.16667   7.00000  43.12501   2.22390   5.75000\n",
       "\n",
       "$f\n",
       "[1] 4.500000 4.500000 2.428992 2.223900 2.500000\n"
      ]
     },
     "metadata": {},
     "output_type": "display_data"
    }
   ],
   "source": [
    "lapply(df , summary)"
   ]
  },
  {
   "cell_type": "markdown",
   "metadata": {},
   "source": [
    "## 以下のようにしたほうが良い"
   ]
  },
  {
   "cell_type": "code",
   "execution_count": 22,
   "metadata": {
    "collapsed": true
   },
   "outputs": [],
   "source": [
    "summary <- function(x) {\n",
    "  funs <- c(mean, median, sd, mad, IQR)\n",
    "  lapply(funs, function(f) f(x, na.rm = TRUE))\n",
    "}"
   ]
  },
  {
   "cell_type": "code",
   "execution_count": 27,
   "metadata": {},
   "outputs": [
    {
     "data": {
      "text/html": [
       "<ol>\n",
       "\t<li>1.5</li>\n",
       "\t<li>1.5</li>\n",
       "\t<li>0.707106781186548</li>\n",
       "\t<li>0.7413</li>\n",
       "\t<li>0.5</li>\n",
       "</ol>\n"
      ],
      "text/latex": [
       "\\begin{enumerate}\n",
       "\\item 1.5\n",
       "\\item 1.5\n",
       "\\item 0.707106781186548\n",
       "\\item 0.7413\n",
       "\\item 0.5\n",
       "\\end{enumerate}\n"
      ],
      "text/markdown": [
       "1. 1.5\n",
       "2. 1.5\n",
       "3. 0.707106781186548\n",
       "4. 0.7413\n",
       "5. 0.5\n",
       "\n",
       "\n"
      ],
      "text/plain": [
       "[[1]]\n",
       "[1] 1.5\n",
       "\n",
       "[[2]]\n",
       "[1] 1.5\n",
       "\n",
       "[[3]]\n",
       "[1] 0.7071068\n",
       "\n",
       "[[4]]\n",
       "[1] 0.7413\n",
       "\n",
       "[[5]]\n",
       "[1] 0.5\n"
      ]
     },
     "metadata": {},
     "output_type": "display_data"
    }
   ],
   "source": [
    "summary(c(1,2))"
   ]
  },
  {
   "cell_type": "code",
   "execution_count": 28,
   "metadata": {},
   "outputs": [
    {
     "data": {
      "text/html": [
       "<dl>\n",
       "\t<dt>$a</dt>\n",
       "\t\t<dd><ol>\n",
       "\t<li>4.5</li>\n",
       "\t<li>4</li>\n",
       "\t<li>3.72827037646145</li>\n",
       "\t<li>4.4478</li>\n",
       "\t<li>5.5</li>\n",
       "</ol>\n",
       "</dd>\n",
       "\t<dt>$b</dt>\n",
       "\t\t<dd><ol>\n",
       "\t<li>6.66666666666667</li>\n",
       "\t<li>7.5</li>\n",
       "\t<li>3.20416395751944</li>\n",
       "\t<li>2.9652</li>\n",
       "\t<li>4.5</li>\n",
       "</ol>\n",
       "</dd>\n",
       "\t<dt>$c</dt>\n",
       "\t\t<dd><ol>\n",
       "\t<li>3.16666666666667</li>\n",
       "\t<li>3.5</li>\n",
       "\t<li>1.83484785926972</li>\n",
       "\t<li>2.2239</li>\n",
       "\t<li>3.25</li>\n",
       "</ol>\n",
       "</dd>\n",
       "\t<dt>$d</dt>\n",
       "\t\t<dd><ol>\n",
       "\t<li>-11.6666666666667</li>\n",
       "\t<li>4.5</li>\n",
       "\t<li>42.8470146762486</li>\n",
       "\t<li>3.7065</li>\n",
       "\t<li>4</li>\n",
       "</ol>\n",
       "</dd>\n",
       "\t<dt>$e</dt>\n",
       "\t\t<dd><ol>\n",
       "\t<li>-11.1666666666667</li>\n",
       "\t<li>7</li>\n",
       "\t<li>43.125012077293</li>\n",
       "\t<li>2.2239</li>\n",
       "\t<li>5.75</li>\n",
       "</ol>\n",
       "</dd>\n",
       "\t<dt>$f</dt>\n",
       "\t\t<dd><ol>\n",
       "\t<li>4.5</li>\n",
       "\t<li>4.5</li>\n",
       "\t<li>2.42899156029822</li>\n",
       "\t<li>2.2239</li>\n",
       "\t<li>2.5</li>\n",
       "</ol>\n",
       "</dd>\n",
       "</dl>\n"
      ],
      "text/latex": [
       "\\begin{description}\n",
       "\\item[\\$a] \\begin{enumerate}\n",
       "\\item 4.5\n",
       "\\item 4\n",
       "\\item 3.72827037646145\n",
       "\\item 4.4478\n",
       "\\item 5.5\n",
       "\\end{enumerate}\n",
       "\n",
       "\\item[\\$b] \\begin{enumerate}\n",
       "\\item 6.66666666666667\n",
       "\\item 7.5\n",
       "\\item 3.20416395751944\n",
       "\\item 2.9652\n",
       "\\item 4.5\n",
       "\\end{enumerate}\n",
       "\n",
       "\\item[\\$c] \\begin{enumerate}\n",
       "\\item 3.16666666666667\n",
       "\\item 3.5\n",
       "\\item 1.83484785926972\n",
       "\\item 2.2239\n",
       "\\item 3.25\n",
       "\\end{enumerate}\n",
       "\n",
       "\\item[\\$d] \\begin{enumerate}\n",
       "\\item -11.6666666666667\n",
       "\\item 4.5\n",
       "\\item 42.8470146762486\n",
       "\\item 3.7065\n",
       "\\item 4\n",
       "\\end{enumerate}\n",
       "\n",
       "\\item[\\$e] \\begin{enumerate}\n",
       "\\item -11.1666666666667\n",
       "\\item 7\n",
       "\\item 43.125012077293\n",
       "\\item 2.2239\n",
       "\\item 5.75\n",
       "\\end{enumerate}\n",
       "\n",
       "\\item[\\$f] \\begin{enumerate}\n",
       "\\item 4.5\n",
       "\\item 4.5\n",
       "\\item 2.42899156029822\n",
       "\\item 2.2239\n",
       "\\item 2.5\n",
       "\\end{enumerate}\n",
       "\n",
       "\\end{description}\n"
      ],
      "text/markdown": [
       "$a\n",
       ":   1. 4.5\n",
       "2. 4\n",
       "3. 3.72827037646145\n",
       "4. 4.4478\n",
       "5. 5.5\n",
       "\n",
       "\n",
       "\n",
       "$b\n",
       ":   1. 6.66666666666667\n",
       "2. 7.5\n",
       "3. 3.20416395751944\n",
       "4. 2.9652\n",
       "5. 4.5\n",
       "\n",
       "\n",
       "\n",
       "$c\n",
       ":   1. 3.16666666666667\n",
       "2. 3.5\n",
       "3. 1.83484785926972\n",
       "4. 2.2239\n",
       "5. 3.25\n",
       "\n",
       "\n",
       "\n",
       "$d\n",
       ":   1. -11.6666666666667\n",
       "2. 4.5\n",
       "3. 42.8470146762486\n",
       "4. 3.7065\n",
       "5. 4\n",
       "\n",
       "\n",
       "\n",
       "$e\n",
       ":   1. -11.1666666666667\n",
       "2. 7\n",
       "3. 43.125012077293\n",
       "4. 2.2239\n",
       "5. 5.75\n",
       "\n",
       "\n",
       "\n",
       "$f\n",
       ":   1. 4.5\n",
       "2. 4.5\n",
       "3. 2.42899156029822\n",
       "4. 2.2239\n",
       "5. 2.5\n",
       "\n",
       "\n",
       "\n",
       "\n",
       "\n"
      ],
      "text/plain": [
       "$a\n",
       "$a[[1]]\n",
       "[1] 4.5\n",
       "\n",
       "$a[[2]]\n",
       "[1] 4\n",
       "\n",
       "$a[[3]]\n",
       "[1] 3.72827\n",
       "\n",
       "$a[[4]]\n",
       "[1] 4.4478\n",
       "\n",
       "$a[[5]]\n",
       "[1] 5.5\n",
       "\n",
       "\n",
       "$b\n",
       "$b[[1]]\n",
       "[1] 6.666667\n",
       "\n",
       "$b[[2]]\n",
       "[1] 7.5\n",
       "\n",
       "$b[[3]]\n",
       "[1] 3.204164\n",
       "\n",
       "$b[[4]]\n",
       "[1] 2.9652\n",
       "\n",
       "$b[[5]]\n",
       "[1] 4.5\n",
       "\n",
       "\n",
       "$c\n",
       "$c[[1]]\n",
       "[1] 3.166667\n",
       "\n",
       "$c[[2]]\n",
       "[1] 3.5\n",
       "\n",
       "$c[[3]]\n",
       "[1] 1.834848\n",
       "\n",
       "$c[[4]]\n",
       "[1] 2.2239\n",
       "\n",
       "$c[[5]]\n",
       "[1] 3.25\n",
       "\n",
       "\n",
       "$d\n",
       "$d[[1]]\n",
       "[1] -11.66667\n",
       "\n",
       "$d[[2]]\n",
       "[1] 4.5\n",
       "\n",
       "$d[[3]]\n",
       "[1] 42.84701\n",
       "\n",
       "$d[[4]]\n",
       "[1] 3.7065\n",
       "\n",
       "$d[[5]]\n",
       "[1] 4\n",
       "\n",
       "\n",
       "$e\n",
       "$e[[1]]\n",
       "[1] -11.16667\n",
       "\n",
       "$e[[2]]\n",
       "[1] 7\n",
       "\n",
       "$e[[3]]\n",
       "[1] 43.12501\n",
       "\n",
       "$e[[4]]\n",
       "[1] 2.2239\n",
       "\n",
       "$e[[5]]\n",
       "[1] 5.75\n",
       "\n",
       "\n",
       "$f\n",
       "$f[[1]]\n",
       "[1] 4.5\n",
       "\n",
       "$f[[2]]\n",
       "[1] 4.5\n",
       "\n",
       "$f[[3]]\n",
       "[1] 2.428992\n",
       "\n",
       "$f[[4]]\n",
       "[1] 2.2239\n",
       "\n",
       "$f[[5]]\n",
       "[1] 2.5\n",
       "\n"
      ]
     },
     "metadata": {},
     "output_type": "display_data"
    }
   ],
   "source": [
    "lapply(df, summary)"
   ]
  },
  {
   "cell_type": "markdown",
   "metadata": {},
   "source": [
    "## sandbox"
   ]
  },
  {
   "cell_type": "code",
   "execution_count": 29,
   "metadata": {},
   "outputs": [
    {
     "data": {
      "text/html": [
       "<ol>\n",
       "\t<li><pre class=language-r><code>function (x) \n",
       "{\n",
       "<span style=white-space:pre-wrap>    f(x, na.rm = T)</span>\n",
       "}</code></pre></li>\n",
       "\t<li><pre class=language-r><code>function (x) \n",
       "{\n",
       "<span style=white-space:pre-wrap>    f(x, na.rm = T)</span>\n",
       "}</code></pre></li>\n",
       "\t<li><pre class=language-r><code>function (x) \n",
       "{\n",
       "<span style=white-space:pre-wrap>    f(x, na.rm = T)</span>\n",
       "}</code></pre></li>\n",
       "</ol>\n"
      ],
      "text/latex": [
       "\\begin{enumerate}\n",
       "\\item \\begin{minted}{r}\n",
       "function (x) \n",
       "\\{\n",
       "    f(x, na.rm = T)\n",
       "\\}\n",
       "\\end{minted}\n",
       "\\item \\begin{minted}{r}\n",
       "function (x) \n",
       "\\{\n",
       "    f(x, na.rm = T)\n",
       "\\}\n",
       "\\end{minted}\n",
       "\\item \\begin{minted}{r}\n",
       "function (x) \n",
       "\\{\n",
       "    f(x, na.rm = T)\n",
       "\\}\n",
       "\\end{minted}\n",
       "\\end{enumerate}\n"
      ],
      "text/markdown": [
       "1. ```r\n",
       "function (x) \n",
       "{\n",
       "    f(x, na.rm = T)\n",
       "}\n",
       "```\n",
       "2. ```r\n",
       "function (x) \n",
       "{\n",
       "    f(x, na.rm = T)\n",
       "}\n",
       "```\n",
       "3. ```r\n",
       "function (x) \n",
       "{\n",
       "    f(x, na.rm = T)\n",
       "}\n",
       "```\n",
       "\n",
       "\n"
      ],
      "text/plain": [
       "[[1]]\n",
       "function (x) \n",
       "{\n",
       "    f(x, na.rm = T)\n",
       "}\n",
       "<environment: 0x0000000018ffddb8>\n",
       "\n",
       "[[2]]\n",
       "function (x) \n",
       "{\n",
       "    f(x, na.rm = T)\n",
       "}\n",
       "<bytecode: 0x0000000018e95e68>\n",
       "<environment: 0x0000000018ffe1a8>\n",
       "\n",
       "[[3]]\n",
       "function (x) \n",
       "{\n",
       "    f(x, na.rm = T)\n",
       "}\n",
       "<bytecode: 0x0000000018e95e68>\n",
       "<environment: 0x0000000018e8f8f8>\n"
      ]
     },
     "metadata": {},
     "output_type": "display_data"
    }
   ],
   "source": [
    "lapply(c(mean , sd , median) , \n",
    "       function(f){ \n",
    "           function(x) { \n",
    "               f(x , na.rm = T)\n",
    "           }\n",
    "       }\n",
    "      )"
   ]
  },
  {
   "cell_type": "markdown",
   "metadata": {},
   "source": [
    "# anonymous function"
   ]
  },
  {
   "cell_type": "markdown",
   "metadata": {},
   "source": [
    "The data was extracted from the 1974 Motor Trend US magazine, and comprises fuel consumption and 10 aspects of automobile design and performance for 32 automobiles (1973–74 models)."
   ]
  },
  {
   "cell_type": "code",
   "execution_count": 30,
   "metadata": {},
   "outputs": [
    {
     "data": {
      "text/html": [
       "<table>\n",
       "<thead><tr><th></th><th scope=col>mpg</th><th scope=col>cyl</th><th scope=col>disp</th><th scope=col>hp</th><th scope=col>drat</th><th scope=col>wt</th><th scope=col>qsec</th><th scope=col>vs</th><th scope=col>am</th><th scope=col>gear</th><th scope=col>carb</th></tr></thead>\n",
       "<tbody>\n",
       "\t<tr><th scope=row>Mazda RX4</th><td>21.0 </td><td>6    </td><td>160.0</td><td>110  </td><td>3.90 </td><td>2.620</td><td>16.46</td><td>0    </td><td>1    </td><td>4    </td><td>4    </td></tr>\n",
       "\t<tr><th scope=row>Mazda RX4 Wag</th><td>21.0 </td><td>6    </td><td>160.0</td><td>110  </td><td>3.90 </td><td>2.875</td><td>17.02</td><td>0    </td><td>1    </td><td>4    </td><td>4    </td></tr>\n",
       "\t<tr><th scope=row>Datsun 710</th><td>22.8 </td><td>4    </td><td>108.0</td><td> 93  </td><td>3.85 </td><td>2.320</td><td>18.61</td><td>1    </td><td>1    </td><td>4    </td><td>1    </td></tr>\n",
       "\t<tr><th scope=row>Hornet 4 Drive</th><td>21.4 </td><td>6    </td><td>258.0</td><td>110  </td><td>3.08 </td><td>3.215</td><td>19.44</td><td>1    </td><td>0    </td><td>3    </td><td>1    </td></tr>\n",
       "\t<tr><th scope=row>Hornet Sportabout</th><td>18.7 </td><td>8    </td><td>360.0</td><td>175  </td><td>3.15 </td><td>3.440</td><td>17.02</td><td>0    </td><td>0    </td><td>3    </td><td>2    </td></tr>\n",
       "\t<tr><th scope=row>Valiant</th><td>18.1 </td><td>6    </td><td>225.0</td><td>105  </td><td>2.76 </td><td>3.460</td><td>20.22</td><td>1    </td><td>0    </td><td>3    </td><td>1    </td></tr>\n",
       "\t<tr><th scope=row>Duster 360</th><td>14.3 </td><td>8    </td><td>360.0</td><td>245  </td><td>3.21 </td><td>3.570</td><td>15.84</td><td>0    </td><td>0    </td><td>3    </td><td>4    </td></tr>\n",
       "\t<tr><th scope=row>Merc 240D</th><td>24.4 </td><td>4    </td><td>146.7</td><td> 62  </td><td>3.69 </td><td>3.190</td><td>20.00</td><td>1    </td><td>0    </td><td>4    </td><td>2    </td></tr>\n",
       "\t<tr><th scope=row>Merc 230</th><td>22.8 </td><td>4    </td><td>140.8</td><td> 95  </td><td>3.92 </td><td>3.150</td><td>22.90</td><td>1    </td><td>0    </td><td>4    </td><td>2    </td></tr>\n",
       "\t<tr><th scope=row>Merc 280</th><td>19.2 </td><td>6    </td><td>167.6</td><td>123  </td><td>3.92 </td><td>3.440</td><td>18.30</td><td>1    </td><td>0    </td><td>4    </td><td>4    </td></tr>\n",
       "\t<tr><th scope=row>Merc 280C</th><td>17.8 </td><td>6    </td><td>167.6</td><td>123  </td><td>3.92 </td><td>3.440</td><td>18.90</td><td>1    </td><td>0    </td><td>4    </td><td>4    </td></tr>\n",
       "\t<tr><th scope=row>Merc 450SE</th><td>16.4 </td><td>8    </td><td>275.8</td><td>180  </td><td>3.07 </td><td>4.070</td><td>17.40</td><td>0    </td><td>0    </td><td>3    </td><td>3    </td></tr>\n",
       "\t<tr><th scope=row>Merc 450SL</th><td>17.3 </td><td>8    </td><td>275.8</td><td>180  </td><td>3.07 </td><td>3.730</td><td>17.60</td><td>0    </td><td>0    </td><td>3    </td><td>3    </td></tr>\n",
       "\t<tr><th scope=row>Merc 450SLC</th><td>15.2 </td><td>8    </td><td>275.8</td><td>180  </td><td>3.07 </td><td>3.780</td><td>18.00</td><td>0    </td><td>0    </td><td>3    </td><td>3    </td></tr>\n",
       "\t<tr><th scope=row>Cadillac Fleetwood</th><td>10.4 </td><td>8    </td><td>472.0</td><td>205  </td><td>2.93 </td><td>5.250</td><td>17.98</td><td>0    </td><td>0    </td><td>3    </td><td>4    </td></tr>\n",
       "\t<tr><th scope=row>Lincoln Continental</th><td>10.4 </td><td>8    </td><td>460.0</td><td>215  </td><td>3.00 </td><td>5.424</td><td>17.82</td><td>0    </td><td>0    </td><td>3    </td><td>4    </td></tr>\n",
       "\t<tr><th scope=row>Chrysler Imperial</th><td>14.7 </td><td>8    </td><td>440.0</td><td>230  </td><td>3.23 </td><td>5.345</td><td>17.42</td><td>0    </td><td>0    </td><td>3    </td><td>4    </td></tr>\n",
       "\t<tr><th scope=row>Fiat 128</th><td>32.4 </td><td>4    </td><td> 78.7</td><td> 66  </td><td>4.08 </td><td>2.200</td><td>19.47</td><td>1    </td><td>1    </td><td>4    </td><td>1    </td></tr>\n",
       "\t<tr><th scope=row>Honda Civic</th><td>30.4 </td><td>4    </td><td> 75.7</td><td> 52  </td><td>4.93 </td><td>1.615</td><td>18.52</td><td>1    </td><td>1    </td><td>4    </td><td>2    </td></tr>\n",
       "\t<tr><th scope=row>Toyota Corolla</th><td>33.9 </td><td>4    </td><td> 71.1</td><td> 65  </td><td>4.22 </td><td>1.835</td><td>19.90</td><td>1    </td><td>1    </td><td>4    </td><td>1    </td></tr>\n",
       "\t<tr><th scope=row>Toyota Corona</th><td>21.5 </td><td>4    </td><td>120.1</td><td> 97  </td><td>3.70 </td><td>2.465</td><td>20.01</td><td>1    </td><td>0    </td><td>3    </td><td>1    </td></tr>\n",
       "\t<tr><th scope=row>Dodge Challenger</th><td>15.5 </td><td>8    </td><td>318.0</td><td>150  </td><td>2.76 </td><td>3.520</td><td>16.87</td><td>0    </td><td>0    </td><td>3    </td><td>2    </td></tr>\n",
       "\t<tr><th scope=row>AMC Javelin</th><td>15.2 </td><td>8    </td><td>304.0</td><td>150  </td><td>3.15 </td><td>3.435</td><td>17.30</td><td>0    </td><td>0    </td><td>3    </td><td>2    </td></tr>\n",
       "\t<tr><th scope=row>Camaro Z28</th><td>13.3 </td><td>8    </td><td>350.0</td><td>245  </td><td>3.73 </td><td>3.840</td><td>15.41</td><td>0    </td><td>0    </td><td>3    </td><td>4    </td></tr>\n",
       "\t<tr><th scope=row>Pontiac Firebird</th><td>19.2 </td><td>8    </td><td>400.0</td><td>175  </td><td>3.08 </td><td>3.845</td><td>17.05</td><td>0    </td><td>0    </td><td>3    </td><td>2    </td></tr>\n",
       "\t<tr><th scope=row>Fiat X1-9</th><td>27.3 </td><td>4    </td><td> 79.0</td><td> 66  </td><td>4.08 </td><td>1.935</td><td>18.90</td><td>1    </td><td>1    </td><td>4    </td><td>1    </td></tr>\n",
       "\t<tr><th scope=row>Porsche 914-2</th><td>26.0 </td><td>4    </td><td>120.3</td><td> 91  </td><td>4.43 </td><td>2.140</td><td>16.70</td><td>0    </td><td>1    </td><td>5    </td><td>2    </td></tr>\n",
       "\t<tr><th scope=row>Lotus Europa</th><td>30.4 </td><td>4    </td><td> 95.1</td><td>113  </td><td>3.77 </td><td>1.513</td><td>16.90</td><td>1    </td><td>1    </td><td>5    </td><td>2    </td></tr>\n",
       "\t<tr><th scope=row>Ford Pantera L</th><td>15.8 </td><td>8    </td><td>351.0</td><td>264  </td><td>4.22 </td><td>3.170</td><td>14.50</td><td>0    </td><td>1    </td><td>5    </td><td>4    </td></tr>\n",
       "\t<tr><th scope=row>Ferrari Dino</th><td>19.7 </td><td>6    </td><td>145.0</td><td>175  </td><td>3.62 </td><td>2.770</td><td>15.50</td><td>0    </td><td>1    </td><td>5    </td><td>6    </td></tr>\n",
       "\t<tr><th scope=row>Maserati Bora</th><td>15.0 </td><td>8    </td><td>301.0</td><td>335  </td><td>3.54 </td><td>3.570</td><td>14.60</td><td>0    </td><td>1    </td><td>5    </td><td>8    </td></tr>\n",
       "\t<tr><th scope=row>Volvo 142E</th><td>21.4 </td><td>4    </td><td>121.0</td><td>109  </td><td>4.11 </td><td>2.780</td><td>18.60</td><td>1    </td><td>1    </td><td>4    </td><td>2    </td></tr>\n",
       "</tbody>\n",
       "</table>\n"
      ],
      "text/latex": [
       "\\begin{tabular}{r|lllllllllll}\n",
       "  & mpg & cyl & disp & hp & drat & wt & qsec & vs & am & gear & carb\\\\\n",
       "\\hline\n",
       "\tMazda RX4 & 21.0  & 6     & 160.0 & 110   & 3.90  & 2.620 & 16.46 & 0     & 1     & 4     & 4    \\\\\n",
       "\tMazda RX4 Wag & 21.0  & 6     & 160.0 & 110   & 3.90  & 2.875 & 17.02 & 0     & 1     & 4     & 4    \\\\\n",
       "\tDatsun 710 & 22.8  & 4     & 108.0 &  93   & 3.85  & 2.320 & 18.61 & 1     & 1     & 4     & 1    \\\\\n",
       "\tHornet 4 Drive & 21.4  & 6     & 258.0 & 110   & 3.08  & 3.215 & 19.44 & 1     & 0     & 3     & 1    \\\\\n",
       "\tHornet Sportabout & 18.7  & 8     & 360.0 & 175   & 3.15  & 3.440 & 17.02 & 0     & 0     & 3     & 2    \\\\\n",
       "\tValiant & 18.1  & 6     & 225.0 & 105   & 2.76  & 3.460 & 20.22 & 1     & 0     & 3     & 1    \\\\\n",
       "\tDuster 360 & 14.3  & 8     & 360.0 & 245   & 3.21  & 3.570 & 15.84 & 0     & 0     & 3     & 4    \\\\\n",
       "\tMerc 240D & 24.4  & 4     & 146.7 &  62   & 3.69  & 3.190 & 20.00 & 1     & 0     & 4     & 2    \\\\\n",
       "\tMerc 230 & 22.8  & 4     & 140.8 &  95   & 3.92  & 3.150 & 22.90 & 1     & 0     & 4     & 2    \\\\\n",
       "\tMerc 280 & 19.2  & 6     & 167.6 & 123   & 3.92  & 3.440 & 18.30 & 1     & 0     & 4     & 4    \\\\\n",
       "\tMerc 280C & 17.8  & 6     & 167.6 & 123   & 3.92  & 3.440 & 18.90 & 1     & 0     & 4     & 4    \\\\\n",
       "\tMerc 450SE & 16.4  & 8     & 275.8 & 180   & 3.07  & 4.070 & 17.40 & 0     & 0     & 3     & 3    \\\\\n",
       "\tMerc 450SL & 17.3  & 8     & 275.8 & 180   & 3.07  & 3.730 & 17.60 & 0     & 0     & 3     & 3    \\\\\n",
       "\tMerc 450SLC & 15.2  & 8     & 275.8 & 180   & 3.07  & 3.780 & 18.00 & 0     & 0     & 3     & 3    \\\\\n",
       "\tCadillac Fleetwood & 10.4  & 8     & 472.0 & 205   & 2.93  & 5.250 & 17.98 & 0     & 0     & 3     & 4    \\\\\n",
       "\tLincoln Continental & 10.4  & 8     & 460.0 & 215   & 3.00  & 5.424 & 17.82 & 0     & 0     & 3     & 4    \\\\\n",
       "\tChrysler Imperial & 14.7  & 8     & 440.0 & 230   & 3.23  & 5.345 & 17.42 & 0     & 0     & 3     & 4    \\\\\n",
       "\tFiat 128 & 32.4  & 4     &  78.7 &  66   & 4.08  & 2.200 & 19.47 & 1     & 1     & 4     & 1    \\\\\n",
       "\tHonda Civic & 30.4  & 4     &  75.7 &  52   & 4.93  & 1.615 & 18.52 & 1     & 1     & 4     & 2    \\\\\n",
       "\tToyota Corolla & 33.9  & 4     &  71.1 &  65   & 4.22  & 1.835 & 19.90 & 1     & 1     & 4     & 1    \\\\\n",
       "\tToyota Corona & 21.5  & 4     & 120.1 &  97   & 3.70  & 2.465 & 20.01 & 1     & 0     & 3     & 1    \\\\\n",
       "\tDodge Challenger & 15.5  & 8     & 318.0 & 150   & 2.76  & 3.520 & 16.87 & 0     & 0     & 3     & 2    \\\\\n",
       "\tAMC Javelin & 15.2  & 8     & 304.0 & 150   & 3.15  & 3.435 & 17.30 & 0     & 0     & 3     & 2    \\\\\n",
       "\tCamaro Z28 & 13.3  & 8     & 350.0 & 245   & 3.73  & 3.840 & 15.41 & 0     & 0     & 3     & 4    \\\\\n",
       "\tPontiac Firebird & 19.2  & 8     & 400.0 & 175   & 3.08  & 3.845 & 17.05 & 0     & 0     & 3     & 2    \\\\\n",
       "\tFiat X1-9 & 27.3  & 4     &  79.0 &  66   & 4.08  & 1.935 & 18.90 & 1     & 1     & 4     & 1    \\\\\n",
       "\tPorsche 914-2 & 26.0  & 4     & 120.3 &  91   & 4.43  & 2.140 & 16.70 & 0     & 1     & 5     & 2    \\\\\n",
       "\tLotus Europa & 30.4  & 4     &  95.1 & 113   & 3.77  & 1.513 & 16.90 & 1     & 1     & 5     & 2    \\\\\n",
       "\tFord Pantera L & 15.8  & 8     & 351.0 & 264   & 4.22  & 3.170 & 14.50 & 0     & 1     & 5     & 4    \\\\\n",
       "\tFerrari Dino & 19.7  & 6     & 145.0 & 175   & 3.62  & 2.770 & 15.50 & 0     & 1     & 5     & 6    \\\\\n",
       "\tMaserati Bora & 15.0  & 8     & 301.0 & 335   & 3.54  & 3.570 & 14.60 & 0     & 1     & 5     & 8    \\\\\n",
       "\tVolvo 142E & 21.4  & 4     & 121.0 & 109   & 4.11  & 2.780 & 18.60 & 1     & 1     & 4     & 2    \\\\\n",
       "\\end{tabular}\n"
      ],
      "text/markdown": [
       "\n",
       "| <!--/--> | mpg | cyl | disp | hp | drat | wt | qsec | vs | am | gear | carb | \n",
       "|---|---|---|---|---|---|---|---|---|---|---|---|---|---|---|---|---|---|---|---|---|---|---|---|---|---|---|---|---|---|---|---|\n",
       "| Mazda RX4 | 21.0  | 6     | 160.0 | 110   | 3.90  | 2.620 | 16.46 | 0     | 1     | 4     | 4     | \n",
       "| Mazda RX4 Wag | 21.0  | 6     | 160.0 | 110   | 3.90  | 2.875 | 17.02 | 0     | 1     | 4     | 4     | \n",
       "| Datsun 710 | 22.8  | 4     | 108.0 |  93   | 3.85  | 2.320 | 18.61 | 1     | 1     | 4     | 1     | \n",
       "| Hornet 4 Drive | 21.4  | 6     | 258.0 | 110   | 3.08  | 3.215 | 19.44 | 1     | 0     | 3     | 1     | \n",
       "| Hornet Sportabout | 18.7  | 8     | 360.0 | 175   | 3.15  | 3.440 | 17.02 | 0     | 0     | 3     | 2     | \n",
       "| Valiant | 18.1  | 6     | 225.0 | 105   | 2.76  | 3.460 | 20.22 | 1     | 0     | 3     | 1     | \n",
       "| Duster 360 | 14.3  | 8     | 360.0 | 245   | 3.21  | 3.570 | 15.84 | 0     | 0     | 3     | 4     | \n",
       "| Merc 240D | 24.4  | 4     | 146.7 |  62   | 3.69  | 3.190 | 20.00 | 1     | 0     | 4     | 2     | \n",
       "| Merc 230 | 22.8  | 4     | 140.8 |  95   | 3.92  | 3.150 | 22.90 | 1     | 0     | 4     | 2     | \n",
       "| Merc 280 | 19.2  | 6     | 167.6 | 123   | 3.92  | 3.440 | 18.30 | 1     | 0     | 4     | 4     | \n",
       "| Merc 280C | 17.8  | 6     | 167.6 | 123   | 3.92  | 3.440 | 18.90 | 1     | 0     | 4     | 4     | \n",
       "| Merc 450SE | 16.4  | 8     | 275.8 | 180   | 3.07  | 4.070 | 17.40 | 0     | 0     | 3     | 3     | \n",
       "| Merc 450SL | 17.3  | 8     | 275.8 | 180   | 3.07  | 3.730 | 17.60 | 0     | 0     | 3     | 3     | \n",
       "| Merc 450SLC | 15.2  | 8     | 275.8 | 180   | 3.07  | 3.780 | 18.00 | 0     | 0     | 3     | 3     | \n",
       "| Cadillac Fleetwood | 10.4  | 8     | 472.0 | 205   | 2.93  | 5.250 | 17.98 | 0     | 0     | 3     | 4     | \n",
       "| Lincoln Continental | 10.4  | 8     | 460.0 | 215   | 3.00  | 5.424 | 17.82 | 0     | 0     | 3     | 4     | \n",
       "| Chrysler Imperial | 14.7  | 8     | 440.0 | 230   | 3.23  | 5.345 | 17.42 | 0     | 0     | 3     | 4     | \n",
       "| Fiat 128 | 32.4  | 4     |  78.7 |  66   | 4.08  | 2.200 | 19.47 | 1     | 1     | 4     | 1     | \n",
       "| Honda Civic | 30.4  | 4     |  75.7 |  52   | 4.93  | 1.615 | 18.52 | 1     | 1     | 4     | 2     | \n",
       "| Toyota Corolla | 33.9  | 4     |  71.1 |  65   | 4.22  | 1.835 | 19.90 | 1     | 1     | 4     | 1     | \n",
       "| Toyota Corona | 21.5  | 4     | 120.1 |  97   | 3.70  | 2.465 | 20.01 | 1     | 0     | 3     | 1     | \n",
       "| Dodge Challenger | 15.5  | 8     | 318.0 | 150   | 2.76  | 3.520 | 16.87 | 0     | 0     | 3     | 2     | \n",
       "| AMC Javelin | 15.2  | 8     | 304.0 | 150   | 3.15  | 3.435 | 17.30 | 0     | 0     | 3     | 2     | \n",
       "| Camaro Z28 | 13.3  | 8     | 350.0 | 245   | 3.73  | 3.840 | 15.41 | 0     | 0     | 3     | 4     | \n",
       "| Pontiac Firebird | 19.2  | 8     | 400.0 | 175   | 3.08  | 3.845 | 17.05 | 0     | 0     | 3     | 2     | \n",
       "| Fiat X1-9 | 27.3  | 4     |  79.0 |  66   | 4.08  | 1.935 | 18.90 | 1     | 1     | 4     | 1     | \n",
       "| Porsche 914-2 | 26.0  | 4     | 120.3 |  91   | 4.43  | 2.140 | 16.70 | 0     | 1     | 5     | 2     | \n",
       "| Lotus Europa | 30.4  | 4     |  95.1 | 113   | 3.77  | 1.513 | 16.90 | 1     | 1     | 5     | 2     | \n",
       "| Ford Pantera L | 15.8  | 8     | 351.0 | 264   | 4.22  | 3.170 | 14.50 | 0     | 1     | 5     | 4     | \n",
       "| Ferrari Dino | 19.7  | 6     | 145.0 | 175   | 3.62  | 2.770 | 15.50 | 0     | 1     | 5     | 6     | \n",
       "| Maserati Bora | 15.0  | 8     | 301.0 | 335   | 3.54  | 3.570 | 14.60 | 0     | 1     | 5     | 8     | \n",
       "| Volvo 142E | 21.4  | 4     | 121.0 | 109   | 4.11  | 2.780 | 18.60 | 1     | 1     | 4     | 2     | \n",
       "\n",
       "\n"
      ],
      "text/plain": [
       "                    mpg  cyl disp  hp  drat wt    qsec  vs am gear carb\n",
       "Mazda RX4           21.0 6   160.0 110 3.90 2.620 16.46 0  1  4    4   \n",
       "Mazda RX4 Wag       21.0 6   160.0 110 3.90 2.875 17.02 0  1  4    4   \n",
       "Datsun 710          22.8 4   108.0  93 3.85 2.320 18.61 1  1  4    1   \n",
       "Hornet 4 Drive      21.4 6   258.0 110 3.08 3.215 19.44 1  0  3    1   \n",
       "Hornet Sportabout   18.7 8   360.0 175 3.15 3.440 17.02 0  0  3    2   \n",
       "Valiant             18.1 6   225.0 105 2.76 3.460 20.22 1  0  3    1   \n",
       "Duster 360          14.3 8   360.0 245 3.21 3.570 15.84 0  0  3    4   \n",
       "Merc 240D           24.4 4   146.7  62 3.69 3.190 20.00 1  0  4    2   \n",
       "Merc 230            22.8 4   140.8  95 3.92 3.150 22.90 1  0  4    2   \n",
       "Merc 280            19.2 6   167.6 123 3.92 3.440 18.30 1  0  4    4   \n",
       "Merc 280C           17.8 6   167.6 123 3.92 3.440 18.90 1  0  4    4   \n",
       "Merc 450SE          16.4 8   275.8 180 3.07 4.070 17.40 0  0  3    3   \n",
       "Merc 450SL          17.3 8   275.8 180 3.07 3.730 17.60 0  0  3    3   \n",
       "Merc 450SLC         15.2 8   275.8 180 3.07 3.780 18.00 0  0  3    3   \n",
       "Cadillac Fleetwood  10.4 8   472.0 205 2.93 5.250 17.98 0  0  3    4   \n",
       "Lincoln Continental 10.4 8   460.0 215 3.00 5.424 17.82 0  0  3    4   \n",
       "Chrysler Imperial   14.7 8   440.0 230 3.23 5.345 17.42 0  0  3    4   \n",
       "Fiat 128            32.4 4    78.7  66 4.08 2.200 19.47 1  1  4    1   \n",
       "Honda Civic         30.4 4    75.7  52 4.93 1.615 18.52 1  1  4    2   \n",
       "Toyota Corolla      33.9 4    71.1  65 4.22 1.835 19.90 1  1  4    1   \n",
       "Toyota Corona       21.5 4   120.1  97 3.70 2.465 20.01 1  0  3    1   \n",
       "Dodge Challenger    15.5 8   318.0 150 2.76 3.520 16.87 0  0  3    2   \n",
       "AMC Javelin         15.2 8   304.0 150 3.15 3.435 17.30 0  0  3    2   \n",
       "Camaro Z28          13.3 8   350.0 245 3.73 3.840 15.41 0  0  3    4   \n",
       "Pontiac Firebird    19.2 8   400.0 175 3.08 3.845 17.05 0  0  3    2   \n",
       "Fiat X1-9           27.3 4    79.0  66 4.08 1.935 18.90 1  1  4    1   \n",
       "Porsche 914-2       26.0 4   120.3  91 4.43 2.140 16.70 0  1  5    2   \n",
       "Lotus Europa        30.4 4    95.1 113 3.77 1.513 16.90 1  1  5    2   \n",
       "Ford Pantera L      15.8 8   351.0 264 4.22 3.170 14.50 0  1  5    4   \n",
       "Ferrari Dino        19.7 6   145.0 175 3.62 2.770 15.50 0  1  5    6   \n",
       "Maserati Bora       15.0 8   301.0 335 3.54 3.570 14.60 0  1  5    8   \n",
       "Volvo 142E          21.4 4   121.0 109 4.11 2.780 18.60 1  1  4    2   "
      ]
     },
     "metadata": {},
     "output_type": "display_data"
    }
   ],
   "source": [
    "mtcars"
   ]
  },
  {
   "cell_type": "code",
   "execution_count": 33,
   "metadata": {},
   "outputs": [
    {
     "data": {
      "text/html": [
       "<dl>\n",
       "\t<dt>$mpg</dt>\n",
       "\t\t<dd>25</dd>\n",
       "\t<dt>$cyl</dt>\n",
       "\t\t<dd>3</dd>\n",
       "\t<dt>$disp</dt>\n",
       "\t\t<dd>27</dd>\n",
       "\t<dt>$hp</dt>\n",
       "\t\t<dd>22</dd>\n",
       "\t<dt>$drat</dt>\n",
       "\t\t<dd>22</dd>\n",
       "\t<dt>$wt</dt>\n",
       "\t\t<dd>29</dd>\n",
       "\t<dt>$qsec</dt>\n",
       "\t\t<dd>30</dd>\n",
       "\t<dt>$vs</dt>\n",
       "\t\t<dd>2</dd>\n",
       "\t<dt>$am</dt>\n",
       "\t\t<dd>2</dd>\n",
       "\t<dt>$gear</dt>\n",
       "\t\t<dd>3</dd>\n",
       "\t<dt>$carb</dt>\n",
       "\t\t<dd>6</dd>\n",
       "</dl>\n"
      ],
      "text/latex": [
       "\\begin{description}\n",
       "\\item[\\$mpg] 25\n",
       "\\item[\\$cyl] 3\n",
       "\\item[\\$disp] 27\n",
       "\\item[\\$hp] 22\n",
       "\\item[\\$drat] 22\n",
       "\\item[\\$wt] 29\n",
       "\\item[\\$qsec] 30\n",
       "\\item[\\$vs] 2\n",
       "\\item[\\$am] 2\n",
       "\\item[\\$gear] 3\n",
       "\\item[\\$carb] 6\n",
       "\\end{description}\n"
      ],
      "text/markdown": [
       "$mpg\n",
       ":   25\n",
       "$cyl\n",
       ":   3\n",
       "$disp\n",
       ":   27\n",
       "$hp\n",
       ":   22\n",
       "$drat\n",
       ":   22\n",
       "$wt\n",
       ":   29\n",
       "$qsec\n",
       ":   30\n",
       "$vs\n",
       ":   2\n",
       "$am\n",
       ":   2\n",
       "$gear\n",
       ":   3\n",
       "$carb\n",
       ":   6\n",
       "\n",
       "\n"
      ],
      "text/plain": [
       "$mpg\n",
       "[1] 25\n",
       "\n",
       "$cyl\n",
       "[1] 3\n",
       "\n",
       "$disp\n",
       "[1] 27\n",
       "\n",
       "$hp\n",
       "[1] 22\n",
       "\n",
       "$drat\n",
       "[1] 22\n",
       "\n",
       "$wt\n",
       "[1] 29\n",
       "\n",
       "$qsec\n",
       "[1] 30\n",
       "\n",
       "$vs\n",
       "[1] 2\n",
       "\n",
       "$am\n",
       "[1] 2\n",
       "\n",
       "$gear\n",
       "[1] 3\n",
       "\n",
       "$carb\n",
       "[1] 6\n"
      ]
     },
     "metadata": {},
     "output_type": "display_data"
    }
   ],
   "source": [
    "lapply(mtcars, function(x) length(unique(x)))   "
   ]
  },
  {
   "cell_type": "code",
   "execution_count": 36,
   "metadata": {},
   "outputs": [
    {
     "data": {
      "text/html": [
       "<dl>\n",
       "\t<dt>$mpg</dt>\n",
       "\t\t<dd>32</dd>\n",
       "\t<dt>$cyl</dt>\n",
       "\t\t<dd>32</dd>\n",
       "\t<dt>$disp</dt>\n",
       "\t\t<dd>32</dd>\n",
       "\t<dt>$hp</dt>\n",
       "\t\t<dd>32</dd>\n",
       "\t<dt>$drat</dt>\n",
       "\t\t<dd>32</dd>\n",
       "\t<dt>$wt</dt>\n",
       "\t\t<dd>32</dd>\n",
       "\t<dt>$qsec</dt>\n",
       "\t\t<dd>32</dd>\n",
       "\t<dt>$vs</dt>\n",
       "\t\t<dd>32</dd>\n",
       "\t<dt>$am</dt>\n",
       "\t\t<dd>32</dd>\n",
       "\t<dt>$gear</dt>\n",
       "\t\t<dd>32</dd>\n",
       "\t<dt>$carb</dt>\n",
       "\t\t<dd>32</dd>\n",
       "</dl>\n"
      ],
      "text/latex": [
       "\\begin{description}\n",
       "\\item[\\$mpg] 32\n",
       "\\item[\\$cyl] 32\n",
       "\\item[\\$disp] 32\n",
       "\\item[\\$hp] 32\n",
       "\\item[\\$drat] 32\n",
       "\\item[\\$wt] 32\n",
       "\\item[\\$qsec] 32\n",
       "\\item[\\$vs] 32\n",
       "\\item[\\$am] 32\n",
       "\\item[\\$gear] 32\n",
       "\\item[\\$carb] 32\n",
       "\\end{description}\n"
      ],
      "text/markdown": [
       "$mpg\n",
       ":   32\n",
       "$cyl\n",
       ":   32\n",
       "$disp\n",
       ":   32\n",
       "$hp\n",
       ":   32\n",
       "$drat\n",
       ":   32\n",
       "$wt\n",
       ":   32\n",
       "$qsec\n",
       ":   32\n",
       "$vs\n",
       ":   32\n",
       "$am\n",
       ":   32\n",
       "$gear\n",
       ":   32\n",
       "$carb\n",
       ":   32\n",
       "\n",
       "\n"
      ],
      "text/plain": [
       "$mpg\n",
       "[1] 32\n",
       "\n",
       "$cyl\n",
       "[1] 32\n",
       "\n",
       "$disp\n",
       "[1] 32\n",
       "\n",
       "$hp\n",
       "[1] 32\n",
       "\n",
       "$drat\n",
       "[1] 32\n",
       "\n",
       "$wt\n",
       "[1] 32\n",
       "\n",
       "$qsec\n",
       "[1] 32\n",
       "\n",
       "$vs\n",
       "[1] 32\n",
       "\n",
       "$am\n",
       "[1] 32\n",
       "\n",
       "$gear\n",
       "[1] 32\n",
       "\n",
       "$carb\n",
       "[1] 32\n"
      ]
     },
     "metadata": {},
     "output_type": "display_data"
    }
   ],
   "source": [
    "lapply(mtcars , function(x) { length(na.omit(x))})"
   ]
  },
  {
   "cell_type": "markdown",
   "metadata": {},
   "source": [
    "### is.numericをベクトルにかけると１個のboolのみが返る"
   ]
  },
  {
   "cell_type": "code",
   "execution_count": 48,
   "metadata": {},
   "outputs": [
    {
     "data": {
      "text/html": [
       "TRUE"
      ],
      "text/latex": [
       "TRUE"
      ],
      "text/markdown": [
       "TRUE"
      ],
      "text/plain": [
       "[1] TRUE"
      ]
     },
     "metadata": {},
     "output_type": "display_data"
    }
   ],
   "source": [
    "is.numeric(c(1,2))"
   ]
  },
  {
   "cell_type": "code",
   "execution_count": 47,
   "metadata": {
    "collapsed": true
   },
   "outputs": [],
   "source": [
    "?is.numeric"
   ]
  },
  {
   "cell_type": "code",
   "execution_count": 44,
   "metadata": {},
   "outputs": [
    {
     "data": {
      "text/html": [
       "<table>\n",
       "<tbody>\n",
       "\t<tr><th scope=row>Mazda RX4</th></tr>\n",
       "\t<tr><th scope=row>Mazda RX4 Wag</th></tr>\n",
       "\t<tr><th scope=row>Datsun 710</th></tr>\n",
       "\t<tr><th scope=row>Hornet 4 Drive</th></tr>\n",
       "\t<tr><th scope=row>Hornet Sportabout</th></tr>\n",
       "\t<tr><th scope=row>Valiant</th></tr>\n",
       "\t<tr><th scope=row>Duster 360</th></tr>\n",
       "\t<tr><th scope=row>Merc 240D</th></tr>\n",
       "\t<tr><th scope=row>Merc 230</th></tr>\n",
       "\t<tr><th scope=row>Merc 280</th></tr>\n",
       "\t<tr><th scope=row>Merc 280C</th></tr>\n",
       "\t<tr><th scope=row>Merc 450SE</th></tr>\n",
       "\t<tr><th scope=row>Merc 450SL</th></tr>\n",
       "\t<tr><th scope=row>Merc 450SLC</th></tr>\n",
       "\t<tr><th scope=row>Cadillac Fleetwood</th></tr>\n",
       "\t<tr><th scope=row>Lincoln Continental</th></tr>\n",
       "\t<tr><th scope=row>Chrysler Imperial</th></tr>\n",
       "\t<tr><th scope=row>Fiat 128</th></tr>\n",
       "\t<tr><th scope=row>Honda Civic</th></tr>\n",
       "\t<tr><th scope=row>Toyota Corolla</th></tr>\n",
       "\t<tr><th scope=row>Toyota Corona</th></tr>\n",
       "\t<tr><th scope=row>Dodge Challenger</th></tr>\n",
       "\t<tr><th scope=row>AMC Javelin</th></tr>\n",
       "\t<tr><th scope=row>Camaro Z28</th></tr>\n",
       "\t<tr><th scope=row>Pontiac Firebird</th></tr>\n",
       "\t<tr><th scope=row>Fiat X1-9</th></tr>\n",
       "\t<tr><th scope=row>Porsche 914-2</th></tr>\n",
       "\t<tr><th scope=row>Lotus Europa</th></tr>\n",
       "\t<tr><th scope=row>Ford Pantera L</th></tr>\n",
       "\t<tr><th scope=row>Ferrari Dino</th></tr>\n",
       "\t<tr><th scope=row>Maserati Bora</th></tr>\n",
       "\t<tr><th scope=row>Volvo 142E</th></tr>\n",
       "</tbody>\n",
       "</table>\n"
      ],
      "text/latex": [
       "\\begin{tabular}{r|}\n",
       "\tMazda RX4\\\\\n",
       "\tMazda RX4 Wag\\\\\n",
       "\tDatsun 710\\\\\n",
       "\tHornet 4 Drive\\\\\n",
       "\tHornet Sportabout\\\\\n",
       "\tValiant\\\\\n",
       "\tDuster 360\\\\\n",
       "\tMerc 240D\\\\\n",
       "\tMerc 230\\\\\n",
       "\tMerc 280\\\\\n",
       "\tMerc 280C\\\\\n",
       "\tMerc 450SE\\\\\n",
       "\tMerc 450SL\\\\\n",
       "\tMerc 450SLC\\\\\n",
       "\tCadillac Fleetwood\\\\\n",
       "\tLincoln Continental\\\\\n",
       "\tChrysler Imperial\\\\\n",
       "\tFiat 128\\\\\n",
       "\tHonda Civic\\\\\n",
       "\tToyota Corolla\\\\\n",
       "\tToyota Corona\\\\\n",
       "\tDodge Challenger\\\\\n",
       "\tAMC Javelin\\\\\n",
       "\tCamaro Z28\\\\\n",
       "\tPontiac Firebird\\\\\n",
       "\tFiat X1-9\\\\\n",
       "\tPorsche 914-2\\\\\n",
       "\tLotus Europa\\\\\n",
       "\tFord Pantera L\\\\\n",
       "\tFerrari Dino\\\\\n",
       "\tMaserati Bora\\\\\n",
       "\tVolvo 142E\\\\\n",
       "\\end{tabular}\n"
      ],
      "text/markdown": [
       "\n",
       "| Mazda RX4 | \n",
       "| Mazda RX4 Wag | \n",
       "| Datsun 710 | \n",
       "| Hornet 4 Drive | \n",
       "| Hornet Sportabout | \n",
       "| Valiant | \n",
       "| Duster 360 | \n",
       "| Merc 240D | \n",
       "| Merc 230 | \n",
       "| Merc 280 | \n",
       "| Merc 280C | \n",
       "| Merc 450SE | \n",
       "| Merc 450SL | \n",
       "| Merc 450SLC | \n",
       "| Cadillac Fleetwood | \n",
       "| Lincoln Continental | \n",
       "| Chrysler Imperial | \n",
       "| Fiat 128 | \n",
       "| Honda Civic | \n",
       "| Toyota Corolla | \n",
       "| Toyota Corona | \n",
       "| Dodge Challenger | \n",
       "| AMC Javelin | \n",
       "| Camaro Z28 | \n",
       "| Pontiac Firebird | \n",
       "| Fiat X1-9 | \n",
       "| Porsche 914-2 | \n",
       "| Lotus Europa | \n",
       "| Ford Pantera L | \n",
       "| Ferrari Dino | \n",
       "| Maserati Bora | \n",
       "| Volvo 142E | \n",
       "\n",
       "\n"
      ],
      "text/plain": [
       "                   \n",
       "Mazda RX4          \n",
       "Mazda RX4 Wag      \n",
       "Datsun 710         \n",
       "Hornet 4 Drive     \n",
       "Hornet Sportabout  \n",
       "Valiant            \n",
       "Duster 360         \n",
       "Merc 240D          \n",
       "Merc 230           \n",
       "Merc 280           \n",
       "Merc 280C          \n",
       "Merc 450SE         \n",
       "Merc 450SL         \n",
       "Merc 450SLC        \n",
       "Cadillac Fleetwood \n",
       "Lincoln Continental\n",
       "Chrysler Imperial  \n",
       "Fiat 128           \n",
       "Honda Civic        \n",
       "Toyota Corolla     \n",
       "Toyota Corona      \n",
       "Dodge Challenger   \n",
       "AMC Javelin        \n",
       "Camaro Z28         \n",
       "Pontiac Firebird   \n",
       "Fiat X1-9          \n",
       "Porsche 914-2      \n",
       "Lotus Europa       \n",
       "Ford Pantera L     \n",
       "Ferrari Dino       \n",
       "Maserati Bora      \n",
       "Volvo 142E         "
      ]
     },
     "metadata": {},
     "output_type": "display_data"
    }
   ],
   "source": [
    "Filter(function(x) { paste(x ,  collapse = \"_\") } , mtcars)"
   ]
  },
  {
   "cell_type": "code",
   "execution_count": 41,
   "metadata": {
    "collapsed": true
   },
   "outputs": [
    {
     "data": {
      "text/html": [
       "<table>\n",
       "<tbody>\n",
       "\t<tr><th scope=row>Mazda RX4</th></tr>\n",
       "\t<tr><th scope=row>Mazda RX4 Wag</th></tr>\n",
       "\t<tr><th scope=row>Datsun 710</th></tr>\n",
       "\t<tr><th scope=row>Hornet 4 Drive</th></tr>\n",
       "\t<tr><th scope=row>Hornet Sportabout</th></tr>\n",
       "\t<tr><th scope=row>Valiant</th></tr>\n",
       "\t<tr><th scope=row>Duster 360</th></tr>\n",
       "\t<tr><th scope=row>Merc 240D</th></tr>\n",
       "\t<tr><th scope=row>Merc 230</th></tr>\n",
       "\t<tr><th scope=row>Merc 280</th></tr>\n",
       "\t<tr><th scope=row>Merc 280C</th></tr>\n",
       "\t<tr><th scope=row>Merc 450SE</th></tr>\n",
       "\t<tr><th scope=row>Merc 450SL</th></tr>\n",
       "\t<tr><th scope=row>Merc 450SLC</th></tr>\n",
       "\t<tr><th scope=row>Cadillac Fleetwood</th></tr>\n",
       "\t<tr><th scope=row>Lincoln Continental</th></tr>\n",
       "\t<tr><th scope=row>Chrysler Imperial</th></tr>\n",
       "\t<tr><th scope=row>Fiat 128</th></tr>\n",
       "\t<tr><th scope=row>Honda Civic</th></tr>\n",
       "\t<tr><th scope=row>Toyota Corolla</th></tr>\n",
       "\t<tr><th scope=row>Toyota Corona</th></tr>\n",
       "\t<tr><th scope=row>Dodge Challenger</th></tr>\n",
       "\t<tr><th scope=row>AMC Javelin</th></tr>\n",
       "\t<tr><th scope=row>Camaro Z28</th></tr>\n",
       "\t<tr><th scope=row>Pontiac Firebird</th></tr>\n",
       "\t<tr><th scope=row>Fiat X1-9</th></tr>\n",
       "\t<tr><th scope=row>Porsche 914-2</th></tr>\n",
       "\t<tr><th scope=row>Lotus Europa</th></tr>\n",
       "\t<tr><th scope=row>Ford Pantera L</th></tr>\n",
       "\t<tr><th scope=row>Ferrari Dino</th></tr>\n",
       "\t<tr><th scope=row>Maserati Bora</th></tr>\n",
       "\t<tr><th scope=row>Volvo 142E</th></tr>\n",
       "</tbody>\n",
       "</table>\n"
      ],
      "text/latex": [
       "\\begin{tabular}{r|}\n",
       "\tMazda RX4\\\\\n",
       "\tMazda RX4 Wag\\\\\n",
       "\tDatsun 710\\\\\n",
       "\tHornet 4 Drive\\\\\n",
       "\tHornet Sportabout\\\\\n",
       "\tValiant\\\\\n",
       "\tDuster 360\\\\\n",
       "\tMerc 240D\\\\\n",
       "\tMerc 230\\\\\n",
       "\tMerc 280\\\\\n",
       "\tMerc 280C\\\\\n",
       "\tMerc 450SE\\\\\n",
       "\tMerc 450SL\\\\\n",
       "\tMerc 450SLC\\\\\n",
       "\tCadillac Fleetwood\\\\\n",
       "\tLincoln Continental\\\\\n",
       "\tChrysler Imperial\\\\\n",
       "\tFiat 128\\\\\n",
       "\tHonda Civic\\\\\n",
       "\tToyota Corolla\\\\\n",
       "\tToyota Corona\\\\\n",
       "\tDodge Challenger\\\\\n",
       "\tAMC Javelin\\\\\n",
       "\tCamaro Z28\\\\\n",
       "\tPontiac Firebird\\\\\n",
       "\tFiat X1-9\\\\\n",
       "\tPorsche 914-2\\\\\n",
       "\tLotus Europa\\\\\n",
       "\tFord Pantera L\\\\\n",
       "\tFerrari Dino\\\\\n",
       "\tMaserati Bora\\\\\n",
       "\tVolvo 142E\\\\\n",
       "\\end{tabular}\n"
      ],
      "text/markdown": [
       "\n",
       "| Mazda RX4 | \n",
       "| Mazda RX4 Wag | \n",
       "| Datsun 710 | \n",
       "| Hornet 4 Drive | \n",
       "| Hornet Sportabout | \n",
       "| Valiant | \n",
       "| Duster 360 | \n",
       "| Merc 240D | \n",
       "| Merc 230 | \n",
       "| Merc 280 | \n",
       "| Merc 280C | \n",
       "| Merc 450SE | \n",
       "| Merc 450SL | \n",
       "| Merc 450SLC | \n",
       "| Cadillac Fleetwood | \n",
       "| Lincoln Continental | \n",
       "| Chrysler Imperial | \n",
       "| Fiat 128 | \n",
       "| Honda Civic | \n",
       "| Toyota Corolla | \n",
       "| Toyota Corona | \n",
       "| Dodge Challenger | \n",
       "| AMC Javelin | \n",
       "| Camaro Z28 | \n",
       "| Pontiac Firebird | \n",
       "| Fiat X1-9 | \n",
       "| Porsche 914-2 | \n",
       "| Lotus Europa | \n",
       "| Ford Pantera L | \n",
       "| Ferrari Dino | \n",
       "| Maserati Bora | \n",
       "| Volvo 142E | \n",
       "\n",
       "\n"
      ],
      "text/plain": [
       "                   \n",
       "Mazda RX4          \n",
       "Mazda RX4 Wag      \n",
       "Datsun 710         \n",
       "Hornet 4 Drive     \n",
       "Hornet Sportabout  \n",
       "Valiant            \n",
       "Duster 360         \n",
       "Merc 240D          \n",
       "Merc 230           \n",
       "Merc 280           \n",
       "Merc 280C          \n",
       "Merc 450SE         \n",
       "Merc 450SL         \n",
       "Merc 450SLC        \n",
       "Cadillac Fleetwood \n",
       "Lincoln Continental\n",
       "Chrysler Imperial  \n",
       "Fiat 128           \n",
       "Honda Civic        \n",
       "Toyota Corolla     \n",
       "Toyota Corona      \n",
       "Dodge Challenger   \n",
       "AMC Javelin        \n",
       "Camaro Z28         \n",
       "Pontiac Firebird   \n",
       "Fiat X1-9          \n",
       "Porsche 914-2      \n",
       "Lotus Europa       \n",
       "Ford Pantera L     \n",
       "Ferrari Dino       \n",
       "Maserati Bora      \n",
       "Volvo 142E         "
      ]
     },
     "metadata": {},
     "output_type": "display_data"
    }
   ],
   "source": [
    "Filter(function(x) !is.numeric(x), mtcars)  "
   ]
  },
  {
   "cell_type": "code",
   "execution_count": 32,
   "metadata": {},
   "outputs": [
    {
     "data": {
      "text/html": [
       "<dl>\n",
       "\t<dt>$mpg</dt>\n",
       "\t\t<dd>25</dd>\n",
       "\t<dt>$cyl</dt>\n",
       "\t\t<dd>3</dd>\n",
       "\t<dt>$disp</dt>\n",
       "\t\t<dd>27</dd>\n",
       "\t<dt>$hp</dt>\n",
       "\t\t<dd>22</dd>\n",
       "\t<dt>$drat</dt>\n",
       "\t\t<dd>22</dd>\n",
       "\t<dt>$wt</dt>\n",
       "\t\t<dd>29</dd>\n",
       "\t<dt>$qsec</dt>\n",
       "\t\t<dd>30</dd>\n",
       "\t<dt>$vs</dt>\n",
       "\t\t<dd>2</dd>\n",
       "\t<dt>$am</dt>\n",
       "\t\t<dd>2</dd>\n",
       "\t<dt>$gear</dt>\n",
       "\t\t<dd>3</dd>\n",
       "\t<dt>$carb</dt>\n",
       "\t\t<dd>6</dd>\n",
       "</dl>\n"
      ],
      "text/latex": [
       "\\begin{description}\n",
       "\\item[\\$mpg] 25\n",
       "\\item[\\$cyl] 3\n",
       "\\item[\\$disp] 27\n",
       "\\item[\\$hp] 22\n",
       "\\item[\\$drat] 22\n",
       "\\item[\\$wt] 29\n",
       "\\item[\\$qsec] 30\n",
       "\\item[\\$vs] 2\n",
       "\\item[\\$am] 2\n",
       "\\item[\\$gear] 3\n",
       "\\item[\\$carb] 6\n",
       "\\end{description}\n"
      ],
      "text/markdown": [
       "$mpg\n",
       ":   25\n",
       "$cyl\n",
       ":   3\n",
       "$disp\n",
       ":   27\n",
       "$hp\n",
       ":   22\n",
       "$drat\n",
       ":   22\n",
       "$wt\n",
       ":   29\n",
       "$qsec\n",
       ":   30\n",
       "$vs\n",
       ":   2\n",
       "$am\n",
       ":   2\n",
       "$gear\n",
       ":   3\n",
       "$carb\n",
       ":   6\n",
       "\n",
       "\n"
      ],
      "text/plain": [
       "$mpg\n",
       "[1] 25\n",
       "\n",
       "$cyl\n",
       "[1] 3\n",
       "\n",
       "$disp\n",
       "[1] 27\n",
       "\n",
       "$hp\n",
       "[1] 22\n",
       "\n",
       "$drat\n",
       "[1] 22\n",
       "\n",
       "$wt\n",
       "[1] 29\n",
       "\n",
       "$qsec\n",
       "[1] 30\n",
       "\n",
       "$vs\n",
       "[1] 2\n",
       "\n",
       "$am\n",
       "[1] 2\n",
       "\n",
       "$gear\n",
       "[1] 3\n",
       "\n",
       "$carb\n",
       "[1] 6\n"
      ]
     },
     "metadata": {},
     "output_type": "display_data"
    },
    {
     "data": {
      "text/html": [
       "<table>\n",
       "<tbody>\n",
       "\t<tr><th scope=row>Mazda RX4</th></tr>\n",
       "\t<tr><th scope=row>Mazda RX4 Wag</th></tr>\n",
       "\t<tr><th scope=row>Datsun 710</th></tr>\n",
       "\t<tr><th scope=row>Hornet 4 Drive</th></tr>\n",
       "\t<tr><th scope=row>Hornet Sportabout</th></tr>\n",
       "\t<tr><th scope=row>Valiant</th></tr>\n",
       "\t<tr><th scope=row>Duster 360</th></tr>\n",
       "\t<tr><th scope=row>Merc 240D</th></tr>\n",
       "\t<tr><th scope=row>Merc 230</th></tr>\n",
       "\t<tr><th scope=row>Merc 280</th></tr>\n",
       "\t<tr><th scope=row>Merc 280C</th></tr>\n",
       "\t<tr><th scope=row>Merc 450SE</th></tr>\n",
       "\t<tr><th scope=row>Merc 450SL</th></tr>\n",
       "\t<tr><th scope=row>Merc 450SLC</th></tr>\n",
       "\t<tr><th scope=row>Cadillac Fleetwood</th></tr>\n",
       "\t<tr><th scope=row>Lincoln Continental</th></tr>\n",
       "\t<tr><th scope=row>Chrysler Imperial</th></tr>\n",
       "\t<tr><th scope=row>Fiat 128</th></tr>\n",
       "\t<tr><th scope=row>Honda Civic</th></tr>\n",
       "\t<tr><th scope=row>Toyota Corolla</th></tr>\n",
       "\t<tr><th scope=row>Toyota Corona</th></tr>\n",
       "\t<tr><th scope=row>Dodge Challenger</th></tr>\n",
       "\t<tr><th scope=row>AMC Javelin</th></tr>\n",
       "\t<tr><th scope=row>Camaro Z28</th></tr>\n",
       "\t<tr><th scope=row>Pontiac Firebird</th></tr>\n",
       "\t<tr><th scope=row>Fiat X1-9</th></tr>\n",
       "\t<tr><th scope=row>Porsche 914-2</th></tr>\n",
       "\t<tr><th scope=row>Lotus Europa</th></tr>\n",
       "\t<tr><th scope=row>Ford Pantera L</th></tr>\n",
       "\t<tr><th scope=row>Ferrari Dino</th></tr>\n",
       "\t<tr><th scope=row>Maserati Bora</th></tr>\n",
       "\t<tr><th scope=row>Volvo 142E</th></tr>\n",
       "</tbody>\n",
       "</table>\n"
      ],
      "text/latex": [
       "\\begin{tabular}{r|}\n",
       "\tMazda RX4\\\\\n",
       "\tMazda RX4 Wag\\\\\n",
       "\tDatsun 710\\\\\n",
       "\tHornet 4 Drive\\\\\n",
       "\tHornet Sportabout\\\\\n",
       "\tValiant\\\\\n",
       "\tDuster 360\\\\\n",
       "\tMerc 240D\\\\\n",
       "\tMerc 230\\\\\n",
       "\tMerc 280\\\\\n",
       "\tMerc 280C\\\\\n",
       "\tMerc 450SE\\\\\n",
       "\tMerc 450SL\\\\\n",
       "\tMerc 450SLC\\\\\n",
       "\tCadillac Fleetwood\\\\\n",
       "\tLincoln Continental\\\\\n",
       "\tChrysler Imperial\\\\\n",
       "\tFiat 128\\\\\n",
       "\tHonda Civic\\\\\n",
       "\tToyota Corolla\\\\\n",
       "\tToyota Corona\\\\\n",
       "\tDodge Challenger\\\\\n",
       "\tAMC Javelin\\\\\n",
       "\tCamaro Z28\\\\\n",
       "\tPontiac Firebird\\\\\n",
       "\tFiat X1-9\\\\\n",
       "\tPorsche 914-2\\\\\n",
       "\tLotus Europa\\\\\n",
       "\tFord Pantera L\\\\\n",
       "\tFerrari Dino\\\\\n",
       "\tMaserati Bora\\\\\n",
       "\tVolvo 142E\\\\\n",
       "\\end{tabular}\n"
      ],
      "text/markdown": [
       "\n",
       "| Mazda RX4 | \n",
       "| Mazda RX4 Wag | \n",
       "| Datsun 710 | \n",
       "| Hornet 4 Drive | \n",
       "| Hornet Sportabout | \n",
       "| Valiant | \n",
       "| Duster 360 | \n",
       "| Merc 240D | \n",
       "| Merc 230 | \n",
       "| Merc 280 | \n",
       "| Merc 280C | \n",
       "| Merc 450SE | \n",
       "| Merc 450SL | \n",
       "| Merc 450SLC | \n",
       "| Cadillac Fleetwood | \n",
       "| Lincoln Continental | \n",
       "| Chrysler Imperial | \n",
       "| Fiat 128 | \n",
       "| Honda Civic | \n",
       "| Toyota Corolla | \n",
       "| Toyota Corona | \n",
       "| Dodge Challenger | \n",
       "| AMC Javelin | \n",
       "| Camaro Z28 | \n",
       "| Pontiac Firebird | \n",
       "| Fiat X1-9 | \n",
       "| Porsche 914-2 | \n",
       "| Lotus Europa | \n",
       "| Ford Pantera L | \n",
       "| Ferrari Dino | \n",
       "| Maserati Bora | \n",
       "| Volvo 142E | \n",
       "\n",
       "\n"
      ],
      "text/plain": [
       "                   \n",
       "Mazda RX4          \n",
       "Mazda RX4 Wag      \n",
       "Datsun 710         \n",
       "Hornet 4 Drive     \n",
       "Hornet Sportabout  \n",
       "Valiant            \n",
       "Duster 360         \n",
       "Merc 240D          \n",
       "Merc 230           \n",
       "Merc 280           \n",
       "Merc 280C          \n",
       "Merc 450SE         \n",
       "Merc 450SL         \n",
       "Merc 450SLC        \n",
       "Cadillac Fleetwood \n",
       "Lincoln Continental\n",
       "Chrysler Imperial  \n",
       "Fiat 128           \n",
       "Honda Civic        \n",
       "Toyota Corolla     \n",
       "Toyota Corona      \n",
       "Dodge Challenger   \n",
       "AMC Javelin        \n",
       "Camaro Z28         \n",
       "Pontiac Firebird   \n",
       "Fiat X1-9          \n",
       "Porsche 914-2      \n",
       "Lotus Europa       \n",
       "Ford Pantera L     \n",
       "Ferrari Dino       \n",
       "Maserati Bora      \n",
       "Volvo 142E         "
      ]
     },
     "metadata": {},
     "output_type": "display_data"
    },
    {
     "data": {
      "text/plain": [
       "1.570796 with absolute error < 1.7e-14"
      ]
     },
     "metadata": {},
     "output_type": "display_data"
    }
   ],
   "source": [
    "integrate(function(x) sin(x) ^ 2, 0, pi)"
   ]
  },
  {
   "cell_type": "code",
   "execution_count": 31,
   "metadata": {
    "collapsed": true
   },
   "outputs": [],
   "source": [
    "?mtcars"
   ]
  },
  {
   "cell_type": "code",
   "execution_count": 4,
   "metadata": {},
   "outputs": [
    {
     "data": {
      "text/html": [
       "<table>\n",
       "<thead><tr><th scope=col>a</th><th scope=col>b</th><th scope=col>c</th><th scope=col>d</th><th scope=col>e</th><th scope=col>f</th></tr></thead>\n",
       "<tbody>\n",
       "\t<tr><td> 1 </td><td> 6 </td><td>1  </td><td>  5</td><td>-99</td><td>1  </td></tr>\n",
       "\t<tr><td>10 </td><td> 4 </td><td>4  </td><td>-99</td><td>  9</td><td>3  </td></tr>\n",
       "\t<tr><td> 7 </td><td> 9 </td><td>5  </td><td>  4</td><td>  1</td><td>4  </td></tr>\n",
       "\t<tr><td> 2 </td><td> 9 </td><td>3  </td><td>  8</td><td>  6</td><td>8  </td></tr>\n",
       "\t<tr><td> 1 </td><td>10 </td><td>5  </td><td>  9</td><td>  8</td><td>6  </td></tr>\n",
       "\t<tr><td> 6 </td><td> 2 </td><td>1  </td><td>  3</td><td>  8</td><td>5  </td></tr>\n",
       "</tbody>\n",
       "</table>\n"
      ],
      "text/latex": [
       "\\begin{tabular}{r|llllll}\n",
       " a & b & c & d & e & f\\\\\n",
       "\\hline\n",
       "\t  1  &  6  & 1   &   5 & -99 & 1  \\\\\n",
       "\t 10  &  4  & 4   & -99 &   9 & 3  \\\\\n",
       "\t  7  &  9  & 5   &   4 &   1 & 4  \\\\\n",
       "\t  2  &  9  & 3   &   8 &   6 & 8  \\\\\n",
       "\t  1  & 10  & 5   &   9 &   8 & 6  \\\\\n",
       "\t  6  &  2  & 1   &   3 &   8 & 5  \\\\\n",
       "\\end{tabular}\n"
      ],
      "text/markdown": [
       "\n",
       "a | b | c | d | e | f | \n",
       "|---|---|---|---|---|---|\n",
       "|  1  |  6  | 1   |   5 | -99 | 1   | \n",
       "| 10  |  4  | 4   | -99 |   9 | 3   | \n",
       "|  7  |  9  | 5   |   4 |   1 | 4   | \n",
       "|  2  |  9  | 3   |   8 |   6 | 8   | \n",
       "|  1  | 10  | 5   |   9 |   8 | 6   | \n",
       "|  6  |  2  | 1   |   3 |   8 | 5   | \n",
       "\n",
       "\n"
      ],
      "text/plain": [
       "  a  b  c d   e   f\n",
       "1  1  6 1   5 -99 1\n",
       "2 10  4 4 -99   9 3\n",
       "3  7  9 5   4   1 4\n",
       "4  2  9 3   8   6 8\n",
       "5  1 10 5   9   8 6\n",
       "6  6  2 1   3   8 5"
      ]
     },
     "metadata": {},
     "output_type": "display_data"
    }
   ],
   "source": [
    "# Generate a sample dataset\n",
    "set.seed(1014)\n",
    "df <- data.frame(replicate(6, sample(c(1:10, -99), 6, rep = TRUE)))\n",
    "names(df) <- letters[1:6]\n",
    "df"
   ]
  },
  {
   "cell_type": "code",
   "execution_count": 6,
   "metadata": {},
   "outputs": [
    {
     "data": {
      "text/html": [
       "<table>\n",
       "<tbody>\n",
       "\t<tr><td>  8</td><td>  8</td><td>-99</td><td>6  </td><td>10 </td><td>-99</td></tr>\n",
       "\t<tr><td>-99</td><td>  8</td><td>  5</td><td>9  </td><td> 4 </td><td>  6</td></tr>\n",
       "\t<tr><td>  2</td><td>  2</td><td>  6</td><td>3  </td><td> 7 </td><td>  6</td></tr>\n",
       "\t<tr><td>  3</td><td>  9</td><td>  4</td><td>8  </td><td> 4 </td><td>  4</td></tr>\n",
       "\t<tr><td>  8</td><td>  9</td><td>  2</td><td>1  </td><td> 7 </td><td>  5</td></tr>\n",
       "\t<tr><td>  6</td><td>-99</td><td>  6</td><td>4  </td><td> 3 </td><td>  5</td></tr>\n",
       "</tbody>\n",
       "</table>\n"
      ],
      "text/latex": [
       "\\begin{tabular}{llllll}\n",
       "\t   8 &   8 & -99 & 6   & 10  & -99\\\\\n",
       "\t -99 &   8 &   5 & 9   &  4  &   6\\\\\n",
       "\t   2 &   2 &   6 & 3   &  7  &   6\\\\\n",
       "\t   3 &   9 &   4 & 8   &  4  &   4\\\\\n",
       "\t   8 &   9 &   2 & 1   &  7  &   5\\\\\n",
       "\t   6 & -99 &   6 & 4   &  3  &   5\\\\\n",
       "\\end{tabular}\n"
      ],
      "text/markdown": [
       "\n",
       "|   8 |   8 | -99 | 6   | 10  | -99 | \n",
       "| -99 |   8 |   5 | 9   |  4  |   6 | \n",
       "|   2 |   2 |   6 | 3   |  7  |   6 | \n",
       "|   3 |   9 |   4 | 8   |  4  |   4 | \n",
       "|   8 |   9 |   2 | 1   |  7  |   5 | \n",
       "|   6 | -99 |   6 | 4   |  3  |   5 | \n",
       "\n",
       "\n"
      ],
      "text/plain": [
       "     [,1] [,2] [,3] [,4] [,5] [,6]\n",
       "[1,]   8    8  -99  6    10   -99 \n",
       "[2,] -99    8    5  9     4     6 \n",
       "[3,]   2    2    6  3     7     6 \n",
       "[4,]   3    9    4  8     4     4 \n",
       "[5,]   8    9    2  1     7     5 \n",
       "[6,]   6  -99    6  4     3     5 "
      ]
     },
     "metadata": {},
     "output_type": "display_data"
    }
   ],
   "source": [
    "replicate(6, sample(c(1:10, -99), 6, rep = TRUE))"
   ]
  },
  {
   "cell_type": "code",
   "execution_count": 7,
   "metadata": {
    "collapsed": true
   },
   "outputs": [],
   "source": [
    "fix_missing <- function(x) {\n",
    "  x[x == -99] <- NA\n",
    "  x\n",
    "}\n",
    "df[] <- lapply(df, fix_missing)"
   ]
  },
  {
   "cell_type": "code",
   "execution_count": 8,
   "metadata": {},
   "outputs": [
    {
     "data": {
      "text/html": [
       "<table>\n",
       "<thead><tr><th scope=col>a</th><th scope=col>b</th><th scope=col>c</th><th scope=col>d</th><th scope=col>e</th><th scope=col>f</th></tr></thead>\n",
       "<tbody>\n",
       "\t<tr><td> 1</td><td> 6</td><td>1 </td><td> 5</td><td>NA</td><td>1 </td></tr>\n",
       "\t<tr><td>10</td><td> 4</td><td>4 </td><td>NA</td><td> 9</td><td>3 </td></tr>\n",
       "\t<tr><td> 7</td><td> 9</td><td>5 </td><td> 4</td><td> 1</td><td>4 </td></tr>\n",
       "\t<tr><td> 2</td><td> 9</td><td>3 </td><td> 8</td><td> 6</td><td>8 </td></tr>\n",
       "\t<tr><td> 1</td><td>10</td><td>5 </td><td> 9</td><td> 8</td><td>6 </td></tr>\n",
       "\t<tr><td> 6</td><td> 2</td><td>1 </td><td> 3</td><td> 8</td><td>5 </td></tr>\n",
       "</tbody>\n",
       "</table>\n"
      ],
      "text/latex": [
       "\\begin{tabular}{r|llllll}\n",
       " a & b & c & d & e & f\\\\\n",
       "\\hline\n",
       "\t  1 &  6 & 1  &  5 & NA & 1 \\\\\n",
       "\t 10 &  4 & 4  & NA &  9 & 3 \\\\\n",
       "\t  7 &  9 & 5  &  4 &  1 & 4 \\\\\n",
       "\t  2 &  9 & 3  &  8 &  6 & 8 \\\\\n",
       "\t  1 & 10 & 5  &  9 &  8 & 6 \\\\\n",
       "\t  6 &  2 & 1  &  3 &  8 & 5 \\\\\n",
       "\\end{tabular}\n"
      ],
      "text/markdown": [
       "\n",
       "a | b | c | d | e | f | \n",
       "|---|---|---|---|---|---|\n",
       "|  1 |  6 | 1  |  5 | NA | 1  | \n",
       "| 10 |  4 | 4  | NA |  9 | 3  | \n",
       "|  7 |  9 | 5  |  4 |  1 | 4  | \n",
       "|  2 |  9 | 3  |  8 |  6 | 8  | \n",
       "|  1 | 10 | 5  |  9 |  8 | 6  | \n",
       "|  6 |  2 | 1  |  3 |  8 | 5  | \n",
       "\n",
       "\n"
      ],
      "text/plain": [
       "  a  b  c d  e  f\n",
       "1  1  6 1  5 NA 1\n",
       "2 10  4 4 NA  9 3\n",
       "3  7  9 5  4  1 4\n",
       "4  2  9 3  8  6 8\n",
       "5  1 10 5  9  8 6\n",
       "6  6  2 1  3  8 5"
      ]
     },
     "metadata": {},
     "output_type": "display_data"
    }
   ],
   "source": [
    "df"
   ]
  },
  {
   "cell_type": "code",
   "execution_count": 11,
   "metadata": {},
   "outputs": [
    {
     "name": "stderr",
     "output_type": "stream",
     "text": [
      "\n",
      "Attaching package: 'dplyr'\n",
      "\n",
      "The following objects are masked from 'package:stats':\n",
      "\n",
      "    filter, lag\n",
      "\n",
      "The following objects are masked from 'package:base':\n",
      "\n",
      "    intersect, setdiff, setequal, union\n",
      "\n"
     ]
    }
   ],
   "source": [
    "library(dplyr)"
   ]
  },
  {
   "cell_type": "code",
   "execution_count": 12,
   "metadata": {},
   "outputs": [
    {
     "data": {
      "text/html": [
       "6"
      ],
      "text/latex": [
       "6"
      ],
      "text/markdown": [
       "6"
      ],
      "text/plain": [
       "[1] 6"
      ]
     },
     "metadata": {},
     "output_type": "display_data"
    }
   ],
   "source": [
    "df$a %>% length\n"
   ]
  },
  {
   "cell_type": "code",
   "execution_count": 15,
   "metadata": {
    "collapsed": true
   },
   "outputs": [],
   "source": [
    "tmp = df"
   ]
  },
  {
   "cell_type": "code",
   "execution_count": 18,
   "metadata": {},
   "outputs": [
    {
     "data": {
      "text/html": [
       "<table>\n",
       "<thead><tr><th scope=col>a</th><th scope=col>b</th><th scope=col>c</th><th scope=col>d</th><th scope=col>e</th><th scope=col>f</th></tr></thead>\n",
       "<tbody>\n",
       "\t<tr><td>6</td><td>6</td><td>6</td><td>6</td><td>6</td><td>6</td></tr>\n",
       "</tbody>\n",
       "</table>\n"
      ],
      "text/latex": [
       "\\begin{tabular}{r|llllll}\n",
       " a & b & c & d & e & f\\\\\n",
       "\\hline\n",
       "\t 6 & 6 & 6 & 6 & 6 & 6\\\\\n",
       "\\end{tabular}\n"
      ],
      "text/markdown": [
       "\n",
       "a | b | c | d | e | f | \n",
       "|---|\n",
       "| 6 | 6 | 6 | 6 | 6 | 6 | \n",
       "\n",
       "\n"
      ],
      "text/plain": [
       "  a b c d e f\n",
       "1 6 6 6 6 6 6"
      ]
     },
     "metadata": {},
     "output_type": "display_data"
    }
   ],
   "source": [
    "data.frame(lapply(df , length))"
   ]
  },
  {
   "cell_type": "code",
   "execution_count": 17,
   "metadata": {},
   "outputs": [
    {
     "data": {
      "text/html": [
       "<table>\n",
       "<thead><tr><th scope=col>a</th><th scope=col>b</th><th scope=col>c</th><th scope=col>d</th><th scope=col>e</th><th scope=col>f</th></tr></thead>\n",
       "<tbody>\n",
       "\t<tr><td>6</td><td>6</td><td>6</td><td>6</td><td>6</td><td>6</td></tr>\n",
       "\t<tr><td>6</td><td>6</td><td>6</td><td>6</td><td>6</td><td>6</td></tr>\n",
       "\t<tr><td>6</td><td>6</td><td>6</td><td>6</td><td>6</td><td>6</td></tr>\n",
       "\t<tr><td>6</td><td>6</td><td>6</td><td>6</td><td>6</td><td>6</td></tr>\n",
       "\t<tr><td>6</td><td>6</td><td>6</td><td>6</td><td>6</td><td>6</td></tr>\n",
       "\t<tr><td>6</td><td>6</td><td>6</td><td>6</td><td>6</td><td>6</td></tr>\n",
       "</tbody>\n",
       "</table>\n"
      ],
      "text/latex": [
       "\\begin{tabular}{r|llllll}\n",
       " a & b & c & d & e & f\\\\\n",
       "\\hline\n",
       "\t 6 & 6 & 6 & 6 & 6 & 6\\\\\n",
       "\t 6 & 6 & 6 & 6 & 6 & 6\\\\\n",
       "\t 6 & 6 & 6 & 6 & 6 & 6\\\\\n",
       "\t 6 & 6 & 6 & 6 & 6 & 6\\\\\n",
       "\t 6 & 6 & 6 & 6 & 6 & 6\\\\\n",
       "\t 6 & 6 & 6 & 6 & 6 & 6\\\\\n",
       "\\end{tabular}\n"
      ],
      "text/markdown": [
       "\n",
       "a | b | c | d | e | f | \n",
       "|---|---|---|---|---|---|\n",
       "| 6 | 6 | 6 | 6 | 6 | 6 | \n",
       "| 6 | 6 | 6 | 6 | 6 | 6 | \n",
       "| 6 | 6 | 6 | 6 | 6 | 6 | \n",
       "| 6 | 6 | 6 | 6 | 6 | 6 | \n",
       "| 6 | 6 | 6 | 6 | 6 | 6 | \n",
       "| 6 | 6 | 6 | 6 | 6 | 6 | \n",
       "\n",
       "\n"
      ],
      "text/plain": [
       "  a b c d e f\n",
       "1 6 6 6 6 6 6\n",
       "2 6 6 6 6 6 6\n",
       "3 6 6 6 6 6 6\n",
       "4 6 6 6 6 6 6\n",
       "5 6 6 6 6 6 6\n",
       "6 6 6 6 6 6 6"
      ]
     },
     "metadata": {},
     "output_type": "display_data"
    }
   ],
   "source": [
    "tmp"
   ]
  },
  {
   "cell_type": "code",
   "execution_count": 19,
   "metadata": {},
   "outputs": [
    {
     "data": {
      "text/html": [
       "<ol class=list-inline>\n",
       "\t<li>&lt;NA&gt;</li>\n",
       "\t<li>-999</li>\n",
       "</ol>\n"
      ],
      "text/latex": [
       "\\begin{enumerate*}\n",
       "\\item <NA>\n",
       "\\item -999\n",
       "\\end{enumerate*}\n"
      ],
      "text/markdown": [
       "1. &lt;NA&gt;\n",
       "2. -999\n",
       "\n",
       "\n"
      ],
      "text/plain": [
       "[1]   NA -999"
      ]
     },
     "metadata": {},
     "output_type": "display_data"
    }
   ],
   "source": [
    "missing_fixer <- function(na_value) {\n",
    "  function(x) {\n",
    "    x[x == na_value] <- NA\n",
    "    x\n",
    "  }\n",
    "}\n",
    "fix_missing_99 <- missing_fixer(-99)\n",
    "fix_missing_999 <- missing_fixer(-999)\n",
    "\n",
    "fix_missing_99(c(-99, -999))"
   ]
  },
  {
   "cell_type": "markdown",
   "metadata": {
    "collapsed": true
   },
   "source": [
    "## Like all functions in R, anonymous functions have formals(), a body(), and a parent environment()"
   ]
  },
  {
   "cell_type": "code",
   "execution_count": 50,
   "metadata": {},
   "outputs": [
    {
     "data": {
      "text/plain": [
       "$x\n",
       "[1] 4\n"
      ]
     },
     "metadata": {},
     "output_type": "display_data"
    }
   ],
   "source": [
    "formals(function(x = 4) g(x) + h(x))"
   ]
  },
  {
   "cell_type": "code",
   "execution_count": 51,
   "metadata": {},
   "outputs": [
    {
     "data": {
      "text/plain": [
       "g(x) + h(x)"
      ]
     },
     "metadata": {},
     "output_type": "display_data"
    }
   ],
   "source": [
    "body(function(x = 4) g(x) + h(x))"
   ]
  },
  {
   "cell_type": "code",
   "execution_count": 52,
   "metadata": {},
   "outputs": [
    {
     "data": {
      "text/plain": [
       "<environment: R_GlobalEnv>"
      ]
     },
     "metadata": {},
     "output_type": "display_data"
    }
   ],
   "source": [
    "environment(function(x = 4) g(x) + h(x))"
   ]
  },
  {
   "cell_type": "code",
   "execution_count": 53,
   "metadata": {},
   "outputs": [
    {
     "data": {
      "text/html": [
       "<ol class=list-inline>\n",
       "\t<li>'df'</li>\n",
       "\t<li>'fix_missing'</li>\n",
       "\t<li>'fix_missing_99'</li>\n",
       "\t<li>'fix_missing_999'</li>\n",
       "\t<li>'missing_fixer'</li>\n",
       "\t<li>'my_lapply'</li>\n",
       "\t<li>'summary'</li>\n",
       "</ol>\n"
      ],
      "text/latex": [
       "\\begin{enumerate*}\n",
       "\\item 'df'\n",
       "\\item 'fix\\_missing'\n",
       "\\item 'fix\\_missing\\_99'\n",
       "\\item 'fix\\_missing\\_999'\n",
       "\\item 'missing\\_fixer'\n",
       "\\item 'my\\_lapply'\n",
       "\\item 'summary'\n",
       "\\end{enumerate*}\n"
      ],
      "text/markdown": [
       "1. 'df'\n",
       "2. 'fix_missing'\n",
       "3. 'fix_missing_99'\n",
       "4. 'fix_missing_999'\n",
       "5. 'missing_fixer'\n",
       "6. 'my_lapply'\n",
       "7. 'summary'\n",
       "\n",
       "\n"
      ],
      "text/plain": [
       "[1] \"df\"              \"fix_missing\"     \"fix_missing_99\"  \"fix_missing_999\"\n",
       "[5] \"missing_fixer\"   \"my_lapply\"       \"summary\"        "
      ]
     },
     "metadata": {},
     "output_type": "display_data"
    }
   ],
   "source": [
    "ls(envir = environment(function(x = 4) g(x) + h(x)))"
   ]
  },
  {
   "cell_type": "markdown",
   "metadata": {},
   "source": [
    "# Closure"
   ]
  },
  {
   "cell_type": "markdown",
   "metadata": {},
   "source": [
    "- closureはfunctionによって生成されるfunction\n",
    "- anonymous functionはclosure生成時にも使われる"
   ]
  },
  {
   "cell_type": "code",
   "execution_count": 54,
   "metadata": {},
   "outputs": [
    {
     "data": {
      "text/html": [
       "4"
      ],
      "text/latex": [
       "4"
      ],
      "text/markdown": [
       "4"
      ],
      "text/plain": [
       "[1] 4"
      ]
     },
     "metadata": {},
     "output_type": "display_data"
    }
   ],
   "source": [
    "power <- function(exponent) {\n",
    "  function(x) {\n",
    "    x ^ exponent\n",
    "  }\n",
    "}\n",
    "\n",
    "square <- power(2)\n",
    "square(2)"
   ]
  },
  {
   "cell_type": "code",
   "execution_count": 55,
   "metadata": {
    "collapsed": true
   },
   "outputs": [],
   "source": [
    "quatro = power(4)"
   ]
  },
  {
   "cell_type": "code",
   "execution_count": 57,
   "metadata": {},
   "outputs": [
    {
     "data": {
      "text/html": [
       "81"
      ],
      "text/latex": [
       "81"
      ],
      "text/markdown": [
       "81"
      ],
      "text/plain": [
       "[1] 81"
      ]
     },
     "metadata": {},
     "output_type": "display_data"
    }
   ],
   "source": [
    "quatro(3)"
   ]
  },
  {
   "cell_type": "code",
   "execution_count": null,
   "metadata": {
    "collapsed": true
   },
   "outputs": [],
   "source": []
  }
 ],
 "metadata": {
  "kernelspec": {
   "display_name": "R",
   "language": "R",
   "name": "ir"
  },
  "language_info": {
   "codemirror_mode": "r",
   "file_extension": ".r",
   "mimetype": "text/x-r-source",
   "name": "R",
   "pygments_lexer": "r",
   "version": "3.4.1"
  },
  "toc": {
   "nav_menu": {},
   "number_sections": true,
   "sideBar": true,
   "skip_h1_title": false,
   "toc_cell": true,
   "toc_position": {},
   "toc_section_display": "block",
   "toc_window_display": true
  }
 },
 "nbformat": 4,
 "nbformat_minor": 2
}
