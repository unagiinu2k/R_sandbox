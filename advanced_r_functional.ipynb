{
 "cells": [
  {
   "cell_type": "code",
   "execution_count": 1,
   "metadata": {
    "collapsed": true
   },
   "outputs": [],
   "source": [
    "options(repos = structure(c(CRAN = \"http://cran.ism.ac.jp/\")))"
   ]
  },
  {
   "cell_type": "code",
   "execution_count": 4,
   "metadata": {},
   "outputs": [
    {
     "data": {
      "text/html": [
       "<table>\n",
       "<thead><tr><th scope=col>a</th><th scope=col>b</th><th scope=col>c</th><th scope=col>d</th><th scope=col>e</th><th scope=col>f</th></tr></thead>\n",
       "<tbody>\n",
       "\t<tr><td> 1 </td><td> 6 </td><td>1  </td><td>  5</td><td>-99</td><td>1  </td></tr>\n",
       "\t<tr><td>10 </td><td> 4 </td><td>4  </td><td>-99</td><td>  9</td><td>3  </td></tr>\n",
       "\t<tr><td> 7 </td><td> 9 </td><td>5  </td><td>  4</td><td>  1</td><td>4  </td></tr>\n",
       "\t<tr><td> 2 </td><td> 9 </td><td>3  </td><td>  8</td><td>  6</td><td>8  </td></tr>\n",
       "\t<tr><td> 1 </td><td>10 </td><td>5  </td><td>  9</td><td>  8</td><td>6  </td></tr>\n",
       "\t<tr><td> 6 </td><td> 2 </td><td>1  </td><td>  3</td><td>  8</td><td>5  </td></tr>\n",
       "</tbody>\n",
       "</table>\n"
      ],
      "text/latex": [
       "\\begin{tabular}{r|llllll}\n",
       " a & b & c & d & e & f\\\\\n",
       "\\hline\n",
       "\t  1  &  6  & 1   &   5 & -99 & 1  \\\\\n",
       "\t 10  &  4  & 4   & -99 &   9 & 3  \\\\\n",
       "\t  7  &  9  & 5   &   4 &   1 & 4  \\\\\n",
       "\t  2  &  9  & 3   &   8 &   6 & 8  \\\\\n",
       "\t  1  & 10  & 5   &   9 &   8 & 6  \\\\\n",
       "\t  6  &  2  & 1   &   3 &   8 & 5  \\\\\n",
       "\\end{tabular}\n"
      ],
      "text/markdown": [
       "\n",
       "a | b | c | d | e | f | \n",
       "|---|---|---|---|---|---|\n",
       "|  1  |  6  | 1   |   5 | -99 | 1   | \n",
       "| 10  |  4  | 4   | -99 |   9 | 3   | \n",
       "|  7  |  9  | 5   |   4 |   1 | 4   | \n",
       "|  2  |  9  | 3   |   8 |   6 | 8   | \n",
       "|  1  | 10  | 5   |   9 |   8 | 6   | \n",
       "|  6  |  2  | 1   |   3 |   8 | 5   | \n",
       "\n",
       "\n"
      ],
      "text/plain": [
       "  a  b  c d   e   f\n",
       "1  1  6 1   5 -99 1\n",
       "2 10  4 4 -99   9 3\n",
       "3  7  9 5   4   1 4\n",
       "4  2  9 3   8   6 8\n",
       "5  1 10 5   9   8 6\n",
       "6  6  2 1   3   8 5"
      ]
     },
     "metadata": {},
     "output_type": "display_data"
    }
   ],
   "source": [
    "# Generate a sample dataset\n",
    "set.seed(1014)\n",
    "df <- data.frame(replicate(6, sample(c(1:10, -99), 6, rep = TRUE)))\n",
    "names(df) <- letters[1:6]\n",
    "df"
   ]
  },
  {
   "cell_type": "code",
   "execution_count": 6,
   "metadata": {},
   "outputs": [
    {
     "data": {
      "text/html": [
       "<table>\n",
       "<tbody>\n",
       "\t<tr><td>  8</td><td>  8</td><td>-99</td><td>6  </td><td>10 </td><td>-99</td></tr>\n",
       "\t<tr><td>-99</td><td>  8</td><td>  5</td><td>9  </td><td> 4 </td><td>  6</td></tr>\n",
       "\t<tr><td>  2</td><td>  2</td><td>  6</td><td>3  </td><td> 7 </td><td>  6</td></tr>\n",
       "\t<tr><td>  3</td><td>  9</td><td>  4</td><td>8  </td><td> 4 </td><td>  4</td></tr>\n",
       "\t<tr><td>  8</td><td>  9</td><td>  2</td><td>1  </td><td> 7 </td><td>  5</td></tr>\n",
       "\t<tr><td>  6</td><td>-99</td><td>  6</td><td>4  </td><td> 3 </td><td>  5</td></tr>\n",
       "</tbody>\n",
       "</table>\n"
      ],
      "text/latex": [
       "\\begin{tabular}{llllll}\n",
       "\t   8 &   8 & -99 & 6   & 10  & -99\\\\\n",
       "\t -99 &   8 &   5 & 9   &  4  &   6\\\\\n",
       "\t   2 &   2 &   6 & 3   &  7  &   6\\\\\n",
       "\t   3 &   9 &   4 & 8   &  4  &   4\\\\\n",
       "\t   8 &   9 &   2 & 1   &  7  &   5\\\\\n",
       "\t   6 & -99 &   6 & 4   &  3  &   5\\\\\n",
       "\\end{tabular}\n"
      ],
      "text/markdown": [
       "\n",
       "|   8 |   8 | -99 | 6   | 10  | -99 | \n",
       "| -99 |   8 |   5 | 9   |  4  |   6 | \n",
       "|   2 |   2 |   6 | 3   |  7  |   6 | \n",
       "|   3 |   9 |   4 | 8   |  4  |   4 | \n",
       "|   8 |   9 |   2 | 1   |  7  |   5 | \n",
       "|   6 | -99 |   6 | 4   |  3  |   5 | \n",
       "\n",
       "\n"
      ],
      "text/plain": [
       "     [,1] [,2] [,3] [,4] [,5] [,6]\n",
       "[1,]   8    8  -99  6    10   -99 \n",
       "[2,] -99    8    5  9     4     6 \n",
       "[3,]   2    2    6  3     7     6 \n",
       "[4,]   3    9    4  8     4     4 \n",
       "[5,]   8    9    2  1     7     5 \n",
       "[6,]   6  -99    6  4     3     5 "
      ]
     },
     "metadata": {},
     "output_type": "display_data"
    }
   ],
   "source": [
    "replicate(6, sample(c(1:10, -99), 6, rep = TRUE))"
   ]
  },
  {
   "cell_type": "code",
   "execution_count": 7,
   "metadata": {
    "collapsed": true
   },
   "outputs": [],
   "source": [
    "fix_missing <- function(x) {\n",
    "  x[x == -99] <- NA\n",
    "  x\n",
    "}\n",
    "df[] <- lapply(df, fix_missing)"
   ]
  },
  {
   "cell_type": "code",
   "execution_count": 8,
   "metadata": {},
   "outputs": [
    {
     "data": {
      "text/html": [
       "<table>\n",
       "<thead><tr><th scope=col>a</th><th scope=col>b</th><th scope=col>c</th><th scope=col>d</th><th scope=col>e</th><th scope=col>f</th></tr></thead>\n",
       "<tbody>\n",
       "\t<tr><td> 1</td><td> 6</td><td>1 </td><td> 5</td><td>NA</td><td>1 </td></tr>\n",
       "\t<tr><td>10</td><td> 4</td><td>4 </td><td>NA</td><td> 9</td><td>3 </td></tr>\n",
       "\t<tr><td> 7</td><td> 9</td><td>5 </td><td> 4</td><td> 1</td><td>4 </td></tr>\n",
       "\t<tr><td> 2</td><td> 9</td><td>3 </td><td> 8</td><td> 6</td><td>8 </td></tr>\n",
       "\t<tr><td> 1</td><td>10</td><td>5 </td><td> 9</td><td> 8</td><td>6 </td></tr>\n",
       "\t<tr><td> 6</td><td> 2</td><td>1 </td><td> 3</td><td> 8</td><td>5 </td></tr>\n",
       "</tbody>\n",
       "</table>\n"
      ],
      "text/latex": [
       "\\begin{tabular}{r|llllll}\n",
       " a & b & c & d & e & f\\\\\n",
       "\\hline\n",
       "\t  1 &  6 & 1  &  5 & NA & 1 \\\\\n",
       "\t 10 &  4 & 4  & NA &  9 & 3 \\\\\n",
       "\t  7 &  9 & 5  &  4 &  1 & 4 \\\\\n",
       "\t  2 &  9 & 3  &  8 &  6 & 8 \\\\\n",
       "\t  1 & 10 & 5  &  9 &  8 & 6 \\\\\n",
       "\t  6 &  2 & 1  &  3 &  8 & 5 \\\\\n",
       "\\end{tabular}\n"
      ],
      "text/markdown": [
       "\n",
       "a | b | c | d | e | f | \n",
       "|---|---|---|---|---|---|\n",
       "|  1 |  6 | 1  |  5 | NA | 1  | \n",
       "| 10 |  4 | 4  | NA |  9 | 3  | \n",
       "|  7 |  9 | 5  |  4 |  1 | 4  | \n",
       "|  2 |  9 | 3  |  8 |  6 | 8  | \n",
       "|  1 | 10 | 5  |  9 |  8 | 6  | \n",
       "|  6 |  2 | 1  |  3 |  8 | 5  | \n",
       "\n",
       "\n"
      ],
      "text/plain": [
       "  a  b  c d  e  f\n",
       "1  1  6 1  5 NA 1\n",
       "2 10  4 4 NA  9 3\n",
       "3  7  9 5  4  1 4\n",
       "4  2  9 3  8  6 8\n",
       "5  1 10 5  9  8 6\n",
       "6  6  2 1  3  8 5"
      ]
     },
     "metadata": {},
     "output_type": "display_data"
    }
   ],
   "source": [
    "df"
   ]
  },
  {
   "cell_type": "code",
   "execution_count": 11,
   "metadata": {},
   "outputs": [
    {
     "name": "stderr",
     "output_type": "stream",
     "text": [
      "\n",
      "Attaching package: 'dplyr'\n",
      "\n",
      "The following objects are masked from 'package:stats':\n",
      "\n",
      "    filter, lag\n",
      "\n",
      "The following objects are masked from 'package:base':\n",
      "\n",
      "    intersect, setdiff, setequal, union\n",
      "\n"
     ]
    }
   ],
   "source": [
    "library(dplyr)"
   ]
  },
  {
   "cell_type": "code",
   "execution_count": 12,
   "metadata": {},
   "outputs": [
    {
     "data": {
      "text/html": [
       "6"
      ],
      "text/latex": [
       "6"
      ],
      "text/markdown": [
       "6"
      ],
      "text/plain": [
       "[1] 6"
      ]
     },
     "metadata": {},
     "output_type": "display_data"
    }
   ],
   "source": [
    "df$a %>% length\n"
   ]
  },
  {
   "cell_type": "code",
   "execution_count": 15,
   "metadata": {
    "collapsed": true
   },
   "outputs": [],
   "source": [
    "tmp = df"
   ]
  },
  {
   "cell_type": "code",
   "execution_count": 18,
   "metadata": {},
   "outputs": [
    {
     "data": {
      "text/html": [
       "<table>\n",
       "<thead><tr><th scope=col>a</th><th scope=col>b</th><th scope=col>c</th><th scope=col>d</th><th scope=col>e</th><th scope=col>f</th></tr></thead>\n",
       "<tbody>\n",
       "\t<tr><td>6</td><td>6</td><td>6</td><td>6</td><td>6</td><td>6</td></tr>\n",
       "</tbody>\n",
       "</table>\n"
      ],
      "text/latex": [
       "\\begin{tabular}{r|llllll}\n",
       " a & b & c & d & e & f\\\\\n",
       "\\hline\n",
       "\t 6 & 6 & 6 & 6 & 6 & 6\\\\\n",
       "\\end{tabular}\n"
      ],
      "text/markdown": [
       "\n",
       "a | b | c | d | e | f | \n",
       "|---|\n",
       "| 6 | 6 | 6 | 6 | 6 | 6 | \n",
       "\n",
       "\n"
      ],
      "text/plain": [
       "  a b c d e f\n",
       "1 6 6 6 6 6 6"
      ]
     },
     "metadata": {},
     "output_type": "display_data"
    }
   ],
   "source": [
    "data.frame(lapply(df , length))"
   ]
  },
  {
   "cell_type": "code",
   "execution_count": 17,
   "metadata": {},
   "outputs": [
    {
     "data": {
      "text/html": [
       "<table>\n",
       "<thead><tr><th scope=col>a</th><th scope=col>b</th><th scope=col>c</th><th scope=col>d</th><th scope=col>e</th><th scope=col>f</th></tr></thead>\n",
       "<tbody>\n",
       "\t<tr><td>6</td><td>6</td><td>6</td><td>6</td><td>6</td><td>6</td></tr>\n",
       "\t<tr><td>6</td><td>6</td><td>6</td><td>6</td><td>6</td><td>6</td></tr>\n",
       "\t<tr><td>6</td><td>6</td><td>6</td><td>6</td><td>6</td><td>6</td></tr>\n",
       "\t<tr><td>6</td><td>6</td><td>6</td><td>6</td><td>6</td><td>6</td></tr>\n",
       "\t<tr><td>6</td><td>6</td><td>6</td><td>6</td><td>6</td><td>6</td></tr>\n",
       "\t<tr><td>6</td><td>6</td><td>6</td><td>6</td><td>6</td><td>6</td></tr>\n",
       "</tbody>\n",
       "</table>\n"
      ],
      "text/latex": [
       "\\begin{tabular}{r|llllll}\n",
       " a & b & c & d & e & f\\\\\n",
       "\\hline\n",
       "\t 6 & 6 & 6 & 6 & 6 & 6\\\\\n",
       "\t 6 & 6 & 6 & 6 & 6 & 6\\\\\n",
       "\t 6 & 6 & 6 & 6 & 6 & 6\\\\\n",
       "\t 6 & 6 & 6 & 6 & 6 & 6\\\\\n",
       "\t 6 & 6 & 6 & 6 & 6 & 6\\\\\n",
       "\t 6 & 6 & 6 & 6 & 6 & 6\\\\\n",
       "\\end{tabular}\n"
      ],
      "text/markdown": [
       "\n",
       "a | b | c | d | e | f | \n",
       "|---|---|---|---|---|---|\n",
       "| 6 | 6 | 6 | 6 | 6 | 6 | \n",
       "| 6 | 6 | 6 | 6 | 6 | 6 | \n",
       "| 6 | 6 | 6 | 6 | 6 | 6 | \n",
       "| 6 | 6 | 6 | 6 | 6 | 6 | \n",
       "| 6 | 6 | 6 | 6 | 6 | 6 | \n",
       "| 6 | 6 | 6 | 6 | 6 | 6 | \n",
       "\n",
       "\n"
      ],
      "text/plain": [
       "  a b c d e f\n",
       "1 6 6 6 6 6 6\n",
       "2 6 6 6 6 6 6\n",
       "3 6 6 6 6 6 6\n",
       "4 6 6 6 6 6 6\n",
       "5 6 6 6 6 6 6\n",
       "6 6 6 6 6 6 6"
      ]
     },
     "metadata": {},
     "output_type": "display_data"
    }
   ],
   "source": [
    "tmp"
   ]
  },
  {
   "cell_type": "code",
   "execution_count": 19,
   "metadata": {},
   "outputs": [
    {
     "data": {
      "text/html": [
       "<ol class=list-inline>\n",
       "\t<li>&lt;NA&gt;</li>\n",
       "\t<li>-999</li>\n",
       "</ol>\n"
      ],
      "text/latex": [
       "\\begin{enumerate*}\n",
       "\\item <NA>\n",
       "\\item -999\n",
       "\\end{enumerate*}\n"
      ],
      "text/markdown": [
       "1. &lt;NA&gt;\n",
       "2. -999\n",
       "\n",
       "\n"
      ],
      "text/plain": [
       "[1]   NA -999"
      ]
     },
     "metadata": {},
     "output_type": "display_data"
    }
   ],
   "source": [
    "missing_fixer <- function(na_value) {\n",
    "  function(x) {\n",
    "    x[x == na_value] <- NA\n",
    "    x\n",
    "  }\n",
    "}\n",
    "fix_missing_99 <- missing_fixer(-99)\n",
    "fix_missing_999 <- missing_fixer(-999)\n",
    "\n",
    "fix_missing_99(c(-99, -999))"
   ]
  },
  {
   "cell_type": "code",
   "execution_count": null,
   "metadata": {
    "collapsed": true
   },
   "outputs": [],
   "source": []
  }
 ],
 "metadata": {
  "kernelspec": {
   "display_name": "R",
   "language": "R",
   "name": "ir"
  },
  "language_info": {
   "codemirror_mode": "r",
   "file_extension": ".r",
   "mimetype": "text/x-r-source",
   "name": "R",
   "pygments_lexer": "r",
   "version": "3.4.3"
  }
 },
 "nbformat": 4,
 "nbformat_minor": 2
}
